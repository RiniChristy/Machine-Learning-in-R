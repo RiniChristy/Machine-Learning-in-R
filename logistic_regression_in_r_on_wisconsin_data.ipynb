{
  "metadata": {
    "kernelspec": {
      "name": "ir",
      "display_name": "R",
      "language": "R"
    },
    "language_info": {
      "name": "R",
      "codemirror_mode": "r",
      "pygments_lexer": "r",
      "mimetype": "text/x-r-source",
      "file_extension": ".r",
      "version": "4.0.5"
    },
    "colab": {
      "name": "logistic-regression-in-r-on-wisconsin-data.ipynb",
      "provenance": []
    }
  },
  "nbformat_minor": 0,
  "nbformat": 4,
  "cells": [
    {
      "cell_type": "markdown",
      "source": [
        "# **Logistic Regression in R on Wisconsin Breast cancer (diagnostic) UCI data**"
      ],
      "metadata": {
        "id": "O8FOrzKbIl4N"
      }
    },
    {
      "cell_type": "markdown",
      "source": [
        "## **Importing the dataset**"
      ],
      "metadata": {
        "id": "YEooLnJBIl4T"
      }
    },
    {
      "cell_type": "code",
      "source": [
        "ds = read.csv('/content/data.csv')\n",
        "cat(\"First three rows of dataset\", \"\\n\")\n",
        "head(ds)"
      ],
      "metadata": {
        "execution": {
          "iopub.status.busy": "2022-03-12T21:52:21.788046Z",
          "iopub.execute_input": "2022-03-12T21:52:21.790475Z",
          "iopub.status.idle": "2022-03-12T21:52:21.864889Z"
        },
        "trusted": true,
        "colab": {
          "base_uri": "https://localhost:8080/",
          "height": 324
        },
        "id": "mxMe2wN7Il4V",
        "outputId": "d6ba3ab4-7976-472d-fc84-572c99986a6a"
      },
      "execution_count": 1,
      "outputs": [
        {
          "output_type": "stream",
          "name": "stdout",
          "text": [
            "First three rows of dataset \n"
          ]
        },
        {
          "output_type": "display_data",
          "data": {
            "text/html": [
              "<table class=\"dataframe\">\n",
              "<caption>A data.frame: 6 × 33</caption>\n",
              "<thead>\n",
              "\t<tr><th></th><th scope=col>id</th><th scope=col>diagnosis</th><th scope=col>radius_mean</th><th scope=col>texture_mean</th><th scope=col>perimeter_mean</th><th scope=col>area_mean</th><th scope=col>smoothness_mean</th><th scope=col>compactness_mean</th><th scope=col>concavity_mean</th><th scope=col>concave.points_mean</th><th scope=col>⋯</th><th scope=col>texture_worst</th><th scope=col>perimeter_worst</th><th scope=col>area_worst</th><th scope=col>smoothness_worst</th><th scope=col>compactness_worst</th><th scope=col>concavity_worst</th><th scope=col>concave.points_worst</th><th scope=col>symmetry_worst</th><th scope=col>fractal_dimension_worst</th><th scope=col>X</th></tr>\n",
              "\t<tr><th></th><th scope=col>&lt;int&gt;</th><th scope=col>&lt;chr&gt;</th><th scope=col>&lt;dbl&gt;</th><th scope=col>&lt;dbl&gt;</th><th scope=col>&lt;dbl&gt;</th><th scope=col>&lt;dbl&gt;</th><th scope=col>&lt;dbl&gt;</th><th scope=col>&lt;dbl&gt;</th><th scope=col>&lt;dbl&gt;</th><th scope=col>&lt;dbl&gt;</th><th scope=col>⋯</th><th scope=col>&lt;dbl&gt;</th><th scope=col>&lt;dbl&gt;</th><th scope=col>&lt;dbl&gt;</th><th scope=col>&lt;dbl&gt;</th><th scope=col>&lt;dbl&gt;</th><th scope=col>&lt;dbl&gt;</th><th scope=col>&lt;dbl&gt;</th><th scope=col>&lt;dbl&gt;</th><th scope=col>&lt;dbl&gt;</th><th scope=col>&lt;lgl&gt;</th></tr>\n",
              "</thead>\n",
              "<tbody>\n",
              "\t<tr><th scope=row>1</th><td>  842302</td><td>M</td><td>17.99</td><td>10.38</td><td>122.80</td><td>1001.0</td><td>0.11840</td><td>0.27760</td><td>0.3001</td><td>0.14710</td><td>⋯</td><td>17.33</td><td>184.60</td><td>2019.0</td><td>0.1622</td><td>0.6656</td><td>0.7119</td><td>0.2654</td><td>0.4601</td><td>0.11890</td><td>NA</td></tr>\n",
              "\t<tr><th scope=row>2</th><td>  842517</td><td>M</td><td>20.57</td><td>17.77</td><td>132.90</td><td>1326.0</td><td>0.08474</td><td>0.07864</td><td>0.0869</td><td>0.07017</td><td>⋯</td><td>23.41</td><td>158.80</td><td>1956.0</td><td>0.1238</td><td>0.1866</td><td>0.2416</td><td>0.1860</td><td>0.2750</td><td>0.08902</td><td>NA</td></tr>\n",
              "\t<tr><th scope=row>3</th><td>84300903</td><td>M</td><td>19.69</td><td>21.25</td><td>130.00</td><td>1203.0</td><td>0.10960</td><td>0.15990</td><td>0.1974</td><td>0.12790</td><td>⋯</td><td>25.53</td><td>152.50</td><td>1709.0</td><td>0.1444</td><td>0.4245</td><td>0.4504</td><td>0.2430</td><td>0.3613</td><td>0.08758</td><td>NA</td></tr>\n",
              "\t<tr><th scope=row>4</th><td>84348301</td><td>M</td><td>11.42</td><td>20.38</td><td> 77.58</td><td> 386.1</td><td>0.14250</td><td>0.28390</td><td>0.2414</td><td>0.10520</td><td>⋯</td><td>26.50</td><td> 98.87</td><td> 567.7</td><td>0.2098</td><td>0.8663</td><td>0.6869</td><td>0.2575</td><td>0.6638</td><td>0.17300</td><td>NA</td></tr>\n",
              "\t<tr><th scope=row>5</th><td>84358402</td><td>M</td><td>20.29</td><td>14.34</td><td>135.10</td><td>1297.0</td><td>0.10030</td><td>0.13280</td><td>0.1980</td><td>0.10430</td><td>⋯</td><td>16.67</td><td>152.20</td><td>1575.0</td><td>0.1374</td><td>0.2050</td><td>0.4000</td><td>0.1625</td><td>0.2364</td><td>0.07678</td><td>NA</td></tr>\n",
              "\t<tr><th scope=row>6</th><td>  843786</td><td>M</td><td>12.45</td><td>15.70</td><td> 82.57</td><td> 477.1</td><td>0.12780</td><td>0.17000</td><td>0.1578</td><td>0.08089</td><td>⋯</td><td>23.75</td><td>103.40</td><td> 741.6</td><td>0.1791</td><td>0.5249</td><td>0.5355</td><td>0.1741</td><td>0.3985</td><td>0.12440</td><td>NA</td></tr>\n",
              "</tbody>\n",
              "</table>\n"
            ],
            "text/markdown": "\nA data.frame: 6 × 33\n\n| <!--/--> | id &lt;int&gt; | diagnosis &lt;chr&gt; | radius_mean &lt;dbl&gt; | texture_mean &lt;dbl&gt; | perimeter_mean &lt;dbl&gt; | area_mean &lt;dbl&gt; | smoothness_mean &lt;dbl&gt; | compactness_mean &lt;dbl&gt; | concavity_mean &lt;dbl&gt; | concave.points_mean &lt;dbl&gt; | ⋯ ⋯ | texture_worst &lt;dbl&gt; | perimeter_worst &lt;dbl&gt; | area_worst &lt;dbl&gt; | smoothness_worst &lt;dbl&gt; | compactness_worst &lt;dbl&gt; | concavity_worst &lt;dbl&gt; | concave.points_worst &lt;dbl&gt; | symmetry_worst &lt;dbl&gt; | fractal_dimension_worst &lt;dbl&gt; | X &lt;lgl&gt; |\n|---|---|---|---|---|---|---|---|---|---|---|---|---|---|---|---|---|---|---|---|---|---|\n| 1 |   842302 | M | 17.99 | 10.38 | 122.80 | 1001.0 | 0.11840 | 0.27760 | 0.3001 | 0.14710 | ⋯ | 17.33 | 184.60 | 2019.0 | 0.1622 | 0.6656 | 0.7119 | 0.2654 | 0.4601 | 0.11890 | NA |\n| 2 |   842517 | M | 20.57 | 17.77 | 132.90 | 1326.0 | 0.08474 | 0.07864 | 0.0869 | 0.07017 | ⋯ | 23.41 | 158.80 | 1956.0 | 0.1238 | 0.1866 | 0.2416 | 0.1860 | 0.2750 | 0.08902 | NA |\n| 3 | 84300903 | M | 19.69 | 21.25 | 130.00 | 1203.0 | 0.10960 | 0.15990 | 0.1974 | 0.12790 | ⋯ | 25.53 | 152.50 | 1709.0 | 0.1444 | 0.4245 | 0.4504 | 0.2430 | 0.3613 | 0.08758 | NA |\n| 4 | 84348301 | M | 11.42 | 20.38 |  77.58 |  386.1 | 0.14250 | 0.28390 | 0.2414 | 0.10520 | ⋯ | 26.50 |  98.87 |  567.7 | 0.2098 | 0.8663 | 0.6869 | 0.2575 | 0.6638 | 0.17300 | NA |\n| 5 | 84358402 | M | 20.29 | 14.34 | 135.10 | 1297.0 | 0.10030 | 0.13280 | 0.1980 | 0.10430 | ⋯ | 16.67 | 152.20 | 1575.0 | 0.1374 | 0.2050 | 0.4000 | 0.1625 | 0.2364 | 0.07678 | NA |\n| 6 |   843786 | M | 12.45 | 15.70 |  82.57 |  477.1 | 0.12780 | 0.17000 | 0.1578 | 0.08089 | ⋯ | 23.75 | 103.40 |  741.6 | 0.1791 | 0.5249 | 0.5355 | 0.1741 | 0.3985 | 0.12440 | NA |\n\n",
            "text/latex": "A data.frame: 6 × 33\n\\begin{tabular}{r|lllllllllllllllllllll}\n  & id & diagnosis & radius\\_mean & texture\\_mean & perimeter\\_mean & area\\_mean & smoothness\\_mean & compactness\\_mean & concavity\\_mean & concave.points\\_mean & ⋯ & texture\\_worst & perimeter\\_worst & area\\_worst & smoothness\\_worst & compactness\\_worst & concavity\\_worst & concave.points\\_worst & symmetry\\_worst & fractal\\_dimension\\_worst & X\\\\\n  & <int> & <chr> & <dbl> & <dbl> & <dbl> & <dbl> & <dbl> & <dbl> & <dbl> & <dbl> & ⋯ & <dbl> & <dbl> & <dbl> & <dbl> & <dbl> & <dbl> & <dbl> & <dbl> & <dbl> & <lgl>\\\\\n\\hline\n\t1 &   842302 & M & 17.99 & 10.38 & 122.80 & 1001.0 & 0.11840 & 0.27760 & 0.3001 & 0.14710 & ⋯ & 17.33 & 184.60 & 2019.0 & 0.1622 & 0.6656 & 0.7119 & 0.2654 & 0.4601 & 0.11890 & NA\\\\\n\t2 &   842517 & M & 20.57 & 17.77 & 132.90 & 1326.0 & 0.08474 & 0.07864 & 0.0869 & 0.07017 & ⋯ & 23.41 & 158.80 & 1956.0 & 0.1238 & 0.1866 & 0.2416 & 0.1860 & 0.2750 & 0.08902 & NA\\\\\n\t3 & 84300903 & M & 19.69 & 21.25 & 130.00 & 1203.0 & 0.10960 & 0.15990 & 0.1974 & 0.12790 & ⋯ & 25.53 & 152.50 & 1709.0 & 0.1444 & 0.4245 & 0.4504 & 0.2430 & 0.3613 & 0.08758 & NA\\\\\n\t4 & 84348301 & M & 11.42 & 20.38 &  77.58 &  386.1 & 0.14250 & 0.28390 & 0.2414 & 0.10520 & ⋯ & 26.50 &  98.87 &  567.7 & 0.2098 & 0.8663 & 0.6869 & 0.2575 & 0.6638 & 0.17300 & NA\\\\\n\t5 & 84358402 & M & 20.29 & 14.34 & 135.10 & 1297.0 & 0.10030 & 0.13280 & 0.1980 & 0.10430 & ⋯ & 16.67 & 152.20 & 1575.0 & 0.1374 & 0.2050 & 0.4000 & 0.1625 & 0.2364 & 0.07678 & NA\\\\\n\t6 &   843786 & M & 12.45 & 15.70 &  82.57 &  477.1 & 0.12780 & 0.17000 & 0.1578 & 0.08089 & ⋯ & 23.75 & 103.40 &  741.6 & 0.1791 & 0.5249 & 0.5355 & 0.1741 & 0.3985 & 0.12440 & NA\\\\\n\\end{tabular}\n",
            "text/plain": [
              "  id       diagnosis radius_mean texture_mean perimeter_mean area_mean\n",
              "1   842302 M         17.99       10.38        122.80         1001.0   \n",
              "2   842517 M         20.57       17.77        132.90         1326.0   \n",
              "3 84300903 M         19.69       21.25        130.00         1203.0   \n",
              "4 84348301 M         11.42       20.38         77.58          386.1   \n",
              "5 84358402 M         20.29       14.34        135.10         1297.0   \n",
              "6   843786 M         12.45       15.70         82.57          477.1   \n",
              "  smoothness_mean compactness_mean concavity_mean concave.points_mean ⋯\n",
              "1 0.11840         0.27760          0.3001         0.14710             ⋯\n",
              "2 0.08474         0.07864          0.0869         0.07017             ⋯\n",
              "3 0.10960         0.15990          0.1974         0.12790             ⋯\n",
              "4 0.14250         0.28390          0.2414         0.10520             ⋯\n",
              "5 0.10030         0.13280          0.1980         0.10430             ⋯\n",
              "6 0.12780         0.17000          0.1578         0.08089             ⋯\n",
              "  texture_worst perimeter_worst area_worst smoothness_worst compactness_worst\n",
              "1 17.33         184.60          2019.0     0.1622           0.6656           \n",
              "2 23.41         158.80          1956.0     0.1238           0.1866           \n",
              "3 25.53         152.50          1709.0     0.1444           0.4245           \n",
              "4 26.50          98.87           567.7     0.2098           0.8663           \n",
              "5 16.67         152.20          1575.0     0.1374           0.2050           \n",
              "6 23.75         103.40           741.6     0.1791           0.5249           \n",
              "  concavity_worst concave.points_worst symmetry_worst fractal_dimension_worst\n",
              "1 0.7119          0.2654               0.4601         0.11890                \n",
              "2 0.2416          0.1860               0.2750         0.08902                \n",
              "3 0.4504          0.2430               0.3613         0.08758                \n",
              "4 0.6869          0.2575               0.6638         0.17300                \n",
              "5 0.4000          0.1625               0.2364         0.07678                \n",
              "6 0.5355          0.1741               0.3985         0.12440                \n",
              "  X \n",
              "1 NA\n",
              "2 NA\n",
              "3 NA\n",
              "4 NA\n",
              "5 NA\n",
              "6 NA"
            ]
          },
          "metadata": {}
        }
      ]
    },
    {
      "cell_type": "markdown",
      "source": [
        "## **Data preprocessing**"
      ],
      "metadata": {
        "id": "07yq-ApfIl4X"
      }
    },
    {
      "cell_type": "code",
      "source": [
        "#find number of rows with missing values\n",
        "sum(!complete.cases(ds$X))"
      ],
      "metadata": {
        "execution": {
          "iopub.status.busy": "2022-03-12T21:52:21.867449Z",
          "iopub.execute_input": "2022-03-12T21:52:21.868972Z",
          "iopub.status.idle": "2022-03-12T21:52:21.886566Z"
        },
        "trusted": true,
        "colab": {
          "base_uri": "https://localhost:8080/",
          "height": 34
        },
        "id": "letm2Tv-Il4Y",
        "outputId": "6a25ef78-091c-4ee0-bdcf-142cf0cc281c"
      },
      "execution_count": 2,
      "outputs": [
        {
          "output_type": "display_data",
          "data": {
            "text/html": [
              "569"
            ],
            "text/markdown": "569",
            "text/latex": "569",
            "text/plain": [
              "[1] 569"
            ]
          },
          "metadata": {}
        }
      ]
    },
    {
      "cell_type": "code",
      "source": [
        "ds = ds[-33]\n",
        "head(ds)"
      ],
      "metadata": {
        "execution": {
          "iopub.status.busy": "2022-03-12T21:52:21.890095Z",
          "iopub.execute_input": "2022-03-12T21:52:21.892110Z",
          "iopub.status.idle": "2022-03-12T21:52:21.934318Z"
        },
        "trusted": true,
        "colab": {
          "base_uri": "https://localhost:8080/",
          "height": 306
        },
        "id": "4C34P-brIl4Z",
        "outputId": "350ab3ab-2297-4ca1-9990-d7e22c724baf"
      },
      "execution_count": 3,
      "outputs": [
        {
          "output_type": "display_data",
          "data": {
            "text/html": [
              "<table class=\"dataframe\">\n",
              "<caption>A data.frame: 6 × 32</caption>\n",
              "<thead>\n",
              "\t<tr><th></th><th scope=col>id</th><th scope=col>diagnosis</th><th scope=col>radius_mean</th><th scope=col>texture_mean</th><th scope=col>perimeter_mean</th><th scope=col>area_mean</th><th scope=col>smoothness_mean</th><th scope=col>compactness_mean</th><th scope=col>concavity_mean</th><th scope=col>concave.points_mean</th><th scope=col>⋯</th><th scope=col>radius_worst</th><th scope=col>texture_worst</th><th scope=col>perimeter_worst</th><th scope=col>area_worst</th><th scope=col>smoothness_worst</th><th scope=col>compactness_worst</th><th scope=col>concavity_worst</th><th scope=col>concave.points_worst</th><th scope=col>symmetry_worst</th><th scope=col>fractal_dimension_worst</th></tr>\n",
              "\t<tr><th></th><th scope=col>&lt;int&gt;</th><th scope=col>&lt;chr&gt;</th><th scope=col>&lt;dbl&gt;</th><th scope=col>&lt;dbl&gt;</th><th scope=col>&lt;dbl&gt;</th><th scope=col>&lt;dbl&gt;</th><th scope=col>&lt;dbl&gt;</th><th scope=col>&lt;dbl&gt;</th><th scope=col>&lt;dbl&gt;</th><th scope=col>&lt;dbl&gt;</th><th scope=col>⋯</th><th scope=col>&lt;dbl&gt;</th><th scope=col>&lt;dbl&gt;</th><th scope=col>&lt;dbl&gt;</th><th scope=col>&lt;dbl&gt;</th><th scope=col>&lt;dbl&gt;</th><th scope=col>&lt;dbl&gt;</th><th scope=col>&lt;dbl&gt;</th><th scope=col>&lt;dbl&gt;</th><th scope=col>&lt;dbl&gt;</th><th scope=col>&lt;dbl&gt;</th></tr>\n",
              "</thead>\n",
              "<tbody>\n",
              "\t<tr><th scope=row>1</th><td>  842302</td><td>M</td><td>17.99</td><td>10.38</td><td>122.80</td><td>1001.0</td><td>0.11840</td><td>0.27760</td><td>0.3001</td><td>0.14710</td><td>⋯</td><td>25.38</td><td>17.33</td><td>184.60</td><td>2019.0</td><td>0.1622</td><td>0.6656</td><td>0.7119</td><td>0.2654</td><td>0.4601</td><td>0.11890</td></tr>\n",
              "\t<tr><th scope=row>2</th><td>  842517</td><td>M</td><td>20.57</td><td>17.77</td><td>132.90</td><td>1326.0</td><td>0.08474</td><td>0.07864</td><td>0.0869</td><td>0.07017</td><td>⋯</td><td>24.99</td><td>23.41</td><td>158.80</td><td>1956.0</td><td>0.1238</td><td>0.1866</td><td>0.2416</td><td>0.1860</td><td>0.2750</td><td>0.08902</td></tr>\n",
              "\t<tr><th scope=row>3</th><td>84300903</td><td>M</td><td>19.69</td><td>21.25</td><td>130.00</td><td>1203.0</td><td>0.10960</td><td>0.15990</td><td>0.1974</td><td>0.12790</td><td>⋯</td><td>23.57</td><td>25.53</td><td>152.50</td><td>1709.0</td><td>0.1444</td><td>0.4245</td><td>0.4504</td><td>0.2430</td><td>0.3613</td><td>0.08758</td></tr>\n",
              "\t<tr><th scope=row>4</th><td>84348301</td><td>M</td><td>11.42</td><td>20.38</td><td> 77.58</td><td> 386.1</td><td>0.14250</td><td>0.28390</td><td>0.2414</td><td>0.10520</td><td>⋯</td><td>14.91</td><td>26.50</td><td> 98.87</td><td> 567.7</td><td>0.2098</td><td>0.8663</td><td>0.6869</td><td>0.2575</td><td>0.6638</td><td>0.17300</td></tr>\n",
              "\t<tr><th scope=row>5</th><td>84358402</td><td>M</td><td>20.29</td><td>14.34</td><td>135.10</td><td>1297.0</td><td>0.10030</td><td>0.13280</td><td>0.1980</td><td>0.10430</td><td>⋯</td><td>22.54</td><td>16.67</td><td>152.20</td><td>1575.0</td><td>0.1374</td><td>0.2050</td><td>0.4000</td><td>0.1625</td><td>0.2364</td><td>0.07678</td></tr>\n",
              "\t<tr><th scope=row>6</th><td>  843786</td><td>M</td><td>12.45</td><td>15.70</td><td> 82.57</td><td> 477.1</td><td>0.12780</td><td>0.17000</td><td>0.1578</td><td>0.08089</td><td>⋯</td><td>15.47</td><td>23.75</td><td>103.40</td><td> 741.6</td><td>0.1791</td><td>0.5249</td><td>0.5355</td><td>0.1741</td><td>0.3985</td><td>0.12440</td></tr>\n",
              "</tbody>\n",
              "</table>\n"
            ],
            "text/markdown": "\nA data.frame: 6 × 32\n\n| <!--/--> | id &lt;int&gt; | diagnosis &lt;chr&gt; | radius_mean &lt;dbl&gt; | texture_mean &lt;dbl&gt; | perimeter_mean &lt;dbl&gt; | area_mean &lt;dbl&gt; | smoothness_mean &lt;dbl&gt; | compactness_mean &lt;dbl&gt; | concavity_mean &lt;dbl&gt; | concave.points_mean &lt;dbl&gt; | ⋯ ⋯ | radius_worst &lt;dbl&gt; | texture_worst &lt;dbl&gt; | perimeter_worst &lt;dbl&gt; | area_worst &lt;dbl&gt; | smoothness_worst &lt;dbl&gt; | compactness_worst &lt;dbl&gt; | concavity_worst &lt;dbl&gt; | concave.points_worst &lt;dbl&gt; | symmetry_worst &lt;dbl&gt; | fractal_dimension_worst &lt;dbl&gt; |\n|---|---|---|---|---|---|---|---|---|---|---|---|---|---|---|---|---|---|---|---|---|---|\n| 1 |   842302 | M | 17.99 | 10.38 | 122.80 | 1001.0 | 0.11840 | 0.27760 | 0.3001 | 0.14710 | ⋯ | 25.38 | 17.33 | 184.60 | 2019.0 | 0.1622 | 0.6656 | 0.7119 | 0.2654 | 0.4601 | 0.11890 |\n| 2 |   842517 | M | 20.57 | 17.77 | 132.90 | 1326.0 | 0.08474 | 0.07864 | 0.0869 | 0.07017 | ⋯ | 24.99 | 23.41 | 158.80 | 1956.0 | 0.1238 | 0.1866 | 0.2416 | 0.1860 | 0.2750 | 0.08902 |\n| 3 | 84300903 | M | 19.69 | 21.25 | 130.00 | 1203.0 | 0.10960 | 0.15990 | 0.1974 | 0.12790 | ⋯ | 23.57 | 25.53 | 152.50 | 1709.0 | 0.1444 | 0.4245 | 0.4504 | 0.2430 | 0.3613 | 0.08758 |\n| 4 | 84348301 | M | 11.42 | 20.38 |  77.58 |  386.1 | 0.14250 | 0.28390 | 0.2414 | 0.10520 | ⋯ | 14.91 | 26.50 |  98.87 |  567.7 | 0.2098 | 0.8663 | 0.6869 | 0.2575 | 0.6638 | 0.17300 |\n| 5 | 84358402 | M | 20.29 | 14.34 | 135.10 | 1297.0 | 0.10030 | 0.13280 | 0.1980 | 0.10430 | ⋯ | 22.54 | 16.67 | 152.20 | 1575.0 | 0.1374 | 0.2050 | 0.4000 | 0.1625 | 0.2364 | 0.07678 |\n| 6 |   843786 | M | 12.45 | 15.70 |  82.57 |  477.1 | 0.12780 | 0.17000 | 0.1578 | 0.08089 | ⋯ | 15.47 | 23.75 | 103.40 |  741.6 | 0.1791 | 0.5249 | 0.5355 | 0.1741 | 0.3985 | 0.12440 |\n\n",
            "text/latex": "A data.frame: 6 × 32\n\\begin{tabular}{r|lllllllllllllllllllll}\n  & id & diagnosis & radius\\_mean & texture\\_mean & perimeter\\_mean & area\\_mean & smoothness\\_mean & compactness\\_mean & concavity\\_mean & concave.points\\_mean & ⋯ & radius\\_worst & texture\\_worst & perimeter\\_worst & area\\_worst & smoothness\\_worst & compactness\\_worst & concavity\\_worst & concave.points\\_worst & symmetry\\_worst & fractal\\_dimension\\_worst\\\\\n  & <int> & <chr> & <dbl> & <dbl> & <dbl> & <dbl> & <dbl> & <dbl> & <dbl> & <dbl> & ⋯ & <dbl> & <dbl> & <dbl> & <dbl> & <dbl> & <dbl> & <dbl> & <dbl> & <dbl> & <dbl>\\\\\n\\hline\n\t1 &   842302 & M & 17.99 & 10.38 & 122.80 & 1001.0 & 0.11840 & 0.27760 & 0.3001 & 0.14710 & ⋯ & 25.38 & 17.33 & 184.60 & 2019.0 & 0.1622 & 0.6656 & 0.7119 & 0.2654 & 0.4601 & 0.11890\\\\\n\t2 &   842517 & M & 20.57 & 17.77 & 132.90 & 1326.0 & 0.08474 & 0.07864 & 0.0869 & 0.07017 & ⋯ & 24.99 & 23.41 & 158.80 & 1956.0 & 0.1238 & 0.1866 & 0.2416 & 0.1860 & 0.2750 & 0.08902\\\\\n\t3 & 84300903 & M & 19.69 & 21.25 & 130.00 & 1203.0 & 0.10960 & 0.15990 & 0.1974 & 0.12790 & ⋯ & 23.57 & 25.53 & 152.50 & 1709.0 & 0.1444 & 0.4245 & 0.4504 & 0.2430 & 0.3613 & 0.08758\\\\\n\t4 & 84348301 & M & 11.42 & 20.38 &  77.58 &  386.1 & 0.14250 & 0.28390 & 0.2414 & 0.10520 & ⋯ & 14.91 & 26.50 &  98.87 &  567.7 & 0.2098 & 0.8663 & 0.6869 & 0.2575 & 0.6638 & 0.17300\\\\\n\t5 & 84358402 & M & 20.29 & 14.34 & 135.10 & 1297.0 & 0.10030 & 0.13280 & 0.1980 & 0.10430 & ⋯ & 22.54 & 16.67 & 152.20 & 1575.0 & 0.1374 & 0.2050 & 0.4000 & 0.1625 & 0.2364 & 0.07678\\\\\n\t6 &   843786 & M & 12.45 & 15.70 &  82.57 &  477.1 & 0.12780 & 0.17000 & 0.1578 & 0.08089 & ⋯ & 15.47 & 23.75 & 103.40 &  741.6 & 0.1791 & 0.5249 & 0.5355 & 0.1741 & 0.3985 & 0.12440\\\\\n\\end{tabular}\n",
            "text/plain": [
              "  id       diagnosis radius_mean texture_mean perimeter_mean area_mean\n",
              "1   842302 M         17.99       10.38        122.80         1001.0   \n",
              "2   842517 M         20.57       17.77        132.90         1326.0   \n",
              "3 84300903 M         19.69       21.25        130.00         1203.0   \n",
              "4 84348301 M         11.42       20.38         77.58          386.1   \n",
              "5 84358402 M         20.29       14.34        135.10         1297.0   \n",
              "6   843786 M         12.45       15.70         82.57          477.1   \n",
              "  smoothness_mean compactness_mean concavity_mean concave.points_mean ⋯\n",
              "1 0.11840         0.27760          0.3001         0.14710             ⋯\n",
              "2 0.08474         0.07864          0.0869         0.07017             ⋯\n",
              "3 0.10960         0.15990          0.1974         0.12790             ⋯\n",
              "4 0.14250         0.28390          0.2414         0.10520             ⋯\n",
              "5 0.10030         0.13280          0.1980         0.10430             ⋯\n",
              "6 0.12780         0.17000          0.1578         0.08089             ⋯\n",
              "  radius_worst texture_worst perimeter_worst area_worst smoothness_worst\n",
              "1 25.38        17.33         184.60          2019.0     0.1622          \n",
              "2 24.99        23.41         158.80          1956.0     0.1238          \n",
              "3 23.57        25.53         152.50          1709.0     0.1444          \n",
              "4 14.91        26.50          98.87           567.7     0.2098          \n",
              "5 22.54        16.67         152.20          1575.0     0.1374          \n",
              "6 15.47        23.75         103.40           741.6     0.1791          \n",
              "  compactness_worst concavity_worst concave.points_worst symmetry_worst\n",
              "1 0.6656            0.7119          0.2654               0.4601        \n",
              "2 0.1866            0.2416          0.1860               0.2750        \n",
              "3 0.4245            0.4504          0.2430               0.3613        \n",
              "4 0.8663            0.6869          0.2575               0.6638        \n",
              "5 0.2050            0.4000          0.1625               0.2364        \n",
              "6 0.5249            0.5355          0.1741               0.3985        \n",
              "  fractal_dimension_worst\n",
              "1 0.11890                \n",
              "2 0.08902                \n",
              "3 0.08758                \n",
              "4 0.17300                \n",
              "5 0.07678                \n",
              "6 0.12440                "
            ]
          },
          "metadata": {}
        }
      ]
    },
    {
      "cell_type": "code",
      "source": [
        "#find number of rows with missing values\n",
        "sum(!complete.cases(ds))"
      ],
      "metadata": {
        "execution": {
          "iopub.status.busy": "2022-03-12T21:52:21.937000Z",
          "iopub.execute_input": "2022-03-12T21:52:21.938503Z",
          "iopub.status.idle": "2022-03-12T21:52:21.954578Z"
        },
        "trusted": true,
        "colab": {
          "base_uri": "https://localhost:8080/",
          "height": 34
        },
        "id": "ASCiyrekIl4a",
        "outputId": "0833a4e3-90a5-4e03-f1a5-1ec399164465"
      },
      "execution_count": 4,
      "outputs": [
        {
          "output_type": "display_data",
          "data": {
            "text/html": [
              "0"
            ],
            "text/markdown": "0",
            "text/latex": "0",
            "text/plain": [
              "[1] 0"
            ]
          },
          "metadata": {}
        }
      ]
    },
    {
      "cell_type": "code",
      "source": [
        "# Omit any null rows\n",
        "ds = na.omit(ds)"
      ],
      "metadata": {
        "execution": {
          "iopub.status.busy": "2022-03-12T21:52:21.957050Z",
          "iopub.execute_input": "2022-03-12T21:52:21.958511Z",
          "iopub.status.idle": "2022-03-12T21:52:21.972141Z"
        },
        "trusted": true,
        "id": "Iyh62SnxIl4b"
      },
      "execution_count": 5,
      "outputs": []
    },
    {
      "cell_type": "markdown",
      "source": [
        "## **Encoding the target feature as factor**"
      ],
      "metadata": {
        "id": "JGEALLgQIl4c"
      }
    },
    {
      "cell_type": "code",
      "source": [
        "ds$diagnosis = factor(ds$diagnosis,levels = c('B', 'M'), labels = c(0, 1))\n",
        "head(ds)"
      ],
      "metadata": {
        "execution": {
          "iopub.status.busy": "2022-03-12T21:52:21.979213Z",
          "iopub.execute_input": "2022-03-12T21:52:21.980665Z",
          "iopub.status.idle": "2022-03-12T21:52:22.015742Z"
        },
        "trusted": true,
        "colab": {
          "base_uri": "https://localhost:8080/",
          "height": 306
        },
        "id": "wd2xnLAyIl4e",
        "outputId": "7f8ba2fa-5de3-4d05-f7ba-705ac7a4be41"
      },
      "execution_count": 6,
      "outputs": [
        {
          "output_type": "display_data",
          "data": {
            "text/html": [
              "<table class=\"dataframe\">\n",
              "<caption>A data.frame: 6 × 32</caption>\n",
              "<thead>\n",
              "\t<tr><th></th><th scope=col>id</th><th scope=col>diagnosis</th><th scope=col>radius_mean</th><th scope=col>texture_mean</th><th scope=col>perimeter_mean</th><th scope=col>area_mean</th><th scope=col>smoothness_mean</th><th scope=col>compactness_mean</th><th scope=col>concavity_mean</th><th scope=col>concave.points_mean</th><th scope=col>⋯</th><th scope=col>radius_worst</th><th scope=col>texture_worst</th><th scope=col>perimeter_worst</th><th scope=col>area_worst</th><th scope=col>smoothness_worst</th><th scope=col>compactness_worst</th><th scope=col>concavity_worst</th><th scope=col>concave.points_worst</th><th scope=col>symmetry_worst</th><th scope=col>fractal_dimension_worst</th></tr>\n",
              "\t<tr><th></th><th scope=col>&lt;int&gt;</th><th scope=col>&lt;fct&gt;</th><th scope=col>&lt;dbl&gt;</th><th scope=col>&lt;dbl&gt;</th><th scope=col>&lt;dbl&gt;</th><th scope=col>&lt;dbl&gt;</th><th scope=col>&lt;dbl&gt;</th><th scope=col>&lt;dbl&gt;</th><th scope=col>&lt;dbl&gt;</th><th scope=col>&lt;dbl&gt;</th><th scope=col>⋯</th><th scope=col>&lt;dbl&gt;</th><th scope=col>&lt;dbl&gt;</th><th scope=col>&lt;dbl&gt;</th><th scope=col>&lt;dbl&gt;</th><th scope=col>&lt;dbl&gt;</th><th scope=col>&lt;dbl&gt;</th><th scope=col>&lt;dbl&gt;</th><th scope=col>&lt;dbl&gt;</th><th scope=col>&lt;dbl&gt;</th><th scope=col>&lt;dbl&gt;</th></tr>\n",
              "</thead>\n",
              "<tbody>\n",
              "\t<tr><th scope=row>1</th><td>  842302</td><td>1</td><td>17.99</td><td>10.38</td><td>122.80</td><td>1001.0</td><td>0.11840</td><td>0.27760</td><td>0.3001</td><td>0.14710</td><td>⋯</td><td>25.38</td><td>17.33</td><td>184.60</td><td>2019.0</td><td>0.1622</td><td>0.6656</td><td>0.7119</td><td>0.2654</td><td>0.4601</td><td>0.11890</td></tr>\n",
              "\t<tr><th scope=row>2</th><td>  842517</td><td>1</td><td>20.57</td><td>17.77</td><td>132.90</td><td>1326.0</td><td>0.08474</td><td>0.07864</td><td>0.0869</td><td>0.07017</td><td>⋯</td><td>24.99</td><td>23.41</td><td>158.80</td><td>1956.0</td><td>0.1238</td><td>0.1866</td><td>0.2416</td><td>0.1860</td><td>0.2750</td><td>0.08902</td></tr>\n",
              "\t<tr><th scope=row>3</th><td>84300903</td><td>1</td><td>19.69</td><td>21.25</td><td>130.00</td><td>1203.0</td><td>0.10960</td><td>0.15990</td><td>0.1974</td><td>0.12790</td><td>⋯</td><td>23.57</td><td>25.53</td><td>152.50</td><td>1709.0</td><td>0.1444</td><td>0.4245</td><td>0.4504</td><td>0.2430</td><td>0.3613</td><td>0.08758</td></tr>\n",
              "\t<tr><th scope=row>4</th><td>84348301</td><td>1</td><td>11.42</td><td>20.38</td><td> 77.58</td><td> 386.1</td><td>0.14250</td><td>0.28390</td><td>0.2414</td><td>0.10520</td><td>⋯</td><td>14.91</td><td>26.50</td><td> 98.87</td><td> 567.7</td><td>0.2098</td><td>0.8663</td><td>0.6869</td><td>0.2575</td><td>0.6638</td><td>0.17300</td></tr>\n",
              "\t<tr><th scope=row>5</th><td>84358402</td><td>1</td><td>20.29</td><td>14.34</td><td>135.10</td><td>1297.0</td><td>0.10030</td><td>0.13280</td><td>0.1980</td><td>0.10430</td><td>⋯</td><td>22.54</td><td>16.67</td><td>152.20</td><td>1575.0</td><td>0.1374</td><td>0.2050</td><td>0.4000</td><td>0.1625</td><td>0.2364</td><td>0.07678</td></tr>\n",
              "\t<tr><th scope=row>6</th><td>  843786</td><td>1</td><td>12.45</td><td>15.70</td><td> 82.57</td><td> 477.1</td><td>0.12780</td><td>0.17000</td><td>0.1578</td><td>0.08089</td><td>⋯</td><td>15.47</td><td>23.75</td><td>103.40</td><td> 741.6</td><td>0.1791</td><td>0.5249</td><td>0.5355</td><td>0.1741</td><td>0.3985</td><td>0.12440</td></tr>\n",
              "</tbody>\n",
              "</table>\n"
            ],
            "text/markdown": "\nA data.frame: 6 × 32\n\n| <!--/--> | id &lt;int&gt; | diagnosis &lt;fct&gt; | radius_mean &lt;dbl&gt; | texture_mean &lt;dbl&gt; | perimeter_mean &lt;dbl&gt; | area_mean &lt;dbl&gt; | smoothness_mean &lt;dbl&gt; | compactness_mean &lt;dbl&gt; | concavity_mean &lt;dbl&gt; | concave.points_mean &lt;dbl&gt; | ⋯ ⋯ | radius_worst &lt;dbl&gt; | texture_worst &lt;dbl&gt; | perimeter_worst &lt;dbl&gt; | area_worst &lt;dbl&gt; | smoothness_worst &lt;dbl&gt; | compactness_worst &lt;dbl&gt; | concavity_worst &lt;dbl&gt; | concave.points_worst &lt;dbl&gt; | symmetry_worst &lt;dbl&gt; | fractal_dimension_worst &lt;dbl&gt; |\n|---|---|---|---|---|---|---|---|---|---|---|---|---|---|---|---|---|---|---|---|---|---|\n| 1 |   842302 | 1 | 17.99 | 10.38 | 122.80 | 1001.0 | 0.11840 | 0.27760 | 0.3001 | 0.14710 | ⋯ | 25.38 | 17.33 | 184.60 | 2019.0 | 0.1622 | 0.6656 | 0.7119 | 0.2654 | 0.4601 | 0.11890 |\n| 2 |   842517 | 1 | 20.57 | 17.77 | 132.90 | 1326.0 | 0.08474 | 0.07864 | 0.0869 | 0.07017 | ⋯ | 24.99 | 23.41 | 158.80 | 1956.0 | 0.1238 | 0.1866 | 0.2416 | 0.1860 | 0.2750 | 0.08902 |\n| 3 | 84300903 | 1 | 19.69 | 21.25 | 130.00 | 1203.0 | 0.10960 | 0.15990 | 0.1974 | 0.12790 | ⋯ | 23.57 | 25.53 | 152.50 | 1709.0 | 0.1444 | 0.4245 | 0.4504 | 0.2430 | 0.3613 | 0.08758 |\n| 4 | 84348301 | 1 | 11.42 | 20.38 |  77.58 |  386.1 | 0.14250 | 0.28390 | 0.2414 | 0.10520 | ⋯ | 14.91 | 26.50 |  98.87 |  567.7 | 0.2098 | 0.8663 | 0.6869 | 0.2575 | 0.6638 | 0.17300 |\n| 5 | 84358402 | 1 | 20.29 | 14.34 | 135.10 | 1297.0 | 0.10030 | 0.13280 | 0.1980 | 0.10430 | ⋯ | 22.54 | 16.67 | 152.20 | 1575.0 | 0.1374 | 0.2050 | 0.4000 | 0.1625 | 0.2364 | 0.07678 |\n| 6 |   843786 | 1 | 12.45 | 15.70 |  82.57 |  477.1 | 0.12780 | 0.17000 | 0.1578 | 0.08089 | ⋯ | 15.47 | 23.75 | 103.40 |  741.6 | 0.1791 | 0.5249 | 0.5355 | 0.1741 | 0.3985 | 0.12440 |\n\n",
            "text/latex": "A data.frame: 6 × 32\n\\begin{tabular}{r|lllllllllllllllllllll}\n  & id & diagnosis & radius\\_mean & texture\\_mean & perimeter\\_mean & area\\_mean & smoothness\\_mean & compactness\\_mean & concavity\\_mean & concave.points\\_mean & ⋯ & radius\\_worst & texture\\_worst & perimeter\\_worst & area\\_worst & smoothness\\_worst & compactness\\_worst & concavity\\_worst & concave.points\\_worst & symmetry\\_worst & fractal\\_dimension\\_worst\\\\\n  & <int> & <fct> & <dbl> & <dbl> & <dbl> & <dbl> & <dbl> & <dbl> & <dbl> & <dbl> & ⋯ & <dbl> & <dbl> & <dbl> & <dbl> & <dbl> & <dbl> & <dbl> & <dbl> & <dbl> & <dbl>\\\\\n\\hline\n\t1 &   842302 & 1 & 17.99 & 10.38 & 122.80 & 1001.0 & 0.11840 & 0.27760 & 0.3001 & 0.14710 & ⋯ & 25.38 & 17.33 & 184.60 & 2019.0 & 0.1622 & 0.6656 & 0.7119 & 0.2654 & 0.4601 & 0.11890\\\\\n\t2 &   842517 & 1 & 20.57 & 17.77 & 132.90 & 1326.0 & 0.08474 & 0.07864 & 0.0869 & 0.07017 & ⋯ & 24.99 & 23.41 & 158.80 & 1956.0 & 0.1238 & 0.1866 & 0.2416 & 0.1860 & 0.2750 & 0.08902\\\\\n\t3 & 84300903 & 1 & 19.69 & 21.25 & 130.00 & 1203.0 & 0.10960 & 0.15990 & 0.1974 & 0.12790 & ⋯ & 23.57 & 25.53 & 152.50 & 1709.0 & 0.1444 & 0.4245 & 0.4504 & 0.2430 & 0.3613 & 0.08758\\\\\n\t4 & 84348301 & 1 & 11.42 & 20.38 &  77.58 &  386.1 & 0.14250 & 0.28390 & 0.2414 & 0.10520 & ⋯ & 14.91 & 26.50 &  98.87 &  567.7 & 0.2098 & 0.8663 & 0.6869 & 0.2575 & 0.6638 & 0.17300\\\\\n\t5 & 84358402 & 1 & 20.29 & 14.34 & 135.10 & 1297.0 & 0.10030 & 0.13280 & 0.1980 & 0.10430 & ⋯ & 22.54 & 16.67 & 152.20 & 1575.0 & 0.1374 & 0.2050 & 0.4000 & 0.1625 & 0.2364 & 0.07678\\\\\n\t6 &   843786 & 1 & 12.45 & 15.70 &  82.57 &  477.1 & 0.12780 & 0.17000 & 0.1578 & 0.08089 & ⋯ & 15.47 & 23.75 & 103.40 &  741.6 & 0.1791 & 0.5249 & 0.5355 & 0.1741 & 0.3985 & 0.12440\\\\\n\\end{tabular}\n",
            "text/plain": [
              "  id       diagnosis radius_mean texture_mean perimeter_mean area_mean\n",
              "1   842302 1         17.99       10.38        122.80         1001.0   \n",
              "2   842517 1         20.57       17.77        132.90         1326.0   \n",
              "3 84300903 1         19.69       21.25        130.00         1203.0   \n",
              "4 84348301 1         11.42       20.38         77.58          386.1   \n",
              "5 84358402 1         20.29       14.34        135.10         1297.0   \n",
              "6   843786 1         12.45       15.70         82.57          477.1   \n",
              "  smoothness_mean compactness_mean concavity_mean concave.points_mean ⋯\n",
              "1 0.11840         0.27760          0.3001         0.14710             ⋯\n",
              "2 0.08474         0.07864          0.0869         0.07017             ⋯\n",
              "3 0.10960         0.15990          0.1974         0.12790             ⋯\n",
              "4 0.14250         0.28390          0.2414         0.10520             ⋯\n",
              "5 0.10030         0.13280          0.1980         0.10430             ⋯\n",
              "6 0.12780         0.17000          0.1578         0.08089             ⋯\n",
              "  radius_worst texture_worst perimeter_worst area_worst smoothness_worst\n",
              "1 25.38        17.33         184.60          2019.0     0.1622          \n",
              "2 24.99        23.41         158.80          1956.0     0.1238          \n",
              "3 23.57        25.53         152.50          1709.0     0.1444          \n",
              "4 14.91        26.50          98.87           567.7     0.2098          \n",
              "5 22.54        16.67         152.20          1575.0     0.1374          \n",
              "6 15.47        23.75         103.40           741.6     0.1791          \n",
              "  compactness_worst concavity_worst concave.points_worst symmetry_worst\n",
              "1 0.6656            0.7119          0.2654               0.4601        \n",
              "2 0.1866            0.2416          0.1860               0.2750        \n",
              "3 0.4245            0.4504          0.2430               0.3613        \n",
              "4 0.8663            0.6869          0.2575               0.6638        \n",
              "5 0.2050            0.4000          0.1625               0.2364        \n",
              "6 0.5249            0.5355          0.1741               0.3985        \n",
              "  fractal_dimension_worst\n",
              "1 0.11890                \n",
              "2 0.08902                \n",
              "3 0.08758                \n",
              "4 0.17300                \n",
              "5 0.07678                \n",
              "6 0.12440                "
            ]
          },
          "metadata": {}
        }
      ]
    },
    {
      "cell_type": "markdown",
      "source": [
        "## **Splitting the dataset into the Train set and Test set**"
      ],
      "metadata": {
        "id": "O2mqBNS9Il4e"
      }
    },
    {
      "cell_type": "code",
      "source": [
        "ds = ds[-1]\n",
        "head(ds)"
      ],
      "metadata": {
        "execution": {
          "iopub.status.busy": "2022-03-12T21:52:22.018211Z",
          "iopub.execute_input": "2022-03-12T21:52:22.019660Z",
          "iopub.status.idle": "2022-03-12T21:52:22.059493Z"
        },
        "trusted": true,
        "colab": {
          "base_uri": "https://localhost:8080/",
          "height": 306
        },
        "id": "iZAWk1onIl4f",
        "outputId": "d6a74fc7-9975-4368-b3f8-01af2796e216"
      },
      "execution_count": 7,
      "outputs": [
        {
          "output_type": "display_data",
          "data": {
            "text/html": [
              "<table class=\"dataframe\">\n",
              "<caption>A data.frame: 6 × 31</caption>\n",
              "<thead>\n",
              "\t<tr><th></th><th scope=col>diagnosis</th><th scope=col>radius_mean</th><th scope=col>texture_mean</th><th scope=col>perimeter_mean</th><th scope=col>area_mean</th><th scope=col>smoothness_mean</th><th scope=col>compactness_mean</th><th scope=col>concavity_mean</th><th scope=col>concave.points_mean</th><th scope=col>symmetry_mean</th><th scope=col>⋯</th><th scope=col>radius_worst</th><th scope=col>texture_worst</th><th scope=col>perimeter_worst</th><th scope=col>area_worst</th><th scope=col>smoothness_worst</th><th scope=col>compactness_worst</th><th scope=col>concavity_worst</th><th scope=col>concave.points_worst</th><th scope=col>symmetry_worst</th><th scope=col>fractal_dimension_worst</th></tr>\n",
              "\t<tr><th></th><th scope=col>&lt;fct&gt;</th><th scope=col>&lt;dbl&gt;</th><th scope=col>&lt;dbl&gt;</th><th scope=col>&lt;dbl&gt;</th><th scope=col>&lt;dbl&gt;</th><th scope=col>&lt;dbl&gt;</th><th scope=col>&lt;dbl&gt;</th><th scope=col>&lt;dbl&gt;</th><th scope=col>&lt;dbl&gt;</th><th scope=col>&lt;dbl&gt;</th><th scope=col>⋯</th><th scope=col>&lt;dbl&gt;</th><th scope=col>&lt;dbl&gt;</th><th scope=col>&lt;dbl&gt;</th><th scope=col>&lt;dbl&gt;</th><th scope=col>&lt;dbl&gt;</th><th scope=col>&lt;dbl&gt;</th><th scope=col>&lt;dbl&gt;</th><th scope=col>&lt;dbl&gt;</th><th scope=col>&lt;dbl&gt;</th><th scope=col>&lt;dbl&gt;</th></tr>\n",
              "</thead>\n",
              "<tbody>\n",
              "\t<tr><th scope=row>1</th><td>1</td><td>17.99</td><td>10.38</td><td>122.80</td><td>1001.0</td><td>0.11840</td><td>0.27760</td><td>0.3001</td><td>0.14710</td><td>0.2419</td><td>⋯</td><td>25.38</td><td>17.33</td><td>184.60</td><td>2019.0</td><td>0.1622</td><td>0.6656</td><td>0.7119</td><td>0.2654</td><td>0.4601</td><td>0.11890</td></tr>\n",
              "\t<tr><th scope=row>2</th><td>1</td><td>20.57</td><td>17.77</td><td>132.90</td><td>1326.0</td><td>0.08474</td><td>0.07864</td><td>0.0869</td><td>0.07017</td><td>0.1812</td><td>⋯</td><td>24.99</td><td>23.41</td><td>158.80</td><td>1956.0</td><td>0.1238</td><td>0.1866</td><td>0.2416</td><td>0.1860</td><td>0.2750</td><td>0.08902</td></tr>\n",
              "\t<tr><th scope=row>3</th><td>1</td><td>19.69</td><td>21.25</td><td>130.00</td><td>1203.0</td><td>0.10960</td><td>0.15990</td><td>0.1974</td><td>0.12790</td><td>0.2069</td><td>⋯</td><td>23.57</td><td>25.53</td><td>152.50</td><td>1709.0</td><td>0.1444</td><td>0.4245</td><td>0.4504</td><td>0.2430</td><td>0.3613</td><td>0.08758</td></tr>\n",
              "\t<tr><th scope=row>4</th><td>1</td><td>11.42</td><td>20.38</td><td> 77.58</td><td> 386.1</td><td>0.14250</td><td>0.28390</td><td>0.2414</td><td>0.10520</td><td>0.2597</td><td>⋯</td><td>14.91</td><td>26.50</td><td> 98.87</td><td> 567.7</td><td>0.2098</td><td>0.8663</td><td>0.6869</td><td>0.2575</td><td>0.6638</td><td>0.17300</td></tr>\n",
              "\t<tr><th scope=row>5</th><td>1</td><td>20.29</td><td>14.34</td><td>135.10</td><td>1297.0</td><td>0.10030</td><td>0.13280</td><td>0.1980</td><td>0.10430</td><td>0.1809</td><td>⋯</td><td>22.54</td><td>16.67</td><td>152.20</td><td>1575.0</td><td>0.1374</td><td>0.2050</td><td>0.4000</td><td>0.1625</td><td>0.2364</td><td>0.07678</td></tr>\n",
              "\t<tr><th scope=row>6</th><td>1</td><td>12.45</td><td>15.70</td><td> 82.57</td><td> 477.1</td><td>0.12780</td><td>0.17000</td><td>0.1578</td><td>0.08089</td><td>0.2087</td><td>⋯</td><td>15.47</td><td>23.75</td><td>103.40</td><td> 741.6</td><td>0.1791</td><td>0.5249</td><td>0.5355</td><td>0.1741</td><td>0.3985</td><td>0.12440</td></tr>\n",
              "</tbody>\n",
              "</table>\n"
            ],
            "text/markdown": "\nA data.frame: 6 × 31\n\n| <!--/--> | diagnosis &lt;fct&gt; | radius_mean &lt;dbl&gt; | texture_mean &lt;dbl&gt; | perimeter_mean &lt;dbl&gt; | area_mean &lt;dbl&gt; | smoothness_mean &lt;dbl&gt; | compactness_mean &lt;dbl&gt; | concavity_mean &lt;dbl&gt; | concave.points_mean &lt;dbl&gt; | symmetry_mean &lt;dbl&gt; | ⋯ ⋯ | radius_worst &lt;dbl&gt; | texture_worst &lt;dbl&gt; | perimeter_worst &lt;dbl&gt; | area_worst &lt;dbl&gt; | smoothness_worst &lt;dbl&gt; | compactness_worst &lt;dbl&gt; | concavity_worst &lt;dbl&gt; | concave.points_worst &lt;dbl&gt; | symmetry_worst &lt;dbl&gt; | fractal_dimension_worst &lt;dbl&gt; |\n|---|---|---|---|---|---|---|---|---|---|---|---|---|---|---|---|---|---|---|---|---|---|\n| 1 | 1 | 17.99 | 10.38 | 122.80 | 1001.0 | 0.11840 | 0.27760 | 0.3001 | 0.14710 | 0.2419 | ⋯ | 25.38 | 17.33 | 184.60 | 2019.0 | 0.1622 | 0.6656 | 0.7119 | 0.2654 | 0.4601 | 0.11890 |\n| 2 | 1 | 20.57 | 17.77 | 132.90 | 1326.0 | 0.08474 | 0.07864 | 0.0869 | 0.07017 | 0.1812 | ⋯ | 24.99 | 23.41 | 158.80 | 1956.0 | 0.1238 | 0.1866 | 0.2416 | 0.1860 | 0.2750 | 0.08902 |\n| 3 | 1 | 19.69 | 21.25 | 130.00 | 1203.0 | 0.10960 | 0.15990 | 0.1974 | 0.12790 | 0.2069 | ⋯ | 23.57 | 25.53 | 152.50 | 1709.0 | 0.1444 | 0.4245 | 0.4504 | 0.2430 | 0.3613 | 0.08758 |\n| 4 | 1 | 11.42 | 20.38 |  77.58 |  386.1 | 0.14250 | 0.28390 | 0.2414 | 0.10520 | 0.2597 | ⋯ | 14.91 | 26.50 |  98.87 |  567.7 | 0.2098 | 0.8663 | 0.6869 | 0.2575 | 0.6638 | 0.17300 |\n| 5 | 1 | 20.29 | 14.34 | 135.10 | 1297.0 | 0.10030 | 0.13280 | 0.1980 | 0.10430 | 0.1809 | ⋯ | 22.54 | 16.67 | 152.20 | 1575.0 | 0.1374 | 0.2050 | 0.4000 | 0.1625 | 0.2364 | 0.07678 |\n| 6 | 1 | 12.45 | 15.70 |  82.57 |  477.1 | 0.12780 | 0.17000 | 0.1578 | 0.08089 | 0.2087 | ⋯ | 15.47 | 23.75 | 103.40 |  741.6 | 0.1791 | 0.5249 | 0.5355 | 0.1741 | 0.3985 | 0.12440 |\n\n",
            "text/latex": "A data.frame: 6 × 31\n\\begin{tabular}{r|lllllllllllllllllllll}\n  & diagnosis & radius\\_mean & texture\\_mean & perimeter\\_mean & area\\_mean & smoothness\\_mean & compactness\\_mean & concavity\\_mean & concave.points\\_mean & symmetry\\_mean & ⋯ & radius\\_worst & texture\\_worst & perimeter\\_worst & area\\_worst & smoothness\\_worst & compactness\\_worst & concavity\\_worst & concave.points\\_worst & symmetry\\_worst & fractal\\_dimension\\_worst\\\\\n  & <fct> & <dbl> & <dbl> & <dbl> & <dbl> & <dbl> & <dbl> & <dbl> & <dbl> & <dbl> & ⋯ & <dbl> & <dbl> & <dbl> & <dbl> & <dbl> & <dbl> & <dbl> & <dbl> & <dbl> & <dbl>\\\\\n\\hline\n\t1 & 1 & 17.99 & 10.38 & 122.80 & 1001.0 & 0.11840 & 0.27760 & 0.3001 & 0.14710 & 0.2419 & ⋯ & 25.38 & 17.33 & 184.60 & 2019.0 & 0.1622 & 0.6656 & 0.7119 & 0.2654 & 0.4601 & 0.11890\\\\\n\t2 & 1 & 20.57 & 17.77 & 132.90 & 1326.0 & 0.08474 & 0.07864 & 0.0869 & 0.07017 & 0.1812 & ⋯ & 24.99 & 23.41 & 158.80 & 1956.0 & 0.1238 & 0.1866 & 0.2416 & 0.1860 & 0.2750 & 0.08902\\\\\n\t3 & 1 & 19.69 & 21.25 & 130.00 & 1203.0 & 0.10960 & 0.15990 & 0.1974 & 0.12790 & 0.2069 & ⋯ & 23.57 & 25.53 & 152.50 & 1709.0 & 0.1444 & 0.4245 & 0.4504 & 0.2430 & 0.3613 & 0.08758\\\\\n\t4 & 1 & 11.42 & 20.38 &  77.58 &  386.1 & 0.14250 & 0.28390 & 0.2414 & 0.10520 & 0.2597 & ⋯ & 14.91 & 26.50 &  98.87 &  567.7 & 0.2098 & 0.8663 & 0.6869 & 0.2575 & 0.6638 & 0.17300\\\\\n\t5 & 1 & 20.29 & 14.34 & 135.10 & 1297.0 & 0.10030 & 0.13280 & 0.1980 & 0.10430 & 0.1809 & ⋯ & 22.54 & 16.67 & 152.20 & 1575.0 & 0.1374 & 0.2050 & 0.4000 & 0.1625 & 0.2364 & 0.07678\\\\\n\t6 & 1 & 12.45 & 15.70 &  82.57 &  477.1 & 0.12780 & 0.17000 & 0.1578 & 0.08089 & 0.2087 & ⋯ & 15.47 & 23.75 & 103.40 &  741.6 & 0.1791 & 0.5249 & 0.5355 & 0.1741 & 0.3985 & 0.12440\\\\\n\\end{tabular}\n",
            "text/plain": [
              "  diagnosis radius_mean texture_mean perimeter_mean area_mean smoothness_mean\n",
              "1 1         17.99       10.38        122.80         1001.0    0.11840        \n",
              "2 1         20.57       17.77        132.90         1326.0    0.08474        \n",
              "3 1         19.69       21.25        130.00         1203.0    0.10960        \n",
              "4 1         11.42       20.38         77.58          386.1    0.14250        \n",
              "5 1         20.29       14.34        135.10         1297.0    0.10030        \n",
              "6 1         12.45       15.70         82.57          477.1    0.12780        \n",
              "  compactness_mean concavity_mean concave.points_mean symmetry_mean ⋯\n",
              "1 0.27760          0.3001         0.14710             0.2419        ⋯\n",
              "2 0.07864          0.0869         0.07017             0.1812        ⋯\n",
              "3 0.15990          0.1974         0.12790             0.2069        ⋯\n",
              "4 0.28390          0.2414         0.10520             0.2597        ⋯\n",
              "5 0.13280          0.1980         0.10430             0.1809        ⋯\n",
              "6 0.17000          0.1578         0.08089             0.2087        ⋯\n",
              "  radius_worst texture_worst perimeter_worst area_worst smoothness_worst\n",
              "1 25.38        17.33         184.60          2019.0     0.1622          \n",
              "2 24.99        23.41         158.80          1956.0     0.1238          \n",
              "3 23.57        25.53         152.50          1709.0     0.1444          \n",
              "4 14.91        26.50          98.87           567.7     0.2098          \n",
              "5 22.54        16.67         152.20          1575.0     0.1374          \n",
              "6 15.47        23.75         103.40           741.6     0.1791          \n",
              "  compactness_worst concavity_worst concave.points_worst symmetry_worst\n",
              "1 0.6656            0.7119          0.2654               0.4601        \n",
              "2 0.1866            0.2416          0.1860               0.2750        \n",
              "3 0.4245            0.4504          0.2430               0.3613        \n",
              "4 0.8663            0.6869          0.2575               0.6638        \n",
              "5 0.2050            0.4000          0.1625               0.2364        \n",
              "6 0.5249            0.5355          0.1741               0.3985        \n",
              "  fractal_dimension_worst\n",
              "1 0.11890                \n",
              "2 0.08902                \n",
              "3 0.08758                \n",
              "4 0.17300                \n",
              "5 0.07678                \n",
              "6 0.12440                "
            ]
          },
          "metadata": {}
        }
      ]
    },
    {
      "cell_type": "code",
      "source": [
        "install.packages('caTools')\n",
        "library(caTools)\n",
        "set.seed(123)\n",
        "split = sample.split(ds$diagnosis, SplitRatio = 0.8)\n",
        "head(split)"
      ],
      "metadata": {
        "execution": {
          "iopub.status.busy": "2022-03-12T21:52:22.061895Z",
          "iopub.execute_input": "2022-03-12T21:52:22.063302Z",
          "iopub.status.idle": "2022-03-12T21:52:22.090267Z"
        },
        "trusted": true,
        "colab": {
          "base_uri": "https://localhost:8080/",
          "height": 86
        },
        "id": "FEEElQLIIl4g",
        "outputId": "b28d2c43-fe4c-4971-d8af-e7685ebf1afe"
      },
      "execution_count": 8,
      "outputs": [
        {
          "output_type": "stream",
          "name": "stderr",
          "text": [
            "Installing package into ‘/usr/local/lib/R/site-library’\n",
            "(as ‘lib’ is unspecified)\n",
            "\n"
          ]
        },
        {
          "output_type": "display_data",
          "data": {
            "text/html": [
              "<style>\n",
              ".list-inline {list-style: none; margin:0; padding: 0}\n",
              ".list-inline>li {display: inline-block}\n",
              ".list-inline>li:not(:last-child)::after {content: \"\\00b7\"; padding: 0 .5ex}\n",
              "</style>\n",
              "<ol class=list-inline><li>TRUE</li><li>TRUE</li><li>TRUE</li><li>FALSE</li><li>FALSE</li><li>TRUE</li></ol>\n"
            ],
            "text/markdown": "1. TRUE\n2. TRUE\n3. TRUE\n4. FALSE\n5. FALSE\n6. TRUE\n\n\n",
            "text/latex": "\\begin{enumerate*}\n\\item TRUE\n\\item TRUE\n\\item TRUE\n\\item FALSE\n\\item FALSE\n\\item TRUE\n\\end{enumerate*}\n",
            "text/plain": [
              "[1]  TRUE  TRUE  TRUE FALSE FALSE  TRUE"
            ]
          },
          "metadata": {}
        }
      ]
    },
    {
      "cell_type": "code",
      "source": [
        "train_set = subset(ds, split == TRUE)\n",
        "test_set = subset(ds, split == FALSE)"
      ],
      "metadata": {
        "execution": {
          "iopub.status.busy": "2022-03-12T21:52:22.092891Z",
          "iopub.execute_input": "2022-03-12T21:52:22.094419Z",
          "iopub.status.idle": "2022-03-12T21:52:22.118537Z"
        },
        "trusted": true,
        "id": "3S4U4AxBIl4g"
      },
      "execution_count": 9,
      "outputs": []
    },
    {
      "cell_type": "code",
      "source": [
        "print(head(train_set, 3))"
      ],
      "metadata": {
        "execution": {
          "iopub.status.busy": "2022-03-12T21:52:22.122339Z",
          "iopub.execute_input": "2022-03-12T21:52:22.124595Z",
          "iopub.status.idle": "2022-03-12T21:52:22.150073Z"
        },
        "trusted": true,
        "colab": {
          "base_uri": "https://localhost:8080/"
        },
        "id": "PiEQs0TCIl4h",
        "outputId": "6a513dd1-2b5a-4139-8321-34666a0e22a3"
      },
      "execution_count": 10,
      "outputs": [
        {
          "output_type": "stream",
          "name": "stdout",
          "text": [
            "  diagnosis radius_mean texture_mean perimeter_mean area_mean smoothness_mean\n",
            "1         1       17.99        10.38          122.8      1001         0.11840\n",
            "2         1       20.57        17.77          132.9      1326         0.08474\n",
            "3         1       19.69        21.25          130.0      1203         0.10960\n",
            "  compactness_mean concavity_mean concave.points_mean symmetry_mean\n",
            "1          0.27760         0.3001             0.14710        0.2419\n",
            "2          0.07864         0.0869             0.07017        0.1812\n",
            "3          0.15990         0.1974             0.12790        0.2069\n",
            "  fractal_dimension_mean radius_se texture_se perimeter_se area_se\n",
            "1                0.07871    1.0950     0.9053        8.589  153.40\n",
            "2                0.05667    0.5435     0.7339        3.398   74.08\n",
            "3                0.05999    0.7456     0.7869        4.585   94.03\n",
            "  smoothness_se compactness_se concavity_se concave.points_se symmetry_se\n",
            "1      0.006399        0.04904      0.05373           0.01587     0.03003\n",
            "2      0.005225        0.01308      0.01860           0.01340     0.01389\n",
            "3      0.006150        0.04006      0.03832           0.02058     0.02250\n",
            "  fractal_dimension_se radius_worst texture_worst perimeter_worst area_worst\n",
            "1             0.006193        25.38         17.33           184.6       2019\n",
            "2             0.003532        24.99         23.41           158.8       1956\n",
            "3             0.004571        23.57         25.53           152.5       1709\n",
            "  smoothness_worst compactness_worst concavity_worst concave.points_worst\n",
            "1           0.1622            0.6656          0.7119               0.2654\n",
            "2           0.1238            0.1866          0.2416               0.1860\n",
            "3           0.1444            0.4245          0.4504               0.2430\n",
            "  symmetry_worst fractal_dimension_worst\n",
            "1         0.4601                 0.11890\n",
            "2         0.2750                 0.08902\n",
            "3         0.3613                 0.08758\n"
          ]
        }
      ]
    },
    {
      "cell_type": "code",
      "source": [
        "print(head(test_set, 3))"
      ],
      "metadata": {
        "execution": {
          "iopub.status.busy": "2022-03-12T21:52:22.152846Z",
          "iopub.execute_input": "2022-03-12T21:52:22.154349Z",
          "iopub.status.idle": "2022-03-12T21:52:22.177202Z"
        },
        "trusted": true,
        "colab": {
          "base_uri": "https://localhost:8080/"
        },
        "id": "aDmWWADpIl4h",
        "outputId": "63807d3c-3ac3-4b48-c9ef-f6da909bb2a6"
      },
      "execution_count": 11,
      "outputs": [
        {
          "output_type": "stream",
          "name": "stdout",
          "text": [
            "  diagnosis radius_mean texture_mean perimeter_mean area_mean smoothness_mean\n",
            "4         1       11.42        20.38          77.58     386.1          0.1425\n",
            "5         1       20.29        14.34         135.10    1297.0          0.1003\n",
            "8         1       13.71        20.83          90.20     577.9          0.1189\n",
            "  compactness_mean concavity_mean concave.points_mean symmetry_mean\n",
            "4           0.2839        0.24140             0.10520        0.2597\n",
            "5           0.1328        0.19800             0.10430        0.1809\n",
            "8           0.1645        0.09366             0.05985        0.2196\n",
            "  fractal_dimension_mean radius_se texture_se perimeter_se area_se\n",
            "4                0.09744    0.4956     1.1560        3.445   27.23\n",
            "5                0.05883    0.7572     0.7813        5.438   94.44\n",
            "8                0.07451    0.5835     1.3770        3.856   50.96\n",
            "  smoothness_se compactness_se concavity_se concave.points_se symmetry_se\n",
            "4      0.009110        0.07458      0.05661           0.01867     0.05963\n",
            "5      0.011490        0.02461      0.05688           0.01885     0.01756\n",
            "8      0.008805        0.03029      0.02488           0.01448     0.01486\n",
            "  fractal_dimension_se radius_worst texture_worst perimeter_worst area_worst\n",
            "4             0.009208        14.91         26.50           98.87      567.7\n",
            "5             0.005115        22.54         16.67          152.20     1575.0\n",
            "8             0.005412        17.06         28.14          110.60      897.0\n",
            "  smoothness_worst compactness_worst concavity_worst concave.points_worst\n",
            "4           0.2098            0.8663          0.6869               0.2575\n",
            "5           0.1374            0.2050          0.4000               0.1625\n",
            "8           0.1654            0.3682          0.2678               0.1556\n",
            "  symmetry_worst fractal_dimension_worst\n",
            "4         0.6638                 0.17300\n",
            "5         0.2364                 0.07678\n",
            "8         0.3196                 0.11510\n"
          ]
        }
      ]
    },
    {
      "cell_type": "markdown",
      "source": [
        "## **Feature Scaling**"
      ],
      "metadata": {
        "id": "Hca9VWXEIl4i"
      }
    },
    {
      "cell_type": "code",
      "source": [
        "train_set[-1] = scale(train_set[-1])\n",
        "test_set[-1] = scale(test_set[-1])"
      ],
      "metadata": {
        "execution": {
          "iopub.status.busy": "2022-03-12T21:52:22.181282Z",
          "iopub.execute_input": "2022-03-12T21:52:22.183787Z",
          "iopub.status.idle": "2022-03-12T21:52:22.208645Z"
        },
        "trusted": true,
        "id": "xe268Ix2Il4i"
      },
      "execution_count": 12,
      "outputs": []
    },
    {
      "cell_type": "code",
      "source": [
        "print(head(train_set, 2))"
      ],
      "metadata": {
        "execution": {
          "iopub.status.busy": "2022-03-12T21:52:22.212282Z",
          "iopub.execute_input": "2022-03-12T21:52:22.214355Z",
          "iopub.status.idle": "2022-03-12T21:52:22.233949Z"
        },
        "trusted": true,
        "colab": {
          "base_uri": "https://localhost:8080/"
        },
        "id": "g2zgkRg8Il4j",
        "outputId": "6882151e-d8ca-418a-c937-86f828a14f99"
      },
      "execution_count": 13,
      "outputs": [
        {
          "output_type": "stream",
          "name": "stdout",
          "text": [
            "  diagnosis radius_mean texture_mean perimeter_mean area_mean smoothness_mean\n",
            "1         1    1.092091   -2.0781202       1.268815 0.9880026       1.6684372\n",
            "2         1    1.827381   -0.3731651       1.686555 1.9218924      -0.8419933\n",
            "  compactness_mean concavity_mean concave.points_mean symmetry_mean\n",
            "1        3.3779611    2.708037423           2.5608895   2.279832090\n",
            "2       -0.4705914   -0.005159546           0.5643063   0.009980093\n",
            "  fractal_dimension_mean radius_se texture_se perimeter_se   area_se\n",
            "1              2.3320653 2.5981471 -0.5589606    2.9944034 2.6659287\n",
            "2             -0.8571177 0.5205996 -0.8679125    0.2817483 0.7977976\n",
            "  smoothness_se compactness_se concavity_se concave.points_se symmetry_se\n",
            "1    -0.1802841      1.3387835    0.6963763         0.6723936   1.1354459\n",
            "2    -0.5778782     -0.6762646   -0.4190520         0.2709684  -0.8088852\n",
            "  fractal_dimension_se radius_worst texture_worst perimeter_worst area_worst\n",
            "1           0.87629700     1.875426    -1.3817534        2.292831   1.994372\n",
            "2          -0.08742872     1.794881    -0.3827512        1.526773   1.883722\n",
            "  smoothness_worst compactness_worst concavity_worst concave.points_worst\n",
            "1        1.3763361         2.7035293       2.1381595             2.331505\n",
            "2       -0.3509843        -0.4116493      -0.1309458             1.110114\n",
            "  symmetry_worst fractal_dimension_worst\n",
            "1      2.9131649               2.0504950\n",
            "2     -0.2494476               0.3324355\n"
          ]
        }
      ]
    },
    {
      "cell_type": "code",
      "source": [
        "print(head(test_set, 2))"
      ],
      "metadata": {
        "execution": {
          "iopub.status.busy": "2022-03-12T21:52:22.237544Z",
          "iopub.execute_input": "2022-03-12T21:52:22.239599Z",
          "iopub.status.idle": "2022-03-12T21:52:22.260688Z"
        },
        "trusted": true,
        "colab": {
          "base_uri": "https://localhost:8080/"
        },
        "id": "BK8SeAfXIl4j",
        "outputId": "07f682c1-853d-4bfe-99bd-dac50ff4d5de"
      },
      "execution_count": 14,
      "outputs": [
        {
          "output_type": "stream",
          "name": "stdout",
          "text": [
            "  diagnosis radius_mean texture_mean perimeter_mean  area_mean smoothness_mean\n",
            "4         1   -0.717954    0.3570746     -0.5533431 -0.7040368       2.7239964\n",
            "5         1    1.747317   -1.0952258      1.7583918  1.7664138       0.1583678\n",
            "  compactness_mean concavity_mean concave.points_mean symmetry_mean\n",
            "4        3.0529650       1.739499            1.357524    2.57983265\n",
            "5        0.4021003       1.224434            1.335021   -0.03938653\n",
            "  fractal_dimension_mean radius_se texture_se perimeter_se    area_se\n",
            "4              4.4434679 0.2824113 -0.1232779    0.2272455 -0.2421738\n",
            "5             -0.6295769 1.0946534 -0.8156036    1.0509880  0.9514207\n",
            "  smoothness_se compactness_se concavity_se concave.points_se symmetry_se\n",
            "4     0.5130086      2.6281003     1.000576          1.057123   4.8230188\n",
            "5     1.2636454     -0.1209556     1.011680          1.085876  -0.3348095\n",
            "  fractal_dimension_se radius_worst texture_worst perimeter_worst area_worst\n",
            "4              2.50347   -0.2570713     0.1676625      -0.2366231 -0.5268425\n",
            "5              0.57969    1.3268492    -1.3670538       1.3583030  1.2350455\n",
            "  smoothness_worst compactness_worst concavity_worst concave.points_worst\n",
            "4       2.97587254         3.4844379        1.869330            2.0319759\n",
            "5       0.07769036        -0.3921341        0.531216            0.6509352\n",
            "  symmetry_worst fractal_dimension_worst\n",
            "4      5.0176523               4.2298534\n",
            "5     -0.7502987              -0.4917176\n"
          ]
        }
      ]
    },
    {
      "cell_type": "markdown",
      "source": [
        "## **Fitting Logistic Regression to the Train set**"
      ],
      "metadata": {
        "id": "WisLa1_ZIl4k"
      }
    },
    {
      "cell_type": "code",
      "source": [
        "train_set = train_set[-3]\n",
        "test_set = test_set[-3]"
      ],
      "metadata": {
        "execution": {
          "iopub.status.busy": "2022-03-12T21:52:22.263413Z",
          "iopub.execute_input": "2022-03-12T21:52:22.264991Z",
          "iopub.status.idle": "2022-03-12T21:52:22.284478Z"
        },
        "trusted": true,
        "id": "gI81y9KgIl4k"
      },
      "execution_count": 15,
      "outputs": []
    },
    {
      "cell_type": "code",
      "source": [
        "#classifier = glm(formula = diagnosis ~ ., family=binomial(\"logit\"), data = train_set)\n",
        "classifier = glm(formula = diagnosis ~ ., family=binomial, data = train_set)"
      ],
      "metadata": {
        "execution": {
          "iopub.status.busy": "2022-03-12T21:52:22.287228Z",
          "iopub.execute_input": "2022-03-12T21:52:22.288784Z",
          "iopub.status.idle": "2022-03-12T21:52:22.347440Z"
        },
        "trusted": true,
        "colab": {
          "base_uri": "https://localhost:8080/"
        },
        "id": "eQ-sQtQDIl4l",
        "outputId": "5b78a16b-82fc-4185-d8a2-e89722be324c"
      },
      "execution_count": 16,
      "outputs": [
        {
          "output_type": "stream",
          "name": "stderr",
          "text": [
            "Warning message:\n",
            "“glm.fit: algorithm did not converge”\n",
            "Warning message:\n",
            "“glm.fit: fitted probabilities numerically 0 or 1 occurred”\n"
          ]
        }
      ]
    },
    {
      "cell_type": "markdown",
      "source": [
        "## **Predicting the Test set results**"
      ],
      "metadata": {
        "id": "2KhBiWa_Il4l"
      }
    },
    {
      "cell_type": "code",
      "source": [
        "prob_pred = predict(classifier, type = 'response', newdata = test_set)\n",
        "y_pred = ifelse(prob_pred > 0.5, 1, 0)"
      ],
      "metadata": {
        "execution": {
          "iopub.status.busy": "2022-03-12T21:52:22.351804Z",
          "iopub.execute_input": "2022-03-12T21:52:22.354351Z",
          "iopub.status.idle": "2022-03-12T21:52:22.385821Z"
        },
        "trusted": true,
        "id": "s_x4-YQZIl4m"
      },
      "execution_count": 17,
      "outputs": []
    },
    {
      "cell_type": "markdown",
      "source": [
        "## **Generate the Confusion Matrix**"
      ],
      "metadata": {
        "id": "8Ow8bf43Il4m"
      }
    },
    {
      "cell_type": "code",
      "source": [
        "cm = table(y_pred > 0.5, test_set[, 1])\n",
        "cm"
      ],
      "metadata": {
        "execution": {
          "iopub.status.busy": "2022-03-12T21:52:22.399517Z",
          "iopub.execute_input": "2022-03-12T21:52:22.402231Z",
          "iopub.status.idle": "2022-03-12T21:52:22.432706Z"
        },
        "trusted": true,
        "colab": {
          "base_uri": "https://localhost:8080/",
          "height": 86
        },
        "id": "v1Oab63NIl4m",
        "outputId": "5d1cee44-74be-4d1f-d775-a6d4797d238b"
      },
      "execution_count": 18,
      "outputs": [
        {
          "output_type": "display_data",
          "data": {
            "text/plain": [
              "       \n",
              "         0  1\n",
              "  FALSE 64  4\n",
              "  TRUE   7 38"
            ]
          },
          "metadata": {}
        }
      ]
    },
    {
      "cell_type": "markdown",
      "source": [
        "## **Evaluation Metrics**"
      ],
      "metadata": {
        "id": "vuY44hwaIl4m"
      }
    },
    {
      "cell_type": "code",
      "source": [
        " n = sum(cm) # number of instances\n",
        " nc = nrow(cm) # number of classes\n",
        " diag = diag(cm) # number of correctly classified instances per class \n",
        " rowsums = apply(cm, 1, sum) # number of instances per class\n",
        " colsums = apply(cm, 2, sum) # number of predictions per class\n",
        " p = rowsums / n # distribution of instances over the actual classes\n",
        " q = colsums / n # distribution of instances over the predicted classes"
      ],
      "metadata": {
        "execution": {
          "iopub.status.busy": "2022-03-12T21:52:22.437283Z",
          "iopub.execute_input": "2022-03-12T21:52:22.439967Z",
          "iopub.status.idle": "2022-03-12T21:52:22.468705Z"
        },
        "trusted": true,
        "id": "86-KQLnbIl4n"
      },
      "execution_count": 19,
      "outputs": []
    },
    {
      "cell_type": "code",
      "source": [
        "accuracy = sum(diag) / n \n",
        "accuracy "
      ],
      "metadata": {
        "execution": {
          "iopub.status.busy": "2022-03-12T21:52:22.471230Z",
          "iopub.execute_input": "2022-03-12T21:52:22.472801Z",
          "iopub.status.idle": "2022-03-12T21:52:22.498334Z"
        },
        "trusted": true,
        "colab": {
          "base_uri": "https://localhost:8080/",
          "height": 34
        },
        "id": "X7sbi2iJIl4n",
        "outputId": "7777f9da-027a-44a6-9198-f744555cdbe0"
      },
      "execution_count": 20,
      "outputs": [
        {
          "output_type": "display_data",
          "data": {
            "text/html": [
              "0.902654867256637"
            ],
            "text/markdown": "0.902654867256637",
            "text/latex": "0.902654867256637",
            "text/plain": [
              "[1] 0.9026549"
            ]
          },
          "metadata": {}
        }
      ]
    },
    {
      "cell_type": "code",
      "source": [
        "precision = diag / colsums \n",
        "recall = diag / rowsums \n",
        "f1 = 2 * precision * recall / (precision + recall) \n",
        "data.frame(precision, recall, f1) "
      ],
      "metadata": {
        "execution": {
          "iopub.status.busy": "2022-03-12T21:52:22.502058Z",
          "iopub.execute_input": "2022-03-12T21:52:22.503763Z",
          "iopub.status.idle": "2022-03-12T21:52:22.533407Z"
        },
        "trusted": true,
        "colab": {
          "base_uri": "https://localhost:8080/",
          "height": 161
        },
        "id": "beKUUFnZIl4o",
        "outputId": "f5e570d4-72d9-4899-f0ea-100b9cfb51ca"
      },
      "execution_count": 21,
      "outputs": [
        {
          "output_type": "display_data",
          "data": {
            "text/html": [
              "<table class=\"dataframe\">\n",
              "<caption>A data.frame: 2 × 3</caption>\n",
              "<thead>\n",
              "\t<tr><th></th><th scope=col>precision</th><th scope=col>recall</th><th scope=col>f1</th></tr>\n",
              "\t<tr><th></th><th scope=col>&lt;dbl&gt;</th><th scope=col>&lt;dbl&gt;</th><th scope=col>&lt;dbl&gt;</th></tr>\n",
              "</thead>\n",
              "<tbody>\n",
              "\t<tr><th scope=row>0</th><td>0.9014085</td><td>0.9411765</td><td>0.9208633</td></tr>\n",
              "\t<tr><th scope=row>1</th><td>0.9047619</td><td>0.8444444</td><td>0.8735632</td></tr>\n",
              "</tbody>\n",
              "</table>\n"
            ],
            "text/markdown": "\nA data.frame: 2 × 3\n\n| <!--/--> | precision &lt;dbl&gt; | recall &lt;dbl&gt; | f1 &lt;dbl&gt; |\n|---|---|---|---|\n| 0 | 0.9014085 | 0.9411765 | 0.9208633 |\n| 1 | 0.9047619 | 0.8444444 | 0.8735632 |\n\n",
            "text/latex": "A data.frame: 2 × 3\n\\begin{tabular}{r|lll}\n  & precision & recall & f1\\\\\n  & <dbl> & <dbl> & <dbl>\\\\\n\\hline\n\t0 & 0.9014085 & 0.9411765 & 0.9208633\\\\\n\t1 & 0.9047619 & 0.8444444 & 0.8735632\\\\\n\\end{tabular}\n",
            "text/plain": [
              "  precision recall    f1       \n",
              "0 0.9014085 0.9411765 0.9208633\n",
              "1 0.9047619 0.8444444 0.8735632"
            ]
          },
          "metadata": {}
        }
      ]
    },
    {
      "cell_type": "code",
      "source": [
        "summary(classifier)"
      ],
      "metadata": {
        "execution": {
          "iopub.status.busy": "2022-03-12T21:52:22.537071Z",
          "iopub.execute_input": "2022-03-12T21:52:22.539126Z",
          "iopub.status.idle": "2022-03-12T21:52:22.565000Z"
        },
        "trusted": true,
        "colab": {
          "base_uri": "https://localhost:8080/",
          "height": 850
        },
        "id": "hKJADGNLIl4o",
        "outputId": "a8724371-585b-4cea-e862-152effd3d9a3"
      },
      "execution_count": 22,
      "outputs": [
        {
          "output_type": "display_data",
          "data": {
            "text/plain": [
              "\n",
              "Call:\n",
              "glm(formula = diagnosis ~ ., family = binomial, data = train_set)\n",
              "\n",
              "Deviance Residuals: \n",
              "       Min          1Q      Median          3Q         Max  \n",
              "-1.942e-04  -2.100e-08  -2.100e-08   2.100e-08   2.204e-04  \n",
              "\n",
              "Coefficients:\n",
              "                          Estimate Std. Error z value Pr(>|z|)\n",
              "(Intercept)              1.093e+02  7.499e+04   0.001    0.999\n",
              "radius_mean              9.050e+02  1.221e+06   0.001    0.999\n",
              "perimeter_mean          -9.033e+02  9.997e+05  -0.001    0.999\n",
              "area_mean               -3.460e+02  4.433e+05  -0.001    0.999\n",
              "smoothness_mean          6.511e+01  3.452e+04   0.002    0.998\n",
              "compactness_mean        -1.215e+02  4.663e+04  -0.003    0.998\n",
              "concavity_mean          -8.803e+00  7.688e+04   0.000    1.000\n",
              "concave.points_mean      1.966e+02  7.326e+04   0.003    0.998\n",
              "symmetry_mean           -4.074e+01  2.009e+04  -0.002    0.998\n",
              "fractal_dimension_mean   4.177e+00  2.944e+04   0.000    1.000\n",
              "radius_se                2.391e+01  1.469e+05   0.000    1.000\n",
              "texture_se              -5.297e+01  1.166e+04  -0.005    0.996\n",
              "perimeter_se            -7.814e+01  1.339e+05  -0.001    1.000\n",
              "area_se                  3.768e+02  2.307e+05   0.002    0.999\n",
              "smoothness_se            2.519e+01  1.614e+04   0.002    0.999\n",
              "compactness_se          -8.389e+01  7.759e+04  -0.001    0.999\n",
              "concavity_se            -1.089e+02  1.652e+05  -0.001    0.999\n",
              "concave.points_se        8.701e+01  5.978e+04   0.001    0.999\n",
              "symmetry_se              1.762e+01  2.047e+04   0.001    0.999\n",
              "fractal_dimension_se     1.319e+01  2.924e+04   0.000    1.000\n",
              "radius_worst            -5.059e+02  7.326e+05  -0.001    0.999\n",
              "texture_worst            9.796e+01  1.791e+04   0.005    0.996\n",
              "perimeter_worst          1.991e+02  3.262e+05   0.001    1.000\n",
              "area_worst               6.958e+02  1.116e+06   0.001    1.000\n",
              "smoothness_worst        -3.757e+01  2.138e+04  -0.002    0.999\n",
              "compactness_worst        1.125e+02  1.315e+05   0.001    0.999\n",
              "concavity_worst          1.678e+02  1.592e+05   0.001    0.999\n",
              "concave.points_worst    -5.924e+01  5.995e+04  -0.001    0.999\n",
              "symmetry_worst           6.715e+01  2.756e+04   0.002    0.998\n",
              "fractal_dimension_worst -7.118e+01  5.189e+04  -0.001    0.999\n",
              "\n",
              "(Dispersion parameter for binomial family taken to be 1)\n",
              "\n",
              "    Null deviance: 6.0231e+02  on 455  degrees of freedom\n",
              "Residual deviance: 4.4978e-07  on 426  degrees of freedom\n",
              "AIC: 60\n",
              "\n",
              "Number of Fisher Scoring iterations: 25\n"
            ]
          },
          "metadata": {}
        }
      ]
    }
  ]
}