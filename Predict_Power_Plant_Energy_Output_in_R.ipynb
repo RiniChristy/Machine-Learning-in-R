{
  "metadata": {
    "kernelspec": {
      "name": "ir",
      "display_name": "R",
      "language": "R"
    },
    "language_info": {
      "name": "R",
      "codemirror_mode": "r",
      "pygments_lexer": "r",
      "mimetype": "text/x-r-source",
      "file_extension": ".r",
      "version": "4.0.5"
    },
    "colab": {
      "name": "Predict Power Plant Energy Output in R.ipynb",
      "provenance": []
    }
  },
  "nbformat_minor": 0,
  "nbformat": 4,
  "cells": [
    {
      "cell_type": "markdown",
      "source": [
        "# **Predict Power Plant Energy Output in R**"
      ],
      "metadata": {
        "id": "6EAfVGyzH9B3"
      }
    },
    {
      "cell_type": "markdown",
      "source": [
        "\n",
        "## **Project Description**\n",
        "Attempt to predict Power plant energy output using various regression models like Multiple Linear Regression, Polynomial Linear Regression, Support Vector Regression (SVR), Decision Tree Regression and Random Forest Regression. "
      ],
      "metadata": {
        "id": "b6Y3uGR6H9B-"
      }
    },
    {
      "cell_type": "markdown",
      "source": [
        "## **Data Set Information:**\n",
        "The dataset contains 9568 data points collected from a Combined Cycle Power Plant over 6 years (2006-2011), when the power plant was set to work with full load. Features consist of hourly average ambient variables Temperature (T), Ambient Pressure (AP), Relative Humidity (RH) and Exhaust Vacuum (V) to predict the net hourly electrical energy output (EP) of the plant.\n",
        "\n",
        "### **Attribute Information:**\n",
        "Features consist of hourly average ambient variables:\n",
        "\n",
        "* Temperature (T) in the range 1.81°C and 37.11°C,\n",
        "* Ambient Pressure (AP) in the range 992.89-1033.30 milibar,\n",
        "* Relative Humidity (RH) in the range 25.56% to 100.16%\n",
        "* Exhaust Vacuum (V) in teh range 25.36-81.56 cm Hg\n",
        "* Net hourly electrical energy output (EP) 420.26-495.76 MW"
      ],
      "metadata": {
        "id": "Bo0elm-4H9B_"
      }
    },
    {
      "cell_type": "markdown",
      "source": [
        "## **Data Preprocessing**"
      ],
      "metadata": {
        "id": "5mSp9LSaH9CA"
      }
    },
    {
      "cell_type": "markdown",
      "source": [
        "### **Importing the dataset**"
      ],
      "metadata": {
        "id": "IM0M47RhH9CB"
      }
    },
    {
      "cell_type": "code",
      "source": [
        "ds = read.csv('/content/Power Plant Data.csv')\n",
        "cat(\"First three rows of dataset\", \"\\n\")\n",
        "head(ds, 3)"
      ],
      "metadata": {
        "execution": {
          "iopub.status.busy": "2022-03-11T22:18:47.452299Z",
          "iopub.execute_input": "2022-03-11T22:18:47.454692Z",
          "iopub.status.idle": "2022-03-11T22:18:47.648857Z"
        },
        "trusted": true,
        "colab": {
          "base_uri": "https://localhost:8080/",
          "height": 209
        },
        "id": "F2ATgisiH9CC",
        "outputId": "681a5fad-23be-4bc5-81d6-277e68e1af40"
      },
      "execution_count": 1,
      "outputs": [
        {
          "output_type": "stream",
          "name": "stdout",
          "text": [
            "First three rows of dataset \n"
          ]
        },
        {
          "output_type": "display_data",
          "data": {
            "text/html": [
              "<table class=\"dataframe\">\n",
              "<caption>A data.frame: 3 × 5</caption>\n",
              "<thead>\n",
              "\t<tr><th></th><th scope=col>AT</th><th scope=col>V</th><th scope=col>AP</th><th scope=col>RH</th><th scope=col>PE</th></tr>\n",
              "\t<tr><th></th><th scope=col>&lt;dbl&gt;</th><th scope=col>&lt;dbl&gt;</th><th scope=col>&lt;dbl&gt;</th><th scope=col>&lt;dbl&gt;</th><th scope=col>&lt;dbl&gt;</th></tr>\n",
              "</thead>\n",
              "<tbody>\n",
              "\t<tr><th scope=row>1</th><td>14.96</td><td>41.76</td><td>1024.07</td><td>73.17</td><td>463.26</td></tr>\n",
              "\t<tr><th scope=row>2</th><td>25.18</td><td>62.96</td><td>1020.04</td><td>59.08</td><td>444.37</td></tr>\n",
              "\t<tr><th scope=row>3</th><td> 5.11</td><td>39.40</td><td>1012.16</td><td>92.14</td><td>488.56</td></tr>\n",
              "</tbody>\n",
              "</table>\n"
            ],
            "text/markdown": "\nA data.frame: 3 × 5\n\n| <!--/--> | AT &lt;dbl&gt; | V &lt;dbl&gt; | AP &lt;dbl&gt; | RH &lt;dbl&gt; | PE &lt;dbl&gt; |\n|---|---|---|---|---|---|\n| 1 | 14.96 | 41.76 | 1024.07 | 73.17 | 463.26 |\n| 2 | 25.18 | 62.96 | 1020.04 | 59.08 | 444.37 |\n| 3 |  5.11 | 39.40 | 1012.16 | 92.14 | 488.56 |\n\n",
            "text/latex": "A data.frame: 3 × 5\n\\begin{tabular}{r|lllll}\n  & AT & V & AP & RH & PE\\\\\n  & <dbl> & <dbl> & <dbl> & <dbl> & <dbl>\\\\\n\\hline\n\t1 & 14.96 & 41.76 & 1024.07 & 73.17 & 463.26\\\\\n\t2 & 25.18 & 62.96 & 1020.04 & 59.08 & 444.37\\\\\n\t3 &  5.11 & 39.40 & 1012.16 & 92.14 & 488.56\\\\\n\\end{tabular}\n",
            "text/plain": [
              "  AT    V     AP      RH    PE    \n",
              "1 14.96 41.76 1024.07 73.17 463.26\n",
              "2 25.18 62.96 1020.04 59.08 444.37\n",
              "3  5.11 39.40 1012.16 92.14 488.56"
            ]
          },
          "metadata": {}
        }
      ]
    },
    {
      "cell_type": "code",
      "source": [
        "#find number of rows with missing values\n",
        "sum(!complete.cases(ds))"
      ],
      "metadata": {
        "execution": {
          "iopub.status.busy": "2022-03-11T22:18:53.446825Z",
          "iopub.execute_input": "2022-03-11T22:18:53.486452Z",
          "iopub.status.idle": "2022-03-11T22:18:53.505892Z"
        },
        "trusted": true,
        "colab": {
          "base_uri": "https://localhost:8080/",
          "height": 34
        },
        "id": "tIT14YrXH9CF",
        "outputId": "dd9a73f2-f826-4358-eaa9-c3e181f0bfd9"
      },
      "execution_count": 2,
      "outputs": [
        {
          "output_type": "display_data",
          "data": {
            "text/html": [
              "0"
            ],
            "text/markdown": "0",
            "text/latex": "0",
            "text/plain": [
              "[1] 0"
            ]
          },
          "metadata": {}
        }
      ]
    },
    {
      "cell_type": "markdown",
      "source": [
        "### **Splitting the dataset into the Train set and Test set**"
      ],
      "metadata": {
        "id": "W2swaycYH9CG"
      }
    },
    {
      "cell_type": "code",
      "source": [
        "install.packages('caTools')\n",
        "library(caTools)\n",
        "set.seed(123)\n",
        "split = sample.split(ds$PE, SplitRatio = 4/5)\n",
        "head(split)"
      ],
      "metadata": {
        "execution": {
          "iopub.status.busy": "2022-03-11T22:18:59.886993Z",
          "iopub.execute_input": "2022-03-11T22:18:59.888671Z",
          "iopub.status.idle": "2022-03-11T22:18:59.953391Z"
        },
        "trusted": true,
        "colab": {
          "base_uri": "https://localhost:8080/",
          "height": 86
        },
        "id": "LsY5f0G6H9CH",
        "outputId": "05cea851-729e-44a1-8f3b-d96f31ba54ce"
      },
      "execution_count": 3,
      "outputs": [
        {
          "output_type": "stream",
          "name": "stderr",
          "text": [
            "Installing package into ‘/usr/local/lib/R/site-library’\n",
            "(as ‘lib’ is unspecified)\n",
            "\n"
          ]
        },
        {
          "output_type": "display_data",
          "data": {
            "text/html": [
              "<style>\n",
              ".list-inline {list-style: none; margin:0; padding: 0}\n",
              ".list-inline>li {display: inline-block}\n",
              ".list-inline>li:not(:last-child)::after {content: \"\\00b7\"; padding: 0 .5ex}\n",
              "</style>\n",
              "<ol class=list-inline><li>TRUE</li><li>TRUE</li><li>TRUE</li><li>FALSE</li><li>FALSE</li><li>TRUE</li></ol>\n"
            ],
            "text/markdown": "1. TRUE\n2. TRUE\n3. TRUE\n4. FALSE\n5. FALSE\n6. TRUE\n\n\n",
            "text/latex": "\\begin{enumerate*}\n\\item TRUE\n\\item TRUE\n\\item TRUE\n\\item FALSE\n\\item FALSE\n\\item TRUE\n\\end{enumerate*}\n",
            "text/plain": [
              "[1]  TRUE  TRUE  TRUE FALSE FALSE  TRUE"
            ]
          },
          "metadata": {}
        }
      ]
    },
    {
      "cell_type": "code",
      "source": [
        "train_set = subset(ds, split == TRUE)\n",
        "test_set = subset(ds, split == FALSE)\n",
        "print(head(train_set,5))"
      ],
      "metadata": {
        "execution": {
          "iopub.status.busy": "2022-03-11T22:19:05.301897Z",
          "iopub.execute_input": "2022-03-11T22:19:05.303554Z",
          "iopub.status.idle": "2022-03-11T22:19:05.331608Z"
        },
        "trusted": true,
        "colab": {
          "base_uri": "https://localhost:8080/"
        },
        "id": "iJOfxMlZH9CJ",
        "outputId": "380345d6-a2f4-4bc5-d26e-88b05077c501"
      },
      "execution_count": 4,
      "outputs": [
        {
          "output_type": "stream",
          "name": "stdout",
          "text": [
            "     AT     V      AP    RH     PE\n",
            "1 14.96 41.76 1024.07 73.17 463.26\n",
            "2 25.18 62.96 1020.04 59.08 444.37\n",
            "3  5.11 39.40 1012.16 92.14 488.56\n",
            "6 26.27 59.44 1012.23 58.77 443.67\n",
            "7 15.89 43.96 1014.02 75.24 467.35\n"
          ]
        }
      ]
    },
    {
      "cell_type": "code",
      "source": [
        "print(head(test_set,3))"
      ],
      "metadata": {
        "execution": {
          "iopub.status.busy": "2022-03-11T22:19:07.607929Z",
          "iopub.execute_input": "2022-03-11T22:19:07.609563Z",
          "iopub.status.idle": "2022-03-11T22:19:07.627397Z"
        },
        "trusted": true,
        "colab": {
          "base_uri": "https://localhost:8080/"
        },
        "id": "Br_MvjOVH9CK",
        "outputId": "9ff26d56-e1f4-4fa6-bedd-1c11ebb9cd75"
      },
      "execution_count": 5,
      "outputs": [
        {
          "output_type": "stream",
          "name": "stdout",
          "text": [
            "     AT     V      AP    RH     PE\n",
            "4 20.86 57.32 1010.24 76.64 446.48\n",
            "5 10.82 37.50 1009.23 96.62 473.90\n",
            "8  9.48 44.71 1019.12 66.43 478.42\n"
          ]
        }
      ]
    },
    {
      "cell_type": "markdown",
      "source": [
        "## **Multiple Linear Regression**"
      ],
      "metadata": {
        "id": "b2DcAhSuH9CK"
      }
    },
    {
      "cell_type": "code",
      "source": [
        "# Fitting Multiple Linear Regression to the Training set\n",
        "regressor = lm(formula = PE ~ .,\n",
        "               data = train_set)\n",
        "\n",
        "# Predicting the Test set results\n",
        "y_pred = predict(regressor, newdata = test_set)\n",
        "head(y_pred)"
      ],
      "metadata": {
        "execution": {
          "iopub.status.busy": "2022-03-11T22:19:13.387929Z",
          "iopub.execute_input": "2022-03-11T22:19:13.390991Z",
          "iopub.status.idle": "2022-03-11T22:19:13.463259Z"
        },
        "trusted": true,
        "colab": {
          "base_uri": "https://localhost:8080/",
          "height": 34
        },
        "id": "-84pOQiEH9CL",
        "outputId": "212250c4-9925-44dd-ea21-a50d8f5c8950"
      },
      "execution_count": 6,
      "outputs": [
        {
          "output_type": "display_data",
          "data": {
            "text/html": [
              "<style>\n",
              ".dl-inline {width: auto; margin:0; padding: 0}\n",
              ".dl-inline>dt, .dl-inline>dd {float: none; width: auto; display: inline-block}\n",
              ".dl-inline>dt::after {content: \":\\0020\"; padding-right: .5ex}\n",
              ".dl-inline>dt:not(:first-of-type) {padding-left: .5ex}\n",
              "</style><dl class=dl-inline><dt>4</dt><dd>450.564659928723</dd><dt>5</dt><dd>471.920932861155</dd><dt>8</dt><dd>478.196627624573</dd><dt>11</dt><dd>459.633091851083</dd><dt>16</dt><dd>458.276803758299</dd><dt>20</dt><dd>472.327121400887</dd></dl>\n"
            ],
            "text/markdown": "4\n:   450.5646599287235\n:   471.9209328611558\n:   478.19662762457311\n:   459.63309185108316\n:   458.27680375829920\n:   472.327121400887\n\n",
            "text/latex": "\\begin{description*}\n\\item[4] 450.564659928723\n\\item[5] 471.920932861155\n\\item[8] 478.196627624573\n\\item[11] 459.633091851083\n\\item[16] 458.276803758299\n\\item[20] 472.327121400887\n\\end{description*}\n",
            "text/plain": [
              "       4        5        8       11       16       20 \n",
              "450.5647 471.9209 478.1966 459.6331 458.2768 472.3271 "
            ]
          },
          "metadata": {}
        }
      ]
    },
    {
      "cell_type": "code",
      "source": [
        "summary(regressor)"
      ],
      "metadata": {
        "execution": {
          "iopub.status.busy": "2022-03-11T22:19:23.217000Z",
          "iopub.execute_input": "2022-03-11T22:19:23.223103Z",
          "iopub.status.idle": "2022-03-11T22:19:23.255257Z"
        },
        "trusted": true,
        "colab": {
          "base_uri": "https://localhost:8080/",
          "height": 381
        },
        "id": "hxpbfD-6H9CL",
        "outputId": "89d91f05-b77d-48e9-a46a-aef6b7b9420b"
      },
      "execution_count": 7,
      "outputs": [
        {
          "output_type": "display_data",
          "data": {
            "text/plain": [
              "\n",
              "Call:\n",
              "lm(formula = PE ~ ., data = train_set)\n",
              "\n",
              "Residuals:\n",
              "    Min      1Q  Median      3Q     Max \n",
              "-43.081  -3.145  -0.083   3.148  17.801 \n",
              "\n",
              "Coefficients:\n",
              "              Estimate Std. Error t value Pr(>|t|)    \n",
              "(Intercept) 462.198326  10.867285   42.53  < 2e-16 ***\n",
              "AT           -1.981035   0.017051 -116.18  < 2e-16 ***\n",
              "V            -0.236547   0.008129  -29.10  < 2e-16 ***\n",
              "AP            0.054833   0.010545    5.20 2.04e-07 ***\n",
              "RH           -0.158473   0.004664  -33.98  < 2e-16 ***\n",
              "---\n",
              "Signif. codes:  0 ‘***’ 0.001 ‘**’ 0.01 ‘*’ 0.05 ‘.’ 0.1 ‘ ’ 1\n",
              "\n",
              "Residual standard error: 4.563 on 7649 degrees of freedom\n",
              "Multiple R-squared:  0.9288,\tAdjusted R-squared:  0.9288 \n",
              "F-statistic: 2.496e+04 on 4 and 7649 DF,  p-value: < 2.2e-16\n"
            ]
          },
          "metadata": {}
        }
      ]
    },
    {
      "cell_type": "code",
      "source": [
        "summary(regressor)$r.squared"
      ],
      "metadata": {
        "execution": {
          "iopub.status.busy": "2022-03-11T22:19:29.469489Z",
          "iopub.execute_input": "2022-03-11T22:19:29.471113Z",
          "iopub.status.idle": "2022-03-11T22:19:29.491483Z"
        },
        "trusted": true,
        "colab": {
          "base_uri": "https://localhost:8080/",
          "height": 34
        },
        "id": "S7-G1vU4H9CM",
        "outputId": "07cf7d91-a008-42c4-8ef2-9d0ff77c7467"
      },
      "execution_count": 8,
      "outputs": [
        {
          "output_type": "display_data",
          "data": {
            "text/html": [
              "0.92883203261739"
            ],
            "text/markdown": "0.92883203261739",
            "text/latex": "0.92883203261739",
            "text/plain": [
              "[1] 0.928832"
            ]
          },
          "metadata": {}
        }
      ]
    },
    {
      "cell_type": "markdown",
      "source": [
        "**Backward Elimination**"
      ],
      "metadata": {
        "id": "CvRaE9JoH9CN"
      }
    },
    {
      "cell_type": "markdown",
      "source": [
        "Actually, no need for backward elimination. All variable are highly significant as noted from their p-values. Still just for the sake of trying, "
      ],
      "metadata": {
        "id": "BkJoZwjKH9CN"
      }
    },
    {
      "cell_type": "code",
      "source": [
        "#Removing the least significant variable from the model\n",
        "regressor = lm(formula = PE ~ AT + V  + RH, data = train_set)\n",
        "summary(regressor)"
      ],
      "metadata": {
        "execution": {
          "iopub.status.busy": "2022-03-11T22:19:32.695712Z",
          "iopub.execute_input": "2022-03-11T22:19:32.697350Z",
          "iopub.status.idle": "2022-03-11T22:19:32.723243Z"
        },
        "trusted": true,
        "colab": {
          "base_uri": "https://localhost:8080/",
          "height": 364
        },
        "id": "om7KXYXuH9CN",
        "outputId": "0d988976-4cca-49c3-ea1c-168eaa62711f"
      },
      "execution_count": 9,
      "outputs": [
        {
          "output_type": "display_data",
          "data": {
            "text/plain": [
              "\n",
              "Call:\n",
              "lm(formula = PE ~ AT + V + RH, data = train_set)\n",
              "\n",
              "Residuals:\n",
              "    Min      1Q  Median      3Q     Max \n",
              "-43.134  -3.133  -0.078   3.126  18.036 \n",
              "\n",
              "Coefficients:\n",
              "              Estimate Std. Error t value Pr(>|t|)    \n",
              "(Intercept) 518.663821   0.434869 1192.69   <2e-16 ***\n",
              "AT           -2.017221   0.015593 -129.37   <2e-16 ***\n",
              "V            -0.231562   0.008086  -28.64   <2e-16 ***\n",
              "RH           -0.164811   0.004509  -36.55   <2e-16 ***\n",
              "---\n",
              "Signif. codes:  0 ‘***’ 0.001 ‘**’ 0.01 ‘*’ 0.05 ‘.’ 0.1 ‘ ’ 1\n",
              "\n",
              "Residual standard error: 4.571 on 7650 degrees of freedom\n",
              "Multiple R-squared:  0.9286,\tAdjusted R-squared:  0.9286 \n",
              "F-statistic: 3.315e+04 on 3 and 7650 DF,  p-value: < 2.2e-16\n"
            ]
          },
          "metadata": {}
        }
      ]
    },
    {
      "cell_type": "markdown",
      "source": [
        "**Both R-squared and Adjusted R- squared got affected by eliminating one of the significant variables.**"
      ],
      "metadata": {
        "id": "8zaF0VB_H9CO"
      }
    },
    {
      "cell_type": "markdown",
      "source": [
        "## **Polynomial Regression**"
      ],
      "metadata": {
        "id": "QO3EDBl1H9CO"
      }
    },
    {
      "cell_type": "code",
      "source": [
        "# Fitting Polynomial Regression to the dataset\n",
        "poly_reg = lm(PE ~ poly(AT, degree=4, raw=TRUE) + \n",
        "              poly(V, degree=4, raw=TRUE) + \n",
        "              poly(RH, degree=4, raw=TRUE) +\n",
        "              poly(AP, degree=4, raw=TRUE), data = train_set)\n",
        "summary(poly_reg)"
      ],
      "metadata": {
        "execution": {
          "iopub.status.busy": "2022-03-11T22:19:38.489620Z",
          "iopub.execute_input": "2022-03-11T22:19:38.496969Z",
          "iopub.status.idle": "2022-03-11T22:19:38.538253Z"
        },
        "trusted": true,
        "colab": {
          "base_uri": "https://localhost:8080/",
          "height": 625
        },
        "id": "xHRaVB9oH9CP",
        "outputId": "07d4390f-9491-4e68-9a9f-14cc4f150d8e"
      },
      "execution_count": 10,
      "outputs": [
        {
          "output_type": "display_data",
          "data": {
            "text/plain": [
              "\n",
              "Call:\n",
              "lm(formula = PE ~ poly(AT, degree = 4, raw = TRUE) + poly(V, \n",
              "    degree = 4, raw = TRUE) + poly(RH, degree = 4, raw = TRUE) + \n",
              "    poly(AP, degree = 4, raw = TRUE), data = train_set)\n",
              "\n",
              "Residuals:\n",
              "    Min      1Q  Median      3Q     Max \n",
              "-45.639  -2.844   0.037   2.941  18.191 \n",
              "\n",
              "Coefficients: (1 not defined because of singularities)\n",
              "                                    Estimate Std. Error t value Pr(>|t|)    \n",
              "(Intercept)                        4.747e+05  1.002e+05   4.737 2.21e-06 ***\n",
              "poly(AT, degree = 4, raw = TRUE)1 -1.468e+00  3.283e-01  -4.470 7.93e-06 ***\n",
              "poly(AT, degree = 4, raw = TRUE)2 -8.208e-02  3.005e-02  -2.732  0.00632 ** \n",
              "poly(AT, degree = 4, raw = TRUE)3  3.001e-03  1.113e-03   2.696  0.00703 ** \n",
              "poly(AT, degree = 4, raw = TRUE)4 -2.459e-05  1.443e-05  -1.704  0.08837 .  \n",
              "poly(V, degree = 4, raw = TRUE)1  -1.327e+00  1.313e+00  -1.010  0.31242    \n",
              "poly(V, degree = 4, raw = TRUE)2   5.551e-02  3.745e-02   1.482  0.13827    \n",
              "poly(V, degree = 4, raw = TRUE)3  -9.753e-04  4.645e-04  -2.100  0.03579 *  \n",
              "poly(V, degree = 4, raw = TRUE)4   5.610e-06  2.116e-06   2.650  0.00806 ** \n",
              "poly(RH, degree = 4, raw = TRUE)1  2.024e+00  6.467e-01   3.130  0.00175 ** \n",
              "poly(RH, degree = 4, raw = TRUE)2 -4.699e-02  1.509e-02  -3.114  0.00185 ** \n",
              "poly(RH, degree = 4, raw = TRUE)3  4.543e-04  1.521e-04   2.987  0.00282 ** \n",
              "poly(RH, degree = 4, raw = TRUE)4 -1.634e-06  5.601e-07  -2.918  0.00354 ** \n",
              "poly(AP, degree = 4, raw = TRUE)1 -1.414e+03  2.964e+02  -4.771 1.87e-06 ***\n",
              "poly(AP, degree = 4, raw = TRUE)2  1.406e+00  2.922e-01   4.810 1.54e-06 ***\n",
              "poly(AP, degree = 4, raw = TRUE)3 -4.656e-04  9.604e-05  -4.849 1.27e-06 ***\n",
              "poly(AP, degree = 4, raw = TRUE)4         NA         NA      NA       NA    \n",
              "---\n",
              "Signif. codes:  0 ‘***’ 0.001 ‘**’ 0.01 ‘*’ 0.05 ‘.’ 0.1 ‘ ’ 1\n",
              "\n",
              "Residual standard error: 4.238 on 7638 degrees of freedom\n",
              "Multiple R-squared:  0.9387,\tAdjusted R-squared:  0.9386 \n",
              "F-statistic:  7796 on 15 and 7638 DF,  p-value: < 2.2e-16\n"
            ]
          },
          "metadata": {}
        }
      ]
    },
    {
      "cell_type": "code",
      "source": [
        "y_pred = predict(poly_reg, newdata = test_set)\n",
        "print(head(y_pred))"
      ],
      "metadata": {
        "execution": {
          "iopub.status.busy": "2022-03-11T22:19:44.324830Z",
          "iopub.execute_input": "2022-03-11T22:19:44.326578Z",
          "iopub.status.idle": "2022-03-11T22:19:44.356376Z"
        },
        "trusted": true,
        "colab": {
          "base_uri": "https://localhost:8080/"
        },
        "id": "p4_NOtheH9CP",
        "outputId": "08b41383-742c-423e-b639-b6e9b05ef887"
      },
      "execution_count": 11,
      "outputs": [
        {
          "output_type": "stream",
          "name": "stderr",
          "text": [
            "Warning message in predict.lm(poly_reg, newdata = test_set):\n",
            "“prediction from a rank-deficient fit may be misleading”\n"
          ]
        },
        {
          "output_type": "stream",
          "name": "stdout",
          "text": [
            "       4        5        8       11       16       20 \n",
            "449.0553 472.3497 479.6516 458.4846 456.0952 471.4408 \n"
          ]
        }
      ]
    },
    {
      "cell_type": "markdown",
      "source": [
        "**Eliminating fourth power of AP,**"
      ],
      "metadata": {
        "id": "89eayvgKH9CQ"
      }
    },
    {
      "cell_type": "code",
      "source": [
        "# Fitting Polynomial Regression to the dataset\n",
        "poly_reg = lm(PE ~ poly(AT, degree=4, raw=TRUE) + \n",
        "              poly(V, degree=4, raw=TRUE) + \n",
        "              poly(RH, degree=4, raw=TRUE) +\n",
        "              poly(AP, degree=3, raw=TRUE), data = train_set)\n",
        "summary(poly_reg)"
      ],
      "metadata": {
        "execution": {
          "iopub.status.busy": "2022-03-11T22:19:56.430014Z",
          "iopub.execute_input": "2022-03-11T22:19:56.431674Z",
          "iopub.status.idle": "2022-03-11T22:19:56.477815Z"
        },
        "trusted": true,
        "colab": {
          "base_uri": "https://localhost:8080/",
          "height": 607
        },
        "id": "ffwl3ZpPH9CQ",
        "outputId": "69673d64-4d7f-4856-f02c-7c8c7b51f54b"
      },
      "execution_count": 12,
      "outputs": [
        {
          "output_type": "display_data",
          "data": {
            "text/plain": [
              "\n",
              "Call:\n",
              "lm(formula = PE ~ poly(AT, degree = 4, raw = TRUE) + poly(V, \n",
              "    degree = 4, raw = TRUE) + poly(RH, degree = 4, raw = TRUE) + \n",
              "    poly(AP, degree = 3, raw = TRUE), data = train_set)\n",
              "\n",
              "Residuals:\n",
              "    Min      1Q  Median      3Q     Max \n",
              "-45.639  -2.844   0.037   2.941  18.191 \n",
              "\n",
              "Coefficients:\n",
              "                                    Estimate Std. Error t value Pr(>|t|)    \n",
              "(Intercept)                        4.747e+05  1.002e+05   4.737 2.21e-06 ***\n",
              "poly(AT, degree = 4, raw = TRUE)1 -1.468e+00  3.283e-01  -4.470 7.93e-06 ***\n",
              "poly(AT, degree = 4, raw = TRUE)2 -8.208e-02  3.005e-02  -2.732  0.00632 ** \n",
              "poly(AT, degree = 4, raw = TRUE)3  3.001e-03  1.113e-03   2.696  0.00703 ** \n",
              "poly(AT, degree = 4, raw = TRUE)4 -2.459e-05  1.443e-05  -1.704  0.08837 .  \n",
              "poly(V, degree = 4, raw = TRUE)1  -1.327e+00  1.313e+00  -1.010  0.31242    \n",
              "poly(V, degree = 4, raw = TRUE)2   5.551e-02  3.745e-02   1.482  0.13827    \n",
              "poly(V, degree = 4, raw = TRUE)3  -9.753e-04  4.645e-04  -2.100  0.03579 *  \n",
              "poly(V, degree = 4, raw = TRUE)4   5.610e-06  2.116e-06   2.650  0.00806 ** \n",
              "poly(RH, degree = 4, raw = TRUE)1  2.024e+00  6.467e-01   3.130  0.00175 ** \n",
              "poly(RH, degree = 4, raw = TRUE)2 -4.699e-02  1.509e-02  -3.114  0.00185 ** \n",
              "poly(RH, degree = 4, raw = TRUE)3  4.543e-04  1.521e-04   2.987  0.00282 ** \n",
              "poly(RH, degree = 4, raw = TRUE)4 -1.634e-06  5.601e-07  -2.918  0.00354 ** \n",
              "poly(AP, degree = 3, raw = TRUE)1 -1.414e+03  2.964e+02  -4.771 1.87e-06 ***\n",
              "poly(AP, degree = 3, raw = TRUE)2  1.406e+00  2.922e-01   4.810 1.54e-06 ***\n",
              "poly(AP, degree = 3, raw = TRUE)3 -4.656e-04  9.604e-05  -4.849 1.27e-06 ***\n",
              "---\n",
              "Signif. codes:  0 ‘***’ 0.001 ‘**’ 0.01 ‘*’ 0.05 ‘.’ 0.1 ‘ ’ 1\n",
              "\n",
              "Residual standard error: 4.238 on 7638 degrees of freedom\n",
              "Multiple R-squared:  0.9387,\tAdjusted R-squared:  0.9386 \n",
              "F-statistic:  7796 on 15 and 7638 DF,  p-value: < 2.2e-16\n"
            ]
          },
          "metadata": {}
        }
      ]
    },
    {
      "cell_type": "code",
      "source": [
        "y_pred = predict(poly_reg, newdata = test_set)\n",
        "print(head(y_pred))"
      ],
      "metadata": {
        "execution": {
          "iopub.status.busy": "2022-03-11T22:20:02.559793Z",
          "iopub.execute_input": "2022-03-11T22:20:02.561756Z",
          "iopub.status.idle": "2022-03-11T22:20:02.587214Z"
        },
        "trusted": true,
        "colab": {
          "base_uri": "https://localhost:8080/"
        },
        "id": "SywM-q45H9CR",
        "outputId": "a2809ea6-799a-46fa-950c-cae37ca9e778"
      },
      "execution_count": 13,
      "outputs": [
        {
          "output_type": "stream",
          "name": "stdout",
          "text": [
            "       4        5        8       11       16       20 \n",
            "449.0553 472.3497 479.6516 458.4846 456.0952 471.4408 \n"
          ]
        }
      ]
    },
    {
      "cell_type": "code",
      "source": [
        "# Fitting Polynomial Regression to the dataset\n",
        "poly_reg = lm(PE ~ poly(AT, degree=3, raw=TRUE) + \n",
        "              poly(V, degree=3, raw=TRUE) + \n",
        "              poly(RH, degree=3, raw=TRUE) +\n",
        "              poly(AP, degree=3, raw=TRUE), data = train_set)\n",
        "summary(poly_reg)"
      ],
      "metadata": {
        "execution": {
          "iopub.status.busy": "2022-03-11T22:20:05.632941Z",
          "iopub.execute_input": "2022-03-11T22:20:05.634582Z",
          "iopub.status.idle": "2022-03-11T22:20:05.670417Z"
        },
        "trusted": true,
        "colab": {
          "base_uri": "https://localhost:8080/",
          "height": 555
        },
        "id": "vKLhWhxhH9CR",
        "outputId": "c90b05b6-1583-4c6f-9f55-ca50c8610357"
      },
      "execution_count": 14,
      "outputs": [
        {
          "output_type": "display_data",
          "data": {
            "text/plain": [
              "\n",
              "Call:\n",
              "lm(formula = PE ~ poly(AT, degree = 3, raw = TRUE) + poly(V, \n",
              "    degree = 3, raw = TRUE) + poly(RH, degree = 3, raw = TRUE) + \n",
              "    poly(AP, degree = 3, raw = TRUE), data = train_set)\n",
              "\n",
              "Residuals:\n",
              "    Min      1Q  Median      3Q     Max \n",
              "-45.857  -2.810   0.041   2.947  18.378 \n",
              "\n",
              "Coefficients:\n",
              "                                    Estimate Std. Error t value Pr(>|t|)    \n",
              "(Intercept)                        4.700e+05  1.003e+05   4.688 2.81e-06 ***\n",
              "poly(AT, degree = 3, raw = TRUE)1 -2.003e+00  1.218e-01 -16.450  < 2e-16 ***\n",
              "poly(AT, degree = 3, raw = TRUE)2 -3.059e-02  7.077e-03  -4.323 1.56e-05 ***\n",
              "poly(AT, degree = 3, raw = TRUE)3  1.082e-03  1.233e-04   8.771  < 2e-16 ***\n",
              "poly(V, degree = 3, raw = TRUE)1   2.046e+00  3.017e-01   6.783 1.26e-11 ***\n",
              "poly(V, degree = 3, raw = TRUE)2  -4.251e-02  5.458e-03  -7.789 7.67e-15 ***\n",
              "poly(V, degree = 3, raw = TRUE)3   2.523e-04  3.234e-05   7.803 6.86e-15 ***\n",
              "poly(RH, degree = 3, raw = TRUE)1  2.454e-01  1.486e-01   1.652   0.0987 .  \n",
              "poly(RH, degree = 3, raw = TRUE)2 -4.241e-03  2.216e-03  -1.914   0.0556 .  \n",
              "poly(RH, degree = 3, raw = TRUE)3  1.538e-05  1.072e-05   1.436   0.1511    \n",
              "poly(AP, degree = 3, raw = TRUE)1 -1.401e+03  2.966e+02  -4.723 2.36e-06 ***\n",
              "poly(AP, degree = 3, raw = TRUE)2  1.393e+00  2.924e-01   4.763 1.94e-06 ***\n",
              "poly(AP, degree = 3, raw = TRUE)3 -4.614e-04  9.608e-05  -4.803 1.60e-06 ***\n",
              "---\n",
              "Signif. codes:  0 ‘***’ 0.001 ‘**’ 0.01 ‘*’ 0.05 ‘.’ 0.1 ‘ ’ 1\n",
              "\n",
              "Residual standard error: 4.242 on 7641 degrees of freedom\n",
              "Multiple R-squared:  0.9386,\tAdjusted R-squared:  0.9385 \n",
              "F-statistic:  9725 on 12 and 7641 DF,  p-value: < 2.2e-16\n"
            ]
          },
          "metadata": {}
        }
      ]
    },
    {
      "cell_type": "markdown",
      "source": [
        "Adjusted R-squared is slightly decreased by removing 4th power. \n",
        "\n",
        "Polynomials can be defined manually using the I function. For example a polynomial of degree 3 for AT will be\n",
        "\n",
        "lm(PE ~ AT1 + I(AT^2) + I(AT1^3))"
      ],
      "metadata": {
        "id": "epDaT_RPH9CS"
      }
    },
    {
      "cell_type": "code",
      "source": [
        "y_pred = predict(poly_reg, newdata = test_set)\n",
        "print(head(y_pred))"
      ],
      "metadata": {
        "execution": {
          "iopub.status.busy": "2022-03-11T22:20:12.316529Z",
          "iopub.execute_input": "2022-03-11T22:20:12.318248Z",
          "iopub.status.idle": "2022-03-11T22:20:12.386792Z"
        },
        "trusted": true,
        "colab": {
          "base_uri": "https://localhost:8080/"
        },
        "id": "O-9W3TxPH9CS",
        "outputId": "5d0d819a-2abb-4e3e-9c62-7d5a6d29be94"
      },
      "execution_count": 15,
      "outputs": [
        {
          "output_type": "stream",
          "name": "stdout",
          "text": [
            "       4        5        8       11       16       20 \n",
            "449.0023 472.4759 479.5906 458.6739 456.0222 471.4390 \n"
          ]
        }
      ]
    },
    {
      "cell_type": "markdown",
      "source": [
        "## **Support Vector Regression (SVR)**"
      ],
      "metadata": {
        "id": "78BGW8GXH9CS"
      }
    },
    {
      "cell_type": "code",
      "source": [
        "install.packages('e1071')\n",
        "library (e1071)\n",
        "regressor = svm(formula = PE ~., data = train_set, type = \"eps-regression\")\n",
        "y_pred = predict(regressor, newdata = test_set)\n",
        "print(head(y_pred))"
      ],
      "metadata": {
        "execution": {
          "iopub.status.busy": "2022-03-11T22:20:14.860611Z",
          "iopub.execute_input": "2022-03-11T22:20:14.862514Z",
          "iopub.status.idle": "2022-03-11T22:20:18.527901Z"
        },
        "trusted": true,
        "colab": {
          "base_uri": "https://localhost:8080/"
        },
        "id": "sJ_mK0BmH9CT",
        "outputId": "ad3c40cc-f218-4bc4-952d-e6c418423449"
      },
      "execution_count": 16,
      "outputs": [
        {
          "output_type": "stream",
          "name": "stderr",
          "text": [
            "Installing package into ‘/usr/local/lib/R/site-library’\n",
            "(as ‘lib’ is unspecified)\n",
            "\n"
          ]
        },
        {
          "output_type": "stream",
          "name": "stdout",
          "text": [
            "       4        5        8       11       16       20 \n",
            "448.5819 475.6905 480.0130 457.7658 458.1210 470.2541 \n"
          ]
        }
      ]
    },
    {
      "cell_type": "code",
      "source": [
        "summary(regressor)"
      ],
      "metadata": {
        "execution": {
          "iopub.status.busy": "2022-03-11T22:20:23.536942Z",
          "iopub.execute_input": "2022-03-11T22:20:23.538607Z",
          "iopub.status.idle": "2022-03-11T22:20:23.561362Z"
        },
        "trusted": true,
        "colab": {
          "base_uri": "https://localhost:8080/",
          "height": 330
        },
        "id": "xFTp1NCBH9CT",
        "outputId": "ecb6cb3c-eb48-4446-cd8a-bb34501fc5be"
      },
      "execution_count": 17,
      "outputs": [
        {
          "output_type": "display_data",
          "data": {
            "text/plain": [
              "\n",
              "Call:\n",
              "svm(formula = PE ~ ., data = train_set, type = \"eps-regression\")\n",
              "\n",
              "\n",
              "Parameters:\n",
              "   SVM-Type:  eps-regression \n",
              " SVM-Kernel:  radial \n",
              "       cost:  1 \n",
              "      gamma:  0.25 \n",
              "    epsilon:  0.1 \n",
              "\n",
              "\n",
              "Number of Support Vectors:  4934\n",
              "\n",
              "\n",
              "\n",
              "\n"
            ]
          },
          "metadata": {}
        }
      ]
    },
    {
      "cell_type": "code",
      "source": [
        "summary(regressor)$r.squared"
      ],
      "metadata": {
        "execution": {
          "iopub.status.busy": "2022-03-11T22:20:29.436026Z",
          "iopub.execute_input": "2022-03-11T22:20:29.437701Z",
          "iopub.status.idle": "2022-03-11T22:20:29.456566Z"
        },
        "trusted": true,
        "colab": {
          "base_uri": "https://localhost:8080/",
          "height": 34
        },
        "id": "uf1-OrFRH9CT",
        "outputId": "d0b170e7-3752-46b7-8673-06a09c61fca6"
      },
      "execution_count": 18,
      "outputs": [
        {
          "output_type": "display_data",
          "data": {
            "text/plain": [
              "NULL"
            ]
          },
          "metadata": {}
        }
      ]
    },
    {
      "cell_type": "markdown",
      "source": [
        "**Metrics**"
      ],
      "metadata": {
        "id": "YZsuNDYQH9CT"
      }
    },
    {
      "cell_type": "code",
      "source": [
        "d = test_set$PE-y_pred\n",
        "mse = mean((d)^2)\n",
        "mae = mean(abs(d))\n",
        "rmse = sqrt(mse)\n",
        "R2 = 1-(sum((d)^2)/sum((test_set$PE-mean(test_set$PE))^2))\n",
        "\n",
        "cat(\" MAE:\", mae, \"\\n\", \"MSE:\", mse, \"\\n\", \n",
        "    \"RMSE:\", rmse, \"\\n\", \"R-squared:\", R2)"
      ],
      "metadata": {
        "execution": {
          "iopub.status.busy": "2022-03-11T22:20:33.423004Z",
          "iopub.execute_input": "2022-03-11T22:20:33.424968Z",
          "iopub.status.idle": "2022-03-11T22:20:33.455535Z"
        },
        "trusted": true,
        "colab": {
          "base_uri": "https://localhost:8080/"
        },
        "id": "uoPipJMDH9CU",
        "outputId": "9cb0d8cb-f71f-41f6-ebd8-3024546eb45a"
      },
      "execution_count": 19,
      "outputs": [
        {
          "output_type": "stream",
          "name": "stdout",
          "text": [
            " MAE: 3.026874 \n",
            " MSE: 15.82778 \n",
            " RMSE: 3.978414 \n",
            " R-squared: 0.9447932"
          ]
        }
      ]
    },
    {
      "cell_type": "code",
      "source": [
        "library(lattice)\n",
        "library(ggplot2)\n",
        "install.packages('hydroGOF')\n",
        "library(hydroGOF)\n",
        "mae = mae(y_pred, test_set$PE)\n",
        "mse = mse(y_pred, test_set$PE)\n",
        "install.packages('caret')\n",
        "library(caret)\n",
        "rmse = RMSE(y_pred, test_set$PE)\n",
        "R2 = R2(y_pred, test_set$PE, form = \"traditional\")\n",
        "cat(\" MAE:\", mae, \"\\n\", \"MSE:\", mse, \"\\n\", \n",
        "    \"RMSE:\", rmse, \"\\n\", \"R-squared:\", R2)"
      ],
      "metadata": {
        "execution": {
          "iopub.status.busy": "2022-03-11T22:20:48.944241Z",
          "iopub.execute_input": "2022-03-11T22:20:48.946385Z",
          "iopub.status.idle": "2022-03-11T22:20:48.976118Z"
        },
        "trusted": true,
        "colab": {
          "base_uri": "https://localhost:8080/"
        },
        "id": "lt8-5n6RH9CU",
        "outputId": "0f49fb46-73a8-4b9f-eedb-3b9f3114d1b6"
      },
      "execution_count": 20,
      "outputs": [
        {
          "output_type": "stream",
          "name": "stderr",
          "text": [
            "Installing package into ‘/usr/local/lib/R/site-library’\n",
            "(as ‘lib’ is unspecified)\n",
            "\n",
            "Loading required package: zoo\n",
            "\n",
            "\n",
            "Attaching package: ‘zoo’\n",
            "\n",
            "\n",
            "The following objects are masked from ‘package:base’:\n",
            "\n",
            "    as.Date, as.Date.numeric\n",
            "\n",
            "\n",
            "Installing package into ‘/usr/local/lib/R/site-library’\n",
            "(as ‘lib’ is unspecified)\n",
            "\n",
            "Warning message in system(\"timedatectl\", intern = TRUE):\n",
            "“running command 'timedatectl' had status 1”\n"
          ]
        },
        {
          "output_type": "stream",
          "name": "stdout",
          "text": [
            " MAE: 3.026874 \n",
            " MSE: 15.82778 \n",
            " RMSE: 3.978414 \n",
            " R-squared: 0.9447932"
          ]
        }
      ]
    },
    {
      "cell_type": "code",
      "source": [
        "## RMSE Calculation for linear model\n",
        "\n",
        "#Install Package\n",
        "#install.packages(\"hydroGOF\")\n",
        "\n",
        "#Load Library\n",
        "library(hydroGOF)\n",
        "\n",
        "#Calculate RMSE \n",
        "RMSE=rmse(y_pred,test_set$PE)\n",
        "RMSE"
      ],
      "metadata": {
        "execution": {
          "iopub.status.busy": "2022-03-11T22:20:55.199275Z",
          "iopub.execute_input": "2022-03-11T22:20:55.201051Z",
          "iopub.status.idle": "2022-03-11T22:20:55.223683Z"
        },
        "trusted": true,
        "colab": {
          "base_uri": "https://localhost:8080/",
          "height": 34
        },
        "id": "3ZUfYvlqH9CU",
        "outputId": "ab3a695b-5c96-4701-c2ac-56a5e498cf7f"
      },
      "execution_count": 21,
      "outputs": [
        {
          "output_type": "display_data",
          "data": {
            "text/html": [
              "3.97841370204957"
            ],
            "text/markdown": "3.97841370204957",
            "text/latex": "3.97841370204957",
            "text/plain": [
              "[1] 3.978414"
            ]
          },
          "metadata": {}
        }
      ]
    },
    {
      "cell_type": "code",
      "source": [
        "library(hydroGOF)\n",
        "mae(y_pred, test_set$PE)"
      ],
      "metadata": {
        "execution": {
          "iopub.status.busy": "2022-03-11T22:20:58.508879Z",
          "iopub.execute_input": "2022-03-11T22:20:58.510511Z",
          "iopub.status.idle": "2022-03-11T22:20:58.529161Z"
        },
        "trusted": true,
        "colab": {
          "base_uri": "https://localhost:8080/",
          "height": 34
        },
        "id": "jJl7jeTLH9CV",
        "outputId": "e44defc4-84e7-4919-e41e-6aa27fe6ed72"
      },
      "execution_count": 22,
      "outputs": [
        {
          "output_type": "display_data",
          "data": {
            "text/html": [
              "3.02687434677054"
            ],
            "text/markdown": "3.02687434677054",
            "text/latex": "3.02687434677054",
            "text/plain": [
              "[1] 3.026874"
            ]
          },
          "metadata": {}
        }
      ]
    },
    {
      "cell_type": "code",
      "source": [
        "mse(y_pred, test_set$PE)"
      ],
      "metadata": {
        "execution": {
          "iopub.status.busy": "2022-03-11T22:21:01.075692Z",
          "iopub.execute_input": "2022-03-11T22:21:01.077308Z",
          "iopub.status.idle": "2022-03-11T22:21:01.092759Z"
        },
        "trusted": true,
        "colab": {
          "base_uri": "https://localhost:8080/",
          "height": 34
        },
        "id": "HHLTcbHeH9CV",
        "outputId": "02897337-bd02-483c-a397-2e17814146f1"
      },
      "execution_count": 23,
      "outputs": [
        {
          "output_type": "display_data",
          "data": {
            "text/html": [
              "15.8277755846557"
            ],
            "text/markdown": "15.8277755846557",
            "text/latex": "15.8277755846557",
            "text/plain": [
              "[1] 15.82778"
            ]
          },
          "metadata": {}
        }
      ]
    },
    {
      "cell_type": "markdown",
      "source": [
        "### **Correlation, Variance and Covariance**"
      ],
      "metadata": {
        "id": "PV0Wn4EeH9CW"
      }
    },
    {
      "cell_type": "code",
      "source": [
        "cor(y_pred, test_set$PE)"
      ],
      "metadata": {
        "execution": {
          "iopub.status.busy": "2022-03-11T22:21:17.985030Z",
          "iopub.execute_input": "2022-03-11T22:21:17.986688Z",
          "iopub.status.idle": "2022-03-11T22:21:18.004054Z"
        },
        "trusted": true,
        "colab": {
          "base_uri": "https://localhost:8080/",
          "height": 34
        },
        "id": "MH5amf9mH9CW",
        "outputId": "d44511a4-f8de-49e8-f3cc-37b2ef35e685"
      },
      "execution_count": 24,
      "outputs": [
        {
          "output_type": "display_data",
          "data": {
            "text/html": [
              "0.972241887044885"
            ],
            "text/markdown": "0.972241887044885",
            "text/latex": "0.972241887044885",
            "text/plain": [
              "[1] 0.9722419"
            ]
          },
          "metadata": {}
        }
      ]
    },
    {
      "cell_type": "code",
      "source": [
        "cov(y_pred, test_set$PE)"
      ],
      "metadata": {
        "execution": {
          "iopub.status.busy": "2022-03-11T22:21:20.619790Z",
          "iopub.execute_input": "2022-03-11T22:21:20.621551Z",
          "iopub.status.idle": "2022-03-11T22:21:20.640482Z"
        },
        "trusted": true,
        "colab": {
          "base_uri": "https://localhost:8080/",
          "height": 34
        },
        "id": "kt6ec208H9CW",
        "outputId": "4ca4c318-dffe-416a-d7e8-dcb0a6c40285"
      },
      "execution_count": 25,
      "outputs": [
        {
          "output_type": "display_data",
          "data": {
            "text/html": [
              "276.806671777917"
            ],
            "text/markdown": "276.806671777917",
            "text/latex": "276.806671777917",
            "text/plain": [
              "[1] 276.8067"
            ]
          },
          "metadata": {}
        }
      ]
    },
    {
      "cell_type": "code",
      "source": [
        "var(y_pred, test_set$PE)"
      ],
      "metadata": {
        "execution": {
          "iopub.status.busy": "2022-03-11T22:21:26.880018Z",
          "iopub.execute_input": "2022-03-11T22:21:26.881789Z",
          "iopub.status.idle": "2022-03-11T22:21:26.899195Z"
        },
        "trusted": true,
        "colab": {
          "base_uri": "https://localhost:8080/",
          "height": 34
        },
        "id": "ns1O6oYNH9CX",
        "outputId": "e7e26f84-67aa-4b38-e8f9-9650532be2ba"
      },
      "execution_count": 26,
      "outputs": [
        {
          "output_type": "display_data",
          "data": {
            "text/html": [
              "276.806671777917"
            ],
            "text/markdown": "276.806671777917",
            "text/latex": "276.806671777917",
            "text/plain": [
              "[1] 276.8067"
            ]
          },
          "metadata": {}
        }
      ]
    },
    {
      "cell_type": "code",
      "source": [
        "#br2 is Coefficient of determination (r2) multiplied by the slope of the regression line\n",
        "library(hydroGOF)\n",
        "br2(y_pred, test_set$PE)"
      ],
      "metadata": {
        "execution": {
          "iopub.status.busy": "2022-03-11T22:21:29.698776Z",
          "iopub.execute_input": "2022-03-11T22:21:29.701023Z",
          "iopub.status.idle": "2022-03-11T22:21:29.725618Z"
        },
        "trusted": true,
        "colab": {
          "base_uri": "https://localhost:8080/",
          "height": 34
        },
        "id": "ZGjLBVDPH9CX",
        "outputId": "45425517-4a79-4434-fd3b-6a2fae64fe1c"
      },
      "execution_count": 27,
      "outputs": [
        {
          "output_type": "display_data",
          "data": {
            "text/html": [
              "0.945053765162204"
            ],
            "text/markdown": "0.945053765162204",
            "text/latex": "0.945053765162204",
            "text/plain": [
              "[1] 0.9450538"
            ]
          },
          "metadata": {}
        }
      ]
    },
    {
      "cell_type": "markdown",
      "source": [
        "## **Decision Tree Regression**"
      ],
      "metadata": {
        "id": "Y7PkY8tUH9CX"
      }
    },
    {
      "cell_type": "markdown",
      "source": [
        "### **Fitting Decision Tree Regression to the dataset**"
      ],
      "metadata": {
        "id": "TrhZe2NeH9CY"
      }
    },
    {
      "cell_type": "code",
      "source": [
        "install.packages('rpart')\n",
        "library(rpart)\n",
        "regressor = rpart(formula = PE ~., data = train_set)\n",
        "summary(regressor)"
      ],
      "metadata": {
        "execution": {
          "iopub.status.busy": "2022-03-11T22:21:38.178521Z",
          "iopub.execute_input": "2022-03-11T22:21:38.180412Z",
          "iopub.status.idle": "2022-03-11T22:21:38.338290Z"
        },
        "trusted": true,
        "colab": {
          "base_uri": "https://localhost:8080/"
        },
        "id": "YiGrW27dH9CY",
        "outputId": "b4738232-e5a8-4948-a181-b117cc994bf6"
      },
      "execution_count": 28,
      "outputs": [
        {
          "output_type": "stream",
          "name": "stderr",
          "text": [
            "Installing package into ‘/usr/local/lib/R/site-library’\n",
            "(as ‘lib’ is unspecified)\n",
            "\n"
          ]
        },
        {
          "output_type": "stream",
          "name": "stdout",
          "text": [
            "Call:\n",
            "rpart(formula = PE ~ ., data = train_set)\n",
            "  n= 7654 \n",
            "\n",
            "          CP nsplit rel error    xerror        xstd\n",
            "1 0.72316552      0 1.0000000 1.0004827 0.011075379\n",
            "2 0.07103671      1 0.2768345 0.2801957 0.004271594\n",
            "3 0.06809552      2 0.2057978 0.2142886 0.003626186\n",
            "4 0.02213194      3 0.1377023 0.1418859 0.002641777\n",
            "5 0.01000000      4 0.1155703 0.1201071 0.002427519\n",
            "\n",
            "Variable importance\n",
            "AT  V AP RH \n",
            "44 32 14  9 \n",
            "\n",
            "Node number 1: 7654 observations,    complexity param=0.7231655\n",
            "  mean=454.387, MSE=292.3878 \n",
            "  left son=2 (4506 obs) right son=3 (3148 obs)\n",
            "  Primary splits:\n",
            "      AT < 17.775   to the right, improve=0.7231655, (0 missing)\n",
            "      V  < 46.195   to the right, improve=0.6934418, (0 missing)\n",
            "      AP < 1014.815 to the left,  improve=0.2216744, (0 missing)\n",
            "      RH < 68.685   to the left,  improve=0.1158372, (0 missing)\n",
            "  Surrogate splits:\n",
            "      V  < 46.195   to the right, agree=0.913, adj=0.789, (0 split)\n",
            "      AP < 1014.965 to the left,  agree=0.731, adj=0.345, (0 split)\n",
            "      RH < 79.445   to the left,  agree=0.683, adj=0.229, (0 split)\n",
            "\n",
            "Node number 2: 4506 observations,    complexity param=0.07103671\n",
            "  mean=442.233, MSE=76.41846 \n",
            "  left son=4 (3080 obs) right son=5 (1426 obs)\n",
            "  Primary splits:\n",
            "      AT < 22.765   to the right, improve=0.46167990, (0 missing)\n",
            "      V  < 65.995   to the right, improve=0.43503350, (0 missing)\n",
            "      AP < 1011.715 to the left,  improve=0.17045260, (0 missing)\n",
            "      RH < 61.715   to the left,  improve=0.01437127, (0 missing)\n",
            "  Surrogate splits:\n",
            "      V  < 58.805   to the right, agree=0.758, adj=0.236, (0 split)\n",
            "      RH < 81.4     to the left,  agree=0.718, adj=0.108, (0 split)\n",
            "      AP < 1018.735 to the left,  agree=0.712, adj=0.090, (0 split)\n",
            "\n",
            "Node number 3: 3148 observations,    complexity param=0.06809552\n",
            "  mean=471.7841, MSE=87.4194 \n",
            "  left son=6 (1701 obs) right son=7 (1447 obs)\n",
            "  Primary splits:\n",
            "      AT < 11.865   to the right, improve=0.55376260, (0 missing)\n",
            "      V  < 43.705   to the right, improve=0.19854320, (0 missing)\n",
            "      AP < 1018.97  to the left,  improve=0.01877344, (0 missing)\n",
            "      RH < 99.86    to the right, improve=0.00854516, (0 missing)\n",
            "  Surrogate splits:\n",
            "      V  < 41.565   to the right, agree=0.671, adj=0.283, (0 split)\n",
            "      AP < 1018.155 to the left,  agree=0.605, adj=0.142, (0 split)\n",
            "      RH < 84.505   to the left,  agree=0.598, adj=0.126, (0 split)\n",
            "\n",
            "Node number 4: 3080 observations,    complexity param=0.02213194\n",
            "  mean=438.1914, MSE=39.85537 \n",
            "  left son=8 (1780 obs) right son=9 (1300 obs)\n",
            "  Primary splits:\n",
            "      V  < 66.345   to the right, improve=0.40348710, (0 missing)\n",
            "      AT < 26.405   to the right, improve=0.26806610, (0 missing)\n",
            "      AP < 1010.985 to the left,  improve=0.14564990, (0 missing)\n",
            "      RH < 84.675   to the right, improve=0.01104921, (0 missing)\n",
            "  Surrogate splits:\n",
            "      AP < 1011.495 to the left,  agree=0.691, adj=0.268, (0 split)\n",
            "      AT < 26.425   to the right, agree=0.679, adj=0.239, (0 split)\n",
            "\n",
            "Node number 5: 1426 observations\n",
            "  mean=450.9624, MSE=43.90705 \n",
            "\n",
            "Node number 6: 1701 observations\n",
            "  mean=465.3669, MSE=36.15001 \n",
            "\n",
            "Node number 7: 1447 observations\n",
            "  mean=479.3278, MSE=42.3716 \n",
            "\n",
            "Node number 8: 1780 observations\n",
            "  mean=434.7643, MSE=22.11504 \n",
            "\n",
            "Node number 9: 1300 observations\n",
            "  mean=442.8838, MSE=26.04606 \n",
            "\n"
          ]
        }
      ]
    },
    {
      "cell_type": "code",
      "source": [
        "y_pred = predict(regressor, newdata = test_set)\n",
        "print(head(y_pred))"
      ],
      "metadata": {
        "execution": {
          "iopub.status.busy": "2022-03-11T22:21:45.479708Z",
          "iopub.execute_input": "2022-03-11T22:21:45.481289Z",
          "iopub.status.idle": "2022-03-11T22:21:45.502565Z"
        },
        "trusted": true,
        "colab": {
          "base_uri": "https://localhost:8080/"
        },
        "id": "X8utdpQMH9CY",
        "outputId": "81f79ee1-9c9c-4c79-8e97-cee1786ee80f"
      },
      "execution_count": 29,
      "outputs": [
        {
          "output_type": "stream",
          "name": "stdout",
          "text": [
            "       4        5        8       11       16       20 \n",
            "450.9624 479.3278 479.3278 450.9624 450.9624 465.3669 \n"
          ]
        }
      ]
    },
    {
      "cell_type": "markdown",
      "source": [
        "**Metrics**"
      ],
      "metadata": {
        "id": "GyJUPwlkH9CY"
      }
    },
    {
      "cell_type": "code",
      "source": [
        "d = test_set$PE-y_pred\n",
        "mse = mean((d)^2)\n",
        "mae = mean(abs(d))\n",
        "rmse = sqrt(mse)\n",
        "R2 = 1-(sum((d)^2)/sum((test_set$PE-mean(test_set$PE))^2))\n",
        "\n",
        "cat(\" MAE:\", mae, \"\\n\", \"MSE:\", mse, \"\\n\", \n",
        "    \"RMSE:\", rmse, \"\\n\", \"R-squared:\", R2)"
      ],
      "metadata": {
        "execution": {
          "iopub.status.busy": "2022-03-11T22:21:48.756735Z",
          "iopub.execute_input": "2022-03-11T22:21:48.758372Z",
          "iopub.status.idle": "2022-03-11T22:21:48.781668Z"
        },
        "trusted": true,
        "colab": {
          "base_uri": "https://localhost:8080/"
        },
        "id": "0EvIn2H8H9CY",
        "outputId": "0076b864-130b-4b8a-8350-d6524b8aa019"
      },
      "execution_count": 30,
      "outputs": [
        {
          "output_type": "stream",
          "name": "stdout",
          "text": [
            " MAE: 4.491559 \n",
            " MSE: 33.32614 \n",
            " RMSE: 5.77288 \n",
            " R-squared: 0.8837594"
          ]
        }
      ]
    },
    {
      "cell_type": "markdown",
      "source": [
        "## **Random Forest Regression**"
      ],
      "metadata": {
        "id": "iSo6TfLVH9CZ"
      }
    },
    {
      "cell_type": "markdown",
      "source": [
        "### **Fitting Random Forest Regression to the dataset**"
      ],
      "metadata": {
        "id": "PQd15Mm4H9CZ"
      }
    },
    {
      "cell_type": "code",
      "source": [
        "install.packages(\"randomForest\")\n",
        "library(randomForest)\n",
        "set.seed(1234) # to get the same set of results\n",
        "#regressor = randomForest(x = ds[1], y = ds$PE,ntree = 10) # to make it a vector\n",
        "regressor = randomForest(formula = PE ~ ., data = train_set, ntree = 500, metric = 'rmse')\n",
        "summary(regressor)"
      ],
      "metadata": {
        "execution": {
          "iopub.status.busy": "2022-03-11T22:22:20.536533Z",
          "iopub.execute_input": "2022-03-11T22:22:20.538100Z",
          "iopub.status.idle": "2022-03-11T22:22:40.580304Z"
        },
        "trusted": true,
        "colab": {
          "base_uri": "https://localhost:8080/",
          "height": 625
        },
        "id": "DB-rAdxmH9CZ",
        "outputId": "3455cf91-e087-42e8-c875-ea242c756cac"
      },
      "execution_count": 31,
      "outputs": [
        {
          "output_type": "stream",
          "name": "stderr",
          "text": [
            "Installing package into ‘/usr/local/lib/R/site-library’\n",
            "(as ‘lib’ is unspecified)\n",
            "\n",
            "randomForest 4.7-1\n",
            "\n",
            "Type rfNews() to see new features/changes/bug fixes.\n",
            "\n",
            "\n",
            "Attaching package: ‘randomForest’\n",
            "\n",
            "\n",
            "The following object is masked from ‘package:ggplot2’:\n",
            "\n",
            "    margin\n",
            "\n",
            "\n"
          ]
        },
        {
          "output_type": "display_data",
          "data": {
            "text/plain": [
              "                Length Class  Mode     \n",
              "call               5   -none- call     \n",
              "type               1   -none- character\n",
              "predicted       7654   -none- numeric  \n",
              "mse              500   -none- numeric  \n",
              "rsq              500   -none- numeric  \n",
              "oob.times       7654   -none- numeric  \n",
              "importance         4   -none- numeric  \n",
              "importanceSD       0   -none- NULL     \n",
              "localImportance    0   -none- NULL     \n",
              "proximity          0   -none- NULL     \n",
              "ntree              1   -none- numeric  \n",
              "mtry               1   -none- numeric  \n",
              "forest            11   -none- list     \n",
              "coefs              0   -none- NULL     \n",
              "y               7654   -none- numeric  \n",
              "test               0   -none- NULL     \n",
              "inbag              0   -none- NULL     \n",
              "terms              3   terms  call     "
            ]
          },
          "metadata": {}
        }
      ]
    },
    {
      "cell_type": "code",
      "source": [
        "print(regressor)"
      ],
      "metadata": {
        "execution": {
          "iopub.status.busy": "2022-03-11T22:22:49.079823Z",
          "iopub.execute_input": "2022-03-11T22:22:49.081676Z",
          "iopub.status.idle": "2022-03-11T22:22:49.099359Z"
        },
        "trusted": true,
        "colab": {
          "base_uri": "https://localhost:8080/"
        },
        "id": "WrtKL2J6H9Ca",
        "outputId": "876626c3-a9ed-496c-c8e2-4133318be271"
      },
      "execution_count": 32,
      "outputs": [
        {
          "output_type": "stream",
          "name": "stdout",
          "text": [
            "\n",
            "Call:\n",
            " randomForest(formula = PE ~ ., data = train_set, ntree = 500,      metric = \"rmse\") \n",
            "               Type of random forest: regression\n",
            "                     Number of trees: 500\n",
            "No. of variables tried at each split: 1\n",
            "\n",
            "          Mean of squared residuals: 11.192\n",
            "                    % Var explained: 96.17\n"
          ]
        }
      ]
    },
    {
      "cell_type": "code",
      "source": [
        "y_pred = predict(regressor, newdata = test_set)\n",
        "print(head(y_pred))"
      ],
      "metadata": {
        "execution": {
          "iopub.status.busy": "2022-03-11T22:22:51.887674Z",
          "iopub.execute_input": "2022-03-11T22:22:51.889322Z",
          "iopub.status.idle": "2022-03-11T22:22:52.099378Z"
        },
        "trusted": true,
        "colab": {
          "base_uri": "https://localhost:8080/"
        },
        "id": "mhfxWoxXH9Ca",
        "outputId": "53aecf8a-ba80-4952-e451-6725d3d061e9"
      },
      "execution_count": 33,
      "outputs": [
        {
          "output_type": "stream",
          "name": "stdout",
          "text": [
            "       4        5        8       11       16       20 \n",
            "447.7088 472.8718 478.4940 454.4067 460.3786 467.6263 \n"
          ]
        }
      ]
    },
    {
      "cell_type": "code",
      "source": [
        "#find number of trees that produce lowest test MSE\n",
        "which.min(regressor$mse)"
      ],
      "metadata": {
        "execution": {
          "iopub.status.busy": "2022-03-11T22:22:58.148652Z",
          "iopub.execute_input": "2022-03-11T22:22:58.150539Z",
          "iopub.status.idle": "2022-03-11T22:22:58.170623Z"
        },
        "trusted": true,
        "colab": {
          "base_uri": "https://localhost:8080/",
          "height": 34
        },
        "id": "-xZB6bW_H9Ca",
        "outputId": "09dffef6-ad9e-422e-929e-0c71eaad8947"
      },
      "execution_count": 34,
      "outputs": [
        {
          "output_type": "display_data",
          "data": {
            "text/html": [
              "392"
            ],
            "text/markdown": "392",
            "text/latex": "392",
            "text/plain": [
              "[1] 392"
            ]
          },
          "metadata": {}
        }
      ]
    },
    {
      "cell_type": "code",
      "source": [
        "#find RMSE of best model\n",
        "sqrt(regressor$mse[which.min(regressor$mse)]) "
      ],
      "metadata": {
        "execution": {
          "iopub.status.busy": "2022-03-11T22:23:01.075767Z",
          "iopub.execute_input": "2022-03-11T22:23:01.077567Z",
          "iopub.status.idle": "2022-03-11T22:23:01.096416Z"
        },
        "trusted": true,
        "colab": {
          "base_uri": "https://localhost:8080/",
          "height": 34
        },
        "id": "Vv3npqdxH9Ca",
        "outputId": "f523b981-e5e8-4af8-ab43-5ff3f9615eeb"
      },
      "execution_count": 35,
      "outputs": [
        {
          "output_type": "display_data",
          "data": {
            "text/html": [
              "3.34464544435767"
            ],
            "text/markdown": "3.34464544435767",
            "text/latex": "3.34464544435767",
            "text/plain": [
              "[1] 3.344645"
            ]
          },
          "metadata": {}
        }
      ]
    },
    {
      "cell_type": "code",
      "source": [
        "#plot the test MSE by number of trees\n",
        "plot(regressor)"
      ],
      "metadata": {
        "execution": {
          "iopub.status.busy": "2022-03-11T22:23:03.913665Z",
          "iopub.execute_input": "2022-03-11T22:23:03.915432Z",
          "iopub.status.idle": "2022-03-11T22:23:04.179034Z"
        },
        "trusted": true,
        "colab": {
          "base_uri": "https://localhost:8080/",
          "height": 437
        },
        "id": "sAJ11vdFH9Cb",
        "outputId": "02b3fc49-47d2-455c-b2d1-84d95abbbef1"
      },
      "execution_count": 36,
      "outputs": [
        {
          "output_type": "display_data",
          "data": {
            "text/plain": [
              "Plot with title “regressor”"
            ],
            "image/png": "[encoded data removed]"
          },
          "metadata": {
            "image/png": {
              "width": 420,
              "height": 420
            }
          }
        }
      ]
    },
    {
      "cell_type": "code",
      "source": [
        "#produce variable importance plot\n",
        "varImpPlot(regressor) "
      ],
      "metadata": {
        "execution": {
          "iopub.status.busy": "2022-03-11T22:23:11.212538Z",
          "iopub.execute_input": "2022-03-11T22:23:11.214361Z",
          "iopub.status.idle": "2022-03-11T22:23:11.304060Z"
        },
        "trusted": true,
        "colab": {
          "base_uri": "https://localhost:8080/",
          "height": 437
        },
        "id": "qFWnHEMAH9Cb",
        "outputId": "92610e88-0804-4491-aa29-3cbd3f262e99"
      },
      "execution_count": 37,
      "outputs": [
        {
          "output_type": "display_data",
          "data": {
            "text/plain": [
              "Plot with title “regressor”"
            ],
            "image/png": "[encoded data removed]"
          },
          "metadata": {
            "image/png": {
              "width": 420,
              "height": 420
            }
          }
        }
      ]
    },
    {
      "cell_type": "markdown",
      "source": [
        "The x-axis displays the average increase in node purity of the regression trees based on splitting on the various predictors displayed on the y-axis.\n",
        "\n",
        "From the plot we can see that Temperature (AT) is the most important predictor variable, followed closely by exhaust vaccum (V)"
      ],
      "metadata": {
        "id": "AULLfTGBH9Cb"
      }
    },
    {
      "cell_type": "code",
      "source": [
        "model_tuned <- tuneRF(\n",
        "               x=ds[,1:4], #define predictor variables\n",
        "               y=ds[,5], #define response variable\n",
        "               ntreeTry=500,\n",
        "               mtryStart=4, \n",
        "               stepFactor=1.5,\n",
        "               improve=0.01,\n",
        "               trace=FALSE #don't show real-time progress\n",
        "               )"
      ],
      "metadata": {
        "execution": {
          "iopub.status.busy": "2022-03-11T22:23:16.853851Z",
          "iopub.execute_input": "2022-03-11T22:23:16.855644Z",
          "iopub.status.idle": "2022-03-11T22:25:43.100443Z"
        },
        "trusted": true,
        "colab": {
          "base_uri": "https://localhost:8080/",
          "height": 472
        },
        "id": "c2VyFBj7H9Cc",
        "outputId": "2cd3de9e-ac2c-4a98-833a-40ed21229aff"
      },
      "execution_count": 38,
      "outputs": [
        {
          "output_type": "stream",
          "name": "stdout",
          "text": [
            "0.02116601 0.01 \n",
            "0.03403377 0.01 \n"
          ]
        },
        {
          "output_type": "display_data",
          "data": {
            "text/plain": [
              "plot without title"
            ],
            "image/png": "[encoded data removed]"
          },
          "metadata": {
            "image/png": {
              "width": 420,
              "height": 420
            }
          }
        }
      ]
    },
    {
      "cell_type": "markdown",
      "source": [
        "This function produces the following plot, which displays the number of predictors used at each split when building the trees on the x-axis and the out-of-bag estimated error on the y-axis:\n",
        "\n",
        "It can be seen that the lowest OOB error is achieved by using 2 randomly chosen predictors at each split when building the trees."
      ],
      "metadata": {
        "id": "nX9BLepXH9Cc"
      }
    },
    {
      "cell_type": "markdown",
      "source": [
        "**Metrics**"
      ],
      "metadata": {
        "id": "4AvgEEG_H9Cc"
      }
    },
    {
      "cell_type": "code",
      "source": [
        "library(lattice)\n",
        "library(ggplot2)\n",
        "mae = mae(y_pred, test_set$PE)\n",
        "mse = mse(y_pred, test_set$PE)\n",
        "library(caret)\n",
        "rmse = RMSE(y_pred, test_set$PE)\n",
        "R2 = R2(y_pred, test_set$PE, form = \"traditional\")\n",
        "cat(\" MAE:\", mae, \"\\n\", \"MSE:\", mse, \"\\n\", \n",
        "    \"RMSE:\", rmse, \"\\n\", \"R-squared:\", R2)"
      ],
      "metadata": {
        "execution": {
          "iopub.status.busy": "2022-03-11T22:26:14.201657Z",
          "iopub.execute_input": "2022-03-11T22:26:14.203266Z",
          "iopub.status.idle": "2022-03-11T22:26:14.230871Z"
        },
        "trusted": true,
        "colab": {
          "base_uri": "https://localhost:8080/"
        },
        "id": "9wsTABPPH9Cd",
        "outputId": "ac96fb64-0bc1-4c90-c976-5ae91d89fd00"
      },
      "execution_count": 39,
      "outputs": [
        {
          "output_type": "stream",
          "name": "stdout",
          "text": [
            " MAE: 2.418226 \n",
            " MSE: 11.15312 \n",
            " RMSE: 3.339629 \n",
            " R-squared: 0.9610983"
          ]
        }
      ]
    },
    {
      "cell_type": "code",
      "source": [
        "d = test_set$PE-y_pred\n",
        "mse = mean((d)^2)\n",
        "mae = mean(abs(d))\n",
        "rmse = sqrt(mse)\n",
        "R2 = 1-(sum((d)^2)/sum((test_set$PE-mean(test_set$PE))^2))\n",
        "\n",
        "cat(\" MAE:\", mae, \"\\n\", \"MSE:\", mse, \"\\n\", \n",
        "    \"RMSE:\", rmse, \"\\n\", \"R-squared:\", R2)"
      ],
      "metadata": {
        "execution": {
          "iopub.status.busy": "2022-03-11T22:26:17.066201Z",
          "iopub.execute_input": "2022-03-11T22:26:17.067771Z",
          "iopub.status.idle": "2022-03-11T22:26:17.090734Z"
        },
        "trusted": true,
        "colab": {
          "base_uri": "https://localhost:8080/"
        },
        "id": "ZPoiwDLcH9Cd",
        "outputId": "316909ee-64ab-4657-8161-780eceb3cb7f"
      },
      "execution_count": 40,
      "outputs": [
        {
          "output_type": "stream",
          "name": "stdout",
          "text": [
            " MAE: 2.418226 \n",
            " MSE: 11.15312 \n",
            " RMSE: 3.339629 \n",
            " R-squared: 0.9610983"
          ]
        }
      ]
    },
    {
      "cell_type": "markdown",
      "source": [
        "**Building a random forest model with exact number of trees that produce lowest test MSE**"
      ],
      "metadata": {
        "id": "gOceqI3GH9Cd"
      }
    },
    {
      "cell_type": "code",
      "source": [
        "install.packages(\"randomForest\")\n",
        "library(randomForest)\n",
        "set.seed(1234) # to get the same set of results\n",
        "#regressor = randomForest(x = ds[1], y = ds$PE,ntree = 10) # to make it a vector\n",
        "regressor = randomForest(formula = PE ~ ., data = train_set, ntree = 392, metric = 'rmse')\n",
        "summary(regressor)"
      ],
      "metadata": {
        "execution": {
          "iopub.status.busy": "2022-03-11T22:26:24.557416Z",
          "iopub.execute_input": "2022-03-11T22:26:24.559103Z",
          "iopub.status.idle": "2022-03-11T22:26:39.682267Z"
        },
        "trusted": true,
        "colab": {
          "base_uri": "https://localhost:8080/",
          "height": 399
        },
        "id": "D8O3ndUqH9Cd",
        "outputId": "5e662bd7-b461-4919-c4c7-dc680a663acf"
      },
      "execution_count": 41,
      "outputs": [
        {
          "output_type": "stream",
          "name": "stderr",
          "text": [
            "Installing package into ‘/usr/local/lib/R/site-library’\n",
            "(as ‘lib’ is unspecified)\n",
            "\n"
          ]
        },
        {
          "output_type": "display_data",
          "data": {
            "text/plain": [
              "                Length Class  Mode     \n",
              "call               5   -none- call     \n",
              "type               1   -none- character\n",
              "predicted       7654   -none- numeric  \n",
              "mse              392   -none- numeric  \n",
              "rsq              392   -none- numeric  \n",
              "oob.times       7654   -none- numeric  \n",
              "importance         4   -none- numeric  \n",
              "importanceSD       0   -none- NULL     \n",
              "localImportance    0   -none- NULL     \n",
              "proximity          0   -none- NULL     \n",
              "ntree              1   -none- numeric  \n",
              "mtry               1   -none- numeric  \n",
              "forest            11   -none- list     \n",
              "coefs              0   -none- NULL     \n",
              "y               7654   -none- numeric  \n",
              "test               0   -none- NULL     \n",
              "inbag              0   -none- NULL     \n",
              "terms              3   terms  call     "
            ]
          },
          "metadata": {}
        }
      ]
    },
    {
      "cell_type": "code",
      "source": [
        "y_pred = predict(regressor, newdata = test_set)\n",
        "print(head(y_pred))"
      ],
      "metadata": {
        "execution": {
          "iopub.status.busy": "2022-03-11T22:27:01.097076Z",
          "iopub.execute_input": "2022-03-11T22:27:01.098705Z",
          "iopub.status.idle": "2022-03-11T22:27:01.273115Z"
        },
        "trusted": true,
        "colab": {
          "base_uri": "https://localhost:8080/"
        },
        "id": "qHyCBvnrH9Ce",
        "outputId": "6784f360-5bee-4229-e47e-3f6f8be4381f"
      },
      "execution_count": 42,
      "outputs": [
        {
          "output_type": "stream",
          "name": "stdout",
          "text": [
            "       4        5        8       11       16       20 \n",
            "447.6516 472.9052 478.5341 454.4283 460.4341 467.5598 \n"
          ]
        }
      ]
    },
    {
      "cell_type": "code",
      "source": [
        "d = test_set$PE-y_pred\n",
        "mse = mean((d)^2)\n",
        "mae = mean(abs(d))\n",
        "rmse = sqrt(mse)\n",
        "R2 = 1-(sum((d)^2)/sum((test_set$PE-mean(test_set$PE))^2))\n",
        "\n",
        "cat(\" MAE:\", mae, \"\\n\", \"MSE:\", mse, \"\\n\", \n",
        "    \"RMSE:\", rmse, \"\\n\", \"R-squared:\", R2)"
      ],
      "metadata": {
        "execution": {
          "iopub.status.busy": "2022-03-11T22:27:04.212874Z",
          "iopub.execute_input": "2022-03-11T22:27:04.214530Z",
          "iopub.status.idle": "2022-03-11T22:27:04.237610Z"
        },
        "trusted": true,
        "colab": {
          "base_uri": "https://localhost:8080/"
        },
        "id": "tai4dTiiH9Ce",
        "outputId": "b49b3a7e-ec08-45b0-8343-0ae439a99f5e"
      },
      "execution_count": 43,
      "outputs": [
        {
          "output_type": "stream",
          "name": "stdout",
          "text": [
            " MAE: 2.409012 \n",
            " MSE: 11.10873 \n",
            " RMSE: 3.332976 \n",
            " R-squared: 0.9612531"
          ]
        }
      ]
    }
  ]
}