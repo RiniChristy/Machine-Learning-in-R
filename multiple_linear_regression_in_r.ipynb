{
  "metadata": {
    "kernelspec": {
      "name": "ir",
      "display_name": "R",
      "language": "R"
    },
    "language_info": {
      "name": "R",
      "codemirror_mode": "r",
      "pygments_lexer": "r",
      "mimetype": "text/x-r-source",
      "file_extension": ".r",
      "version": "4.0.5"
    },
    "colab": {
      "name": "multiple-linear-regression-in-r.ipynb",
      "provenance": []
    }
  },
  "nbformat_minor": 0,
  "nbformat": 4,
  "cells": [
    {
      "cell_type": "markdown",
      "source": [
        "# **Multiple Linear Regression in R**"
      ],
      "metadata": {
        "id": "4gdoNVaCzLe0"
      }
    },
    {
      "cell_type": "markdown",
      "source": [
        "## **Importing the dataset**"
      ],
      "metadata": {
        "id": "bCxQUBgnzLe7"
      }
    },
    {
      "cell_type": "code",
      "source": [
        "ds = read.csv('/content/50_Startups.csv')\n",
        "cat(\"First three rows of dataset\", \"\\n\")\n",
        "head(ds, 3)"
      ],
      "metadata": {
        "execution": {
          "iopub.status.busy": "2022-03-10T12:18:35.972551Z",
          "iopub.execute_input": "2022-03-10T12:18:35.974788Z",
          "iopub.status.idle": "2022-03-10T12:18:36.125071Z"
        },
        "trusted": true,
        "colab": {
          "base_uri": "https://localhost:8080/",
          "height": 209
        },
        "id": "Ld686QBvzLe8",
        "outputId": "e8ac10df-f159-4b52-be1e-24e972aaf41a"
      },
      "execution_count": 1,
      "outputs": [
        {
          "output_type": "stream",
          "name": "stdout",
          "text": [
            "First three rows of dataset \n"
          ]
        },
        {
          "output_type": "display_data",
          "data": {
            "text/plain": [
              "  R.D.Spend Administration Marketing.Spend State      Profit  \n",
              "1 165349.2  136897.8       471784.1        New York   192261.8\n",
              "2 162597.7  151377.6       443898.5        California 191792.1\n",
              "3 153441.5  101145.6       407934.5        Florida    191050.4"
            ],
            "text/latex": "A data.frame: 3 × 5\n\\begin{tabular}{r|lllll}\n  & R.D.Spend & Administration & Marketing.Spend & State & Profit\\\\\n  & <dbl> & <dbl> & <dbl> & <chr> & <dbl>\\\\\n\\hline\n\t1 & 165349.2 & 136897.8 & 471784.1 & New York   & 192261.8\\\\\n\t2 & 162597.7 & 151377.6 & 443898.5 & California & 191792.1\\\\\n\t3 & 153441.5 & 101145.6 & 407934.5 & Florida    & 191050.4\\\\\n\\end{tabular}\n",
            "text/markdown": "\nA data.frame: 3 × 5\n\n| <!--/--> | R.D.Spend &lt;dbl&gt; | Administration &lt;dbl&gt; | Marketing.Spend &lt;dbl&gt; | State &lt;chr&gt; | Profit &lt;dbl&gt; |\n|---|---|---|---|---|---|\n| 1 | 165349.2 | 136897.8 | 471784.1 | New York   | 192261.8 |\n| 2 | 162597.7 | 151377.6 | 443898.5 | California | 191792.1 |\n| 3 | 153441.5 | 101145.6 | 407934.5 | Florida    | 191050.4 |\n\n",
            "text/html": [
              "<table class=\"dataframe\">\n",
              "<caption>A data.frame: 3 × 5</caption>\n",
              "<thead>\n",
              "\t<tr><th></th><th scope=col>R.D.Spend</th><th scope=col>Administration</th><th scope=col>Marketing.Spend</th><th scope=col>State</th><th scope=col>Profit</th></tr>\n",
              "\t<tr><th></th><th scope=col>&lt;dbl&gt;</th><th scope=col>&lt;dbl&gt;</th><th scope=col>&lt;dbl&gt;</th><th scope=col>&lt;chr&gt;</th><th scope=col>&lt;dbl&gt;</th></tr>\n",
              "</thead>\n",
              "<tbody>\n",
              "\t<tr><th scope=row>1</th><td>165349.2</td><td>136897.8</td><td>471784.1</td><td>New York  </td><td>192261.8</td></tr>\n",
              "\t<tr><th scope=row>2</th><td>162597.7</td><td>151377.6</td><td>443898.5</td><td>California</td><td>191792.1</td></tr>\n",
              "\t<tr><th scope=row>3</th><td>153441.5</td><td>101145.6</td><td>407934.5</td><td>Florida   </td><td>191050.4</td></tr>\n",
              "</tbody>\n",
              "</table>\n"
            ]
          },
          "metadata": {}
        }
      ]
    },
    {
      "cell_type": "markdown",
      "source": [
        "## **Encoding categorical data**"
      ],
      "metadata": {
        "id": "VP70TI8PzLe_"
      }
    },
    {
      "cell_type": "code",
      "source": [
        "ds$State = factor(ds$State,\n",
        "                  levels = c('New York', 'California', 'Florida'),\n",
        "                  labels = c(1, 2, 3))"
      ],
      "metadata": {
        "execution": {
          "iopub.status.busy": "2022-03-10T12:19:08.632238Z",
          "iopub.execute_input": "2022-03-10T12:19:08.671638Z",
          "iopub.status.idle": "2022-03-10T12:19:08.685361Z"
        },
        "trusted": true,
        "id": "PT-qExSDzLfA"
      },
      "execution_count": 2,
      "outputs": []
    },
    {
      "cell_type": "markdown",
      "source": [
        "## **Splitting the dataset into the Train set and Test set**"
      ],
      "metadata": {
        "id": "2yGLmIenzLfB"
      }
    },
    {
      "cell_type": "code",
      "source": [
        "install.packages('caTools')\n",
        "library(caTools)\n",
        "set.seed(123)\n",
        "split = sample.split(ds$Profit, SplitRatio = 4/5)\n",
        "split"
      ],
      "metadata": {
        "execution": {
          "iopub.status.busy": "2022-03-10T12:19:52.615392Z",
          "iopub.execute_input": "2022-03-10T12:19:52.617095Z",
          "iopub.status.idle": "2022-03-10T12:19:52.673914Z"
        },
        "trusted": true,
        "colab": {
          "base_uri": "https://localhost:8080/",
          "height": 121
        },
        "id": "KAb0gNrXzLfC",
        "outputId": "3c1c39a4-e2fd-4357-8cfe-638791cd6557"
      },
      "execution_count": 3,
      "outputs": [
        {
          "output_type": "stream",
          "name": "stderr",
          "text": [
            "Installing package into ‘/usr/local/lib/R/site-library’\n",
            "(as ‘lib’ is unspecified)\n",
            "\n"
          ]
        },
        {
          "output_type": "display_data",
          "data": {
            "text/plain": [
              " [1]  TRUE  TRUE  TRUE FALSE FALSE  TRUE  TRUE FALSE  TRUE  TRUE FALSE  TRUE\n",
              "[13]  TRUE  TRUE  TRUE FALSE  TRUE  TRUE  TRUE FALSE FALSE  TRUE  TRUE FALSE\n",
              "[25]  TRUE  TRUE  TRUE  TRUE  TRUE  TRUE FALSE FALSE  TRUE  TRUE  TRUE  TRUE\n",
              "[37]  TRUE  TRUE  TRUE  TRUE  TRUE  TRUE  TRUE  TRUE  TRUE  TRUE  TRUE  TRUE\n",
              "[49]  TRUE  TRUE"
            ],
            "text/latex": "\\begin{enumerate*}\n\\item TRUE\n\\item TRUE\n\\item TRUE\n\\item FALSE\n\\item FALSE\n\\item TRUE\n\\item TRUE\n\\item FALSE\n\\item TRUE\n\\item TRUE\n\\item FALSE\n\\item TRUE\n\\item TRUE\n\\item TRUE\n\\item TRUE\n\\item FALSE\n\\item TRUE\n\\item TRUE\n\\item TRUE\n\\item FALSE\n\\item FALSE\n\\item TRUE\n\\item TRUE\n\\item FALSE\n\\item TRUE\n\\item TRUE\n\\item TRUE\n\\item TRUE\n\\item TRUE\n\\item TRUE\n\\item FALSE\n\\item FALSE\n\\item TRUE\n\\item TRUE\n\\item TRUE\n\\item TRUE\n\\item TRUE\n\\item TRUE\n\\item TRUE\n\\item TRUE\n\\item TRUE\n\\item TRUE\n\\item TRUE\n\\item TRUE\n\\item TRUE\n\\item TRUE\n\\item TRUE\n\\item TRUE\n\\item TRUE\n\\item TRUE\n\\end{enumerate*}\n",
            "text/markdown": "1. TRUE\n2. TRUE\n3. TRUE\n4. FALSE\n5. FALSE\n6. TRUE\n7. TRUE\n8. FALSE\n9. TRUE\n10. TRUE\n11. FALSE\n12. TRUE\n13. TRUE\n14. TRUE\n15. TRUE\n16. FALSE\n17. TRUE\n18. TRUE\n19. TRUE\n20. FALSE\n21. FALSE\n22. TRUE\n23. TRUE\n24. FALSE\n25. TRUE\n26. TRUE\n27. TRUE\n28. TRUE\n29. TRUE\n30. TRUE\n31. FALSE\n32. FALSE\n33. TRUE\n34. TRUE\n35. TRUE\n36. TRUE\n37. TRUE\n38. TRUE\n39. TRUE\n40. TRUE\n41. TRUE\n42. TRUE\n43. TRUE\n44. TRUE\n45. TRUE\n46. TRUE\n47. TRUE\n48. TRUE\n49. TRUE\n50. TRUE\n\n\n",
            "text/html": [
              "<style>\n",
              ".list-inline {list-style: none; margin:0; padding: 0}\n",
              ".list-inline>li {display: inline-block}\n",
              ".list-inline>li:not(:last-child)::after {content: \"\\00b7\"; padding: 0 .5ex}\n",
              "</style>\n",
              "<ol class=list-inline><li>TRUE</li><li>TRUE</li><li>TRUE</li><li>FALSE</li><li>FALSE</li><li>TRUE</li><li>TRUE</li><li>FALSE</li><li>TRUE</li><li>TRUE</li><li>FALSE</li><li>TRUE</li><li>TRUE</li><li>TRUE</li><li>TRUE</li><li>FALSE</li><li>TRUE</li><li>TRUE</li><li>TRUE</li><li>FALSE</li><li>FALSE</li><li>TRUE</li><li>TRUE</li><li>FALSE</li><li>TRUE</li><li>TRUE</li><li>TRUE</li><li>TRUE</li><li>TRUE</li><li>TRUE</li><li>FALSE</li><li>FALSE</li><li>TRUE</li><li>TRUE</li><li>TRUE</li><li>TRUE</li><li>TRUE</li><li>TRUE</li><li>TRUE</li><li>TRUE</li><li>TRUE</li><li>TRUE</li><li>TRUE</li><li>TRUE</li><li>TRUE</li><li>TRUE</li><li>TRUE</li><li>TRUE</li><li>TRUE</li><li>TRUE</li></ol>\n"
            ]
          },
          "metadata": {}
        }
      ]
    },
    {
      "cell_type": "code",
      "source": [
        "train_set = subset(ds, split == TRUE)\n",
        "test_set = subset(ds, split == FALSE)\n",
        "print(head(train_set,3))"
      ],
      "metadata": {
        "execution": {
          "iopub.status.busy": "2022-03-10T12:20:18.871761Z",
          "iopub.execute_input": "2022-03-10T12:20:18.873668Z",
          "iopub.status.idle": "2022-03-10T12:20:18.901281Z"
        },
        "trusted": true,
        "colab": {
          "base_uri": "https://localhost:8080/"
        },
        "id": "7YiNb46FzLfD",
        "outputId": "6a55b3da-74b2-4534-f5b7-43d6854dfaac"
      },
      "execution_count": 4,
      "outputs": [
        {
          "output_type": "stream",
          "name": "stdout",
          "text": [
            "  R.D.Spend Administration Marketing.Spend State   Profit\n",
            "1  165349.2       136897.8        471784.1     1 192261.8\n",
            "2  162597.7       151377.6        443898.5     2 191792.1\n",
            "3  153441.5       101145.6        407934.5     3 191050.4\n"
          ]
        }
      ]
    },
    {
      "cell_type": "code",
      "source": [
        "print(head(test_set,3))"
      ],
      "metadata": {
        "execution": {
          "iopub.status.busy": "2022-03-10T12:20:46.746170Z",
          "iopub.execute_input": "2022-03-10T12:20:46.747849Z",
          "iopub.status.idle": "2022-03-10T12:20:46.765065Z"
        },
        "trusted": true,
        "colab": {
          "base_uri": "https://localhost:8080/"
        },
        "id": "0nkS6KYyzLfE",
        "outputId": "2d164463-80bb-4269-8f49-25ebe107cf1c"
      },
      "execution_count": 5,
      "outputs": [
        {
          "output_type": "stream",
          "name": "stdout",
          "text": [
            "  R.D.Spend Administration Marketing.Spend State   Profit\n",
            "4  144372.4      118671.85        383199.6     1 182902.0\n",
            "5  142107.3       91391.77        366168.4     3 166187.9\n",
            "8  130298.1      145530.06        323876.7     3 155752.6\n"
          ]
        }
      ]
    },
    {
      "cell_type": "markdown",
      "source": [
        "## **Fitting Simple Linear Regression to the Training set**"
      ],
      "metadata": {
        "id": "E1P34-xnzLfF"
      }
    },
    {
      "cell_type": "code",
      "source": [
        "regressor = lm(formula = Profit ~ R.D.Spend + Administration + Marketing.Spend + State, data = train_set)\n",
        "#regressor = lm(formula = Profit ~ ., data = train_set)"
      ],
      "metadata": {
        "execution": {
          "iopub.status.busy": "2022-03-10T12:21:31.216975Z",
          "iopub.execute_input": "2022-03-10T12:21:31.218748Z",
          "iopub.status.idle": "2022-03-10T12:21:31.240228Z"
        },
        "trusted": true,
        "id": "caPK-G_1zLfG"
      },
      "execution_count": 6,
      "outputs": []
    },
    {
      "cell_type": "markdown",
      "source": [
        "## **Predicting the Test set results**"
      ],
      "metadata": {
        "id": "g7qVbrUizLfH"
      }
    },
    {
      "cell_type": "code",
      "source": [
        "y_pred = predict(regressor, newdata = test_set)\n",
        "cat(\"Original data:\", \"\\n\")\n",
        "print(head(test_set$Profit))\n",
        "cat(\"Predicted data:\", \"\\n\")\n",
        "print(head(y_pred))"
      ],
      "metadata": {
        "execution": {
          "iopub.status.busy": "2022-03-10T12:21:57.120332Z",
          "iopub.execute_input": "2022-03-10T12:21:57.121953Z",
          "iopub.status.idle": "2022-03-10T12:21:57.158534Z"
        },
        "trusted": true,
        "colab": {
          "base_uri": "https://localhost:8080/"
        },
        "id": "OvnEdyGizLfI",
        "outputId": "0e7e0e9f-c118-4033-833c-665225a0b9c4"
      },
      "execution_count": 7,
      "outputs": [
        {
          "output_type": "stream",
          "name": "stdout",
          "text": [
            "Original data: \n",
            "[1] 182902.0 166187.9 155752.6 146122.0 129917.0 122776.9\n",
            "Predicted data: \n",
            "       4        5        8       11       16       20 \n",
            "173981.1 172655.6 160250.0 135513.9 146059.4 114151.0 \n"
          ]
        }
      ]
    },
    {
      "cell_type": "markdown",
      "source": [
        "## **Backward Elimination**"
      ],
      "metadata": {
        "id": "jV8daR-zzLfI"
      }
    },
    {
      "cell_type": "code",
      "source": [
        "summary(regressor)"
      ],
      "metadata": {
        "execution": {
          "iopub.status.busy": "2022-03-10T12:22:39.864905Z",
          "iopub.execute_input": "2022-03-10T12:22:39.866643Z",
          "iopub.status.idle": "2022-03-10T12:22:39.898228Z"
        },
        "trusted": true,
        "colab": {
          "base_uri": "https://localhost:8080/",
          "height": 416
        },
        "id": "w7nOreuDzLfJ",
        "outputId": "420fe72c-a91d-45ca-893c-2c65754a083d"
      },
      "execution_count": 8,
      "outputs": [
        {
          "output_type": "display_data",
          "data": {
            "text/plain": [
              "\n",
              "Call:\n",
              "lm(formula = Profit ~ R.D.Spend + Administration + Marketing.Spend + \n",
              "    State, data = train_set)\n",
              "\n",
              "Residuals:\n",
              "   Min     1Q Median     3Q    Max \n",
              "-33128  -4865      5   6098  18065 \n",
              "\n",
              "Coefficients:\n",
              "                  Estimate Std. Error t value Pr(>|t|)    \n",
              "(Intercept)      4.965e+04  7.637e+03   6.501 1.94e-07 ***\n",
              "R.D.Spend        7.986e-01  5.604e-02  14.251 6.70e-16 ***\n",
              "Administration  -2.942e-02  5.828e-02  -0.505    0.617    \n",
              "Marketing.Spend  3.268e-02  2.127e-02   1.537    0.134    \n",
              "State2           1.213e+02  3.751e+03   0.032    0.974    \n",
              "State3           2.376e+02  4.127e+03   0.058    0.954    \n",
              "---\n",
              "Signif. codes:  0 ‘***’ 0.001 ‘**’ 0.01 ‘*’ 0.05 ‘.’ 0.1 ‘ ’ 1\n",
              "\n",
              "Residual standard error: 9908 on 34 degrees of freedom\n",
              "Multiple R-squared:  0.9499,\tAdjusted R-squared:  0.9425 \n",
              "F-statistic:   129 on 5 and 34 DF,  p-value: < 2.2e-16\n"
            ]
          },
          "metadata": {}
        }
      ]
    },
    {
      "cell_type": "markdown",
      "source": [
        "### **Removing the least significant variable from the model**"
      ],
      "metadata": {
        "id": "Ud3ojAiAzLfJ"
      }
    },
    {
      "cell_type": "code",
      "source": [
        "regressor = lm(formula = Profit ~ R.D.Spend + Administration + Marketing.Spend, data = train_set)\n",
        "summary(regressor)"
      ],
      "metadata": {
        "execution": {
          "iopub.status.busy": "2022-03-10T12:23:17.165017Z",
          "iopub.execute_input": "2022-03-10T12:23:17.166683Z",
          "iopub.status.idle": "2022-03-10T12:23:17.188223Z"
        },
        "trusted": true,
        "colab": {
          "base_uri": "https://localhost:8080/",
          "height": 381
        },
        "id": "CUyWHr9CzLfK",
        "outputId": "cbf054db-9dac-4569-d5c4-501b60ca80b6"
      },
      "execution_count": 9,
      "outputs": [
        {
          "output_type": "display_data",
          "data": {
            "text/plain": [
              "\n",
              "Call:\n",
              "lm(formula = Profit ~ R.D.Spend + Administration + Marketing.Spend, \n",
              "    data = train_set)\n",
              "\n",
              "Residuals:\n",
              "   Min     1Q Median     3Q    Max \n",
              "-33117  -4858    -36   6020  17957 \n",
              "\n",
              "Coefficients:\n",
              "                  Estimate Std. Error t value Pr(>|t|)    \n",
              "(Intercept)      4.970e+04  7.120e+03   6.980 3.48e-08 ***\n",
              "R.D.Spend        7.983e-01  5.356e-02  14.905  < 2e-16 ***\n",
              "Administration  -2.895e-02  5.603e-02  -0.517    0.609    \n",
              "Marketing.Spend  3.283e-02  1.987e-02   1.652    0.107    \n",
              "---\n",
              "Signif. codes:  0 ‘***’ 0.001 ‘**’ 0.01 ‘*’ 0.05 ‘.’ 0.1 ‘ ’ 1\n",
              "\n",
              "Residual standard error: 9629 on 36 degrees of freedom\n",
              "Multiple R-squared:  0.9499,\tAdjusted R-squared:  0.9457 \n",
              "F-statistic: 227.6 on 3 and 36 DF,  p-value: < 2.2e-16\n"
            ]
          },
          "metadata": {}
        }
      ]
    },
    {
      "cell_type": "code",
      "source": [
        "# Removing the next less significant variable from the model\n",
        "regressor = lm(formula = Profit ~ R.D.Spend + Marketing.Spend, data = train_set)\n",
        "summary(regressor)"
      ],
      "metadata": {
        "execution": {
          "iopub.status.busy": "2022-03-10T12:23:51.397610Z",
          "iopub.execute_input": "2022-03-10T12:23:51.399240Z",
          "iopub.status.idle": "2022-03-10T12:23:51.427962Z"
        },
        "trusted": true,
        "colab": {
          "base_uri": "https://localhost:8080/",
          "height": 346
        },
        "id": "bykCjrUJzLfK",
        "outputId": "0e72670d-4f4f-445f-ff03-851eb57767c8"
      },
      "execution_count": 10,
      "outputs": [
        {
          "output_type": "display_data",
          "data": {
            "text/plain": [
              "\n",
              "Call:\n",
              "lm(formula = Profit ~ R.D.Spend + Marketing.Spend, data = train_set)\n",
              "\n",
              "Residuals:\n",
              "   Min     1Q Median     3Q    Max \n",
              "-33294  -4763   -354   6351  17693 \n",
              "\n",
              "Coefficients:\n",
              "                 Estimate Std. Error t value Pr(>|t|)    \n",
              "(Intercept)     4.638e+04  3.019e+03  15.364   <2e-16 ***\n",
              "R.D.Spend       7.879e-01  4.916e-02  16.026   <2e-16 ***\n",
              "Marketing.Spend 3.538e-02  1.905e-02   1.857   0.0713 .  \n",
              "---\n",
              "Signif. codes:  0 ‘***’ 0.001 ‘**’ 0.01 ‘*’ 0.05 ‘.’ 0.1 ‘ ’ 1\n",
              "\n",
              "Residual standard error: 9533 on 37 degrees of freedom\n",
              "Multiple R-squared:  0.9495,\tAdjusted R-squared:  0.9468 \n",
              "F-statistic: 348.1 on 2 and 37 DF,  p-value: < 2.2e-16\n"
            ]
          },
          "metadata": {}
        }
      ]
    },
    {
      "cell_type": "code",
      "source": [
        "# Removing the next less significant variable from the model\n",
        "regressor = lm(formula = Profit ~ R.D.Spend, data = train_set)\n",
        "summary(regressor)"
      ],
      "metadata": {
        "execution": {
          "iopub.status.busy": "2022-03-10T12:24:27.485709Z",
          "iopub.execute_input": "2022-03-10T12:24:27.487417Z",
          "iopub.status.idle": "2022-03-10T12:24:27.508509Z"
        },
        "trusted": true,
        "colab": {
          "base_uri": "https://localhost:8080/",
          "height": 330
        },
        "id": "9qtfGfajzLfL",
        "outputId": "a657f191-f070-4112-9a60-5284d6f3ac05"
      },
      "execution_count": 11,
      "outputs": [
        {
          "output_type": "display_data",
          "data": {
            "text/plain": [
              "\n",
              "Call:\n",
              "lm(formula = Profit ~ R.D.Spend, data = train_set)\n",
              "\n",
              "Residuals:\n",
              "   Min     1Q Median     3Q    Max \n",
              "-34334  -4894   -340   6752  17147 \n",
              "\n",
              "Coefficients:\n",
              "             Estimate Std. Error t value Pr(>|t|)    \n",
              "(Intercept) 4.902e+04  2.748e+03   17.84   <2e-16 ***\n",
              "R.D.Spend   8.563e-01  3.357e-02   25.51   <2e-16 ***\n",
              "---\n",
              "Signif. codes:  0 ‘***’ 0.001 ‘**’ 0.01 ‘*’ 0.05 ‘.’ 0.1 ‘ ’ 1\n",
              "\n",
              "Residual standard error: 9836 on 38 degrees of freedom\n",
              "Multiple R-squared:  0.9448,\tAdjusted R-squared:  0.9434 \n",
              "F-statistic: 650.8 on 1 and 38 DF,  p-value: < 2.2e-16\n"
            ]
          },
          "metadata": {}
        }
      ]
    },
    {
      "cell_type": "markdown",
      "source": [
        "Only 'R.D.Spend' with very low p-value and thereby high significance is left. "
      ],
      "metadata": {
        "id": "9Hm-AC3azLfM"
      }
    }
  ]
}