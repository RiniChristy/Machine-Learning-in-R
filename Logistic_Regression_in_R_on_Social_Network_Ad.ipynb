{
  "metadata": {
    "kernelspec": {
      "name": "ir",
      "display_name": "R",
      "language": "R"
    },
    "language_info": {
      "name": "R",
      "codemirror_mode": "r",
      "pygments_lexer": "r",
      "mimetype": "text/x-r-source",
      "file_extension": ".r",
      "version": "4.0.5"
    },
    "colab": {
      "name": "Logistic Regression in R on Social Network Ad.ipynb",
      "provenance": [],
      "collapsed_sections": []
    }
  },
  "nbformat_minor": 0,
  "nbformat": 4,
  "cells": [
    {
      "cell_type": "markdown",
      "source": [
        "# **Logistic Regression in R on Social Network Ad**"
      ],
      "metadata": {
        "id": "5N_G0-hbPnPQ"
      }
    },
    {
      "cell_type": "markdown",
      "source": [
        "## **Importing the dataset**"
      ],
      "metadata": {
        "id": "6la5xYkTPnPX"
      }
    },
    {
      "cell_type": "code",
      "source": [
        "ds = read.csv('/content/Social_Network_Ads.csv')\n",
        "cat(\"First three rows of dataset\", \"\\n\")\n",
        "head(ds)"
      ],
      "metadata": {
        "execution": {
          "iopub.status.busy": "2022-03-12T21:41:03.712685Z",
          "iopub.execute_input": "2022-03-12T21:41:03.714672Z",
          "iopub.status.idle": "2022-03-12T21:41:03.782739Z"
        },
        "trusted": true,
        "colab": {
          "base_uri": "https://localhost:8080/",
          "height": 304
        },
        "id": "bdR4J0CPPnPY",
        "outputId": "fa1d5ab5-9e0a-457f-acb3-d4020b00acc2"
      },
      "execution_count": 1,
      "outputs": [
        {
          "output_type": "stream",
          "name": "stdout",
          "text": [
            "First three rows of dataset \n"
          ]
        },
        {
          "output_type": "display_data",
          "data": {
            "text/html": [
              "<table class=\"dataframe\">\n",
              "<caption>A data.frame: 6 × 5</caption>\n",
              "<thead>\n",
              "\t<tr><th></th><th scope=col>User.ID</th><th scope=col>Gender</th><th scope=col>Age</th><th scope=col>EstimatedSalary</th><th scope=col>Purchased</th></tr>\n",
              "\t<tr><th></th><th scope=col>&lt;int&gt;</th><th scope=col>&lt;chr&gt;</th><th scope=col>&lt;int&gt;</th><th scope=col>&lt;int&gt;</th><th scope=col>&lt;int&gt;</th></tr>\n",
              "</thead>\n",
              "<tbody>\n",
              "\t<tr><th scope=row>1</th><td>15624510</td><td>Male  </td><td>19</td><td>19000</td><td>0</td></tr>\n",
              "\t<tr><th scope=row>2</th><td>15810944</td><td>Male  </td><td>35</td><td>20000</td><td>0</td></tr>\n",
              "\t<tr><th scope=row>3</th><td>15668575</td><td>Female</td><td>26</td><td>43000</td><td>0</td></tr>\n",
              "\t<tr><th scope=row>4</th><td>15603246</td><td>Female</td><td>27</td><td>57000</td><td>0</td></tr>\n",
              "\t<tr><th scope=row>5</th><td>15804002</td><td>Male  </td><td>19</td><td>76000</td><td>0</td></tr>\n",
              "\t<tr><th scope=row>6</th><td>15728773</td><td>Male  </td><td>27</td><td>58000</td><td>0</td></tr>\n",
              "</tbody>\n",
              "</table>\n"
            ],
            "text/markdown": "\nA data.frame: 6 × 5\n\n| <!--/--> | User.ID &lt;int&gt; | Gender &lt;chr&gt; | Age &lt;int&gt; | EstimatedSalary &lt;int&gt; | Purchased &lt;int&gt; |\n|---|---|---|---|---|---|\n| 1 | 15624510 | Male   | 19 | 19000 | 0 |\n| 2 | 15810944 | Male   | 35 | 20000 | 0 |\n| 3 | 15668575 | Female | 26 | 43000 | 0 |\n| 4 | 15603246 | Female | 27 | 57000 | 0 |\n| 5 | 15804002 | Male   | 19 | 76000 | 0 |\n| 6 | 15728773 | Male   | 27 | 58000 | 0 |\n\n",
            "text/latex": "A data.frame: 6 × 5\n\\begin{tabular}{r|lllll}\n  & User.ID & Gender & Age & EstimatedSalary & Purchased\\\\\n  & <int> & <chr> & <int> & <int> & <int>\\\\\n\\hline\n\t1 & 15624510 & Male   & 19 & 19000 & 0\\\\\n\t2 & 15810944 & Male   & 35 & 20000 & 0\\\\\n\t3 & 15668575 & Female & 26 & 43000 & 0\\\\\n\t4 & 15603246 & Female & 27 & 57000 & 0\\\\\n\t5 & 15804002 & Male   & 19 & 76000 & 0\\\\\n\t6 & 15728773 & Male   & 27 & 58000 & 0\\\\\n\\end{tabular}\n",
            "text/plain": [
              "  User.ID  Gender Age EstimatedSalary Purchased\n",
              "1 15624510 Male   19  19000           0        \n",
              "2 15810944 Male   35  20000           0        \n",
              "3 15668575 Female 26  43000           0        \n",
              "4 15603246 Female 27  57000           0        \n",
              "5 15804002 Male   19  76000           0        \n",
              "6 15728773 Male   27  58000           0        "
            ]
          },
          "metadata": {}
        }
      ]
    },
    {
      "cell_type": "code",
      "source": [
        "ds = ds[3:5]"
      ],
      "metadata": {
        "execution": {
          "iopub.status.busy": "2022-03-12T21:41:03.784979Z",
          "iopub.execute_input": "2022-03-12T21:41:03.818413Z",
          "iopub.status.idle": "2022-03-12T21:41:03.830666Z"
        },
        "trusted": true,
        "id": "zomqPRFiPnPc"
      },
      "execution_count": 2,
      "outputs": []
    },
    {
      "cell_type": "markdown",
      "source": [
        "## **Encoding the target feature as factor**"
      ],
      "metadata": {
        "id": "BZqaZSc2PnPd"
      }
    },
    {
      "cell_type": "code",
      "source": [
        "ds$Purchased = factor(ds$Purchased, levels = c(0, 1))"
      ],
      "metadata": {
        "execution": {
          "iopub.status.busy": "2022-03-12T21:41:03.832831Z",
          "iopub.execute_input": "2022-03-12T21:41:03.834159Z",
          "iopub.status.idle": "2022-03-12T21:41:03.845351Z"
        },
        "trusted": true,
        "id": "sGjWGyrHPnPe"
      },
      "execution_count": 3,
      "outputs": []
    },
    {
      "cell_type": "markdown",
      "source": [
        "## **Splitting the dataset into the Train set and Test set**"
      ],
      "metadata": {
        "id": "wraOiIUqPnPf"
      }
    },
    {
      "cell_type": "code",
      "source": [
        "install.packages('caTools')\n",
        "library(caTools)\n",
        "set.seed(123)\n",
        "split = sample.split(ds$Purchased, SplitRatio = 0.75)\n",
        "train_set = subset(ds, split == TRUE)\n",
        "test_set = subset(ds, split == FALSE)"
      ],
      "metadata": {
        "execution": {
          "iopub.status.busy": "2022-03-12T21:41:03.847442Z",
          "iopub.execute_input": "2022-03-12T21:41:03.848778Z",
          "iopub.status.idle": "2022-03-12T21:41:03.904753Z"
        },
        "trusted": true,
        "colab": {
          "base_uri": "https://localhost:8080/"
        },
        "id": "PZIUDtofPnPh",
        "outputId": "7c739689-ad06-4ba6-859c-02d3e44a2781"
      },
      "execution_count": 4,
      "outputs": [
        {
          "output_type": "stream",
          "name": "stderr",
          "text": [
            "Installing package into ‘/usr/local/lib/R/site-library’\n",
            "(as ‘lib’ is unspecified)\n",
            "\n"
          ]
        }
      ]
    },
    {
      "cell_type": "code",
      "source": [
        "head(train_set)"
      ],
      "metadata": {
        "execution": {
          "iopub.status.busy": "2022-03-12T21:41:03.906920Z",
          "iopub.execute_input": "2022-03-12T21:41:03.911784Z",
          "iopub.status.idle": "2022-03-12T21:41:03.931618Z"
        },
        "trusted": true,
        "colab": {
          "base_uri": "https://localhost:8080/",
          "height": 286
        },
        "id": "J8prWCt_PnPi",
        "outputId": "4dbe3cf2-e221-4eba-f042-ce0a7989bfde"
      },
      "execution_count": 5,
      "outputs": [
        {
          "output_type": "display_data",
          "data": {
            "text/html": [
              "<table class=\"dataframe\">\n",
              "<caption>A data.frame: 6 × 3</caption>\n",
              "<thead>\n",
              "\t<tr><th></th><th scope=col>Age</th><th scope=col>EstimatedSalary</th><th scope=col>Purchased</th></tr>\n",
              "\t<tr><th></th><th scope=col>&lt;int&gt;</th><th scope=col>&lt;int&gt;</th><th scope=col>&lt;fct&gt;</th></tr>\n",
              "</thead>\n",
              "<tbody>\n",
              "\t<tr><th scope=row>1</th><td>19</td><td> 19000</td><td>0</td></tr>\n",
              "\t<tr><th scope=row>3</th><td>26</td><td> 43000</td><td>0</td></tr>\n",
              "\t<tr><th scope=row>6</th><td>27</td><td> 58000</td><td>0</td></tr>\n",
              "\t<tr><th scope=row>7</th><td>27</td><td> 84000</td><td>0</td></tr>\n",
              "\t<tr><th scope=row>8</th><td>32</td><td>150000</td><td>1</td></tr>\n",
              "\t<tr><th scope=row>10</th><td>35</td><td> 65000</td><td>0</td></tr>\n",
              "</tbody>\n",
              "</table>\n"
            ],
            "text/markdown": "\nA data.frame: 6 × 3\n\n| <!--/--> | Age &lt;int&gt; | EstimatedSalary &lt;int&gt; | Purchased &lt;fct&gt; |\n|---|---|---|---|\n| 1 | 19 |  19000 | 0 |\n| 3 | 26 |  43000 | 0 |\n| 6 | 27 |  58000 | 0 |\n| 7 | 27 |  84000 | 0 |\n| 8 | 32 | 150000 | 1 |\n| 10 | 35 |  65000 | 0 |\n\n",
            "text/latex": "A data.frame: 6 × 3\n\\begin{tabular}{r|lll}\n  & Age & EstimatedSalary & Purchased\\\\\n  & <int> & <int> & <fct>\\\\\n\\hline\n\t1 & 19 &  19000 & 0\\\\\n\t3 & 26 &  43000 & 0\\\\\n\t6 & 27 &  58000 & 0\\\\\n\t7 & 27 &  84000 & 0\\\\\n\t8 & 32 & 150000 & 1\\\\\n\t10 & 35 &  65000 & 0\\\\\n\\end{tabular}\n",
            "text/plain": [
              "   Age EstimatedSalary Purchased\n",
              "1  19   19000          0        \n",
              "3  26   43000          0        \n",
              "6  27   58000          0        \n",
              "7  27   84000          0        \n",
              "8  32  150000          1        \n",
              "10 35   65000          0        "
            ]
          },
          "metadata": {}
        }
      ]
    },
    {
      "cell_type": "code",
      "source": [
        "head(test_set)"
      ],
      "metadata": {
        "execution": {
          "iopub.status.busy": "2022-03-12T21:41:03.933716Z",
          "iopub.execute_input": "2022-03-12T21:41:03.935010Z",
          "iopub.status.idle": "2022-03-12T21:41:03.954524Z"
        },
        "trusted": true,
        "colab": {
          "base_uri": "https://localhost:8080/",
          "height": 286
        },
        "id": "-DneD6H6PnPj",
        "outputId": "b6c1b624-0079-4b9b-96ba-267a4d9c0e57"
      },
      "execution_count": 6,
      "outputs": [
        {
          "output_type": "display_data",
          "data": {
            "text/html": [
              "<table class=\"dataframe\">\n",
              "<caption>A data.frame: 6 × 3</caption>\n",
              "<thead>\n",
              "\t<tr><th></th><th scope=col>Age</th><th scope=col>EstimatedSalary</th><th scope=col>Purchased</th></tr>\n",
              "\t<tr><th></th><th scope=col>&lt;int&gt;</th><th scope=col>&lt;int&gt;</th><th scope=col>&lt;fct&gt;</th></tr>\n",
              "</thead>\n",
              "<tbody>\n",
              "\t<tr><th scope=row>2</th><td>35</td><td>20000</td><td>0</td></tr>\n",
              "\t<tr><th scope=row>4</th><td>27</td><td>57000</td><td>0</td></tr>\n",
              "\t<tr><th scope=row>5</th><td>19</td><td>76000</td><td>0</td></tr>\n",
              "\t<tr><th scope=row>9</th><td>25</td><td>33000</td><td>0</td></tr>\n",
              "\t<tr><th scope=row>12</th><td>26</td><td>52000</td><td>0</td></tr>\n",
              "\t<tr><th scope=row>18</th><td>45</td><td>26000</td><td>1</td></tr>\n",
              "</tbody>\n",
              "</table>\n"
            ],
            "text/markdown": "\nA data.frame: 6 × 3\n\n| <!--/--> | Age &lt;int&gt; | EstimatedSalary &lt;int&gt; | Purchased &lt;fct&gt; |\n|---|---|---|---|\n| 2 | 35 | 20000 | 0 |\n| 4 | 27 | 57000 | 0 |\n| 5 | 19 | 76000 | 0 |\n| 9 | 25 | 33000 | 0 |\n| 12 | 26 | 52000 | 0 |\n| 18 | 45 | 26000 | 1 |\n\n",
            "text/latex": "A data.frame: 6 × 3\n\\begin{tabular}{r|lll}\n  & Age & EstimatedSalary & Purchased\\\\\n  & <int> & <int> & <fct>\\\\\n\\hline\n\t2 & 35 & 20000 & 0\\\\\n\t4 & 27 & 57000 & 0\\\\\n\t5 & 19 & 76000 & 0\\\\\n\t9 & 25 & 33000 & 0\\\\\n\t12 & 26 & 52000 & 0\\\\\n\t18 & 45 & 26000 & 1\\\\\n\\end{tabular}\n",
            "text/plain": [
              "   Age EstimatedSalary Purchased\n",
              "2  35  20000           0        \n",
              "4  27  57000           0        \n",
              "5  19  76000           0        \n",
              "9  25  33000           0        \n",
              "12 26  52000           0        \n",
              "18 45  26000           1        "
            ]
          },
          "metadata": {}
        }
      ]
    },
    {
      "cell_type": "markdown",
      "source": [
        "## **Feature Scaling**"
      ],
      "metadata": {
        "id": "dBDj7X-ePnPk"
      }
    },
    {
      "cell_type": "code",
      "source": [
        "train_set[-3] = scale(train_set[-3])\n",
        "test_set[-3] = scale(test_set[-3])"
      ],
      "metadata": {
        "execution": {
          "iopub.status.busy": "2022-03-12T21:41:03.956588Z",
          "iopub.execute_input": "2022-03-12T21:41:03.957875Z",
          "iopub.status.idle": "2022-03-12T21:41:03.973845Z"
        },
        "trusted": true,
        "id": "c8umwBQkPnPl"
      },
      "execution_count": 7,
      "outputs": []
    },
    {
      "cell_type": "code",
      "source": [
        "head(train_set)"
      ],
      "metadata": {
        "execution": {
          "iopub.status.busy": "2022-03-12T21:41:03.976117Z",
          "iopub.execute_input": "2022-03-12T21:41:03.980971Z",
          "iopub.status.idle": "2022-03-12T21:41:04.001430Z"
        },
        "trusted": true,
        "colab": {
          "base_uri": "https://localhost:8080/",
          "height": 286
        },
        "id": "n8NvkYNwPnPl",
        "outputId": "81db383b-0e11-46ca-e7c2-adc7c2c5253b"
      },
      "execution_count": 8,
      "outputs": [
        {
          "output_type": "display_data",
          "data": {
            "text/html": [
              "<table class=\"dataframe\">\n",
              "<caption>A data.frame: 6 × 3</caption>\n",
              "<thead>\n",
              "\t<tr><th></th><th scope=col>Age</th><th scope=col>EstimatedSalary</th><th scope=col>Purchased</th></tr>\n",
              "\t<tr><th></th><th scope=col>&lt;dbl&gt;</th><th scope=col>&lt;dbl&gt;</th><th scope=col>&lt;fct&gt;</th></tr>\n",
              "</thead>\n",
              "<tbody>\n",
              "\t<tr><th scope=row>1</th><td>-1.7655475</td><td>-1.4733414</td><td>0</td></tr>\n",
              "\t<tr><th scope=row>3</th><td>-1.0962966</td><td>-0.7883761</td><td>0</td></tr>\n",
              "\t<tr><th scope=row>6</th><td>-1.0006894</td><td>-0.3602727</td><td>0</td></tr>\n",
              "\t<tr><th scope=row>7</th><td>-1.0006894</td><td> 0.3817730</td><td>0</td></tr>\n",
              "\t<tr><th scope=row>8</th><td>-0.5226531</td><td> 2.2654277</td><td>1</td></tr>\n",
              "\t<tr><th scope=row>10</th><td>-0.2358313</td><td>-0.1604912</td><td>0</td></tr>\n",
              "</tbody>\n",
              "</table>\n"
            ],
            "text/markdown": "\nA data.frame: 6 × 3\n\n| <!--/--> | Age &lt;dbl&gt; | EstimatedSalary &lt;dbl&gt; | Purchased &lt;fct&gt; |\n|---|---|---|---|\n| 1 | -1.7655475 | -1.4733414 | 0 |\n| 3 | -1.0962966 | -0.7883761 | 0 |\n| 6 | -1.0006894 | -0.3602727 | 0 |\n| 7 | -1.0006894 |  0.3817730 | 0 |\n| 8 | -0.5226531 |  2.2654277 | 1 |\n| 10 | -0.2358313 | -0.1604912 | 0 |\n\n",
            "text/latex": "A data.frame: 6 × 3\n\\begin{tabular}{r|lll}\n  & Age & EstimatedSalary & Purchased\\\\\n  & <dbl> & <dbl> & <fct>\\\\\n\\hline\n\t1 & -1.7655475 & -1.4733414 & 0\\\\\n\t3 & -1.0962966 & -0.7883761 & 0\\\\\n\t6 & -1.0006894 & -0.3602727 & 0\\\\\n\t7 & -1.0006894 &  0.3817730 & 0\\\\\n\t8 & -0.5226531 &  2.2654277 & 1\\\\\n\t10 & -0.2358313 & -0.1604912 & 0\\\\\n\\end{tabular}\n",
            "text/plain": [
              "   Age        EstimatedSalary Purchased\n",
              "1  -1.7655475 -1.4733414      0        \n",
              "3  -1.0962966 -0.7883761      0        \n",
              "6  -1.0006894 -0.3602727      0        \n",
              "7  -1.0006894  0.3817730      0        \n",
              "8  -0.5226531  2.2654277      1        \n",
              "10 -0.2358313 -0.1604912      0        "
            ]
          },
          "metadata": {}
        }
      ]
    },
    {
      "cell_type": "code",
      "source": [
        "head(test_set)"
      ],
      "metadata": {
        "execution": {
          "iopub.status.busy": "2022-03-12T21:41:04.003548Z",
          "iopub.execute_input": "2022-03-12T21:41:04.004819Z",
          "iopub.status.idle": "2022-03-12T21:41:04.024974Z"
        },
        "trusted": true,
        "colab": {
          "base_uri": "https://localhost:8080/",
          "height": 286
        },
        "id": "fIOH65lqPnPm",
        "outputId": "41194cd7-e318-4f12-cc70-9b963d9e6ae4"
      },
      "execution_count": 9,
      "outputs": [
        {
          "output_type": "display_data",
          "data": {
            "text/html": [
              "<table class=\"dataframe\">\n",
              "<caption>A data.frame: 6 × 3</caption>\n",
              "<thead>\n",
              "\t<tr><th></th><th scope=col>Age</th><th scope=col>EstimatedSalary</th><th scope=col>Purchased</th></tr>\n",
              "\t<tr><th></th><th scope=col>&lt;dbl&gt;</th><th scope=col>&lt;dbl&gt;</th><th scope=col>&lt;fct&gt;</th></tr>\n",
              "</thead>\n",
              "<tbody>\n",
              "\t<tr><th scope=row>2</th><td>-0.3041906</td><td>-1.5135434</td><td>0</td></tr>\n",
              "\t<tr><th scope=row>4</th><td>-1.0599437</td><td>-0.3245603</td><td>0</td></tr>\n",
              "\t<tr><th scope=row>5</th><td>-1.8156969</td><td> 0.2859986</td><td>0</td></tr>\n",
              "\t<tr><th scope=row>9</th><td>-1.2488820</td><td>-1.0957926</td><td>0</td></tr>\n",
              "\t<tr><th scope=row>12</th><td>-1.1544129</td><td>-0.4852337</td><td>0</td></tr>\n",
              "\t<tr><th scope=row>18</th><td> 0.6405008</td><td>-1.3207353</td><td>1</td></tr>\n",
              "</tbody>\n",
              "</table>\n"
            ],
            "text/markdown": "\nA data.frame: 6 × 3\n\n| <!--/--> | Age &lt;dbl&gt; | EstimatedSalary &lt;dbl&gt; | Purchased &lt;fct&gt; |\n|---|---|---|---|\n| 2 | -0.3041906 | -1.5135434 | 0 |\n| 4 | -1.0599437 | -0.3245603 | 0 |\n| 5 | -1.8156969 |  0.2859986 | 0 |\n| 9 | -1.2488820 | -1.0957926 | 0 |\n| 12 | -1.1544129 | -0.4852337 | 0 |\n| 18 |  0.6405008 | -1.3207353 | 1 |\n\n",
            "text/latex": "A data.frame: 6 × 3\n\\begin{tabular}{r|lll}\n  & Age & EstimatedSalary & Purchased\\\\\n  & <dbl> & <dbl> & <fct>\\\\\n\\hline\n\t2 & -0.3041906 & -1.5135434 & 0\\\\\n\t4 & -1.0599437 & -0.3245603 & 0\\\\\n\t5 & -1.8156969 &  0.2859986 & 0\\\\\n\t9 & -1.2488820 & -1.0957926 & 0\\\\\n\t12 & -1.1544129 & -0.4852337 & 0\\\\\n\t18 &  0.6405008 & -1.3207353 & 1\\\\\n\\end{tabular}\n",
            "text/plain": [
              "   Age        EstimatedSalary Purchased\n",
              "2  -0.3041906 -1.5135434      0        \n",
              "4  -1.0599437 -0.3245603      0        \n",
              "5  -1.8156969  0.2859986      0        \n",
              "9  -1.2488820 -1.0957926      0        \n",
              "12 -1.1544129 -0.4852337      0        \n",
              "18  0.6405008 -1.3207353      1        "
            ]
          },
          "metadata": {}
        }
      ]
    },
    {
      "cell_type": "markdown",
      "source": [
        "## **Fitting Logistic Regression to the Train set**"
      ],
      "metadata": {
        "id": "Glbmi015PnPm"
      }
    },
    {
      "cell_type": "code",
      "source": [
        "classifier = glm(formula = Purchased ~ ., family = binomial, data = train_set)"
      ],
      "metadata": {
        "execution": {
          "iopub.status.busy": "2022-03-12T21:41:04.027152Z",
          "iopub.execute_input": "2022-03-12T21:41:04.028446Z",
          "iopub.status.idle": "2022-03-12T21:41:04.052139Z"
        },
        "trusted": true,
        "id": "J5atyWohPnPn"
      },
      "execution_count": 10,
      "outputs": []
    },
    {
      "cell_type": "markdown",
      "source": [
        "## **Predicting the Test set results**"
      ],
      "metadata": {
        "id": "49JwxjI5PnPn"
      }
    },
    {
      "cell_type": "code",
      "source": [
        "prob_pred = predict(classifier, type = 'response', newdata = test_set[-3])\n",
        "y_pred = ifelse(prob_pred > 0.5, 1, 0)"
      ],
      "metadata": {
        "execution": {
          "iopub.status.busy": "2022-03-12T21:41:04.054570Z",
          "iopub.execute_input": "2022-03-12T21:41:04.055903Z",
          "iopub.status.idle": "2022-03-12T21:41:04.071336Z"
        },
        "trusted": true,
        "id": "Aq6UDMIOPnPo"
      },
      "execution_count": 11,
      "outputs": []
    },
    {
      "cell_type": "markdown",
      "source": [
        "## **Making the Confusion Matrix**"
      ],
      "metadata": {
        "id": "oEbPAFe6PnPo"
      }
    },
    {
      "cell_type": "code",
      "source": [
        "cm = table(test_set[, 3], y_pred > 0.5)\n",
        "cm"
      ],
      "metadata": {
        "execution": {
          "iopub.status.busy": "2022-03-12T21:41:04.073496Z",
          "iopub.execute_input": "2022-03-12T21:41:04.074821Z",
          "iopub.status.idle": "2022-03-12T21:41:04.091556Z"
        },
        "trusted": true,
        "colab": {
          "base_uri": "https://localhost:8080/",
          "height": 86
        },
        "id": "opcznTq8PnPp",
        "outputId": "fdc856c8-9440-4d7f-8f62-e307029b7f99"
      },
      "execution_count": 12,
      "outputs": [
        {
          "output_type": "display_data",
          "data": {
            "text/plain": [
              "   \n",
              "    FALSE TRUE\n",
              "  0    57    7\n",
              "  1    10   26"
            ]
          },
          "metadata": {}
        }
      ]
    },
    {
      "cell_type": "markdown",
      "source": [
        "## **Evaluation Metrics**"
      ],
      "metadata": {
        "id": "TutkwmWzPnPq"
      }
    },
    {
      "cell_type": "code",
      "source": [
        "n = sum(cm) # number of instances\n",
        "nc = nrow(cm) # number of classes\n",
        "diag = diag(cm) # number of correctly classified instances per class \n",
        "rowsums = apply(cm, 1, sum) # number of instances per class\n",
        "colsums = apply(cm, 2, sum) # number of predictions per class\n",
        "p = rowsums / n # distribution of instances over the actual classes\n",
        "q = colsums / n # distribution of instances over the predicted classes"
      ],
      "metadata": {
        "execution": {
          "iopub.status.busy": "2022-03-12T21:41:07.853227Z",
          "iopub.execute_input": "2022-03-12T21:41:07.854722Z",
          "iopub.status.idle": "2022-03-12T21:41:07.876946Z"
        },
        "trusted": true,
        "id": "DuAac0BnPnPq"
      },
      "execution_count": 13,
      "outputs": []
    },
    {
      "cell_type": "code",
      "source": [
        "accuracy = sum(diag) / n \n",
        "accuracy "
      ],
      "metadata": {
        "execution": {
          "iopub.status.busy": "2022-03-12T21:41:28.394122Z",
          "iopub.execute_input": "2022-03-12T21:41:28.395665Z",
          "iopub.status.idle": "2022-03-12T21:41:28.412676Z"
        },
        "trusted": true,
        "colab": {
          "base_uri": "https://localhost:8080/",
          "height": 34
        },
        "id": "eY-Exy2yPnPq",
        "outputId": "4b2dc5fa-2909-4507-c7b3-254e45506138"
      },
      "execution_count": 14,
      "outputs": [
        {
          "output_type": "display_data",
          "data": {
            "text/html": [
              "0.83"
            ],
            "text/markdown": "0.83",
            "text/latex": "0.83",
            "text/plain": [
              "[1] 0.83"
            ]
          },
          "metadata": {}
        }
      ]
    },
    {
      "cell_type": "code",
      "source": [
        "precision = diag / colsums \n",
        "recall = diag / rowsums \n",
        "f1 = 2 * precision * recall / (precision + recall) \n",
        "data.frame(precision, recall, f1) "
      ],
      "metadata": {
        "execution": {
          "iopub.status.busy": "2022-03-12T21:41:43.392213Z",
          "iopub.execute_input": "2022-03-12T21:41:43.393710Z",
          "iopub.status.idle": "2022-03-12T21:41:43.417392Z"
        },
        "trusted": true,
        "colab": {
          "base_uri": "https://localhost:8080/",
          "height": 161
        },
        "id": "2ZHLgHOuPnPr",
        "outputId": "ed135512-a3ca-4f4f-c841-4e7e046739e8"
      },
      "execution_count": 15,
      "outputs": [
        {
          "output_type": "display_data",
          "data": {
            "text/html": [
              "<table class=\"dataframe\">\n",
              "<caption>A data.frame: 2 × 3</caption>\n",
              "<thead>\n",
              "\t<tr><th></th><th scope=col>precision</th><th scope=col>recall</th><th scope=col>f1</th></tr>\n",
              "\t<tr><th></th><th scope=col>&lt;dbl&gt;</th><th scope=col>&lt;dbl&gt;</th><th scope=col>&lt;dbl&gt;</th></tr>\n",
              "</thead>\n",
              "<tbody>\n",
              "\t<tr><th scope=row>FALSE</th><td>0.8507463</td><td>0.8906250</td><td>0.8702290</td></tr>\n",
              "\t<tr><th scope=row>TRUE</th><td>0.7878788</td><td>0.7222222</td><td>0.7536232</td></tr>\n",
              "</tbody>\n",
              "</table>\n"
            ],
            "text/markdown": "\nA data.frame: 2 × 3\n\n| <!--/--> | precision &lt;dbl&gt; | recall &lt;dbl&gt; | f1 &lt;dbl&gt; |\n|---|---|---|---|\n| FALSE | 0.8507463 | 0.8906250 | 0.8702290 |\n| TRUE | 0.7878788 | 0.7222222 | 0.7536232 |\n\n",
            "text/latex": "A data.frame: 2 × 3\n\\begin{tabular}{r|lll}\n  & precision & recall & f1\\\\\n  & <dbl> & <dbl> & <dbl>\\\\\n\\hline\n\tFALSE & 0.8507463 & 0.8906250 & 0.8702290\\\\\n\tTRUE & 0.7878788 & 0.7222222 & 0.7536232\\\\\n\\end{tabular}\n",
            "text/plain": [
              "      precision recall    f1       \n",
              "FALSE 0.8507463 0.8906250 0.8702290\n",
              "TRUE  0.7878788 0.7222222 0.7536232"
            ]
          },
          "metadata": {}
        }
      ]
    },
    {
      "cell_type": "markdown",
      "source": [
        "## **Visualizing the Train set results**"
      ],
      "metadata": {
        "id": "-n2441YRPnPs"
      }
    },
    {
      "cell_type": "code",
      "source": [
        "install.packages('Rfast')\n",
        "library(Rfast)\n",
        "set = train_set\n",
        "X1 = seq(min(set[, 1]) - 1, max(set[, 1]) + 1, by = 0.01)\n",
        "X2 = seq(min(set[, 2]) - 1, max(set[, 2]) + 1, by = 0.01)\n",
        "grid_set = expand.grid(X1, X2)\n",
        "colnames(grid_set) = c('Age', 'EstimatedSalary')\n",
        "prob_set = predict(classifier, type = 'response', newdata = grid_set)\n",
        "y_grid = ifelse(prob_set > 0.5, 1, 0)\n",
        "plot(set[, -3],\n",
        "     main = 'Logistic Regression (Train set)',\n",
        "     xlab = 'Age', ylab = 'Estimated Salary',\n",
        "     xlim = range(X1), ylim = range(X2))\n",
        "contour(X1, X2, matrix(as.numeric(y_grid), length(X1), length(X2)), add = TRUE)\n",
        "points(grid_set, pch = '.', col = ifelse(y_grid == 1, 'springgreen3', 'tomato'))\n",
        "points(set, pch = 21, bg = ifelse(set[, 3] == 1, 'green4', 'red3'))"
      ],
      "metadata": {
        "id": "hr_95udqXdCO"
      },
      "execution_count": null,
      "outputs": []
    },
    {
      "cell_type": "markdown",
      "source": [
        "## **Visualizing the Test set results**"
      ],
      "metadata": {
        "id": "vT1VHkblPnPs"
      }
    },
    {
      "cell_type": "code",
      "source": [
        "# Visualising the Test set results\n",
        "library(Rfast)\n",
        "set = test_set\n",
        "X1 = seq(min(set[, 1]) - 1, max(set[, 1]) + 1, by = 0.01)\n",
        "X2 = seq(min(set[, 2]) - 1, max(set[, 2]) + 1, by = 0.01)\n",
        "grid_set = expand.grid(X1, X2)\n",
        "colnames(grid_set) = c('Age', 'EstimatedSalary')\n",
        "prob_set = predict(classifier, type = 'response', newdata = grid_set)\n",
        "y_grid = ifelse(prob_set > 0.5, 1, 0)\n",
        "plot(set[, -3],\n",
        "     main = 'Logistic Regression (Test set)',\n",
        "     xlab = 'Age', ylab = 'Estimated Salary',\n",
        "     xlim = range(X1), ylim = range(X2))\n",
        "contour(X1, X2, matrix(as.numeric(y_grid), length(X1), length(X2)), add = TRUE)\n",
        "points(grid_set, pch = '.', col = ifelse(y_grid == 1, 'springgreen3', 'tomato'))\n",
        "points(set, pch = 21, bg = ifelse(set[, 3] == 1, 'green4', 'red3'))"
      ],
      "metadata": {
        "execution": {
          "iopub.status.busy": "2022-03-12T21:58:29.815723Z",
          "iopub.execute_input": "2022-03-12T21:58:29.817227Z",
          "iopub.status.idle": "2022-03-12T21:58:34.949109Z"
        },
        "trusted": true,
        "id": "zjilUDmkPnPt"
      },
      "execution_count": null,
      "outputs": []
    },
    {
      "cell_type": "code",
      "source": [
        "library(lattice)\n",
        "xyplot(ds$EstimatedSalary ~ ds$Age, group=ds$Purchased, grid=TRUE, asp=1)"
      ],
      "metadata": {
        "colab": {
          "base_uri": "https://localhost:8080/",
          "height": 437
        },
        "id": "N55I12gfW9h0",
        "outputId": "0430a72f-fd7b-4a1a-d16d-b4453db1142e"
      },
      "execution_count": 16,
      "outputs": [
        {
          "output_type": "display_data",
          "data": {
            "text/plain": [
              "plot without title"
            ],
            "image/png": "[encoded data removed]"
          },
          "metadata": {
            "image/png": {
              "width": 420,
              "height": 420
            }
          }
        }
      ]
    }
  ]
}