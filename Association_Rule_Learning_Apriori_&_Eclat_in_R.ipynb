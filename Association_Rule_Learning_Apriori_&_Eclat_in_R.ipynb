{
  "metadata": {
    "kernelspec": {
      "name": "ir",
      "display_name": "R",
      "language": "R"
    },
    "language_info": {
      "name": "R",
      "codemirror_mode": "r",
      "pygments_lexer": "r",
      "mimetype": "text/x-r-source",
      "file_extension": ".r",
      "version": "4.0.5"
    },
    "colab": {
      "name": "Association Rule Learning: Apriori & Eclat in R.ipynb",
      "provenance": []
    }
  },
  "nbformat_minor": 0,
  "nbformat": 4,
  "cells": [
    {
      "cell_type": "markdown",
      "source": [
        "# **Association Rule Learning: Apriori & Eclat in R**"
      ],
      "metadata": {
        "id": "pyHOVX5Cwfrp"
      }
    },
    {
      "cell_type": "markdown",
      "source": [
        "## **Apriori**"
      ],
      "metadata": {
        "id": "K9zxmqslwfrx"
      }
    },
    {
      "cell_type": "markdown",
      "source": [
        "### **Data Preprocessing**"
      ],
      "metadata": {
        "id": "qdwLgzVewfrz"
      }
    },
    {
      "cell_type": "code",
      "source": [
        "install.packages('arules')\n",
        "library(arules)"
      ],
      "metadata": {
        "execution": {
          "iopub.status.busy": "2022-03-19T00:19:28.933862Z",
          "iopub.execute_input": "2022-03-19T00:19:28.939368Z",
          "iopub.status.idle": "2022-03-19T00:19:30.475012Z"
        },
        "trusted": true,
        "colab": {
          "base_uri": "https://localhost:8080/"
        },
        "id": "OnYs4NJTwfr0",
        "outputId": "41af2193-4296-45ee-b3d4-b682792c89ae"
      },
      "execution_count": 1,
      "outputs": [
        {
          "output_type": "stream",
          "name": "stderr",
          "text": [
            "Installing package into ‘/usr/local/lib/R/site-library’\n",
            "(as ‘lib’ is unspecified)\n",
            "\n",
            "Loading required package: Matrix\n",
            "\n",
            "\n",
            "Attaching package: ‘arules’\n",
            "\n",
            "\n",
            "The following objects are masked from ‘package:base’:\n",
            "\n",
            "    abbreviate, write\n",
            "\n",
            "\n"
          ]
        }
      ]
    },
    {
      "cell_type": "code",
      "source": [
        "ds = read.csv('/content/Market_Basket_Optimisation.csv', header = FALSE)\n",
        "head(ds)"
      ],
      "metadata": {
        "execution": {
          "iopub.status.busy": "2022-03-19T00:19:30.477680Z",
          "iopub.execute_input": "2022-03-19T00:19:30.507415Z",
          "iopub.status.idle": "2022-03-19T00:19:30.574386Z"
        },
        "trusted": true,
        "colab": {
          "base_uri": "https://localhost:8080/",
          "height": 355
        },
        "id": "T00bVzYQwfr4",
        "outputId": "701a7a6c-2162-4ea4-df46-ac078e12815b"
      },
      "execution_count": 2,
      "outputs": [
        {
          "output_type": "display_data",
          "data": {
            "text/html": [
              "<table class=\"dataframe\">\n",
              "<caption>A data.frame: 6 × 20</caption>\n",
              "<thead>\n",
              "\t<tr><th></th><th scope=col>V1</th><th scope=col>V2</th><th scope=col>V3</th><th scope=col>V4</th><th scope=col>V5</th><th scope=col>V6</th><th scope=col>V7</th><th scope=col>V8</th><th scope=col>V9</th><th scope=col>V10</th><th scope=col>V11</th><th scope=col>V12</th><th scope=col>V13</th><th scope=col>V14</th><th scope=col>V15</th><th scope=col>V16</th><th scope=col>V17</th><th scope=col>V18</th><th scope=col>V19</th><th scope=col>V20</th></tr>\n",
              "\t<tr><th></th><th scope=col>&lt;chr&gt;</th><th scope=col>&lt;chr&gt;</th><th scope=col>&lt;chr&gt;</th><th scope=col>&lt;chr&gt;</th><th scope=col>&lt;chr&gt;</th><th scope=col>&lt;chr&gt;</th><th scope=col>&lt;chr&gt;</th><th scope=col>&lt;chr&gt;</th><th scope=col>&lt;chr&gt;</th><th scope=col>&lt;chr&gt;</th><th scope=col>&lt;chr&gt;</th><th scope=col>&lt;chr&gt;</th><th scope=col>&lt;chr&gt;</th><th scope=col>&lt;chr&gt;</th><th scope=col>&lt;chr&gt;</th><th scope=col>&lt;chr&gt;</th><th scope=col>&lt;chr&gt;</th><th scope=col>&lt;chr&gt;</th><th scope=col>&lt;chr&gt;</th><th scope=col>&lt;chr&gt;</th></tr>\n",
              "</thead>\n",
              "<tbody>\n",
              "\t<tr><th scope=row>1</th><td>shrimp        </td><td>almonds  </td><td>avocado   </td><td>vegetables mix  </td><td>green grapes</td><td>whole weat flour</td><td>yams</td><td>cottage cheese</td><td>energy drink</td><td>tomato juice</td><td>low fat yogurt</td><td>green tea</td><td>honey</td><td>salad</td><td>mineral water</td><td>salmon</td><td>antioxydant juice</td><td>frozen smoothie</td><td>spinach</td><td>olive oil</td></tr>\n",
              "\t<tr><th scope=row>2</th><td>burgers       </td><td>meatballs</td><td>eggs      </td><td>                </td><td>            </td><td>                </td><td>    </td><td>              </td><td>            </td><td>            </td><td>              </td><td>         </td><td>     </td><td>     </td><td>             </td><td>      </td><td>                 </td><td>               </td><td>       </td><td>         </td></tr>\n",
              "\t<tr><th scope=row>3</th><td>chutney       </td><td>         </td><td>          </td><td>                </td><td>            </td><td>                </td><td>    </td><td>              </td><td>            </td><td>            </td><td>              </td><td>         </td><td>     </td><td>     </td><td>             </td><td>      </td><td>                 </td><td>               </td><td>       </td><td>         </td></tr>\n",
              "\t<tr><th scope=row>4</th><td>turkey        </td><td>avocado  </td><td>          </td><td>                </td><td>            </td><td>                </td><td>    </td><td>              </td><td>            </td><td>            </td><td>              </td><td>         </td><td>     </td><td>     </td><td>             </td><td>      </td><td>                 </td><td>               </td><td>       </td><td>         </td></tr>\n",
              "\t<tr><th scope=row>5</th><td>mineral water </td><td>milk     </td><td>energy bar</td><td>whole wheat rice</td><td>green tea   </td><td>                </td><td>    </td><td>              </td><td>            </td><td>            </td><td>              </td><td>         </td><td>     </td><td>     </td><td>             </td><td>      </td><td>                 </td><td>               </td><td>       </td><td>         </td></tr>\n",
              "\t<tr><th scope=row>6</th><td>low fat yogurt</td><td>         </td><td>          </td><td>                </td><td>            </td><td>                </td><td>    </td><td>              </td><td>            </td><td>            </td><td>              </td><td>         </td><td>     </td><td>     </td><td>             </td><td>      </td><td>                 </td><td>               </td><td>       </td><td>         </td></tr>\n",
              "</tbody>\n",
              "</table>\n"
            ],
            "text/markdown": "\nA data.frame: 6 × 20\n\n| <!--/--> | V1 &lt;chr&gt; | V2 &lt;chr&gt; | V3 &lt;chr&gt; | V4 &lt;chr&gt; | V5 &lt;chr&gt; | V6 &lt;chr&gt; | V7 &lt;chr&gt; | V8 &lt;chr&gt; | V9 &lt;chr&gt; | V10 &lt;chr&gt; | V11 &lt;chr&gt; | V12 &lt;chr&gt; | V13 &lt;chr&gt; | V14 &lt;chr&gt; | V15 &lt;chr&gt; | V16 &lt;chr&gt; | V17 &lt;chr&gt; | V18 &lt;chr&gt; | V19 &lt;chr&gt; | V20 &lt;chr&gt; |\n|---|---|---|---|---|---|---|---|---|---|---|---|---|---|---|---|---|---|---|---|---|\n| 1 | shrimp         | almonds   | avocado    | vegetables mix   | green grapes | whole weat flour | yams | cottage cheese | energy drink | tomato juice | low fat yogurt | green tea | honey | salad | mineral water | salmon | antioxydant juice | frozen smoothie | spinach | olive oil |\n| 2 | burgers        | meatballs | eggs       | <!----> | <!----> | <!----> | <!----> | <!----> | <!----> | <!----> | <!----> | <!----> | <!----> | <!----> | <!----> | <!----> | <!----> | <!----> | <!----> | <!----> |\n| 3 | chutney        | <!----> | <!----> | <!----> | <!----> | <!----> | <!----> | <!----> | <!----> | <!----> | <!----> | <!----> | <!----> | <!----> | <!----> | <!----> | <!----> | <!----> | <!----> | <!----> |\n| 4 | turkey         | avocado   | <!----> | <!----> | <!----> | <!----> | <!----> | <!----> | <!----> | <!----> | <!----> | <!----> | <!----> | <!----> | <!----> | <!----> | <!----> | <!----> | <!----> | <!----> |\n| 5 | mineral water  | milk      | energy bar | whole wheat rice | green tea    | <!----> | <!----> | <!----> | <!----> | <!----> | <!----> | <!----> | <!----> | <!----> | <!----> | <!----> | <!----> | <!----> | <!----> | <!----> |\n| 6 | low fat yogurt | <!----> | <!----> | <!----> | <!----> | <!----> | <!----> | <!----> | <!----> | <!----> | <!----> | <!----> | <!----> | <!----> | <!----> | <!----> | <!----> | <!----> | <!----> | <!----> |\n\n",
            "text/latex": "A data.frame: 6 × 20\n\\begin{tabular}{r|llllllllllllllllllll}\n  & V1 & V2 & V3 & V4 & V5 & V6 & V7 & V8 & V9 & V10 & V11 & V12 & V13 & V14 & V15 & V16 & V17 & V18 & V19 & V20\\\\\n  & <chr> & <chr> & <chr> & <chr> & <chr> & <chr> & <chr> & <chr> & <chr> & <chr> & <chr> & <chr> & <chr> & <chr> & <chr> & <chr> & <chr> & <chr> & <chr> & <chr>\\\\\n\\hline\n\t1 & shrimp         & almonds   & avocado    & vegetables mix   & green grapes & whole weat flour & yams & cottage cheese & energy drink & tomato juice & low fat yogurt & green tea & honey & salad & mineral water & salmon & antioxydant juice & frozen smoothie & spinach & olive oil\\\\\n\t2 & burgers        & meatballs & eggs       &                  &              &                  &      &                &              &              &                &           &       &       &               &        &                   &                 &         &          \\\\\n\t3 & chutney        &           &            &                  &              &                  &      &                &              &              &                &           &       &       &               &        &                   &                 &         &          \\\\\n\t4 & turkey         & avocado   &            &                  &              &                  &      &                &              &              &                &           &       &       &               &        &                   &                 &         &          \\\\\n\t5 & mineral water  & milk      & energy bar & whole wheat rice & green tea    &                  &      &                &              &              &                &           &       &       &               &        &                   &                 &         &          \\\\\n\t6 & low fat yogurt &           &            &                  &              &                  &      &                &              &              &                &           &       &       &               &        &                   &                 &         &          \\\\\n\\end{tabular}\n",
            "text/plain": [
              "  V1             V2        V3         V4               V5          \n",
              "1 shrimp         almonds   avocado    vegetables mix   green grapes\n",
              "2 burgers        meatballs eggs                                    \n",
              "3 chutney                                                          \n",
              "4 turkey         avocado                                           \n",
              "5 mineral water  milk      energy bar whole wheat rice green tea   \n",
              "6 low fat yogurt                                                   \n",
              "  V6               V7   V8             V9           V10          V11           \n",
              "1 whole weat flour yams cottage cheese energy drink tomato juice low fat yogurt\n",
              "2                                                                              \n",
              "3                                                                              \n",
              "4                                                                              \n",
              "5                                                                              \n",
              "6                                                                              \n",
              "  V12       V13   V14   V15           V16    V17               V18            \n",
              "1 green tea honey salad mineral water salmon antioxydant juice frozen smoothie\n",
              "2                                                                             \n",
              "3                                                                             \n",
              "4                                                                             \n",
              "5                                                                             \n",
              "6                                                                             \n",
              "  V19     V20      \n",
              "1 spinach olive oil\n",
              "2                  \n",
              "3                  \n",
              "4                  \n",
              "5                  \n",
              "6                  "
            ]
          },
          "metadata": {}
        }
      ]
    },
    {
      "cell_type": "code",
      "source": [
        "ds = read.transactions('/content/Market_Basket_Optimisation.csv', sep = ',', rm.duplicates = TRUE)\n",
        "summary(ds)"
      ],
      "metadata": {
        "execution": {
          "iopub.status.busy": "2022-03-19T00:19:30.576671Z",
          "iopub.execute_input": "2022-03-19T00:19:30.578011Z",
          "iopub.status.idle": "2022-03-19T00:19:31.567686Z"
        },
        "trusted": true,
        "colab": {
          "base_uri": "https://localhost:8080/",
          "height": 503
        },
        "id": "VQoDNosewfr5",
        "outputId": "6f365c3c-4b01-4b06-b801-d5ac49a60181"
      },
      "execution_count": 3,
      "outputs": [
        {
          "output_type": "stream",
          "name": "stdout",
          "text": [
            "distribution of transactions with duplicates:\n",
            "1 \n",
            "5 \n"
          ]
        },
        {
          "output_type": "display_data",
          "data": {
            "text/plain": [
              "transactions as itemMatrix in sparse format with\n",
              " 7501 rows (elements/itemsets/transactions) and\n",
              " 119 columns (items) and a density of 0.03288973 \n",
              "\n",
              "most frequent items:\n",
              "mineral water          eggs     spaghetti  french fries     chocolate \n",
              "         1788          1348          1306          1282          1229 \n",
              "      (Other) \n",
              "        22405 \n",
              "\n",
              "element (itemset/transaction) length distribution:\n",
              "sizes\n",
              "   1    2    3    4    5    6    7    8    9   10   11   12   13   14   15   16 \n",
              "1754 1358 1044  816  667  493  391  324  259  139  102   67   40   22   17    4 \n",
              "  18   19   20 \n",
              "   1    2    1 \n",
              "\n",
              "   Min. 1st Qu.  Median    Mean 3rd Qu.    Max. \n",
              "  1.000   2.000   3.000   3.914   5.000  20.000 \n",
              "\n",
              "includes extended item information - examples:\n",
              "             labels\n",
              "1           almonds\n",
              "2 antioxydant juice\n",
              "3         asparagus"
            ]
          },
          "metadata": {}
        }
      ]
    },
    {
      "cell_type": "code",
      "source": [
        "itemFrequencyPlot(ds, topN = 10)"
      ],
      "metadata": {
        "execution": {
          "iopub.status.busy": "2022-03-19T00:19:31.569819Z",
          "iopub.execute_input": "2022-03-19T00:19:31.571117Z",
          "iopub.status.idle": "2022-03-19T00:19:31.676519Z"
        },
        "trusted": true,
        "colab": {
          "base_uri": "https://localhost:8080/",
          "height": 437
        },
        "id": "lP4Krjrzwfr6",
        "outputId": "cb7e5053-8ab6-4b1d-dc42-0201e9235c9e"
      },
      "execution_count": 4,
      "outputs": [
        {
          "output_type": "display_data",
          "data": {
            "text/plain": [
              "plot without title"
            ],
            "image/png": "[encoded data removed]"
          },
          "metadata": {
            "image/png": {
              "width": 420,
              "height": 420
            }
          }
        }
      ]
    },
    {
      "cell_type": "markdown",
      "source": [
        "### **Training Apriori on the dataset**"
      ],
      "metadata": {
        "id": "UDMMTqOFwfr7"
      }
    },
    {
      "cell_type": "code",
      "source": [
        "rules = apriori(data = ds, parameter = list(support = 0.004, confidence = 0.2))"
      ],
      "metadata": {
        "execution": {
          "iopub.status.busy": "2022-03-19T00:19:31.678714Z",
          "iopub.execute_input": "2022-03-19T00:19:31.680157Z",
          "iopub.status.idle": "2022-03-19T00:19:31.736570Z"
        },
        "trusted": true,
        "colab": {
          "base_uri": "https://localhost:8080/"
        },
        "id": "xc2h-FmMwfr8",
        "outputId": "08bec05e-da75-4a60-ff20-f83be9c00d3c"
      },
      "execution_count": 5,
      "outputs": [
        {
          "output_type": "stream",
          "name": "stdout",
          "text": [
            "Apriori\n",
            "\n",
            "Parameter specification:\n",
            " confidence minval smax arem  aval originalSupport maxtime support minlen\n",
            "        0.2    0.1    1 none FALSE            TRUE       5   0.004      1\n",
            " maxlen target  ext\n",
            "     10  rules TRUE\n",
            "\n",
            "Algorithmic control:\n",
            " filter tree heap memopt load sort verbose\n",
            "    0.1 TRUE TRUE  FALSE TRUE    2    TRUE\n",
            "\n",
            "Absolute minimum support count: 30 \n",
            "\n",
            "set item appearances ...[0 item(s)] done [0.00s].\n",
            "set transactions ...[119 item(s), 7501 transaction(s)] done [0.00s].\n",
            "sorting and recoding items ... [114 item(s)] done [0.00s].\n",
            "creating transaction tree ... done [0.00s].\n",
            "checking subsets of size 1 2 3 4 done [0.00s].\n",
            "writing ... [811 rule(s)] done [0.00s].\n",
            "creating S4 object  ... done [0.00s].\n"
          ]
        }
      ]
    },
    {
      "cell_type": "markdown",
      "source": [
        "### **Visualizing the results**"
      ],
      "metadata": {
        "id": "qMnFpDkfwfr9"
      }
    },
    {
      "cell_type": "code",
      "source": [
        "inspect(sort(rules, by = 'lift')[1:10])"
      ],
      "metadata": {
        "execution": {
          "iopub.status.busy": "2022-03-19T00:19:31.738804Z",
          "iopub.execute_input": "2022-03-19T00:19:31.740112Z",
          "iopub.status.idle": "2022-03-19T00:19:31.771905Z"
        },
        "trusted": true,
        "colab": {
          "base_uri": "https://localhost:8080/"
        },
        "id": "t8moV96twfr-",
        "outputId": "18b63005-6ba6-4f49-e407-9f435b6c4681"
      },
      "execution_count": 6,
      "outputs": [
        {
          "output_type": "stream",
          "name": "stdout",
          "text": [
            "     lhs                       rhs                 support confidence   coverage     lift count\n",
            "[1]  {light cream}          => {chicken}       0.004532729  0.2905983 0.01559792 4.843951    34\n",
            "[2]  {pasta}                => {escalope}      0.005865885  0.3728814 0.01573124 4.700812    44\n",
            "[3]  {pasta}                => {shrimp}        0.005065991  0.3220339 0.01573124 4.506672    38\n",
            "[4]  {eggs,                                                                                    \n",
            "      ground beef}          => {herb & pepper} 0.004132782  0.2066667 0.01999733 4.178455    31\n",
            "[5]  {whole wheat pasta}    => {olive oil}     0.007998933  0.2714932 0.02946274 4.122410    60\n",
            "[6]  {herb & pepper,                                                                           \n",
            "      spaghetti}            => {ground beef}   0.006399147  0.3934426 0.01626450 4.004360    48\n",
            "[7]  {herb & pepper,                                                                           \n",
            "      mineral water}        => {ground beef}   0.006665778  0.3906250 0.01706439 3.975683    50\n",
            "[8]  {tomato sauce}         => {ground beef}   0.005332622  0.3773585 0.01413145 3.840659    40\n",
            "[9]  {mushroom cream sauce} => {escalope}      0.005732569  0.3006993 0.01906412 3.790833    43\n",
            "[10] {frozen vegetables,                                                                       \n",
            "      mineral water,                                                                           \n",
            "      spaghetti}            => {ground beef}   0.004399413  0.3666667 0.01199840 3.731841    33\n"
          ]
        }
      ]
    },
    {
      "cell_type": "markdown",
      "source": [
        "## **Eclat**"
      ],
      "metadata": {
        "id": "9RZSs7BKwfr_"
      }
    },
    {
      "cell_type": "markdown",
      "source": [
        "### **Training Eclat on the dataset**"
      ],
      "metadata": {
        "id": "H0x9aZn7wfr_"
      }
    },
    {
      "cell_type": "code",
      "source": [
        "rules = eclat(data = ds, parameter = list(support = 0.003, minlen = 2))"
      ],
      "metadata": {
        "execution": {
          "iopub.status.busy": "2022-03-19T00:19:31.774176Z",
          "iopub.execute_input": "2022-03-19T00:19:31.775467Z",
          "iopub.status.idle": "2022-03-19T00:19:31.819608Z"
        },
        "trusted": true,
        "colab": {
          "base_uri": "https://localhost:8080/"
        },
        "id": "qLCmTGkzwfsA",
        "outputId": "5c3c19a8-ac5a-4731-808f-7f69a708d292"
      },
      "execution_count": 7,
      "outputs": [
        {
          "output_type": "stream",
          "name": "stdout",
          "text": [
            "Eclat\n",
            "\n",
            "parameter specification:\n",
            " tidLists support minlen maxlen            target  ext\n",
            "    FALSE   0.003      2     10 frequent itemsets TRUE\n",
            "\n",
            "algorithmic control:\n",
            " sparse sort verbose\n",
            "      7   -2    TRUE\n",
            "\n",
            "Absolute minimum support count: 22 \n",
            "\n",
            "create itemset ... \n",
            "set transactions ...[119 item(s), 7501 transaction(s)] done [0.00s].\n",
            "sorting and recoding items ... [115 item(s)] done [0.00s].\n",
            "creating sparse bit matrix ... [115 row(s), 7501 column(s)] done [0.00s].\n",
            "writing  ... [1328 set(s)] done [0.01s].\n",
            "Creating S4 object  ... done [0.00s].\n"
          ]
        }
      ]
    },
    {
      "cell_type": "markdown",
      "source": [
        "### **Visualizing the results**"
      ],
      "metadata": {
        "id": "6tCosaVHwfsB"
      }
    },
    {
      "cell_type": "code",
      "source": [
        "inspect(sort(rules, by = 'support')[1:10])"
      ],
      "metadata": {
        "execution": {
          "iopub.status.busy": "2022-03-19T00:19:31.822641Z",
          "iopub.execute_input": "2022-03-19T00:19:31.824155Z",
          "iopub.status.idle": "2022-03-19T00:19:31.848433Z"
        },
        "trusted": true,
        "colab": {
          "base_uri": "https://localhost:8080/"
        },
        "id": "-jCvML4mwfsB",
        "outputId": "bebc81eb-6c75-482d-bd7f-cfea51bf0937"
      },
      "execution_count": 8,
      "outputs": [
        {
          "output_type": "stream",
          "name": "stdout",
          "text": [
            "     items                              support    count\n",
            "[1]  {mineral water, spaghetti}         0.05972537 448  \n",
            "[2]  {chocolate, mineral water}         0.05265965 395  \n",
            "[3]  {eggs, mineral water}              0.05092654 382  \n",
            "[4]  {milk, mineral water}              0.04799360 360  \n",
            "[5]  {ground beef, mineral water}       0.04092788 307  \n",
            "[6]  {ground beef, spaghetti}           0.03919477 294  \n",
            "[7]  {chocolate, spaghetti}             0.03919477 294  \n",
            "[8]  {eggs, spaghetti}                  0.03652846 274  \n",
            "[9]  {eggs, french fries}               0.03639515 273  \n",
            "[10] {frozen vegetables, mineral water} 0.03572857 268  \n"
          ]
        }
      ]
    }
  ]
}