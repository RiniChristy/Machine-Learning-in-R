{
  "metadata": {
    "kernelspec": {
      "name": "ir",
      "display_name": "R",
      "language": "R"
    },
    "language_info": {
      "name": "R",
      "codemirror_mode": "r",
      "pygments_lexer": "r",
      "mimetype": "text/x-r-source",
      "file_extension": ".r",
      "version": "4.0.5"
    },
    "colab": {
      "name": "Natural Language Processing of Restaurant Review in R.ipynb",
      "provenance": []
    }
  },
  "nbformat_minor": 0,
  "nbformat": 4,
  "cells": [
    {
      "cell_type": "markdown",
      "source": [
        "# **Natural Language Processing of Restaurant Review in R**"
      ],
      "metadata": {
        "id": "8V4drkZWg79j"
      }
    },
    {
      "cell_type": "markdown",
      "source": [
        "## **Importing the dataset**"
      ],
      "metadata": {
        "id": "rVf1sxFZg79p"
      }
    },
    {
      "cell_type": "code",
      "source": [
        "ds_original = read.delim('/content/Restaurant_Reviews.tsv', quote = '', stringsAsFactors = FALSE)\n",
        "print(head(ds_original))"
      ],
      "metadata": {
        "execution": {
          "iopub.status.busy": "2022-03-20T12:58:40.871088Z",
          "iopub.execute_input": "2022-03-20T12:58:40.872691Z",
          "iopub.status.idle": "2022-03-20T12:58:41.019468Z"
        },
        "trusted": true,
        "colab": {
          "base_uri": "https://localhost:8080/"
        },
        "id": "mmw03fkdg79q",
        "outputId": "f63b7cc6-4a1b-4993-f700-5f58fa7de339"
      },
      "execution_count": 1,
      "outputs": [
        {
          "output_type": "stream",
          "name": "stdout",
          "text": [
            "                                                                                   Review\n",
            "1                                                                Wow... Loved this place.\n",
            "2                                                                      Crust is not good.\n",
            "3                                               Not tasty and the texture was just nasty.\n",
            "4 Stopped by during the late May bank holiday off Rick Steve recommendation and loved it.\n",
            "5                             The selection on the menu was great and so were the prices.\n",
            "6                                          Now I am getting angry and I want my damn pho.\n",
            "  Liked\n",
            "1     1\n",
            "2     0\n",
            "3     0\n",
            "4     1\n",
            "5     1\n",
            "6     0\n"
          ]
        }
      ]
    },
    {
      "cell_type": "markdown",
      "source": [
        "## **Cleaning the texts**"
      ],
      "metadata": {
        "id": "Hzh6yLqjg79t"
      }
    },
    {
      "cell_type": "code",
      "source": [
        "install.packages('tm')\n",
        "library(tm)\n",
        "corpus = VCorpus(VectorSource(ds_original$Review))\n",
        "corpus = tm_map(corpus, content_transformer(tolower))\n",
        "corpus = tm_map(corpus, removeNumbers)\n",
        "corpus = tm_map(corpus, removePunctuation)\n",
        "install.packages('SnowballC')\n",
        "library(SnowballC)\n",
        "corpus = tm_map(corpus, removeWords, stopwords())\n",
        "corpus = tm_map(corpus, stemDocument)\n",
        "corpus = tm_map(corpus, stripWhitespace)"
      ],
      "metadata": {
        "execution": {
          "iopub.status.busy": "2022-03-20T12:58:41.022303Z",
          "iopub.execute_input": "2022-03-20T12:58:41.066689Z",
          "iopub.status.idle": "2022-03-20T12:58:42.358801Z"
        },
        "trusted": true,
        "colab": {
          "base_uri": "https://localhost:8080/"
        },
        "id": "p4UISyj9g79u",
        "outputId": "5f958380-dffa-4763-c4ef-944cf79ef871"
      },
      "execution_count": 2,
      "outputs": [
        {
          "output_type": "stream",
          "name": "stderr",
          "text": [
            "Installing package into ‘/usr/local/lib/R/site-library’\n",
            "(as ‘lib’ is unspecified)\n",
            "\n",
            "Loading required package: NLP\n",
            "\n",
            "Installing package into ‘/usr/local/lib/R/site-library’\n",
            "(as ‘lib’ is unspecified)\n",
            "\n"
          ]
        }
      ]
    },
    {
      "cell_type": "markdown",
      "source": [
        "## **Creating the Bag of Words model**"
      ],
      "metadata": {
        "id": "68V-inc6g79v"
      }
    },
    {
      "cell_type": "code",
      "source": [
        "dtm = DocumentTermMatrix(corpus)\n",
        "dtm = removeSparseTerms(dtm, 0.999)\n",
        "ds = as.data.frame(as.matrix(dtm))\n",
        "ds$Liked = ds_original$Liked"
      ],
      "metadata": {
        "execution": {
          "iopub.status.busy": "2022-03-20T12:58:42.361964Z",
          "iopub.execute_input": "2022-03-20T12:58:42.363647Z",
          "iopub.status.idle": "2022-03-20T12:58:42.614231Z"
        },
        "trusted": true,
        "id": "ROYXQDvLg79w"
      },
      "execution_count": 3,
      "outputs": []
    },
    {
      "cell_type": "markdown",
      "source": [
        "## **Encoding the target feature as factor**"
      ],
      "metadata": {
        "id": "HvWgt6HNg79x"
      }
    },
    {
      "cell_type": "code",
      "source": [
        "ds$Liked = factor(ds$Liked, levels = c(0, 1))"
      ],
      "metadata": {
        "execution": {
          "iopub.status.busy": "2022-03-20T12:58:42.616909Z",
          "iopub.execute_input": "2022-03-20T12:58:42.624809Z",
          "iopub.status.idle": "2022-03-20T12:58:42.638154Z"
        },
        "trusted": true,
        "id": "YWpniF65g79y"
      },
      "execution_count": 4,
      "outputs": []
    },
    {
      "cell_type": "markdown",
      "source": [
        "## **Splitting the dataset into the Training set and Test set**"
      ],
      "metadata": {
        "id": "QV2F5Es-g790"
      }
    },
    {
      "cell_type": "code",
      "source": [
        "install.packages('caTools')\n",
        "library(caTools)\n",
        "set.seed(123)\n",
        "split = sample.split(ds$Liked, SplitRatio = 0.8)\n",
        "train_set = subset(ds, split == TRUE)\n",
        "test_set = subset(ds, split == FALSE)"
      ],
      "metadata": {
        "execution": {
          "iopub.status.busy": "2022-03-20T12:58:42.641180Z",
          "iopub.execute_input": "2022-03-20T12:58:42.642846Z",
          "iopub.status.idle": "2022-03-20T12:58:42.731035Z"
        },
        "trusted": true,
        "colab": {
          "base_uri": "https://localhost:8080/"
        },
        "id": "bzGsAePzg791",
        "outputId": "f40e176a-09c0-4bc7-ca5c-ac8c5aa15852"
      },
      "execution_count": 5,
      "outputs": [
        {
          "output_type": "stream",
          "name": "stderr",
          "text": [
            "Installing package into ‘/usr/local/lib/R/site-library’\n",
            "(as ‘lib’ is unspecified)\n",
            "\n"
          ]
        }
      ]
    },
    {
      "cell_type": "markdown",
      "source": [
        "## **Fitting Random Forest Classification to the Training set**"
      ],
      "metadata": {
        "id": "BqezsJWJg792"
      }
    },
    {
      "cell_type": "code",
      "source": [
        "install.packages('randomForest')\n",
        "library(randomForest)\n",
        "classifier = randomForest(x = train_set[-692],\n",
        "                          y = train_set$Liked,\n",
        "                          ntree = 10)\n",
        "# Predicting the Test set results\n",
        "y_pred = predict(classifier, newdata = test_set[-692])\n",
        "\n",
        "# Making the Confusion Matrix\n",
        "cm = table(test_set[, 692], y_pred)\n",
        "print(cm)"
      ],
      "metadata": {
        "execution": {
          "iopub.status.busy": "2022-03-20T12:58:42.734312Z",
          "iopub.execute_input": "2022-03-20T12:58:42.736054Z",
          "iopub.status.idle": "2022-03-20T12:58:43.542943Z"
        },
        "trusted": true,
        "colab": {
          "base_uri": "https://localhost:8080/"
        },
        "id": "Hdt6c84Ig792",
        "outputId": "d95f35c5-1a13-4f4d-f1b5-278b2d5d499a"
      },
      "execution_count": 6,
      "outputs": [
        {
          "output_type": "stream",
          "name": "stderr",
          "text": [
            "Installing package into ‘/usr/local/lib/R/site-library’\n",
            "(as ‘lib’ is unspecified)\n",
            "\n",
            "randomForest 4.7-1\n",
            "\n",
            "Type rfNews() to see new features/changes/bug fixes.\n",
            "\n"
          ]
        },
        {
          "output_type": "stream",
          "name": "stdout",
          "text": [
            "   y_pred\n",
            "     0  1\n",
            "  0 82 18\n",
            "  1 23 77\n"
          ]
        }
      ]
    },
    {
      "cell_type": "markdown",
      "source": [
        "## **Evaluation Metrics**"
      ],
      "metadata": {
        "id": "NyNjVgVqg793"
      }
    },
    {
      "cell_type": "code",
      "source": [
        "n = sum(cm) # number of instances\n",
        "nc = nrow(cm) # number of classes\n",
        "diag = diag(cm) # number of correctly classified instances per class \n",
        "rowsums = apply(cm, 1, sum) # number of instances per class\n",
        "colsums = apply(cm, 2, sum) # number of predictions per class\n",
        "p = rowsums / n # distribution of instances over the actual classes\n",
        "q = colsums / n # distribution of instances over the predicted classes\n",
        "accuracy = sum(diag) / n \n",
        "cat(\"Accuracy of NLP Random Forest Model is:\", accuracy)  \n",
        "precision = diag / colsums \n",
        "recall = diag / rowsums \n",
        "f1 = 2 * precision * recall / (precision + recall) \n",
        "data.frame(precision, recall, f1) "
      ],
      "metadata": {
        "execution": {
          "iopub.status.busy": "2022-03-20T12:58:43.546337Z",
          "iopub.execute_input": "2022-03-20T12:58:43.548256Z",
          "iopub.status.idle": "2022-03-20T12:58:43.613004Z"
        },
        "trusted": true,
        "colab": {
          "base_uri": "https://localhost:8080/",
          "height": 178
        },
        "id": "uzEUEczLg794",
        "outputId": "56be8f0c-41d3-4f87-cc66-3245e1c7f27f"
      },
      "execution_count": 7,
      "outputs": [
        {
          "output_type": "stream",
          "name": "stdout",
          "text": [
            "Accuracy of NLP Random Forest Model is: 0.795"
          ]
        },
        {
          "output_type": "display_data",
          "data": {
            "text/html": [
              "<table class=\"dataframe\">\n",
              "<caption>A data.frame: 2 × 3</caption>\n",
              "<thead>\n",
              "\t<tr><th></th><th scope=col>precision</th><th scope=col>recall</th><th scope=col>f1</th></tr>\n",
              "\t<tr><th></th><th scope=col>&lt;dbl&gt;</th><th scope=col>&lt;dbl&gt;</th><th scope=col>&lt;dbl&gt;</th></tr>\n",
              "</thead>\n",
              "<tbody>\n",
              "\t<tr><th scope=row>0</th><td>0.7809524</td><td>0.82</td><td>0.8000000</td></tr>\n",
              "\t<tr><th scope=row>1</th><td>0.8105263</td><td>0.77</td><td>0.7897436</td></tr>\n",
              "</tbody>\n",
              "</table>\n"
            ],
            "text/markdown": "\nA data.frame: 2 × 3\n\n| <!--/--> | precision &lt;dbl&gt; | recall &lt;dbl&gt; | f1 &lt;dbl&gt; |\n|---|---|---|---|\n| 0 | 0.7809524 | 0.82 | 0.8000000 |\n| 1 | 0.8105263 | 0.77 | 0.7897436 |\n\n",
            "text/latex": "A data.frame: 2 × 3\n\\begin{tabular}{r|lll}\n  & precision & recall & f1\\\\\n  & <dbl> & <dbl> & <dbl>\\\\\n\\hline\n\t0 & 0.7809524 & 0.82 & 0.8000000\\\\\n\t1 & 0.8105263 & 0.77 & 0.7897436\\\\\n\\end{tabular}\n",
            "text/plain": [
              "  precision recall f1       \n",
              "0 0.7809524 0.82   0.8000000\n",
              "1 0.8105263 0.77   0.7897436"
            ]
          },
          "metadata": {}
        }
      ]
    },
    {
      "cell_type": "code",
      "source": [
        "# Support Vector Classifier\n",
        "install.packages('e1071') \n",
        "library(e1071)\n",
        "classifier = svm(formula = Liked ~ .,\n",
        "                 data = train_set,\n",
        "                 type = 'C-classification',\n",
        "                 kernel = 'radial')\n",
        "\n",
        "\n",
        "# Predicting the Test set results\n",
        "y_pred = predict(classifier, newdata = test_set[-692])\n",
        "\n",
        "# Making the Confusion Matrix\n",
        "cm = table(test_set[, 692], y_pred)\n",
        "print(cm)\n",
        "n = sum(cm) # number of instances\n",
        "nc = nrow(cm) # number of classes\n",
        "diag = diag(cm) # number of correctly classified instances per class \n",
        "rowsums = apply(cm, 1, sum) # number of instances per class\n",
        "colsums = apply(cm, 2, sum) # number of predictions per class\n",
        "p = rowsums / n # distribution of instances over the actual classes\n",
        "q = colsums / n # distribution of instances over the predicted classes\n",
        "accuracy = sum(diag) / n \n",
        "cat(\"Accuracy of NLP SVM is:\", accuracy)  \n",
        "precision = diag / colsums \n",
        "recall = diag / rowsums \n",
        "f1 = 2 * precision * recall / (precision + recall) \n",
        "data.frame(precision, recall, f1) "
      ],
      "metadata": {
        "execution": {
          "iopub.status.busy": "2022-03-20T12:58:43.616471Z",
          "iopub.execute_input": "2022-03-20T12:58:43.618265Z",
          "iopub.status.idle": "2022-03-20T12:58:44.476202Z"
        },
        "trusted": true,
        "colab": {
          "base_uri": "https://localhost:8080/",
          "height": 407
        },
        "id": "XPcj-Xo4g795",
        "outputId": "7367e765-70f9-475c-c597-f80113c28c02"
      },
      "execution_count": 8,
      "outputs": [
        {
          "output_type": "stream",
          "name": "stderr",
          "text": [
            "Installing package into ‘/usr/local/lib/R/site-library’\n",
            "(as ‘lib’ is unspecified)\n",
            "\n",
            "also installing the dependency ‘proxy’\n",
            "\n",
            "\n",
            "Warning message in svm.default(x, y, scale = scale, ..., na.action = na.action):\n",
            "“Variable(s) ‘boot’ and ‘brick’ and ‘eye’ and ‘given’ and ‘legit’ and ‘mall’ and ‘oven’ and ‘peanut’ and ‘pure’ and ‘scallop’ and ‘show’ and ‘tap’ constant. Cannot scale data.”\n"
          ]
        },
        {
          "output_type": "stream",
          "name": "stdout",
          "text": [
            "   y_pred\n",
            "      0   1\n",
            "  0 100   0\n",
            "  1  94   6\n",
            "Accuracy of NLP SVM is: 0.53"
          ]
        },
        {
          "output_type": "display_data",
          "data": {
            "text/html": [
              "<table class=\"dataframe\">\n",
              "<caption>A data.frame: 2 × 3</caption>\n",
              "<thead>\n",
              "\t<tr><th></th><th scope=col>precision</th><th scope=col>recall</th><th scope=col>f1</th></tr>\n",
              "\t<tr><th></th><th scope=col>&lt;dbl&gt;</th><th scope=col>&lt;dbl&gt;</th><th scope=col>&lt;dbl&gt;</th></tr>\n",
              "</thead>\n",
              "<tbody>\n",
              "\t<tr><th scope=row>0</th><td>0.5154639</td><td>1.00</td><td>0.6802721</td></tr>\n",
              "\t<tr><th scope=row>1</th><td>1.0000000</td><td>0.06</td><td>0.1132075</td></tr>\n",
              "</tbody>\n",
              "</table>\n"
            ],
            "text/markdown": "\nA data.frame: 2 × 3\n\n| <!--/--> | precision &lt;dbl&gt; | recall &lt;dbl&gt; | f1 &lt;dbl&gt; |\n|---|---|---|---|\n| 0 | 0.5154639 | 1.00 | 0.6802721 |\n| 1 | 1.0000000 | 0.06 | 0.1132075 |\n\n",
            "text/latex": "A data.frame: 2 × 3\n\\begin{tabular}{r|lll}\n  & precision & recall & f1\\\\\n  & <dbl> & <dbl> & <dbl>\\\\\n\\hline\n\t0 & 0.5154639 & 1.00 & 0.6802721\\\\\n\t1 & 1.0000000 & 0.06 & 0.1132075\\\\\n\\end{tabular}\n",
            "text/plain": [
              "  precision recall f1       \n",
              "0 0.5154639 1.00   0.6802721\n",
              "1 1.0000000 0.06   0.1132075"
            ]
          },
          "metadata": {}
        }
      ]
    },
    {
      "cell_type": "code",
      "source": [
        "# Naive Bayes Classifier\n",
        "library(e1071)\n",
        "classifier = naiveBayes(x = train_set[-692], y = train_set$Liked)\n",
        "\n",
        "# Predicting the Test set results\n",
        "y_pred = predict(classifier, newdata = test_set[-692])\n",
        "\n",
        "# Making the Confusion Matrix\n",
        "cm = table(test_set[, 692], y_pred)\n",
        "print(cm)\n",
        "n = sum(cm) # number of instances\n",
        "nc = nrow(cm) # number of classes\n",
        "diag = diag(cm) # number of correctly classified instances per class \n",
        "rowsums = apply(cm, 1, sum) # number of instances per class\n",
        "colsums = apply(cm, 2, sum) # number of predictions per class\n",
        "p = rowsums / n # distribution of instances over the actual classes\n",
        "q = colsums / n # distribution of instances over the predicted classes\n",
        "accuracy = sum(diag) / n \n",
        "cat(\"Accuracy of NLP SVM is:\", accuracy)  \n",
        "precision = diag / colsums \n",
        "recall = diag / rowsums \n",
        "f1 = 2 * precision * recall / (precision + recall) \n",
        "data.frame(precision, recall, f1)\n"
      ],
      "metadata": {
        "execution": {
          "iopub.status.busy": "2022-03-20T12:58:44.479152Z",
          "iopub.execute_input": "2022-03-20T12:58:44.480823Z",
          "iopub.status.idle": "2022-03-20T12:58:47.679037Z"
        },
        "trusted": true,
        "colab": {
          "base_uri": "https://localhost:8080/",
          "height": 248
        },
        "id": "Epwqf7oGg796",
        "outputId": "c7deef09-7d25-4e38-d5f5-5883f1c93806"
      },
      "execution_count": 9,
      "outputs": [
        {
          "output_type": "stream",
          "name": "stdout",
          "text": [
            "   y_pred\n",
            "     0  1\n",
            "  0  5 95\n",
            "  1  4 96\n",
            "Accuracy of NLP SVM is: 0.505"
          ]
        },
        {
          "output_type": "display_data",
          "data": {
            "text/html": [
              "<table class=\"dataframe\">\n",
              "<caption>A data.frame: 2 × 3</caption>\n",
              "<thead>\n",
              "\t<tr><th></th><th scope=col>precision</th><th scope=col>recall</th><th scope=col>f1</th></tr>\n",
              "\t<tr><th></th><th scope=col>&lt;dbl&gt;</th><th scope=col>&lt;dbl&gt;</th><th scope=col>&lt;dbl&gt;</th></tr>\n",
              "</thead>\n",
              "<tbody>\n",
              "\t<tr><th scope=row>0</th><td>0.5555556</td><td>0.05</td><td>0.09174312</td></tr>\n",
              "\t<tr><th scope=row>1</th><td>0.5026178</td><td>0.96</td><td>0.65979381</td></tr>\n",
              "</tbody>\n",
              "</table>\n"
            ],
            "text/markdown": "\nA data.frame: 2 × 3\n\n| <!--/--> | precision &lt;dbl&gt; | recall &lt;dbl&gt; | f1 &lt;dbl&gt; |\n|---|---|---|---|\n| 0 | 0.5555556 | 0.05 | 0.09174312 |\n| 1 | 0.5026178 | 0.96 | 0.65979381 |\n\n",
            "text/latex": "A data.frame: 2 × 3\n\\begin{tabular}{r|lll}\n  & precision & recall & f1\\\\\n  & <dbl> & <dbl> & <dbl>\\\\\n\\hline\n\t0 & 0.5555556 & 0.05 & 0.09174312\\\\\n\t1 & 0.5026178 & 0.96 & 0.65979381\\\\\n\\end{tabular}\n",
            "text/plain": [
              "  precision recall f1        \n",
              "0 0.5555556 0.05   0.09174312\n",
              "1 0.5026178 0.96   0.65979381"
            ]
          },
          "metadata": {}
        }
      ]
    },
    {
      "cell_type": "code",
      "source": [
        "# Decision Tree Classifier\n",
        "install.packages('rpart')\n",
        "library(rpart)\n",
        "classifier = rpart(formula = Liked ~ ., data = train_set)\n",
        "# Predicting the Test set results\n",
        "y_pred = predict(classifier, newdata = test_set[-692], type = 'class')\n",
        "# Making the Confusion Matrix\n",
        "cm = table(test_set[, 692], y_pred)\n",
        "print(cm)\n",
        "n = sum(cm) # number of instances\n",
        "nc = nrow(cm) # number of classes\n",
        "diag = diag(cm) # number of correctly classified instances per class \n",
        "rowsums = apply(cm, 1, sum) # number of instances per class\n",
        "colsums = apply(cm, 2, sum) # number of predictions per class\n",
        "p = rowsums / n # distribution of instances over the actual classes\n",
        "q = colsums / n # distribution of instances over the predicted classes\n",
        "accuracy = sum(diag) / n \n",
        "cat(\"Accuracy of NLP Decision Tree is:\", accuracy)  \n",
        "precision = diag / colsums \n",
        "recall = diag / rowsums \n",
        "f1 = 2 * precision * recall / (precision + recall) \n",
        "data.frame(precision, recall, f1)\n"
      ],
      "metadata": {
        "execution": {
          "iopub.status.busy": "2022-03-20T12:58:47.682173Z",
          "iopub.execute_input": "2022-03-20T12:58:47.683920Z",
          "iopub.status.idle": "2022-03-20T12:58:50.466143Z"
        },
        "trusted": true,
        "colab": {
          "base_uri": "https://localhost:8080/",
          "height": 299
        },
        "id": "d2-H916wg796",
        "outputId": "65e41d75-2978-4d40-f1a3-57ee767f3bb8"
      },
      "execution_count": 10,
      "outputs": [
        {
          "output_type": "stream",
          "name": "stderr",
          "text": [
            "Installing package into ‘/usr/local/lib/R/site-library’\n",
            "(as ‘lib’ is unspecified)\n",
            "\n"
          ]
        },
        {
          "output_type": "stream",
          "name": "stdout",
          "text": [
            "   y_pred\n",
            "     0  1\n",
            "  0 85 15\n",
            "  1 43 57\n",
            "Accuracy of NLP Decision Tree is: 0.71"
          ]
        },
        {
          "output_type": "display_data",
          "data": {
            "text/html": [
              "<table class=\"dataframe\">\n",
              "<caption>A data.frame: 2 × 3</caption>\n",
              "<thead>\n",
              "\t<tr><th></th><th scope=col>precision</th><th scope=col>recall</th><th scope=col>f1</th></tr>\n",
              "\t<tr><th></th><th scope=col>&lt;dbl&gt;</th><th scope=col>&lt;dbl&gt;</th><th scope=col>&lt;dbl&gt;</th></tr>\n",
              "</thead>\n",
              "<tbody>\n",
              "\t<tr><th scope=row>0</th><td>0.6640625</td><td>0.85</td><td>0.7456140</td></tr>\n",
              "\t<tr><th scope=row>1</th><td>0.7916667</td><td>0.57</td><td>0.6627907</td></tr>\n",
              "</tbody>\n",
              "</table>\n"
            ],
            "text/markdown": "\nA data.frame: 2 × 3\n\n| <!--/--> | precision &lt;dbl&gt; | recall &lt;dbl&gt; | f1 &lt;dbl&gt; |\n|---|---|---|---|\n| 0 | 0.6640625 | 0.85 | 0.7456140 |\n| 1 | 0.7916667 | 0.57 | 0.6627907 |\n\n",
            "text/latex": "A data.frame: 2 × 3\n\\begin{tabular}{r|lll}\n  & precision & recall & f1\\\\\n  & <dbl> & <dbl> & <dbl>\\\\\n\\hline\n\t0 & 0.6640625 & 0.85 & 0.7456140\\\\\n\t1 & 0.7916667 & 0.57 & 0.6627907\\\\\n\\end{tabular}\n",
            "text/plain": [
              "  precision recall f1       \n",
              "0 0.6640625 0.85   0.7456140\n",
              "1 0.7916667 0.57   0.6627907"
            ]
          },
          "metadata": {}
        }
      ]
    }
  ]
}