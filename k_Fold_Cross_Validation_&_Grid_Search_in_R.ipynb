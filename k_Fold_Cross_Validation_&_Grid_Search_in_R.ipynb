{
  "metadata": {
    "kernelspec": {
      "name": "ir",
      "display_name": "R",
      "language": "R"
    },
    "language_info": {
      "name": "R",
      "codemirror_mode": "r",
      "pygments_lexer": "r",
      "mimetype": "text/x-r-source",
      "file_extension": ".r",
      "version": "4.0.5"
    },
    "colab": {
      "name": "k-Fold Cross Validation & Grid Search in R.ipynb",
      "provenance": []
    }
  },
  "nbformat_minor": 0,
  "nbformat": 4,
  "cells": [
    {
      "cell_type": "markdown",
      "source": [
        "# **k-Fold Cross Validation & Grid Search in R**"
      ],
      "metadata": {
        "id": "mw3L7069w534"
      }
    },
    {
      "cell_type": "markdown",
      "source": [
        "## **Importing the dataset**"
      ],
      "metadata": {
        "id": "GiZDIu2Lw53_"
      }
    },
    {
      "cell_type": "code",
      "source": [
        "ds = read.csv('/content/Social_Network_Ads.csv')\n",
        "ds = ds[3:5]\n",
        "head(ds)"
      ],
      "metadata": {
        "execution": {
          "iopub.status.busy": "2022-03-26T14:36:52.272486Z",
          "iopub.execute_input": "2022-03-26T14:36:52.274503Z",
          "iopub.status.idle": "2022-03-26T14:36:52.424624Z"
        },
        "trusted": true,
        "colab": {
          "base_uri": "https://localhost:8080/",
          "height": 286
        },
        "id": "-sgNvlvXw54A",
        "outputId": "bd44cf46-06de-4e7a-f2f2-78ec4c0b847b"
      },
      "execution_count": 1,
      "outputs": [
        {
          "output_type": "display_data",
          "data": {
            "text/html": [
              "<table class=\"dataframe\">\n",
              "<caption>A data.frame: 6 × 3</caption>\n",
              "<thead>\n",
              "\t<tr><th></th><th scope=col>Age</th><th scope=col>EstimatedSalary</th><th scope=col>Purchased</th></tr>\n",
              "\t<tr><th></th><th scope=col>&lt;dbl&gt;</th><th scope=col>&lt;dbl&gt;</th><th scope=col>&lt;int&gt;</th></tr>\n",
              "</thead>\n",
              "<tbody>\n",
              "\t<tr><th scope=row>1</th><td>19</td><td>19000</td><td>0</td></tr>\n",
              "\t<tr><th scope=row>2</th><td>35</td><td>20000</td><td>0</td></tr>\n",
              "\t<tr><th scope=row>3</th><td>26</td><td>43000</td><td>0</td></tr>\n",
              "\t<tr><th scope=row>4</th><td>27</td><td>57000</td><td>0</td></tr>\n",
              "\t<tr><th scope=row>5</th><td>19</td><td>76000</td><td>0</td></tr>\n",
              "\t<tr><th scope=row>6</th><td>27</td><td>58000</td><td>0</td></tr>\n",
              "</tbody>\n",
              "</table>\n"
            ],
            "text/markdown": "\nA data.frame: 6 × 3\n\n| <!--/--> | Age &lt;dbl&gt; | EstimatedSalary &lt;dbl&gt; | Purchased &lt;int&gt; |\n|---|---|---|---|\n| 1 | 19 | 19000 | 0 |\n| 2 | 35 | 20000 | 0 |\n| 3 | 26 | 43000 | 0 |\n| 4 | 27 | 57000 | 0 |\n| 5 | 19 | 76000 | 0 |\n| 6 | 27 | 58000 | 0 |\n\n",
            "text/latex": "A data.frame: 6 × 3\n\\begin{tabular}{r|lll}\n  & Age & EstimatedSalary & Purchased\\\\\n  & <dbl> & <dbl> & <int>\\\\\n\\hline\n\t1 & 19 & 19000 & 0\\\\\n\t2 & 35 & 20000 & 0\\\\\n\t3 & 26 & 43000 & 0\\\\\n\t4 & 27 & 57000 & 0\\\\\n\t5 & 19 & 76000 & 0\\\\\n\t6 & 27 & 58000 & 0\\\\\n\\end{tabular}\n",
            "text/plain": [
              "  Age EstimatedSalary Purchased\n",
              "1 19  19000           0        \n",
              "2 35  20000           0        \n",
              "3 26  43000           0        \n",
              "4 27  57000           0        \n",
              "5 19  76000           0        \n",
              "6 27  58000           0        "
            ]
          },
          "metadata": {}
        }
      ]
    },
    {
      "cell_type": "markdown",
      "source": [
        "## **Encoding the target feature as factor**"
      ],
      "metadata": {
        "id": "TCDAvcwKw54D"
      }
    },
    {
      "cell_type": "code",
      "source": [
        "ds$Purchased = factor(ds$Purchased, levels = c(0, 1))"
      ],
      "metadata": {
        "execution": {
          "iopub.status.busy": "2022-03-26T14:36:52.426956Z",
          "iopub.execute_input": "2022-03-26T14:36:52.464137Z",
          "iopub.status.idle": "2022-03-26T14:36:52.478789Z"
        },
        "trusted": true,
        "id": "EhD2crw8w54F"
      },
      "execution_count": 2,
      "outputs": []
    },
    {
      "cell_type": "markdown",
      "source": [
        "## **Splitting the data set & Feature scaling**"
      ],
      "metadata": {
        "id": "yRuE7pImw54F"
      }
    },
    {
      "cell_type": "code",
      "source": [
        "# Splitting the dataset into the Training set and Test set\n",
        "install.packages('caTools')\n",
        "library(caTools)\n",
        "set.seed(123)\n",
        "split = sample.split(ds$Purchased, SplitRatio = 0.75)\n",
        "train_set = subset(ds, split == TRUE)\n",
        "test_set = subset(ds, split == FALSE)\n",
        "\n",
        "# Feature Scaling\n",
        "train_set[-3] = scale(train_set[-3])\n",
        "test_set[-3] = scale(test_set[-3])"
      ],
      "metadata": {
        "execution": {
          "iopub.status.busy": "2022-03-26T14:36:52.481165Z",
          "iopub.execute_input": "2022-03-26T14:36:52.482619Z",
          "iopub.status.idle": "2022-03-26T14:36:52.547501Z"
        },
        "trusted": true,
        "colab": {
          "base_uri": "https://localhost:8080/"
        },
        "id": "7a6Lc5J1w54H",
        "outputId": "0bf2a197-fb85-4b66-899b-c0b224728599"
      },
      "execution_count": 3,
      "outputs": [
        {
          "output_type": "stream",
          "name": "stderr",
          "text": [
            "Installing package into ‘/usr/local/lib/R/site-library’\n",
            "(as ‘lib’ is unspecified)\n",
            "\n"
          ]
        }
      ]
    },
    {
      "cell_type": "markdown",
      "source": [
        "## **Fitting Kernel SVM to the Train set & Predicting the Test set**"
      ],
      "metadata": {
        "id": "AsQJKhYxw54I"
      }
    },
    {
      "cell_type": "code",
      "source": [
        "# Fitting Kernel SVM to the Training set\n",
        "install.packages('e1071')\n",
        "library(e1071)\n",
        "classifier = svm(formula = Purchased ~ .,\n",
        "                 data = train_set,\n",
        "                 type = 'C-classification',\n",
        "                 kernel = 'radial')\n",
        "\n",
        "# Predicting the Test set results\n",
        "y_pred = predict(classifier, newdata = test_set[-3])\n",
        "\n",
        "# Making the Confusion Matrix\n",
        "cm = table(test_set[, 3], y_pred)\n",
        "cat('\\n The confusion matrix for Kernel SVM model is: \\n \\n')\n",
        "cm"
      ],
      "metadata": {
        "execution": {
          "iopub.status.busy": "2022-03-26T14:36:52.549965Z",
          "iopub.execute_input": "2022-03-26T14:36:52.551419Z",
          "iopub.status.idle": "2022-03-26T14:36:52.655522Z"
        },
        "trusted": true,
        "colab": {
          "base_uri": "https://localhost:8080/",
          "height": 190
        },
        "id": "K4mDsykPw54K",
        "outputId": "4f514f51-b747-4beb-bbae-c5177c86115b"
      },
      "execution_count": 4,
      "outputs": [
        {
          "output_type": "stream",
          "name": "stderr",
          "text": [
            "Installing package into ‘/usr/local/lib/R/site-library’\n",
            "(as ‘lib’ is unspecified)\n",
            "\n"
          ]
        },
        {
          "output_type": "stream",
          "name": "stdout",
          "text": [
            "\n",
            " The confusion matrix for Kernel SVM model is: \n",
            " \n"
          ]
        },
        {
          "output_type": "display_data",
          "data": {
            "text/plain": [
              "   y_pred\n",
              "     0  1\n",
              "  0 58  6\n",
              "  1  4 32"
            ]
          },
          "metadata": {}
        }
      ]
    },
    {
      "cell_type": "markdown",
      "source": [
        "## **Evaluation Metrics**"
      ],
      "metadata": {
        "id": "amdSfs-Rw54L"
      }
    },
    {
      "cell_type": "code",
      "source": [
        "n = sum(cm) # number of instances\n",
        "nc = nrow(cm) # number of classes\n",
        "diag = diag(cm) # number of correctly classified instances per class \n",
        "rowsums = apply(cm, 1, sum) # number of instances per class\n",
        "colsums = apply(cm, 2, sum) # number of predictions per class\n",
        "p = rowsums / n # distribution of instances over the actual classes\n",
        "q = colsums / n # distribution of instances over the predicted classes\n",
        "accuracy = sum(diag) / n \n",
        "cat(\"\\n Accuracy of Kernel SVM  Model is:\", accuracy)  \n",
        "precision = diag / colsums \n",
        "recall = diag / rowsums \n",
        "f1 = 2 * precision * recall / (precision + recall)\n",
        "cat(\"\\n \\nThe Evaluation Metrics of Kernel SVM  Model is: \\n \\n\")\n",
        "data.frame(precision, recall, f1)"
      ],
      "metadata": {
        "execution": {
          "iopub.status.busy": "2022-03-26T14:36:52.657838Z",
          "iopub.execute_input": "2022-03-26T14:36:52.659247Z",
          "iopub.status.idle": "2022-03-26T14:36:52.709074Z"
        },
        "trusted": true,
        "colab": {
          "base_uri": "https://localhost:8080/",
          "height": 248
        },
        "id": "cjdD4J8Uw54M",
        "outputId": "2ab4bbd3-0558-444b-ba1f-c8e877e3eb4f"
      },
      "execution_count": 5,
      "outputs": [
        {
          "output_type": "stream",
          "name": "stdout",
          "text": [
            "\n",
            " Accuracy of Kernel SVM  Model is: 0.9\n",
            " \n",
            "The Evaluation Metrics of Kernel SVM  Model is: \n",
            " \n"
          ]
        },
        {
          "output_type": "display_data",
          "data": {
            "text/html": [
              "<table class=\"dataframe\">\n",
              "<caption>A data.frame: 2 × 3</caption>\n",
              "<thead>\n",
              "\t<tr><th></th><th scope=col>precision</th><th scope=col>recall</th><th scope=col>f1</th></tr>\n",
              "\t<tr><th></th><th scope=col>&lt;dbl&gt;</th><th scope=col>&lt;dbl&gt;</th><th scope=col>&lt;dbl&gt;</th></tr>\n",
              "</thead>\n",
              "<tbody>\n",
              "\t<tr><th scope=row>0</th><td>0.9354839</td><td>0.9062500</td><td>0.9206349</td></tr>\n",
              "\t<tr><th scope=row>1</th><td>0.8421053</td><td>0.8888889</td><td>0.8648649</td></tr>\n",
              "</tbody>\n",
              "</table>\n"
            ],
            "text/markdown": "\nA data.frame: 2 × 3\n\n| <!--/--> | precision &lt;dbl&gt; | recall &lt;dbl&gt; | f1 &lt;dbl&gt; |\n|---|---|---|---|\n| 0 | 0.9354839 | 0.9062500 | 0.9206349 |\n| 1 | 0.8421053 | 0.8888889 | 0.8648649 |\n\n",
            "text/latex": "A data.frame: 2 × 3\n\\begin{tabular}{r|lll}\n  & precision & recall & f1\\\\\n  & <dbl> & <dbl> & <dbl>\\\\\n\\hline\n\t0 & 0.9354839 & 0.9062500 & 0.9206349\\\\\n\t1 & 0.8421053 & 0.8888889 & 0.8648649\\\\\n\\end{tabular}\n",
            "text/plain": [
              "  precision recall    f1       \n",
              "0 0.9354839 0.9062500 0.9206349\n",
              "1 0.8421053 0.8888889 0.8648649"
            ]
          },
          "metadata": {}
        }
      ]
    },
    {
      "cell_type": "markdown",
      "source": [
        "## **Applying k-Fold Cross Validation**"
      ],
      "metadata": {
        "id": "Ges0zf3rw54N"
      }
    },
    {
      "cell_type": "code",
      "source": [
        "install.packages('caret')\n",
        "library(caret)\n",
        "folds = createFolds(train_set$Purchased, k = 10)\n",
        "cv = lapply(folds, function(x) {\n",
        "  training_fold = train_set[-x, ]\n",
        "  test_fold = train_set[x, ]\n",
        "  classifier = svm(formula = Purchased ~ .,\n",
        "                   data = training_fold,\n",
        "                   type = 'C-classification',\n",
        "                   kernel = 'radial')\n",
        "  y_pred = predict(classifier, newdata = test_fold[-3])\n",
        "  cm = table(test_fold[, 3], y_pred)\n",
        "  accuracy = (cm[1,1] + cm[2,2]) / (cm[1,1] + cm[2,2] + cm[1,2] + cm[2,1])\n",
        "  return(accuracy)\n",
        "})\n",
        "accuracy = mean(as.numeric(cv))\n",
        "cat(\"\\nAccuracy of Kernel SVM k-Fold Cross Validated  Model is:\", accuracy)"
      ],
      "metadata": {
        "execution": {
          "iopub.status.busy": "2022-03-26T14:36:52.711994Z",
          "iopub.execute_input": "2022-03-26T14:36:52.713752Z",
          "iopub.status.idle": "2022-03-26T14:36:55.365624Z"
        },
        "trusted": true,
        "colab": {
          "base_uri": "https://localhost:8080/"
        },
        "id": "XJw42lggw54O",
        "outputId": "9cab4737-5194-4cce-d75f-a51ecced6829"
      },
      "execution_count": 6,
      "outputs": [
        {
          "output_type": "stream",
          "name": "stderr",
          "text": [
            "Installing package into ‘/usr/local/lib/R/site-library’\n",
            "(as ‘lib’ is unspecified)\n",
            "\n",
            "Loading required package: ggplot2\n",
            "\n",
            "Loading required package: lattice\n",
            "\n",
            "Warning message in system(\"timedatectl\", intern = TRUE):\n",
            "“running command 'timedatectl' had status 1”\n"
          ]
        },
        {
          "output_type": "stream",
          "name": "stdout",
          "text": [
            "\n",
            "Accuracy of Kernel SVM k-Fold Cross Validated  Model is: 0.9162848"
          ]
        }
      ]
    },
    {
      "cell_type": "markdown",
      "source": [
        "## **Applying Grid Search to find the best parameters**"
      ],
      "metadata": {
        "id": "ISDDyw8Kw54P"
      }
    },
    {
      "cell_type": "code",
      "source": [
        "# install.packages('caret')\n",
        "install.packages('kernlab')\n",
        "library(caret)\n",
        "classifier = train(form = Purchased ~ ., data = train_set, method = 'svmRadial')\n",
        "classifier\n",
        "classifier$bestTune"
      ],
      "metadata": {
        "execution": {
          "iopub.status.busy": "2022-03-26T14:36:55.368041Z",
          "iopub.execute_input": "2022-03-26T14:36:55.369903Z",
          "iopub.status.idle": "2022-03-26T14:36:59.423669Z"
        },
        "trusted": true,
        "colab": {
          "base_uri": "https://localhost:8080/",
          "height": 511
        },
        "id": "1fpeA5now54Q",
        "outputId": "40b70b1f-b708-4fce-ecc8-07dd7aea05c8"
      },
      "execution_count": 7,
      "outputs": [
        {
          "output_type": "stream",
          "name": "stderr",
          "text": [
            "Installing package into ‘/usr/local/lib/R/site-library’\n",
            "(as ‘lib’ is unspecified)\n",
            "\n"
          ]
        },
        {
          "output_type": "display_data",
          "data": {
            "text/plain": [
              "Support Vector Machines with Radial Basis Function Kernel \n",
              "\n",
              "300 samples\n",
              "  2 predictor\n",
              "  2 classes: '0', '1' \n",
              "\n",
              "No pre-processing\n",
              "Resampling: Bootstrapped (25 reps) \n",
              "Summary of sample sizes: 300, 300, 300, 300, 300, 300, ... \n",
              "Resampling results across tuning parameters:\n",
              "\n",
              "  C     Accuracy   Kappa    \n",
              "  0.25  0.9145693  0.8130036\n",
              "  0.50  0.9159184  0.8157252\n",
              "  1.00  0.9186723  0.8215380\n",
              "\n",
              "Tuning parameter 'sigma' was held constant at a value of 1.327355\n",
              "Accuracy was used to select the optimal model using the largest value.\n",
              "The final values used for the model were sigma = 1.327355 and C = 1."
            ]
          },
          "metadata": {}
        },
        {
          "output_type": "display_data",
          "data": {
            "text/html": [
              "<table class=\"dataframe\">\n",
              "<caption>A data.frame: 1 × 2</caption>\n",
              "<thead>\n",
              "\t<tr><th></th><th scope=col>sigma</th><th scope=col>C</th></tr>\n",
              "\t<tr><th></th><th scope=col>&lt;dbl&gt;</th><th scope=col>&lt;dbl&gt;</th></tr>\n",
              "</thead>\n",
              "<tbody>\n",
              "\t<tr><th scope=row>3</th><td>1.327355</td><td>1</td></tr>\n",
              "</tbody>\n",
              "</table>\n"
            ],
            "text/markdown": "\nA data.frame: 1 × 2\n\n| <!--/--> | sigma &lt;dbl&gt; | C &lt;dbl&gt; |\n|---|---|---|\n| 3 | 1.327355 | 1 |\n\n",
            "text/latex": "A data.frame: 1 × 2\n\\begin{tabular}{r|ll}\n  & sigma & C\\\\\n  & <dbl> & <dbl>\\\\\n\\hline\n\t3 & 1.327355 & 1\\\\\n\\end{tabular}\n",
            "text/plain": [
              "  sigma    C\n",
              "3 1.327355 1"
            ]
          },
          "metadata": {}
        }
      ]
    }
  ]
}