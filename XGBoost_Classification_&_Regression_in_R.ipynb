{
  "metadata": {
    "kernelspec": {
      "name": "ir",
      "display_name": "R",
      "language": "R"
    },
    "language_info": {
      "name": "R",
      "codemirror_mode": "r",
      "pygments_lexer": "r",
      "mimetype": "text/x-r-source",
      "file_extension": ".r",
      "version": "4.0.5"
    },
    "colab": {
      "name": "XGBoost Classification & Regression in R.ipynb",
      "provenance": []
    }
  },
  "nbformat_minor": 0,
  "nbformat": 4,
  "cells": [
    {
      "cell_type": "markdown",
      "source": [
        "# **XGBoost Classification & Regression in R**"
      ],
      "metadata": {
        "id": "1tX6xsqefHOH"
      }
    },
    {
      "cell_type": "markdown",
      "source": [
        "## **XGBoost Classification**\n",
        "### **Loading the dataset**"
      ],
      "metadata": {
        "id": "MmgBAq1rfHOO"
      }
    },
    {
      "cell_type": "code",
      "source": [
        "# Importing the dataset\n",
        "ds = read.csv('/content/Churn_Modelling.csv')\n",
        "ds = ds[4:14]"
      ],
      "metadata": {
        "execution": {
          "iopub.status.busy": "2022-03-27T12:52:31.491333Z",
          "iopub.execute_input": "2022-03-27T12:52:31.493422Z",
          "iopub.status.idle": "2022-03-27T12:52:31.693524Z"
        },
        "trusted": true,
        "id": "RFvLsCqZfHOQ"
      },
      "execution_count": 1,
      "outputs": []
    },
    {
      "cell_type": "markdown",
      "source": [
        "### **Data Preprocessing**"
      ],
      "metadata": {
        "id": "cW4myVMUfHOT"
      }
    },
    {
      "cell_type": "code",
      "source": [
        "# Encoding the categorical variables as factors\n",
        "ds$Geography = as.numeric(factor(ds$Geography,\n",
        "                                      levels = c('France', 'Spain', 'Germany'),\n",
        "                                      labels = c(1, 2, 3)))\n",
        "ds$Gender = as.numeric(factor(ds$Gender,\n",
        "                                   levels = c('Female', 'Male'),\n",
        "                                   labels = c(1, 2)))\n",
        "\n",
        "# Splitting the dataset into the Training set and Test set\n",
        "install.packages('caTools')\n",
        "library(caTools)\n",
        "set.seed(123)\n",
        "split = sample.split(ds$Exited, SplitRatio = 0.8)\n",
        "train_set = subset(ds, split == TRUE)\n",
        "test_set = subset(ds, split == FALSE)"
      ],
      "metadata": {
        "execution": {
          "iopub.status.busy": "2022-03-27T12:52:31.701732Z",
          "iopub.execute_input": "2022-03-27T12:52:31.742766Z",
          "iopub.status.idle": "2022-03-27T12:52:31.812754Z"
        },
        "trusted": true,
        "colab": {
          "base_uri": "https://localhost:8080/"
        },
        "id": "U47csPXofHOU",
        "outputId": "06c25606-cd1e-4d1a-bfc1-5aa2d26a933b"
      },
      "execution_count": 2,
      "outputs": [
        {
          "output_type": "stream",
          "name": "stderr",
          "text": [
            "Installing package into ‘/usr/local/lib/R/site-library’\n",
            "(as ‘lib’ is unspecified)\n",
            "\n"
          ]
        }
      ]
    },
    {
      "cell_type": "markdown",
      "source": [
        "### **Applying XGBoost**"
      ],
      "metadata": {
        "id": "R5e1ZQuafHOV"
      }
    },
    {
      "cell_type": "code",
      "source": [
        "# Fitting XGBoost to the Training set\n",
        "install.packages('xgboost')\n",
        "library(xgboost)\n",
        "classifier = xgboost(data = as.matrix(train_set[-11]), label = train_set$Exited, nrounds = 10, verbose = 0)\n",
        "\n",
        "# Predicting the Test set results\n",
        "y_pred = predict(classifier, newdata = as.matrix(test_set[-11]))\n",
        "y_pred = (y_pred >= 0.5)\n",
        "\n",
        "# Making the Confusion Matrix\n",
        "cm = table(test_set[, 11], y_pred)\n",
        "\n",
        "#Evaluation Metrics\n",
        "n = sum(cm) # number of instances\n",
        "nc = nrow(cm) # number of classes\n",
        "diag = diag(cm) # number of correctly classified instances per class \n",
        "rowsums = apply(cm, 1, sum) # number of instances per class\n",
        "colsums = apply(cm, 2, sum) # number of predictions per class\n",
        "p = rowsums / n # distribution of instances over the actual classes\n",
        "q = colsums / n # distribution of instances over the predicted classes\n",
        "accuracy = sum(diag) / n \n",
        "cat(\"\\n Accuracy of XG Boost  Model is:\", accuracy)  \n",
        "precision = diag / colsums \n",
        "recall = diag / rowsums \n",
        "f1 = 2 * precision * recall / (precision + recall)\n",
        "cat(\"\\n \\nThe Evaluation Metrics of XG Boost  Model is: \\n \\n\")\n",
        "data.frame(precision, recall, f1)"
      ],
      "metadata": {
        "execution": {
          "iopub.status.busy": "2022-03-27T12:52:31.925501Z",
          "iopub.execute_input": "2022-03-27T12:52:31.927160Z",
          "iopub.status.idle": "2022-03-27T12:52:33.410712Z"
        },
        "trusted": true,
        "colab": {
          "base_uri": "https://localhost:8080/",
          "height": 299
        },
        "id": "FSK8YlbtfHOW",
        "outputId": "bbbcce5d-9a09-4051-d368-8799953b3824"
      },
      "execution_count": 3,
      "outputs": [
        {
          "output_type": "stream",
          "name": "stderr",
          "text": [
            "Installing package into ‘/usr/local/lib/R/site-library’\n",
            "(as ‘lib’ is unspecified)\n",
            "\n"
          ]
        },
        {
          "output_type": "stream",
          "name": "stdout",
          "text": [
            "\n",
            " Accuracy of XG Boost  Model is: 0.8685\n",
            " \n",
            "The Evaluation Metrics of XG Boost  Model is: \n",
            " \n"
          ]
        },
        {
          "output_type": "display_data",
          "data": {
            "text/html": [
              "<table class=\"dataframe\">\n",
              "<caption>A data.frame: 2 × 3</caption>\n",
              "<thead>\n",
              "\t<tr><th></th><th scope=col>precision</th><th scope=col>recall</th><th scope=col>f1</th></tr>\n",
              "\t<tr><th></th><th scope=col>&lt;dbl&gt;</th><th scope=col>&lt;dbl&gt;</th><th scope=col>&lt;dbl&gt;</th></tr>\n",
              "</thead>\n",
              "<tbody>\n",
              "\t<tr><th scope=row>FALSE</th><td>0.8795662</td><td>0.9673572</td><td>0.9213752</td></tr>\n",
              "\t<tr><th scope=row>TRUE</th><td>0.7903226</td><td>0.4815725</td><td>0.5984733</td></tr>\n",
              "</tbody>\n",
              "</table>\n"
            ],
            "text/markdown": "\nA data.frame: 2 × 3\n\n| <!--/--> | precision &lt;dbl&gt; | recall &lt;dbl&gt; | f1 &lt;dbl&gt; |\n|---|---|---|---|\n| FALSE | 0.8795662 | 0.9673572 | 0.9213752 |\n| TRUE | 0.7903226 | 0.4815725 | 0.5984733 |\n\n",
            "text/latex": "A data.frame: 2 × 3\n\\begin{tabular}{r|lll}\n  & precision & recall & f1\\\\\n  & <dbl> & <dbl> & <dbl>\\\\\n\\hline\n\tFALSE & 0.8795662 & 0.9673572 & 0.9213752\\\\\n\tTRUE & 0.7903226 & 0.4815725 & 0.5984733\\\\\n\\end{tabular}\n",
            "text/plain": [
              "      precision recall    f1       \n",
              "FALSE 0.8795662 0.9673572 0.9213752\n",
              "TRUE  0.7903226 0.4815725 0.5984733"
            ]
          },
          "metadata": {}
        }
      ]
    },
    {
      "cell_type": "code",
      "source": [
        "install.packages('MLmetrics')\n",
        "library(MLmetrics)\n",
        "#accuracy = Accuracy(y_pred, test_set[11])\n",
        "accuracy = MLmetrics::Accuracy(y_pred, test_set[11])\n",
        "cat(\"\\n Accuracy computed using MLmetrics of XG Boost  Model is:\", accuracy)"
      ],
      "metadata": {
        "execution": {
          "iopub.status.busy": "2022-03-27T12:52:33.413267Z",
          "iopub.execute_input": "2022-03-27T12:52:33.414875Z",
          "iopub.status.idle": "2022-03-27T12:52:33.443576Z"
        },
        "trusted": true,
        "colab": {
          "base_uri": "https://localhost:8080/"
        },
        "id": "d60Uo0VnfHOX",
        "outputId": "0afc81bb-2202-4fcc-c2b4-a525fe3f28ec"
      },
      "execution_count": 4,
      "outputs": [
        {
          "output_type": "stream",
          "name": "stderr",
          "text": [
            "Installing package into ‘/usr/local/lib/R/site-library’\n",
            "(as ‘lib’ is unspecified)\n",
            "\n",
            "\n",
            "Attaching package: ‘MLmetrics’\n",
            "\n",
            "\n",
            "The following object is masked from ‘package:base’:\n",
            "\n",
            "    Recall\n",
            "\n",
            "\n"
          ]
        },
        {
          "output_type": "stream",
          "name": "stdout",
          "text": [
            "\n",
            " Accuracy computed using MLmetrics of XG Boost  Model is: 0.8685"
          ]
        }
      ]
    },
    {
      "cell_type": "markdown",
      "source": [
        "### **Applying k-Fold Cross Validation**"
      ],
      "metadata": {
        "id": "dbnBHvFXfHOZ"
      }
    },
    {
      "cell_type": "code",
      "source": [
        "install.packages('caret')\n",
        "library(caret)\n",
        "folds = createFolds(train_set$Exited, k = 10)\n",
        "cv = lapply(folds, function(x) {\n",
        "  training_fold = train_set[-x, ]\n",
        "  test_fold = train_set[x, ]\n",
        "  classifier = xgboost(data = as.matrix(training_fold[-11]), label = training_fold$Exited, nrounds = 10, verbose = 0)\n",
        "  y_pred = predict(classifier, newdata = as.matrix(test_fold[-11]))\n",
        "  #y_pred = (y_pred >= 0.5)\n",
        "  y_pred = ifelse(y_pred > 0.5, 1, 0)  \n",
        "  cm = table(test_fold[, 11], y_pred)          \n",
        "  accuracy = (cm[1,1] + cm[2,2]) / (cm[1,1] + cm[2,2] + cm[1,2] + cm[2,1])\n",
        "  return(accuracy)\n",
        "})\n",
        "accuracy = mean(as.numeric(cv))\n",
        "cat(\"\\n Mean Accuracy of XGBoost Model is:\", accuracy)  "
      ],
      "metadata": {
        "execution": {
          "iopub.status.busy": "2022-03-27T12:52:33.446007Z",
          "iopub.execute_input": "2022-03-27T12:52:33.447426Z",
          "iopub.status.idle": "2022-03-27T12:52:35.762703Z"
        },
        "trusted": true,
        "colab": {
          "base_uri": "https://localhost:8080/"
        },
        "id": "5_U3UN7ZfHOa",
        "outputId": "671b9a28-d657-469f-f9fa-58a0832a934a"
      },
      "execution_count": 5,
      "outputs": [
        {
          "output_type": "stream",
          "name": "stderr",
          "text": [
            "Installing package into ‘/usr/local/lib/R/site-library’\n",
            "(as ‘lib’ is unspecified)\n",
            "\n",
            "also installing the dependencies ‘listenv’, ‘parallelly’, ‘future’, ‘globals’, ‘future.apply’, ‘progressr’, ‘numDeriv’, ‘SQUAREM’, ‘lava’, ‘prodlim’, ‘proxy’, ‘iterators’, ‘gower’, ‘hardhat’, ‘ipred’, ‘timeDate’, ‘e1071’, ‘foreach’, ‘ModelMetrics’, ‘plyr’, ‘pROC’, ‘recipes’, ‘reshape2’\n",
            "\n",
            "\n",
            "Loading required package: ggplot2\n",
            "\n",
            "Loading required package: lattice\n",
            "\n",
            "Warning message in system(\"timedatectl\", intern = TRUE):\n",
            "“running command 'timedatectl' had status 1”\n",
            "\n",
            "Attaching package: ‘caret’\n",
            "\n",
            "\n",
            "The following objects are masked from ‘package:MLmetrics’:\n",
            "\n",
            "    MAE, RMSE\n",
            "\n",
            "\n"
          ]
        },
        {
          "output_type": "stream",
          "name": "stdout",
          "text": [
            "\n",
            " Mean Accuracy of XGBoost Model is: 0.858375"
          ]
        }
      ]
    },
    {
      "cell_type": "markdown",
      "source": [
        "## **XGBoost Regression**\n",
        "### **Data Preprocessing**\n",
        "**Data Set Information:**\n",
        "\n",
        "The dataset contains 9568 data points collected from a Combined Cycle Power Plant over 6 years (2006-2011), when the power plant was set to work with full load. Features consist of hourly average ambient variables Temperature (T), Ambient Pressure (AP), Relative Humidity (RH) and Exhaust Vacuum (V) to predict the net hourly electrical energy output (EP) of the plant.\n",
        "\n",
        "**Attribute Information:**\n",
        "\n",
        "Features consist of hourly average ambient variables\n",
        "* Temperature (AT) in the range 1.81°C and 37.11°C,\n",
        "* Ambient Pressure (AP) in the range 992.89-1033.30 milibar,\n",
        "* Relative Humidity (RH) in the range 25.56% to 100.16%\n",
        "* Exhaust Vacuum (V) in teh range 25.36-81.56 cm Hg\n",
        "* Net hourly electrical energy output (PE) 420.26-495.76 MW\n",
        "\n",
        "### **Importing the dataset**"
      ],
      "metadata": {
        "id": "vEx9NRdEfHOb"
      }
    },
    {
      "cell_type": "code",
      "source": [
        "ds = read.csv('/content/Power Plant Data.csv')\n",
        "cat(\"First three rows of dataset\", \"\\n\")\n",
        "head(ds, 3)"
      ],
      "metadata": {
        "execution": {
          "iopub.status.busy": "2022-03-27T12:52:35.765652Z",
          "iopub.execute_input": "2022-03-27T12:52:35.767987Z",
          "iopub.status.idle": "2022-03-27T12:52:35.831420Z"
        },
        "trusted": true,
        "colab": {
          "base_uri": "https://localhost:8080/",
          "height": 209
        },
        "id": "y_jd2duSfHOc",
        "outputId": "b66dcb60-1907-4767-a66e-8cfb08f31fe2"
      },
      "execution_count": 6,
      "outputs": [
        {
          "output_type": "stream",
          "name": "stdout",
          "text": [
            "First three rows of dataset \n"
          ]
        },
        {
          "output_type": "display_data",
          "data": {
            "text/html": [
              "<table class=\"dataframe\">\n",
              "<caption>A data.frame: 3 × 5</caption>\n",
              "<thead>\n",
              "\t<tr><th></th><th scope=col>AT</th><th scope=col>V</th><th scope=col>AP</th><th scope=col>RH</th><th scope=col>PE</th></tr>\n",
              "\t<tr><th></th><th scope=col>&lt;dbl&gt;</th><th scope=col>&lt;dbl&gt;</th><th scope=col>&lt;dbl&gt;</th><th scope=col>&lt;dbl&gt;</th><th scope=col>&lt;dbl&gt;</th></tr>\n",
              "</thead>\n",
              "<tbody>\n",
              "\t<tr><th scope=row>1</th><td>14.96</td><td>41.76</td><td>1024.07</td><td>73.17</td><td>463.26</td></tr>\n",
              "\t<tr><th scope=row>2</th><td>25.18</td><td>62.96</td><td>1020.04</td><td>59.08</td><td>444.37</td></tr>\n",
              "\t<tr><th scope=row>3</th><td> 5.11</td><td>39.40</td><td>1012.16</td><td>92.14</td><td>488.56</td></tr>\n",
              "</tbody>\n",
              "</table>\n"
            ],
            "text/markdown": "\nA data.frame: 3 × 5\n\n| <!--/--> | AT &lt;dbl&gt; | V &lt;dbl&gt; | AP &lt;dbl&gt; | RH &lt;dbl&gt; | PE &lt;dbl&gt; |\n|---|---|---|---|---|---|\n| 1 | 14.96 | 41.76 | 1024.07 | 73.17 | 463.26 |\n| 2 | 25.18 | 62.96 | 1020.04 | 59.08 | 444.37 |\n| 3 |  5.11 | 39.40 | 1012.16 | 92.14 | 488.56 |\n\n",
            "text/latex": "A data.frame: 3 × 5\n\\begin{tabular}{r|lllll}\n  & AT & V & AP & RH & PE\\\\\n  & <dbl> & <dbl> & <dbl> & <dbl> & <dbl>\\\\\n\\hline\n\t1 & 14.96 & 41.76 & 1024.07 & 73.17 & 463.26\\\\\n\t2 & 25.18 & 62.96 & 1020.04 & 59.08 & 444.37\\\\\n\t3 &  5.11 & 39.40 & 1012.16 & 92.14 & 488.56\\\\\n\\end{tabular}\n",
            "text/plain": [
              "  AT    V     AP      RH    PE    \n",
              "1 14.96 41.76 1024.07 73.17 463.26\n",
              "2 25.18 62.96 1020.04 59.08 444.37\n",
              "3  5.11 39.40 1012.16 92.14 488.56"
            ]
          },
          "metadata": {}
        }
      ]
    },
    {
      "cell_type": "code",
      "source": [
        "#find number of rows with missing values\n",
        "sum(!complete.cases(ds))"
      ],
      "metadata": {
        "execution": {
          "iopub.status.busy": "2022-03-27T12:52:35.833868Z",
          "iopub.execute_input": "2022-03-27T12:52:35.835283Z",
          "iopub.status.idle": "2022-03-27T12:52:35.853565Z"
        },
        "trusted": true,
        "colab": {
          "base_uri": "https://localhost:8080/",
          "height": 34
        },
        "id": "I5DlG_P6fHOd",
        "outputId": "c958b11e-579c-4076-bed2-c263c77e1982"
      },
      "execution_count": 7,
      "outputs": [
        {
          "output_type": "display_data",
          "data": {
            "text/html": [
              "0"
            ],
            "text/markdown": "0",
            "text/latex": "0",
            "text/plain": [
              "[1] 0"
            ]
          },
          "metadata": {}
        }
      ]
    },
    {
      "cell_type": "code",
      "source": [
        "#Splitting the dataset into the Train set and Test set\n",
        "# install.packages('caTools')\n",
        "library(caTools)\n",
        "set.seed(123)\n",
        "split = sample.split(ds$PE, SplitRatio = 4/5)\n",
        "\n",
        "\n",
        "train_set = subset(ds, split == TRUE)\n",
        "test_set = subset(ds, split == FALSE)"
      ],
      "metadata": {
        "execution": {
          "iopub.status.busy": "2022-03-27T12:52:35.856093Z",
          "iopub.execute_input": "2022-03-27T12:52:35.858023Z",
          "iopub.status.idle": "2022-03-27T12:52:35.883104Z"
        },
        "trusted": true,
        "id": "74_Lw9DufHOd"
      },
      "execution_count": 8,
      "outputs": []
    },
    {
      "cell_type": "markdown",
      "source": [
        "### **Multiple Linear Regression**"
      ],
      "metadata": {
        "id": "Pny9wnqvfHOe"
      }
    },
    {
      "cell_type": "code",
      "source": [
        "# Fitting Multiple Linear Regression to the Training set\n",
        "regressor = lm(formula = PE ~ .,\n",
        "               data = train_set)\n",
        "\n",
        "# Predicting the Test set results\n",
        "y_pred = predict(regressor, newdata = test_set)\n",
        "head(y_pred)\n",
        "\n",
        "summary(regressor)\n",
        "summary(regressor)$r.squared"
      ],
      "metadata": {
        "execution": {
          "iopub.status.busy": "2022-03-27T12:52:35.885511Z",
          "iopub.execute_input": "2022-03-27T12:52:35.886994Z",
          "iopub.status.idle": "2022-03-27T12:52:35.973062Z"
        },
        "trusted": true,
        "colab": {
          "base_uri": "https://localhost:8080/",
          "height": 416
        },
        "id": "zkQywowmfHOf",
        "outputId": "48a752c9-5d70-4185-c728-53fc173cd559"
      },
      "execution_count": 9,
      "outputs": [
        {
          "output_type": "display_data",
          "data": {
            "text/html": [
              "<style>\n",
              ".dl-inline {width: auto; margin:0; padding: 0}\n",
              ".dl-inline>dt, .dl-inline>dd {float: none; width: auto; display: inline-block}\n",
              ".dl-inline>dt::after {content: \":\\0020\"; padding-right: .5ex}\n",
              ".dl-inline>dt:not(:first-of-type) {padding-left: .5ex}\n",
              "</style><dl class=dl-inline><dt>4</dt><dd>450.564659928723</dd><dt>5</dt><dd>471.920932861155</dd><dt>8</dt><dd>478.196627624573</dd><dt>11</dt><dd>459.633091851083</dd><dt>16</dt><dd>458.276803758299</dd><dt>20</dt><dd>472.327121400887</dd></dl>\n"
            ],
            "text/markdown": "4\n:   450.5646599287235\n:   471.9209328611558\n:   478.19662762457311\n:   459.63309185108316\n:   458.27680375829920\n:   472.327121400887\n\n",
            "text/latex": "\\begin{description*}\n\\item[4] 450.564659928723\n\\item[5] 471.920932861155\n\\item[8] 478.196627624573\n\\item[11] 459.633091851083\n\\item[16] 458.276803758299\n\\item[20] 472.327121400887\n\\end{description*}\n",
            "text/plain": [
              "       4        5        8       11       16       20 \n",
              "450.5647 471.9209 478.1966 459.6331 458.2768 472.3271 "
            ]
          },
          "metadata": {}
        },
        {
          "output_type": "display_data",
          "data": {
            "text/plain": [
              "\n",
              "Call:\n",
              "lm(formula = PE ~ ., data = train_set)\n",
              "\n",
              "Residuals:\n",
              "    Min      1Q  Median      3Q     Max \n",
              "-43.081  -3.145  -0.083   3.148  17.801 \n",
              "\n",
              "Coefficients:\n",
              "              Estimate Std. Error t value Pr(>|t|)    \n",
              "(Intercept) 462.198326  10.867285   42.53  < 2e-16 ***\n",
              "AT           -1.981035   0.017051 -116.18  < 2e-16 ***\n",
              "V            -0.236547   0.008129  -29.10  < 2e-16 ***\n",
              "AP            0.054833   0.010545    5.20 2.04e-07 ***\n",
              "RH           -0.158473   0.004664  -33.98  < 2e-16 ***\n",
              "---\n",
              "Signif. codes:  0 ‘***’ 0.001 ‘**’ 0.01 ‘*’ 0.05 ‘.’ 0.1 ‘ ’ 1\n",
              "\n",
              "Residual standard error: 4.563 on 7649 degrees of freedom\n",
              "Multiple R-squared:  0.9288,\tAdjusted R-squared:  0.9288 \n",
              "F-statistic: 2.496e+04 on 4 and 7649 DF,  p-value: < 2.2e-16\n"
            ]
          },
          "metadata": {}
        },
        {
          "output_type": "display_data",
          "data": {
            "text/html": [
              "0.92883203261739"
            ],
            "text/markdown": "0.92883203261739",
            "text/latex": "0.92883203261739",
            "text/plain": [
              "[1] 0.928832"
            ]
          },
          "metadata": {}
        }
      ]
    },
    {
      "cell_type": "code",
      "source": [
        "test_set_df = data.frame(test_set$PE)\n",
        "y_pred_df = data.frame(y_pred)\n",
        "# combine two datasets in r\n",
        "y_test_compare =cbind(y_pred_df, test_set_df)\n",
        "head(y_test_compare,10)"
      ],
      "metadata": {
        "execution": {
          "iopub.status.busy": "2022-03-27T12:52:35.977479Z",
          "iopub.execute_input": "2022-03-27T12:52:35.980233Z",
          "iopub.status.idle": "2022-03-27T12:52:36.038738Z"
        },
        "trusted": true,
        "colab": {
          "base_uri": "https://localhost:8080/",
          "height": 412
        },
        "id": "DL_zojJvfHOf",
        "outputId": "0329f90e-e9b5-4c37-abce-5a35df41923a"
      },
      "execution_count": 10,
      "outputs": [
        {
          "output_type": "display_data",
          "data": {
            "text/html": [
              "<table class=\"dataframe\">\n",
              "<caption>A data.frame: 10 × 2</caption>\n",
              "<thead>\n",
              "\t<tr><th></th><th scope=col>y_pred</th><th scope=col>test_set.PE</th></tr>\n",
              "\t<tr><th></th><th scope=col>&lt;dbl&gt;</th><th scope=col>&lt;dbl&gt;</th></tr>\n",
              "</thead>\n",
              "<tbody>\n",
              "\t<tr><th scope=row>4</th><td>450.5647</td><td>446.48</td></tr>\n",
              "\t<tr><th scope=row>5</th><td>471.9209</td><td>473.90</td></tr>\n",
              "\t<tr><th scope=row>8</th><td>478.1966</td><td>478.42</td></tr>\n",
              "\t<tr><th scope=row>11</th><td>459.6331</td><td>453.02</td></tr>\n",
              "\t<tr><th scope=row>16</th><td>458.2768</td><td>462.19</td></tr>\n",
              "\t<tr><th scope=row>20</th><td>472.3271</td><td>464.30</td></tr>\n",
              "\t<tr><th scope=row>21</th><td>461.8123</td><td>468.27</td></tr>\n",
              "\t<tr><th scope=row>24</th><td>441.2787</td><td>443.61</td></tr>\n",
              "\t<tr><th scope=row>31</th><td>448.6454</td><td>445.11</td></tr>\n",
              "\t<tr><th scope=row>32</th><td>442.0436</td><td>438.86</td></tr>\n",
              "</tbody>\n",
              "</table>\n"
            ],
            "text/markdown": "\nA data.frame: 10 × 2\n\n| <!--/--> | y_pred &lt;dbl&gt; | test_set.PE &lt;dbl&gt; |\n|---|---|---|\n| 4 | 450.5647 | 446.48 |\n| 5 | 471.9209 | 473.90 |\n| 8 | 478.1966 | 478.42 |\n| 11 | 459.6331 | 453.02 |\n| 16 | 458.2768 | 462.19 |\n| 20 | 472.3271 | 464.30 |\n| 21 | 461.8123 | 468.27 |\n| 24 | 441.2787 | 443.61 |\n| 31 | 448.6454 | 445.11 |\n| 32 | 442.0436 | 438.86 |\n\n",
            "text/latex": "A data.frame: 10 × 2\n\\begin{tabular}{r|ll}\n  & y\\_pred & test\\_set.PE\\\\\n  & <dbl> & <dbl>\\\\\n\\hline\n\t4 & 450.5647 & 446.48\\\\\n\t5 & 471.9209 & 473.90\\\\\n\t8 & 478.1966 & 478.42\\\\\n\t11 & 459.6331 & 453.02\\\\\n\t16 & 458.2768 & 462.19\\\\\n\t20 & 472.3271 & 464.30\\\\\n\t21 & 461.8123 & 468.27\\\\\n\t24 & 441.2787 & 443.61\\\\\n\t31 & 448.6454 & 445.11\\\\\n\t32 & 442.0436 & 438.86\\\\\n\\end{tabular}\n",
            "text/plain": [
              "   y_pred   test_set.PE\n",
              "4  450.5647 446.48     \n",
              "5  471.9209 473.90     \n",
              "8  478.1966 478.42     \n",
              "11 459.6331 453.02     \n",
              "16 458.2768 462.19     \n",
              "20 472.3271 464.30     \n",
              "21 461.8123 468.27     \n",
              "24 441.2787 443.61     \n",
              "31 448.6454 445.11     \n",
              "32 442.0436 438.86     "
            ]
          },
          "metadata": {}
        }
      ]
    },
    {
      "cell_type": "markdown",
      "source": [
        "\n",
        "*   cbind() – combining the columns of two data frames side-by-side\n",
        "*   rbind() – stacking two data frames on top of each other, appending one to the other\n",
        "*   merge() – joining two data frames using a common column\n"
      ],
      "metadata": {
        "id": "E1x85Sf-iHvm"
      }
    },
    {
      "cell_type": "markdown",
      "source": [
        "#### **Statistics using rcompanion**\n",
        "**Details of rcompanion**\n",
        "\n",
        "Produces a table of fit statistics for multiple models: minimum maximum accuracy, mean absolute\n",
        "percentage error, root mean square error, normalized root mean square error, accuracy based on\n",
        "normalized root mean square error, Efron’s pseudo r-squared, and coefficient of variation.\n",
        "* For minimum maximum accuracy, larger indicates a better fit, and a perfect fit is equal to 1.Min_Max_accuracy will find out accuracy rate of each row. it can be considered accuracy rate of the model. \n",
        "* For mean absolute error (MAE), smaller indicates a better fit, and a perfect fit is equal to 0. It has the\n",
        "same units as the dependent variable. Note that here, MAE is simply the mean of the absolute values\n",
        "of the differences of predicted values and the observed values (MAE = mean(abs(predy -actual))).\n",
        "There are other definitions of MAE and similar-sounding terms.\n",
        "* For mean absolute percent error (MAPE), smaller indicates a better fit, and a perfect fit is equal to\n",
        "0.\n",
        "* Root mean square error (RMSE) has the same units as the predicted values.\n",
        "* Normalized root mean square error (NRMSE) is RMSE divided by the mean or the median of the values of the dependent variable. NRMSE accuracy values are calculated as 1 minus NRMSE. Larger indicates a better fit, and a perfect fit is equal to 1.\n",
        "* Efron’s pseudo r-squared is calculated as 1 minus the residual sum of squares divided by the total\n",
        "sum of squares. For linear models (lm model objects), Efron’s pseudo r-squared will be equal to\n",
        "r-squared. For other models, it should not be interpreted as r-squared, but can still be useful as a\n",
        "relative measure.\n",
        "* CV.prcnt is the coefficient of variation for the model. Here it is expressed as a percent.\n",
        "\n",
        "Model objects currently supported: lm, glm, nls, betareg, gls, lme, lmer, lmerTest, rq, loess, gam,\n",
        "glm.nb, glmRob."
      ],
      "metadata": {
        "id": "eW44YWndfHOg"
      }
    },
    {
      "cell_type": "code",
      "source": [
        "install.packages('rcompanion')\n",
        "library(rcompanion)\n",
        "metric = accuracy(list(regressor),plotit=TRUE, digits = 3)\n",
        "metric"
      ],
      "metadata": {
        "execution": {
          "iopub.status.busy": "2022-03-27T12:52:36.041332Z",
          "iopub.execute_input": "2022-03-27T12:52:36.042931Z",
          "iopub.status.idle": "2022-03-27T12:52:37.374922Z"
        },
        "trusted": true,
        "colab": {
          "base_uri": "https://localhost:8080/",
          "height": 818
        },
        "id": "ODAf5NS_fHOh",
        "outputId": "64c942bd-a77a-47bd-ffdb-77221e81eff4"
      },
      "execution_count": 12,
      "outputs": [
        {
          "output_type": "stream",
          "name": "stderr",
          "text": [
            "Installing package into ‘/usr/local/lib/R/site-library’\n",
            "(as ‘lib’ is unspecified)\n",
            "\n",
            "also installing the dependencies ‘rootSolve’, ‘lmom’, ‘TH.data’, ‘sandwich’, ‘mvtnorm’, ‘expm’, ‘Exact’, ‘gld’, ‘BH’, ‘libcoin’, ‘matrixStats’, ‘modeltools’, ‘multcomp’, ‘zoo’, ‘DescTools’, ‘multcompView’, ‘coin’, ‘lmtest’, ‘nortest’\n",
            "\n",
            "\n"
          ]
        },
        {
          "output_type": "display_data",
          "data": {
            "text/html": [
              "<dl>\n",
              "\t<dt>$Models</dt>\n",
              "\t\t<dd><table class=\"dataframe\">\n",
              "<caption>A matrix: 1 × 1 of type chr</caption>\n",
              "<thead>\n",
              "\t<tr><th></th><th scope=col>Call</th></tr>\n",
              "</thead>\n",
              "<tbody>\n",
              "\t<tr><th scope=row>1</th><td>lm(formula = PE ~ ., data = train_set)</td></tr>\n",
              "</tbody>\n",
              "</table>\n",
              "</dd>\n",
              "\t<dt>$Fit.criteria</dt>\n",
              "\t\t<dd><table class=\"dataframe\">\n",
              "<caption>A data.frame: 1 × 10</caption>\n",
              "<thead>\n",
              "\t<tr><th scope=col>Min.max.accuracy</th><th scope=col>MAE</th><th scope=col>MedAE</th><th scope=col>MAPE</th><th scope=col>MSE</th><th scope=col>RMSE</th><th scope=col>NRMSE.mean</th><th scope=col>NRMSE.median</th><th scope=col>Efron.r.squared</th><th scope=col>CV.prcnt</th></tr>\n",
              "\t<tr><th scope=col>&lt;dbl&gt;</th><th scope=col>&lt;dbl&gt;</th><th scope=col>&lt;dbl&gt;</th><th scope=col>&lt;dbl&gt;</th><th scope=col>&lt;dbl&gt;</th><th scope=col>&lt;dbl&gt;</th><th scope=col>&lt;dbl&gt;</th><th scope=col>&lt;dbl&gt;</th><th scope=col>&lt;dbl&gt;</th><th scope=col>&lt;dbl&gt;</th></tr>\n",
              "</thead>\n",
              "<tbody>\n",
              "\t<tr><td>0.992</td><td>3.62</td><td>3.15</td><td>0.00799</td><td>20.8</td><td>4.56</td><td>0.01</td><td>0.0101</td><td>0.929</td><td>1</td></tr>\n",
              "</tbody>\n",
              "</table>\n",
              "</dd>\n",
              "</dl>\n"
            ],
            "text/markdown": "$Models\n:   \nA matrix: 1 × 1 of type chr\n\n| <!--/--> | Call |\n|---|---|\n| 1 | lm(formula = PE ~ ., data = train_set) |\n\n\n$Fit.criteria\n:   \nA data.frame: 1 × 10\n\n| Min.max.accuracy &lt;dbl&gt; | MAE &lt;dbl&gt; | MedAE &lt;dbl&gt; | MAPE &lt;dbl&gt; | MSE &lt;dbl&gt; | RMSE &lt;dbl&gt; | NRMSE.mean &lt;dbl&gt; | NRMSE.median &lt;dbl&gt; | Efron.r.squared &lt;dbl&gt; | CV.prcnt &lt;dbl&gt; |\n|---|---|---|---|---|---|---|---|---|---|\n| 0.992 | 3.62 | 3.15 | 0.00799 | 20.8 | 4.56 | 0.01 | 0.0101 | 0.929 | 1 |\n\n\n\n\n",
            "text/latex": "\\begin{description}\n\\item[\\$Models] A matrix: 1 × 1 of type chr\n\\begin{tabular}{r|l}\n  & Call\\\\\n\\hline\n\t1 & lm(formula = PE \\textasciitilde{} ., data = train\\_set)\\\\\n\\end{tabular}\n\n\\item[\\$Fit.criteria] A data.frame: 1 × 10\n\\begin{tabular}{llllllllll}\n Min.max.accuracy & MAE & MedAE & MAPE & MSE & RMSE & NRMSE.mean & NRMSE.median & Efron.r.squared & CV.prcnt\\\\\n <dbl> & <dbl> & <dbl> & <dbl> & <dbl> & <dbl> & <dbl> & <dbl> & <dbl> & <dbl>\\\\\n\\hline\n\t 0.992 & 3.62 & 3.15 & 0.00799 & 20.8 & 4.56 & 0.01 & 0.0101 & 0.929 & 1\\\\\n\\end{tabular}\n\n\\end{description}\n",
            "text/plain": [
              "$Models\n",
              "  Call                                    \n",
              "1 \"lm(formula = PE ~ ., data = train_set)\"\n",
              "\n",
              "$Fit.criteria\n",
              "  Min.max.accuracy  MAE MedAE    MAPE  MSE RMSE NRMSE.mean NRMSE.median\n",
              "1            0.992 3.62  3.15 0.00799 20.8 4.56       0.01       0.0101\n",
              "  Efron.r.squared CV.prcnt\n",
              "1           0.929        1\n"
            ]
          },
          "metadata": {}
        },
        {
          "output_type": "display_data",
          "data": {
            "text/plain": [
              "Plot with title “Model 1”"
            ],
            "image/png": "[encoded data removed]"
          },
          "metadata": {
            "image/png": {
              "width": 420,
              "height": 420
            }
          }
        }
      ]
    },
    {
      "cell_type": "markdown",
      "source": [
        "#### **Evaluation Metrics**"
      ],
      "metadata": {
        "id": "l3uJz3ikfHOh"
      }
    },
    {
      "cell_type": "code",
      "source": [
        "d = test_set$PE-y_pred\n",
        "mse = mean((d)^2)\n",
        "mae = mean(abs(d))\n",
        "rmse = sqrt(mse)\n",
        "R2 = 1-(sum((d)^2)/sum((test_set$PE-mean(test_set$PE))^2))\n",
        "\n",
        "cat(\" MAE:\", mae, \"\\n\", \"MSE:\", mse, \"\\n\", \n",
        "    \"RMSE:\", rmse, \"\\n\", \"R-squared:\", R2)"
      ],
      "metadata": {
        "execution": {
          "iopub.status.busy": "2022-03-27T12:52:37.378787Z",
          "iopub.execute_input": "2022-03-27T12:52:37.381172Z",
          "iopub.status.idle": "2022-03-27T12:52:37.408676Z"
        },
        "trusted": true,
        "colab": {
          "base_uri": "https://localhost:8080/"
        },
        "id": "dDYxqB31fHOh",
        "outputId": "f1c71c0e-8646-4db3-d05f-7b8b414a86fc"
      },
      "execution_count": 13,
      "outputs": [
        {
          "output_type": "stream",
          "name": "stdout",
          "text": [
            " MAE: 3.630362 \n",
            " MSE: 20.61541 \n",
            " RMSE: 4.54042 \n",
            " R-squared: 0.9280941"
          ]
        }
      ]
    },
    {
      "cell_type": "markdown",
      "source": [
        "### **Define the model by using the xgboost() function of xgboost package**"
      ],
      "metadata": {
        "id": "NiqicTe2fHOi"
      }
    },
    {
      "cell_type": "code",
      "source": [
        "train_x = data.matrix(train_set[, -5])\n",
        "train_y = train_set[,5]\n",
        "\n",
        "test_x = data.matrix(test_set[, -5])\n",
        "test_y = test_set[, 5]\n",
        "\n",
        "# install.packages('xgboost')\n",
        "library(xgboost)\n",
        "xgb_train = xgb.DMatrix(data = train_x, label = train_y)\n",
        "xgb_test = xgb.DMatrix(data = test_x, label = test_y)"
      ],
      "metadata": {
        "execution": {
          "iopub.status.busy": "2022-03-27T12:52:37.412235Z",
          "iopub.execute_input": "2022-03-27T12:52:37.413962Z",
          "iopub.status.idle": "2022-03-27T12:52:37.443311Z"
        },
        "trusted": true,
        "id": "37Pd4B5DfHOi"
      },
      "execution_count": 14,
      "outputs": []
    },
    {
      "cell_type": "markdown",
      "source": [
        "#### **Fitting the model and prediction**"
      ],
      "metadata": {
        "id": "TATiaxYOfHOj"
      }
    },
    {
      "cell_type": "code",
      "source": [
        "xgbc = xgboost(data = xgb_train, max.depth = 2, nrounds = 50, verbose = 0)\n",
        "xgbc"
      ],
      "metadata": {
        "execution": {
          "iopub.status.busy": "2022-03-27T12:52:37.446325Z",
          "iopub.execute_input": "2022-03-27T12:52:37.448162Z",
          "iopub.status.idle": "2022-03-27T12:52:37.567211Z"
        },
        "trusted": true,
        "colab": {
          "base_uri": "https://localhost:8080/",
          "height": 434
        },
        "id": "G0QX0-UbfHOj",
        "outputId": "453f01f7-66a6-4398-d138-c168a3d8eaaf"
      },
      "execution_count": 15,
      "outputs": [
        {
          "output_type": "display_data",
          "data": {
            "text/plain": [
              "##### xgb.Booster\n",
              "raw: 39 Kb \n",
              "call:\n",
              "  xgb.train(params = params, data = dtrain, nrounds = nrounds, \n",
              "    watchlist = watchlist, verbose = verbose, print_every_n = print_every_n, \n",
              "    early_stopping_rounds = early_stopping_rounds, maximize = maximize, \n",
              "    save_period = save_period, save_name = save_name, xgb_model = xgb_model, \n",
              "    callbacks = callbacks, max.depth = 2)\n",
              "params (as set within xgb.train):\n",
              "  max_depth = \"2\", validate_parameters = \"1\"\n",
              "xgb.attributes:\n",
              "  niter\n",
              "callbacks:\n",
              "  cb.evaluation.log()\n",
              "# of features: 4 \n",
              "niter: 50\n",
              "nfeatures : 4 \n",
              "evaluation_log:\n",
              "    iter train_rmse\n",
              "       1 318.047058\n",
              "       2 222.725052\n",
              "---                \n",
              "      49   3.930269\n",
              "      50   3.926616"
            ]
          },
          "metadata": {}
        }
      ]
    },
    {
      "cell_type": "code",
      "source": [
        "pred_y = predict(xgbc, xgb_test)\n",
        "y_pred_df = data.frame(y_pred)\n",
        "# combine two datasets in r\n",
        "y_test_compare =cbind(y_pred, test_y)\n",
        "head(y_test_compare,10)"
      ],
      "metadata": {
        "execution": {
          "iopub.status.busy": "2022-03-27T12:52:37.569781Z",
          "iopub.execute_input": "2022-03-27T12:52:37.571249Z",
          "iopub.status.idle": "2022-03-27T12:52:37.605805Z"
        },
        "trusted": true,
        "colab": {
          "base_uri": "https://localhost:8080/",
          "height": 398
        },
        "id": "rcIu5fOTfHOj",
        "outputId": "1a939d9f-d971-4893-90e5-d3b04f597b92"
      },
      "execution_count": 16,
      "outputs": [
        {
          "output_type": "display_data",
          "data": {
            "text/html": [
              "<table class=\"dataframe\">\n",
              "<caption>A matrix: 10 × 2 of type dbl</caption>\n",
              "<thead>\n",
              "\t<tr><th></th><th scope=col>y_pred</th><th scope=col>test_y</th></tr>\n",
              "</thead>\n",
              "<tbody>\n",
              "\t<tr><th scope=row>4</th><td>450.5647</td><td>446.48</td></tr>\n",
              "\t<tr><th scope=row>5</th><td>471.9209</td><td>473.90</td></tr>\n",
              "\t<tr><th scope=row>8</th><td>478.1966</td><td>478.42</td></tr>\n",
              "\t<tr><th scope=row>11</th><td>459.6331</td><td>453.02</td></tr>\n",
              "\t<tr><th scope=row>16</th><td>458.2768</td><td>462.19</td></tr>\n",
              "\t<tr><th scope=row>20</th><td>472.3271</td><td>464.30</td></tr>\n",
              "\t<tr><th scope=row>21</th><td>461.8123</td><td>468.27</td></tr>\n",
              "\t<tr><th scope=row>24</th><td>441.2787</td><td>443.61</td></tr>\n",
              "\t<tr><th scope=row>31</th><td>448.6454</td><td>445.11</td></tr>\n",
              "\t<tr><th scope=row>32</th><td>442.0436</td><td>438.86</td></tr>\n",
              "</tbody>\n",
              "</table>\n"
            ],
            "text/markdown": "\nA matrix: 10 × 2 of type dbl\n\n| <!--/--> | y_pred | test_y |\n|---|---|---|\n| 4 | 450.5647 | 446.48 |\n| 5 | 471.9209 | 473.90 |\n| 8 | 478.1966 | 478.42 |\n| 11 | 459.6331 | 453.02 |\n| 16 | 458.2768 | 462.19 |\n| 20 | 472.3271 | 464.30 |\n| 21 | 461.8123 | 468.27 |\n| 24 | 441.2787 | 443.61 |\n| 31 | 448.6454 | 445.11 |\n| 32 | 442.0436 | 438.86 |\n\n",
            "text/latex": "A matrix: 10 × 2 of type dbl\n\\begin{tabular}{r|ll}\n  & y\\_pred & test\\_y\\\\\n\\hline\n\t4 & 450.5647 & 446.48\\\\\n\t5 & 471.9209 & 473.90\\\\\n\t8 & 478.1966 & 478.42\\\\\n\t11 & 459.6331 & 453.02\\\\\n\t16 & 458.2768 & 462.19\\\\\n\t20 & 472.3271 & 464.30\\\\\n\t21 & 461.8123 & 468.27\\\\\n\t24 & 441.2787 & 443.61\\\\\n\t31 & 448.6454 & 445.11\\\\\n\t32 & 442.0436 & 438.86\\\\\n\\end{tabular}\n",
            "text/plain": [
              "   y_pred   test_y\n",
              "4  450.5647 446.48\n",
              "5  471.9209 473.90\n",
              "8  478.1966 478.42\n",
              "11 459.6331 453.02\n",
              "16 458.2768 462.19\n",
              "20 472.3271 464.30\n",
              "21 461.8123 468.27\n",
              "24 441.2787 443.61\n",
              "31 448.6454 445.11\n",
              "32 442.0436 438.86"
            ]
          },
          "metadata": {}
        }
      ]
    },
    {
      "cell_type": "markdown",
      "source": [
        "#### **Evaluation Metrics**"
      ],
      "metadata": {
        "id": "L9ziPuwFfHOk"
      }
    },
    {
      "cell_type": "code",
      "source": [
        "d = test_y-y_pred\n",
        "mse = mean((d)^2)\n",
        "mae = mean(abs(d))\n",
        "rmse = sqrt(mse)\n",
        "R2 = 1-(sum((d)^2)/sum((test_y-mean(test_y))^2))\n",
        "\n",
        "cat(\" MAE:\", mae, \"\\n\", \"MSE:\", mse, \"\\n\", \n",
        "    \"RMSE:\", rmse, \"\\n\", \"R-squared:\", R2)"
      ],
      "metadata": {
        "execution": {
          "iopub.status.busy": "2022-03-27T12:52:37.609346Z",
          "iopub.execute_input": "2022-03-27T12:52:37.610990Z",
          "iopub.status.idle": "2022-03-27T12:52:37.653761Z"
        },
        "trusted": true,
        "colab": {
          "base_uri": "https://localhost:8080/"
        },
        "id": "QqxNu-LefHOk",
        "outputId": "c07226e4-ee5c-41f3-e9b0-7fadcd680db2"
      },
      "execution_count": 17,
      "outputs": [
        {
          "output_type": "stream",
          "name": "stdout",
          "text": [
            " MAE: 3.630362 \n",
            " MSE: 20.61541 \n",
            " RMSE: 4.54042 \n",
            " R-squared: 0.9280941"
          ]
        }
      ]
    },
    {
      "cell_type": "code",
      "source": [
        "y_pred = predict(xgbc, xgb_test)\n",
        "mse = mean((test_y - y_pred)^2)\n",
        "mae = caret::MAE(test_y, y_pred)\n",
        "rmse = caret::RMSE(test_y, y_pred)\n",
        "\n",
        "# Calculate total sum of squares (tss)\n",
        "y_test_mean = mean(test_y)\n",
        "tss =  sum((test_y - y_test_mean)^2 )\n",
        "\n",
        "# Calculate residual sum of squares (rss)\n",
        "residuals = test_y - y_pred\n",
        "rss =  sum(residuals^2)\n",
        "\n",
        "# Calculate R-squared\n",
        "rsq  =  1 - (rss/tss)\n",
        "\n",
        "cat(\" MSE of the test data is: \", mse,\"\\n\", \"MAE of the test data is: \", mae,\"\\n\", \n",
        "    \"RMSE of the test data is: \", rmse, \"\\n\", \"R-squared of the test data is:\", rsq)\n",
        "cat('\\n The R-square of the test data is ', round(rsq,3))"
      ],
      "metadata": {
        "execution": {
          "iopub.status.busy": "2022-03-27T12:52:37.656258Z",
          "iopub.execute_input": "2022-03-27T12:52:37.657767Z",
          "iopub.status.idle": "2022-03-27T12:52:37.699018Z"
        },
        "trusted": true,
        "colab": {
          "base_uri": "https://localhost:8080/"
        },
        "id": "kI5FSR4CfHOk",
        "outputId": "7139a36b-4004-4f66-e1ee-fece8225d782"
      },
      "execution_count": 18,
      "outputs": [
        {
          "output_type": "stream",
          "name": "stdout",
          "text": [
            " MSE of the test data is:  16.21546 \n",
            " MAE of the test data is:  3.119795 \n",
            " RMSE of the test data is:  4.026842 \n",
            " R-squared of the test data is: 0.943441\n",
            " The R-square of the test data is  0.943"
          ]
        }
      ]
    }
  ]
}