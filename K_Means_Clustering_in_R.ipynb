{
  "metadata": {
    "kernelspec": {
      "name": "ir",
      "display_name": "R",
      "language": "R"
    },
    "language_info": {
      "name": "R",
      "codemirror_mode": "r",
      "pygments_lexer": "r",
      "mimetype": "text/x-r-source",
      "file_extension": ".r",
      "version": "4.0.5"
    },
    "colab": {
      "name": "K-Means Clustering in R.ipynb",
      "provenance": []
    }
  },
  "nbformat_minor": 0,
  "nbformat": 4,
  "cells": [
    {
      "cell_type": "markdown",
      "source": [
        "# **K-Means Clustering in R**"
      ],
      "metadata": {
        "id": "Tx4RC5OpsW9L"
      }
    },
    {
      "cell_type": "markdown",
      "source": [
        "## **1. K-Means Clustering in R of Mall customers**"
      ],
      "metadata": {
        "id": "3NPXbBiWsW9U"
      }
    },
    {
      "cell_type": "markdown",
      "source": [
        "### **Importing the dataset**"
      ],
      "metadata": {
        "id": "Q-Hx0Pp9sW9W"
      }
    },
    {
      "cell_type": "code",
      "source": [
        "ds = read.csv('/content/Mall_Customers.csv')\n",
        "head(ds)"
      ],
      "metadata": {
        "execution": {
          "iopub.status.busy": "2022-03-17T19:15:08.150546Z",
          "iopub.execute_input": "2022-03-17T19:15:08.153344Z",
          "iopub.status.idle": "2022-03-17T19:15:08.380163Z"
        },
        "trusted": true,
        "id": "ymJuiLO3sW9X"
      },
      "execution_count": null,
      "outputs": []
    },
    {
      "cell_type": "code",
      "source": [
        "ds = ds[4:5]"
      ],
      "metadata": {
        "execution": {
          "iopub.status.busy": "2022-03-17T19:15:08.383749Z",
          "iopub.execute_input": "2022-03-17T19:15:08.421755Z",
          "iopub.status.idle": "2022-03-17T19:15:08.435631Z"
        },
        "trusted": true,
        "id": "qw3vwdROsW9c"
      },
      "execution_count": null,
      "outputs": []
    },
    {
      "cell_type": "markdown",
      "source": [
        "### **Using the elbow method to find the optimal number of clusters**"
      ],
      "metadata": {
        "id": "UUjsiKO6sW9d"
      }
    },
    {
      "cell_type": "code",
      "source": [
        "set.seed(6)\n",
        "wcss = vector()\n",
        "for (i in 1:10) wcss[i] = sum(kmeans(ds, i)$withinss)\n",
        "plot(1:10,\n",
        "     wcss,\n",
        "     type = 'b',\n",
        "     main = paste('The Elbow Method'),\n",
        "     xlab = 'Number of clusters',\n",
        "     ylab = 'WCSS')"
      ],
      "metadata": {
        "execution": {
          "iopub.status.busy": "2022-03-17T19:15:08.439574Z",
          "iopub.execute_input": "2022-03-17T19:15:08.441283Z",
          "iopub.status.idle": "2022-03-17T19:15:08.860053Z"
        },
        "trusted": true,
        "id": "YUciYBySsW9e"
      },
      "execution_count": null,
      "outputs": []
    },
    {
      "cell_type": "markdown",
      "source": [
        "### **Fitting K-Means to the dataset**"
      ],
      "metadata": {
        "id": "xjcdaE1isW9f"
      }
    },
    {
      "cell_type": "code",
      "source": [
        "set.seed(29)\n",
        "KM = kmeans(x = ds, centers = 5)\n",
        "y_KM = KM$cluster"
      ],
      "metadata": {
        "execution": {
          "iopub.status.busy": "2022-03-17T19:15:08.863976Z",
          "iopub.execute_input": "2022-03-17T19:15:08.865879Z",
          "iopub.status.idle": "2022-03-17T19:15:08.887078Z"
        },
        "trusted": true,
        "id": "5sErQmQ-sW9g"
      },
      "execution_count": null,
      "outputs": []
    },
    {
      "cell_type": "markdown",
      "source": [
        "### **Visualizing the clusters**"
      ],
      "metadata": {
        "id": "i4lrTiFjsW9i"
      }
    },
    {
      "cell_type": "code",
      "source": [
        "library(cluster)\n",
        "clusplot(ds,\n",
        "         y_KM,\n",
        "         lines = 0,\n",
        "         shade = TRUE,\n",
        "         color = TRUE,\n",
        "         labels = 2,\n",
        "         plotchar = FALSE,\n",
        "         span = TRUE,\n",
        "         main = paste('Clusters of customers'),\n",
        "         xlab = 'Annual Income',\n",
        "         ylab = 'Spending Score')"
      ],
      "metadata": {
        "execution": {
          "iopub.status.busy": "2022-03-17T19:15:08.891025Z",
          "iopub.execute_input": "2022-03-17T19:15:08.892840Z",
          "iopub.status.idle": "2022-03-17T19:15:09.165947Z"
        },
        "trusted": true,
        "id": "LKS6lUVZsW9j"
      },
      "execution_count": null,
      "outputs": []
    },
    {
      "cell_type": "code",
      "source": [
        "library(cluster)\n",
        "clusplot(ds,\n",
        "         y_KM,\n",
        "         lines = 0,\n",
        "         shade = FALSE,\n",
        "         color = TRUE,\n",
        "         labels = 2,\n",
        "         plotchar = FALSE,\n",
        "         span = TRUE,\n",
        "         main = paste('Clusters of customers'),\n",
        "         xlab = 'Annual Income',\n",
        "         ylab = 'Spending Score')"
      ],
      "metadata": {
        "execution": {
          "iopub.status.busy": "2022-03-17T19:15:09.168515Z",
          "iopub.execute_input": "2022-03-17T19:15:09.170018Z",
          "iopub.status.idle": "2022-03-17T19:15:09.310676Z"
        },
        "trusted": true,
        "id": "aAwKJ3wasW9k"
      },
      "execution_count": null,
      "outputs": []
    },
    {
      "cell_type": "code",
      "source": [
        "library(cluster)\n",
        "clusplot(ds,\n",
        "         y_KM,\n",
        "         lines = 1,\n",
        "         shade = TRUE,\n",
        "         color = TRUE,\n",
        "         labels = 2,\n",
        "         plotchar = FALSE,\n",
        "         span = TRUE,\n",
        "         main = paste('Clusters of customers'),\n",
        "         xlab = 'Annual Income',\n",
        "         ylab = 'Spending Score')"
      ],
      "metadata": {
        "execution": {
          "iopub.status.busy": "2022-03-17T19:15:09.313323Z",
          "iopub.execute_input": "2022-03-17T19:15:09.314824Z",
          "iopub.status.idle": "2022-03-17T19:15:09.517592Z"
        },
        "trusted": true,
        "id": "Emhri8_ssW9l"
      },
      "execution_count": null,
      "outputs": []
    },
    {
      "cell_type": "code",
      "source": [
        "library(cluster)\n",
        "clusplot(ds,\n",
        "         y_KM,\n",
        "         lines = 0,\n",
        "         shade = TRUE,\n",
        "         color = FALSE,\n",
        "         labels = 2,\n",
        "         plotchar = FALSE,\n",
        "         span = TRUE,\n",
        "         main = paste('Clusters of customers'),\n",
        "         xlab = 'Annual Income',\n",
        "         ylab = 'Spending Score')"
      ],
      "metadata": {
        "execution": {
          "iopub.status.busy": "2022-03-17T19:15:09.521484Z",
          "iopub.execute_input": "2022-03-17T19:15:09.523750Z",
          "iopub.status.idle": "2022-03-17T19:15:09.728705Z"
        },
        "trusted": true,
        "id": "UYPtg4bdsW9m"
      },
      "execution_count": null,
      "outputs": []
    },
    {
      "cell_type": "code",
      "source": [
        "library(cluster)\n",
        "clusplot(ds,\n",
        "         y_KM,\n",
        "         lines = 0,\n",
        "         shade = TRUE,\n",
        "         color = TRUE,\n",
        "         labels = 1,\n",
        "         plotchar = FALSE,\n",
        "         span = TRUE,\n",
        "         main = paste('Clusters of customers'),\n",
        "         xlab = 'Annual Income',\n",
        "         ylab = 'Spending Score')"
      ],
      "metadata": {
        "execution": {
          "iopub.status.busy": "2022-03-17T19:15:09.731325Z",
          "iopub.execute_input": "2022-03-17T19:15:09.732815Z",
          "iopub.status.idle": "2022-03-17T19:15:09.897167Z"
        },
        "trusted": true,
        "id": "Ki8PoGEtsW9n"
      },
      "execution_count": null,
      "outputs": []
    },
    {
      "cell_type": "code",
      "source": [
        "library(cluster)\n",
        "clusplot(ds,\n",
        "         y_KM,\n",
        "         lines = 0,\n",
        "         shade = TRUE,\n",
        "         color = TRUE,\n",
        "         labels = 0,\n",
        "         plotchar = FALSE,\n",
        "         span = TRUE,\n",
        "         main = paste('Clusters of customers'),\n",
        "         xlab = 'Annual Income',\n",
        "         ylab = 'Spending Score')"
      ],
      "metadata": {
        "execution": {
          "iopub.status.busy": "2022-03-17T19:15:09.901244Z",
          "iopub.execute_input": "2022-03-17T19:15:09.939119Z",
          "iopub.status.idle": "2022-03-17T19:15:10.102644Z"
        },
        "trusted": true,
        "id": "sczAjiJ2sW9n"
      },
      "execution_count": null,
      "outputs": []
    },
    {
      "cell_type": "code",
      "source": [
        "library(cluster)\n",
        "clusplot(ds,\n",
        "         y_KM,\n",
        "         lines = 0,\n",
        "         shade = TRUE,\n",
        "         color = TRUE,\n",
        "         labels = 2,\n",
        "         plotchar = FALSE,\n",
        "         span = FALSE,\n",
        "         main = paste('Clusters of customers'),\n",
        "         xlab = 'Annual Income',\n",
        "         ylab = 'Spending Score')"
      ],
      "metadata": {
        "execution": {
          "iopub.status.busy": "2022-03-17T19:15:10.105151Z",
          "iopub.execute_input": "2022-03-17T19:15:10.106573Z",
          "iopub.status.idle": "2022-03-17T19:15:10.326418Z"
        },
        "trusted": true,
        "id": "n16XGDcCsW9o"
      },
      "execution_count": null,
      "outputs": []
    },
    {
      "cell_type": "markdown",
      "source": [
        "## **2. K-Means Clustering in R of College data**"
      ],
      "metadata": {
        "id": "6M5u3YUWsW9p"
      }
    },
    {
      "cell_type": "markdown",
      "source": [
        "### **Importing the dataset**"
      ],
      "metadata": {
        "id": "_KlNkRepsW9p"
      }
    },
    {
      "cell_type": "code",
      "source": [
        "college = read.csv('/content/College_Data')\n",
        "head(college)"
      ],
      "metadata": {
        "execution": {
          "iopub.status.busy": "2022-03-17T19:15:10.328961Z",
          "iopub.execute_input": "2022-03-17T19:15:10.330414Z",
          "iopub.status.idle": "2022-03-17T19:15:10.382372Z"
        },
        "trusted": true,
        "id": "zmGaJxCGsW9p"
      },
      "execution_count": null,
      "outputs": []
    },
    {
      "cell_type": "code",
      "source": [
        "summary(college)"
      ],
      "metadata": {
        "execution": {
          "iopub.status.busy": "2022-03-17T19:15:10.384931Z",
          "iopub.execute_input": "2022-03-17T19:15:10.386393Z",
          "iopub.status.idle": "2022-03-17T19:15:10.410672Z"
        },
        "trusted": true,
        "id": "o2XdYMvNsW9q"
      },
      "execution_count": null,
      "outputs": []
    },
    {
      "cell_type": "code",
      "source": [
        "#find number of rows with missing values\n",
        "sum(!complete.cases(college))"
      ],
      "metadata": {
        "execution": {
          "iopub.status.busy": "2022-03-17T19:15:10.413178Z",
          "iopub.execute_input": "2022-03-17T19:15:10.414618Z",
          "iopub.status.idle": "2022-03-17T19:15:10.430821Z"
        },
        "trusted": true,
        "id": "jnF2NDCAsW9q"
      },
      "execution_count": null,
      "outputs": []
    },
    {
      "cell_type": "code",
      "source": [
        "college$Private = factor(college$Private,\n",
        "                           levels = c('No', 'Yes'),\n",
        "                           labels = c(0, 1))"
      ],
      "metadata": {
        "execution": {
          "iopub.status.busy": "2022-03-17T19:15:10.433329Z",
          "iopub.execute_input": "2022-03-17T19:15:10.434724Z",
          "iopub.status.idle": "2022-03-17T19:15:10.450803Z"
        },
        "trusted": true,
        "id": "9jEipKFUsW9r"
      },
      "execution_count": null,
      "outputs": []
    },
    {
      "cell_type": "code",
      "source": [
        "head(college)"
      ],
      "metadata": {
        "execution": {
          "iopub.status.busy": "2022-03-17T19:15:10.453346Z",
          "iopub.execute_input": "2022-03-17T19:15:10.454755Z",
          "iopub.status.idle": "2022-03-17T19:15:10.483093Z"
        },
        "trusted": true,
        "id": "sel1XtassW9r"
      },
      "execution_count": null,
      "outputs": []
    },
    {
      "cell_type": "code",
      "source": [
        "ds = college[3:19]"
      ],
      "metadata": {
        "execution": {
          "iopub.status.busy": "2022-03-17T19:15:10.485555Z",
          "iopub.execute_input": "2022-03-17T19:15:10.487004Z",
          "iopub.status.idle": "2022-03-17T19:15:10.498263Z"
        },
        "trusted": true,
        "id": "gsrw4DlPsW9s"
      },
      "execution_count": null,
      "outputs": []
    },
    {
      "cell_type": "code",
      "source": [
        "class(ds)"
      ],
      "metadata": {
        "execution": {
          "iopub.status.busy": "2022-03-17T19:15:10.500696Z",
          "iopub.execute_input": "2022-03-17T19:15:10.502134Z",
          "iopub.status.idle": "2022-03-17T19:15:10.520605Z"
        },
        "trusted": true,
        "id": "qX4pQk10sW9s"
      },
      "execution_count": null,
      "outputs": []
    },
    {
      "cell_type": "code",
      "source": [
        "#remove rows with missing values\n",
        "ds <- na.omit(ds)"
      ],
      "metadata": {
        "execution": {
          "iopub.status.busy": "2022-03-17T19:15:10.523063Z",
          "iopub.execute_input": "2022-03-17T19:15:10.524463Z",
          "iopub.status.idle": "2022-03-17T19:15:10.536762Z"
        },
        "trusted": true,
        "id": "eyjxnWhssW9s"
      },
      "execution_count": null,
      "outputs": []
    },
    {
      "cell_type": "code",
      "source": [
        "#scale each variable to have a mean of 0 and sd of 1\n",
        "ds_scaled = scale(ds)"
      ],
      "metadata": {
        "execution": {
          "iopub.status.busy": "2022-03-17T19:15:10.539102Z",
          "iopub.execute_input": "2022-03-17T19:15:10.540518Z",
          "iopub.status.idle": "2022-03-17T19:15:10.556225Z"
        },
        "trusted": true,
        "id": "V-MCgOyYsW9s"
      },
      "execution_count": null,
      "outputs": []
    },
    {
      "cell_type": "markdown",
      "source": [
        "### **Elbow method to find the optimum number of clusters**\n",
        "Look for an “elbow” where the sum of squares begins to “bend” or level off. This is typically the optimal number of clusters."
      ],
      "metadata": {
        "id": "J7U3LAvWsW9t"
      }
    },
    {
      "cell_type": "code",
      "source": [
        "set.seed(6)\n",
        "wcss = vector()\n",
        "for (i in 1:10) wcss[i] = sum(kmeans(ds_scaled, i)$withinss)\n",
        "plot(1:10,\n",
        "     wcss,\n",
        "     type = 'b',\n",
        "     main = paste('The Elbow Method'),\n",
        "     xlab = 'Number of clusters',\n",
        "     ylab = 'WCSS')"
      ],
      "metadata": {
        "execution": {
          "iopub.status.busy": "2022-03-17T19:15:10.559945Z",
          "iopub.execute_input": "2022-03-17T19:15:10.561629Z",
          "iopub.status.idle": "2022-03-17T19:15:10.661800Z"
        },
        "trusted": true,
        "id": "bQhD2wOSsW9u"
      },
      "execution_count": null,
      "outputs": []
    },
    {
      "cell_type": "markdown",
      "source": [
        "### **Number of Clusters vs. the Total Within Sum of Squares**\n",
        "use of fviz_nbclust() function to create a plot of the number of clusters vs. the total within sum of squares"
      ],
      "metadata": {
        "id": "lG1UHZFosW9u"
      }
    },
    {
      "cell_type": "code",
      "source": [
        "library(factoextra)\n",
        "library(cluster)\n",
        "fviz_nbclust(ds_scaled, kmeans, method = \"wss\")"
      ],
      "metadata": {
        "execution": {
          "iopub.status.busy": "2022-03-17T19:15:10.664299Z",
          "iopub.execute_input": "2022-03-17T19:15:10.665766Z",
          "iopub.status.idle": "2022-03-17T19:15:12.293326Z"
        },
        "trusted": true,
        "id": "ula_76WwsW9u"
      },
      "execution_count": null,
      "outputs": []
    },
    {
      "cell_type": "markdown",
      "source": [
        "It appears that there is a bit of an elbow or “bend” at k = 7 clusters."
      ],
      "metadata": {
        "id": "A8jX9s54sW9u"
      }
    },
    {
      "cell_type": "code",
      "source": [
        "fviz_nbclust(\n",
        "  ds_scaled,\n",
        "  FUNcluster = kmeans,\n",
        "  method = \"wss\",\n",
        "  diss = NULL,\n",
        "  k.max = 10,\n",
        "  nboot = 100,\n",
        "  verbose = interactive(),\n",
        "  barfill = \"steelblue\",\n",
        "  barcolor = \"steelblue\",\n",
        "  linecolor = \"steelblue\",\n",
        "  print.summary = TRUE,\n",
        ")"
      ],
      "metadata": {
        "execution": {
          "iopub.status.busy": "2022-03-17T19:15:12.296228Z",
          "iopub.execute_input": "2022-03-17T19:15:12.297850Z",
          "iopub.status.idle": "2022-03-17T19:15:13.005700Z"
        },
        "trusted": true,
        "id": "bYWwBrn5sW9v"
      },
      "execution_count": null,
      "outputs": []
    },
    {
      "cell_type": "markdown",
      "source": [
        "### **Perform K-Means Clustering with Optimal K: Fitting K-Means to the dataset**"
      ],
      "metadata": {
        "id": "5j1_ymldsW9v"
      }
    },
    {
      "cell_type": "code",
      "source": [
        "set.seed(29)\n",
        "KM = kmeans(x = ds_scaled, centers = 7, nstart = 25)\n",
        "y_KM = KM$cluster\n",
        "y_KM"
      ],
      "metadata": {
        "execution": {
          "iopub.status.busy": "2022-03-17T19:15:13.009049Z",
          "iopub.execute_input": "2022-03-17T19:15:13.010650Z",
          "iopub.status.idle": "2022-03-17T19:15:13.100408Z"
        },
        "trusted": true,
        "id": "it2iMHPksW9v"
      },
      "execution_count": null,
      "outputs": []
    },
    {
      "cell_type": "code",
      "source": [
        "KM"
      ],
      "metadata": {
        "execution": {
          "iopub.status.busy": "2022-03-17T19:15:13.102973Z",
          "iopub.execute_input": "2022-03-17T19:15:13.104422Z",
          "iopub.status.idle": "2022-03-17T19:15:13.121485Z"
        },
        "trusted": true,
        "id": "0nw_zdAisW9w"
      },
      "execution_count": null,
      "outputs": []
    },
    {
      "cell_type": "markdown",
      "source": [
        "From the results we can see that:\n",
        "* K-means clustering with 7 clusters of sizes 25, 150, 78, 103, 226, 167, *28*\n",
        "1. 25 colleges were assigned to the first cluster\n",
        "2. 150 colleges were assigned to the second cluster\n",
        "3. 78 colleges were assigned to the third cluster\n",
        "4. 103 colleges were assigned to the fourth cluster\n",
        "5. 226 colleges were assigned to the fifth cluster\n",
        "6. 167 colleges were assigned to the sixth cluster\n",
        "7. 28 colleges were assigned to the seventh cluster"
      ],
      "metadata": {
        "id": "YosM6sNBsW9w"
      }
    },
    {
      "cell_type": "markdown",
      "source": [
        "### **Visualization of clusters**\n",
        "visualize the clusters on a scatterplot that displays the first two principal components on the axes using the fivz_cluster() function."
      ],
      "metadata": {
        "id": "BCzEY6j8sW9x"
      }
    },
    {
      "cell_type": "code",
      "source": [
        "#plot results of final k-means model\n",
        "fviz_cluster(KM, data = ds)"
      ],
      "metadata": {
        "execution": {
          "iopub.status.busy": "2022-03-17T19:15:13.124005Z",
          "iopub.execute_input": "2022-03-17T19:15:13.125458Z",
          "iopub.status.idle": "2022-03-17T19:15:13.852902Z"
        },
        "trusted": true,
        "id": "R8oy-WEqsW9x"
      },
      "execution_count": null,
      "outputs": []
    },
    {
      "cell_type": "markdown",
      "source": [
        "### **Mean of the variables in each clusters**\n",
        "Use the aggregate() function to find the mean of the variables in each cluster"
      ],
      "metadata": {
        "id": "KUSdksbEsW9x"
      }
    },
    {
      "cell_type": "code",
      "source": [
        "#find means of each cluster\n",
        "aggregate(ds, by=list(cluster=KM$cluster), mean)"
      ],
      "metadata": {
        "execution": {
          "iopub.status.busy": "2022-03-17T19:15:13.855458Z",
          "iopub.execute_input": "2022-03-17T19:15:13.856915Z",
          "iopub.status.idle": "2022-03-17T19:15:13.892633Z"
        },
        "trusted": true,
        "id": "kKRtCVKKsW9y"
      },
      "execution_count": null,
      "outputs": []
    },
    {
      "cell_type": "code",
      "source": [
        "final_data <- cbind(college, cluster = KM$cluster)\n",
        "head(final_data,10)"
      ],
      "metadata": {
        "execution": {
          "iopub.status.busy": "2022-03-17T19:15:13.895094Z",
          "iopub.execute_input": "2022-03-17T19:15:13.896532Z",
          "iopub.status.idle": "2022-03-17T19:15:13.938183Z"
        },
        "trusted": true,
        "id": "2Av5WY8SsW9y"
      },
      "execution_count": null,
      "outputs": []
    },
    {
      "cell_type": "markdown",
      "source": [
        "### **Append cluster assignments to the original dataset**\n",
        "Append the cluster assignments of each colleges back to the original dataset"
      ],
      "metadata": {
        "id": "wf4tfn4csW9y"
      }
    },
    {
      "cell_type": "code",
      "source": [
        "tail(final_data,10)"
      ],
      "metadata": {
        "execution": {
          "iopub.status.busy": "2022-03-17T19:15:13.941309Z",
          "iopub.execute_input": "2022-03-17T19:15:13.942978Z",
          "iopub.status.idle": "2022-03-17T19:15:13.979206Z"
        },
        "trusted": true,
        "id": "uUBiG6UtsW9y"
      },
      "execution_count": null,
      "outputs": []
    },
    {
      "cell_type": "code",
      "source": [
        ""
      ],
      "metadata": {
        "id": "xhaCtYgMsW9z"
      },
      "execution_count": null,
      "outputs": []
    }
  ]
}