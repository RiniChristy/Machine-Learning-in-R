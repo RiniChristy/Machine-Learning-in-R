{
  "metadata": {
    "kernelspec": {
      "name": "ir",
      "display_name": "R",
      "language": "R"
    },
    "language_info": {
      "name": "R",
      "codemirror_mode": "r",
      "pygments_lexer": "r",
      "mimetype": "text/x-r-source",
      "file_extension": ".r",
      "version": "4.0.5"
    },
    "colab": {
      "name": "Dimensionality reduction using PCA in R.ipynb",
      "provenance": []
    }
  },
  "nbformat_minor": 0,
  "nbformat": 4,
  "cells": [
    {
      "cell_type": "markdown",
      "source": [
        "# **Principal Component Analysis (PCA) of UCI Wine dataset in R**"
      ],
      "metadata": {
        "id": "tqbR4k-zcQiy"
      }
    },
    {
      "cell_type": "markdown",
      "source": [
        "## **Data Set Information:**\n",
        "\n",
        "These data are the results of a chemical analysis of wines grown in the same region in Italy but derived from three different cultivars. The analysis determined the quantities of 13 constituents found in each of the three types of wines.\n",
        "\n",
        "The attributes are:\n",
        "1. Alcohol\n",
        "2. Malic acid\n",
        "3. Ash\n",
        "4. Alcalinity of ash\n",
        "5. Magnesium\n",
        "6. Total phenols\n",
        "7. Flavanoids\n",
        "8. Nonflavanoid phenols\n",
        "9. Proanthocyanins\n",
        "10. Color intensity\n",
        "11. Hue\n",
        "12. )OD280/OD315 of diluted wines\n",
        "13. Proline\n"
      ],
      "metadata": {
        "id": "g9dmtE_PcQi5"
      }
    },
    {
      "cell_type": "markdown",
      "source": [
        "## **Part 1: Data Preprocessing**"
      ],
      "metadata": {
        "id": "4KEqo5IfcQi6"
      }
    },
    {
      "cell_type": "code",
      "source": [
        "ds = read.csv('/content/wine.data', header = FALSE)\n",
        "head(ds) "
      ],
      "metadata": {
        "execution": {
          "iopub.status.busy": "2022-03-22T20:16:41.472710Z",
          "iopub.execute_input": "2022-03-22T20:16:41.474684Z",
          "iopub.status.idle": "2022-03-22T20:16:41.610982Z"
        },
        "trusted": true,
        "colab": {
          "base_uri": "https://localhost:8080/",
          "height": 286
        },
        "id": "h90vPOwCcQi7",
        "outputId": "5a597884-bc8e-49be-b49d-04c8af540176"
      },
      "execution_count": 1,
      "outputs": [
        {
          "output_type": "display_data",
          "data": {
            "text/html": [
              "<table class=\"dataframe\">\n",
              "<caption>A data.frame: 6 × 14</caption>\n",
              "<thead>\n",
              "\t<tr><th></th><th scope=col>V1</th><th scope=col>V2</th><th scope=col>V3</th><th scope=col>V4</th><th scope=col>V5</th><th scope=col>V6</th><th scope=col>V7</th><th scope=col>V8</th><th scope=col>V9</th><th scope=col>V10</th><th scope=col>V11</th><th scope=col>V12</th><th scope=col>V13</th><th scope=col>V14</th></tr>\n",
              "\t<tr><th></th><th scope=col>&lt;int&gt;</th><th scope=col>&lt;dbl&gt;</th><th scope=col>&lt;dbl&gt;</th><th scope=col>&lt;dbl&gt;</th><th scope=col>&lt;dbl&gt;</th><th scope=col>&lt;int&gt;</th><th scope=col>&lt;dbl&gt;</th><th scope=col>&lt;dbl&gt;</th><th scope=col>&lt;dbl&gt;</th><th scope=col>&lt;dbl&gt;</th><th scope=col>&lt;dbl&gt;</th><th scope=col>&lt;dbl&gt;</th><th scope=col>&lt;dbl&gt;</th><th scope=col>&lt;int&gt;</th></tr>\n",
              "</thead>\n",
              "<tbody>\n",
              "\t<tr><th scope=row>1</th><td>1</td><td>14.23</td><td>1.71</td><td>2.43</td><td>15.6</td><td>127</td><td>2.80</td><td>3.06</td><td>0.28</td><td>2.29</td><td>5.64</td><td>1.04</td><td>3.92</td><td>1065</td></tr>\n",
              "\t<tr><th scope=row>2</th><td>1</td><td>13.20</td><td>1.78</td><td>2.14</td><td>11.2</td><td>100</td><td>2.65</td><td>2.76</td><td>0.26</td><td>1.28</td><td>4.38</td><td>1.05</td><td>3.40</td><td>1050</td></tr>\n",
              "\t<tr><th scope=row>3</th><td>1</td><td>13.16</td><td>2.36</td><td>2.67</td><td>18.6</td><td>101</td><td>2.80</td><td>3.24</td><td>0.30</td><td>2.81</td><td>5.68</td><td>1.03</td><td>3.17</td><td>1185</td></tr>\n",
              "\t<tr><th scope=row>4</th><td>1</td><td>14.37</td><td>1.95</td><td>2.50</td><td>16.8</td><td>113</td><td>3.85</td><td>3.49</td><td>0.24</td><td>2.18</td><td>7.80</td><td>0.86</td><td>3.45</td><td>1480</td></tr>\n",
              "\t<tr><th scope=row>5</th><td>1</td><td>13.24</td><td>2.59</td><td>2.87</td><td>21.0</td><td>118</td><td>2.80</td><td>2.69</td><td>0.39</td><td>1.82</td><td>4.32</td><td>1.04</td><td>2.93</td><td> 735</td></tr>\n",
              "\t<tr><th scope=row>6</th><td>1</td><td>14.20</td><td>1.76</td><td>2.45</td><td>15.2</td><td>112</td><td>3.27</td><td>3.39</td><td>0.34</td><td>1.97</td><td>6.75</td><td>1.05</td><td>2.85</td><td>1450</td></tr>\n",
              "</tbody>\n",
              "</table>\n"
            ],
            "text/markdown": "\nA data.frame: 6 × 14\n\n| <!--/--> | V1 &lt;int&gt; | V2 &lt;dbl&gt; | V3 &lt;dbl&gt; | V4 &lt;dbl&gt; | V5 &lt;dbl&gt; | V6 &lt;int&gt; | V7 &lt;dbl&gt; | V8 &lt;dbl&gt; | V9 &lt;dbl&gt; | V10 &lt;dbl&gt; | V11 &lt;dbl&gt; | V12 &lt;dbl&gt; | V13 &lt;dbl&gt; | V14 &lt;int&gt; |\n|---|---|---|---|---|---|---|---|---|---|---|---|---|---|---|\n| 1 | 1 | 14.23 | 1.71 | 2.43 | 15.6 | 127 | 2.80 | 3.06 | 0.28 | 2.29 | 5.64 | 1.04 | 3.92 | 1065 |\n| 2 | 1 | 13.20 | 1.78 | 2.14 | 11.2 | 100 | 2.65 | 2.76 | 0.26 | 1.28 | 4.38 | 1.05 | 3.40 | 1050 |\n| 3 | 1 | 13.16 | 2.36 | 2.67 | 18.6 | 101 | 2.80 | 3.24 | 0.30 | 2.81 | 5.68 | 1.03 | 3.17 | 1185 |\n| 4 | 1 | 14.37 | 1.95 | 2.50 | 16.8 | 113 | 3.85 | 3.49 | 0.24 | 2.18 | 7.80 | 0.86 | 3.45 | 1480 |\n| 5 | 1 | 13.24 | 2.59 | 2.87 | 21.0 | 118 | 2.80 | 2.69 | 0.39 | 1.82 | 4.32 | 1.04 | 2.93 |  735 |\n| 6 | 1 | 14.20 | 1.76 | 2.45 | 15.2 | 112 | 3.27 | 3.39 | 0.34 | 1.97 | 6.75 | 1.05 | 2.85 | 1450 |\n\n",
            "text/latex": "A data.frame: 6 × 14\n\\begin{tabular}{r|llllllllllllll}\n  & V1 & V2 & V3 & V4 & V5 & V6 & V7 & V8 & V9 & V10 & V11 & V12 & V13 & V14\\\\\n  & <int> & <dbl> & <dbl> & <dbl> & <dbl> & <int> & <dbl> & <dbl> & <dbl> & <dbl> & <dbl> & <dbl> & <dbl> & <int>\\\\\n\\hline\n\t1 & 1 & 14.23 & 1.71 & 2.43 & 15.6 & 127 & 2.80 & 3.06 & 0.28 & 2.29 & 5.64 & 1.04 & 3.92 & 1065\\\\\n\t2 & 1 & 13.20 & 1.78 & 2.14 & 11.2 & 100 & 2.65 & 2.76 & 0.26 & 1.28 & 4.38 & 1.05 & 3.40 & 1050\\\\\n\t3 & 1 & 13.16 & 2.36 & 2.67 & 18.6 & 101 & 2.80 & 3.24 & 0.30 & 2.81 & 5.68 & 1.03 & 3.17 & 1185\\\\\n\t4 & 1 & 14.37 & 1.95 & 2.50 & 16.8 & 113 & 3.85 & 3.49 & 0.24 & 2.18 & 7.80 & 0.86 & 3.45 & 1480\\\\\n\t5 & 1 & 13.24 & 2.59 & 2.87 & 21.0 & 118 & 2.80 & 2.69 & 0.39 & 1.82 & 4.32 & 1.04 & 2.93 &  735\\\\\n\t6 & 1 & 14.20 & 1.76 & 2.45 & 15.2 & 112 & 3.27 & 3.39 & 0.34 & 1.97 & 6.75 & 1.05 & 2.85 & 1450\\\\\n\\end{tabular}\n",
            "text/plain": [
              "  V1 V2    V3   V4   V5   V6  V7   V8   V9   V10  V11  V12  V13  V14 \n",
              "1 1  14.23 1.71 2.43 15.6 127 2.80 3.06 0.28 2.29 5.64 1.04 3.92 1065\n",
              "2 1  13.20 1.78 2.14 11.2 100 2.65 2.76 0.26 1.28 4.38 1.05 3.40 1050\n",
              "3 1  13.16 2.36 2.67 18.6 101 2.80 3.24 0.30 2.81 5.68 1.03 3.17 1185\n",
              "4 1  14.37 1.95 2.50 16.8 113 3.85 3.49 0.24 2.18 7.80 0.86 3.45 1480\n",
              "5 1  13.24 2.59 2.87 21.0 118 2.80 2.69 0.39 1.82 4.32 1.04 2.93  735\n",
              "6 1  14.20 1.76 2.45 15.2 112 3.27 3.39 0.34 1.97 6.75 1.05 2.85 1450"
            ]
          },
          "metadata": {}
        }
      ]
    },
    {
      "cell_type": "code",
      "source": [
        "\n",
        "colnames(ds) = c('Customer_Segment', \n",
        "                 'Alcohol', \n",
        "                 'Malic_Acid', \n",
        "                 'Ash', 'Ash_Alcanity', \n",
        "                 'Magnesium', \n",
        "                 'Total_Phenols', \n",
        "                 'Flavanoids', \n",
        "                 'Nonflavanoid_Phenols', \n",
        "                 'Proanthocyanins', \n",
        "                 'Color_Intensity', \n",
        "                 'Hue', 'OD280', \n",
        "                 'Proline')\n",
        "head(ds)"
      ],
      "metadata": {
        "execution": {
          "iopub.status.busy": "2022-03-22T20:16:41.627032Z",
          "iopub.execute_input": "2022-03-22T20:16:41.663077Z",
          "iopub.status.idle": "2022-03-22T20:16:41.694965Z"
        },
        "trusted": true,
        "colab": {
          "base_uri": "https://localhost:8080/",
          "height": 306
        },
        "id": "kY_jeU_6cQi-",
        "outputId": "ea008129-b1e4-4017-e5dd-4058797649fb"
      },
      "execution_count": 2,
      "outputs": [
        {
          "output_type": "display_data",
          "data": {
            "text/html": [
              "<table class=\"dataframe\">\n",
              "<caption>A data.frame: 6 × 14</caption>\n",
              "<thead>\n",
              "\t<tr><th></th><th scope=col>Customer_Segment</th><th scope=col>Alcohol</th><th scope=col>Malic_Acid</th><th scope=col>Ash</th><th scope=col>Ash_Alcanity</th><th scope=col>Magnesium</th><th scope=col>Total_Phenols</th><th scope=col>Flavanoids</th><th scope=col>Nonflavanoid_Phenols</th><th scope=col>Proanthocyanins</th><th scope=col>Color_Intensity</th><th scope=col>Hue</th><th scope=col>OD280</th><th scope=col>Proline</th></tr>\n",
              "\t<tr><th></th><th scope=col>&lt;int&gt;</th><th scope=col>&lt;dbl&gt;</th><th scope=col>&lt;dbl&gt;</th><th scope=col>&lt;dbl&gt;</th><th scope=col>&lt;dbl&gt;</th><th scope=col>&lt;int&gt;</th><th scope=col>&lt;dbl&gt;</th><th scope=col>&lt;dbl&gt;</th><th scope=col>&lt;dbl&gt;</th><th scope=col>&lt;dbl&gt;</th><th scope=col>&lt;dbl&gt;</th><th scope=col>&lt;dbl&gt;</th><th scope=col>&lt;dbl&gt;</th><th scope=col>&lt;int&gt;</th></tr>\n",
              "</thead>\n",
              "<tbody>\n",
              "\t<tr><th scope=row>1</th><td>1</td><td>14.23</td><td>1.71</td><td>2.43</td><td>15.6</td><td>127</td><td>2.80</td><td>3.06</td><td>0.28</td><td>2.29</td><td>5.64</td><td>1.04</td><td>3.92</td><td>1065</td></tr>\n",
              "\t<tr><th scope=row>2</th><td>1</td><td>13.20</td><td>1.78</td><td>2.14</td><td>11.2</td><td>100</td><td>2.65</td><td>2.76</td><td>0.26</td><td>1.28</td><td>4.38</td><td>1.05</td><td>3.40</td><td>1050</td></tr>\n",
              "\t<tr><th scope=row>3</th><td>1</td><td>13.16</td><td>2.36</td><td>2.67</td><td>18.6</td><td>101</td><td>2.80</td><td>3.24</td><td>0.30</td><td>2.81</td><td>5.68</td><td>1.03</td><td>3.17</td><td>1185</td></tr>\n",
              "\t<tr><th scope=row>4</th><td>1</td><td>14.37</td><td>1.95</td><td>2.50</td><td>16.8</td><td>113</td><td>3.85</td><td>3.49</td><td>0.24</td><td>2.18</td><td>7.80</td><td>0.86</td><td>3.45</td><td>1480</td></tr>\n",
              "\t<tr><th scope=row>5</th><td>1</td><td>13.24</td><td>2.59</td><td>2.87</td><td>21.0</td><td>118</td><td>2.80</td><td>2.69</td><td>0.39</td><td>1.82</td><td>4.32</td><td>1.04</td><td>2.93</td><td> 735</td></tr>\n",
              "\t<tr><th scope=row>6</th><td>1</td><td>14.20</td><td>1.76</td><td>2.45</td><td>15.2</td><td>112</td><td>3.27</td><td>3.39</td><td>0.34</td><td>1.97</td><td>6.75</td><td>1.05</td><td>2.85</td><td>1450</td></tr>\n",
              "</tbody>\n",
              "</table>\n"
            ],
            "text/markdown": "\nA data.frame: 6 × 14\n\n| <!--/--> | Customer_Segment &lt;int&gt; | Alcohol &lt;dbl&gt; | Malic_Acid &lt;dbl&gt; | Ash &lt;dbl&gt; | Ash_Alcanity &lt;dbl&gt; | Magnesium &lt;int&gt; | Total_Phenols &lt;dbl&gt; | Flavanoids &lt;dbl&gt; | Nonflavanoid_Phenols &lt;dbl&gt; | Proanthocyanins &lt;dbl&gt; | Color_Intensity &lt;dbl&gt; | Hue &lt;dbl&gt; | OD280 &lt;dbl&gt; | Proline &lt;int&gt; |\n|---|---|---|---|---|---|---|---|---|---|---|---|---|---|---|\n| 1 | 1 | 14.23 | 1.71 | 2.43 | 15.6 | 127 | 2.80 | 3.06 | 0.28 | 2.29 | 5.64 | 1.04 | 3.92 | 1065 |\n| 2 | 1 | 13.20 | 1.78 | 2.14 | 11.2 | 100 | 2.65 | 2.76 | 0.26 | 1.28 | 4.38 | 1.05 | 3.40 | 1050 |\n| 3 | 1 | 13.16 | 2.36 | 2.67 | 18.6 | 101 | 2.80 | 3.24 | 0.30 | 2.81 | 5.68 | 1.03 | 3.17 | 1185 |\n| 4 | 1 | 14.37 | 1.95 | 2.50 | 16.8 | 113 | 3.85 | 3.49 | 0.24 | 2.18 | 7.80 | 0.86 | 3.45 | 1480 |\n| 5 | 1 | 13.24 | 2.59 | 2.87 | 21.0 | 118 | 2.80 | 2.69 | 0.39 | 1.82 | 4.32 | 1.04 | 2.93 |  735 |\n| 6 | 1 | 14.20 | 1.76 | 2.45 | 15.2 | 112 | 3.27 | 3.39 | 0.34 | 1.97 | 6.75 | 1.05 | 2.85 | 1450 |\n\n",
            "text/latex": "A data.frame: 6 × 14\n\\begin{tabular}{r|llllllllllllll}\n  & Customer\\_Segment & Alcohol & Malic\\_Acid & Ash & Ash\\_Alcanity & Magnesium & Total\\_Phenols & Flavanoids & Nonflavanoid\\_Phenols & Proanthocyanins & Color\\_Intensity & Hue & OD280 & Proline\\\\\n  & <int> & <dbl> & <dbl> & <dbl> & <dbl> & <int> & <dbl> & <dbl> & <dbl> & <dbl> & <dbl> & <dbl> & <dbl> & <int>\\\\\n\\hline\n\t1 & 1 & 14.23 & 1.71 & 2.43 & 15.6 & 127 & 2.80 & 3.06 & 0.28 & 2.29 & 5.64 & 1.04 & 3.92 & 1065\\\\\n\t2 & 1 & 13.20 & 1.78 & 2.14 & 11.2 & 100 & 2.65 & 2.76 & 0.26 & 1.28 & 4.38 & 1.05 & 3.40 & 1050\\\\\n\t3 & 1 & 13.16 & 2.36 & 2.67 & 18.6 & 101 & 2.80 & 3.24 & 0.30 & 2.81 & 5.68 & 1.03 & 3.17 & 1185\\\\\n\t4 & 1 & 14.37 & 1.95 & 2.50 & 16.8 & 113 & 3.85 & 3.49 & 0.24 & 2.18 & 7.80 & 0.86 & 3.45 & 1480\\\\\n\t5 & 1 & 13.24 & 2.59 & 2.87 & 21.0 & 118 & 2.80 & 2.69 & 0.39 & 1.82 & 4.32 & 1.04 & 2.93 &  735\\\\\n\t6 & 1 & 14.20 & 1.76 & 2.45 & 15.2 & 112 & 3.27 & 3.39 & 0.34 & 1.97 & 6.75 & 1.05 & 2.85 & 1450\\\\\n\\end{tabular}\n",
            "text/plain": [
              "  Customer_Segment Alcohol Malic_Acid Ash  Ash_Alcanity Magnesium Total_Phenols\n",
              "1 1                14.23   1.71       2.43 15.6         127       2.80         \n",
              "2 1                13.20   1.78       2.14 11.2         100       2.65         \n",
              "3 1                13.16   2.36       2.67 18.6         101       2.80         \n",
              "4 1                14.37   1.95       2.50 16.8         113       3.85         \n",
              "5 1                13.24   2.59       2.87 21.0         118       2.80         \n",
              "6 1                14.20   1.76       2.45 15.2         112       3.27         \n",
              "  Flavanoids Nonflavanoid_Phenols Proanthocyanins Color_Intensity Hue  OD280\n",
              "1 3.06       0.28                 2.29            5.64            1.04 3.92 \n",
              "2 2.76       0.26                 1.28            4.38            1.05 3.40 \n",
              "3 3.24       0.30                 2.81            5.68            1.03 3.17 \n",
              "4 3.49       0.24                 2.18            7.80            0.86 3.45 \n",
              "5 2.69       0.39                 1.82            4.32            1.04 2.93 \n",
              "6 3.39       0.34                 1.97            6.75            1.05 2.85 \n",
              "  Proline\n",
              "1 1065   \n",
              "2 1050   \n",
              "3 1185   \n",
              "4 1480   \n",
              "5  735   \n",
              "6 1450   "
            ]
          },
          "metadata": {}
        }
      ]
    },
    {
      "cell_type": "code",
      "source": [
        "ds = ds[c(2, 3, 4, 5, 6, 7, 8, 9, 10, 11, 12, 13, 14, 1)]\n",
        "head(ds)"
      ],
      "metadata": {
        "execution": {
          "iopub.status.busy": "2022-03-22T20:16:41.784172Z",
          "iopub.execute_input": "2022-03-22T20:16:41.785704Z",
          "iopub.status.idle": "2022-03-22T20:16:41.816795Z"
        },
        "trusted": true,
        "colab": {
          "base_uri": "https://localhost:8080/",
          "height": 306
        },
        "id": "HKU9XEMjcQi_",
        "outputId": "3438151e-f13a-4404-b163-d0855ca72f4e"
      },
      "execution_count": 3,
      "outputs": [
        {
          "output_type": "display_data",
          "data": {
            "text/html": [
              "<table class=\"dataframe\">\n",
              "<caption>A data.frame: 6 × 14</caption>\n",
              "<thead>\n",
              "\t<tr><th></th><th scope=col>Alcohol</th><th scope=col>Malic_Acid</th><th scope=col>Ash</th><th scope=col>Ash_Alcanity</th><th scope=col>Magnesium</th><th scope=col>Total_Phenols</th><th scope=col>Flavanoids</th><th scope=col>Nonflavanoid_Phenols</th><th scope=col>Proanthocyanins</th><th scope=col>Color_Intensity</th><th scope=col>Hue</th><th scope=col>OD280</th><th scope=col>Proline</th><th scope=col>Customer_Segment</th></tr>\n",
              "\t<tr><th></th><th scope=col>&lt;dbl&gt;</th><th scope=col>&lt;dbl&gt;</th><th scope=col>&lt;dbl&gt;</th><th scope=col>&lt;dbl&gt;</th><th scope=col>&lt;int&gt;</th><th scope=col>&lt;dbl&gt;</th><th scope=col>&lt;dbl&gt;</th><th scope=col>&lt;dbl&gt;</th><th scope=col>&lt;dbl&gt;</th><th scope=col>&lt;dbl&gt;</th><th scope=col>&lt;dbl&gt;</th><th scope=col>&lt;dbl&gt;</th><th scope=col>&lt;int&gt;</th><th scope=col>&lt;int&gt;</th></tr>\n",
              "</thead>\n",
              "<tbody>\n",
              "\t<tr><th scope=row>1</th><td>14.23</td><td>1.71</td><td>2.43</td><td>15.6</td><td>127</td><td>2.80</td><td>3.06</td><td>0.28</td><td>2.29</td><td>5.64</td><td>1.04</td><td>3.92</td><td>1065</td><td>1</td></tr>\n",
              "\t<tr><th scope=row>2</th><td>13.20</td><td>1.78</td><td>2.14</td><td>11.2</td><td>100</td><td>2.65</td><td>2.76</td><td>0.26</td><td>1.28</td><td>4.38</td><td>1.05</td><td>3.40</td><td>1050</td><td>1</td></tr>\n",
              "\t<tr><th scope=row>3</th><td>13.16</td><td>2.36</td><td>2.67</td><td>18.6</td><td>101</td><td>2.80</td><td>3.24</td><td>0.30</td><td>2.81</td><td>5.68</td><td>1.03</td><td>3.17</td><td>1185</td><td>1</td></tr>\n",
              "\t<tr><th scope=row>4</th><td>14.37</td><td>1.95</td><td>2.50</td><td>16.8</td><td>113</td><td>3.85</td><td>3.49</td><td>0.24</td><td>2.18</td><td>7.80</td><td>0.86</td><td>3.45</td><td>1480</td><td>1</td></tr>\n",
              "\t<tr><th scope=row>5</th><td>13.24</td><td>2.59</td><td>2.87</td><td>21.0</td><td>118</td><td>2.80</td><td>2.69</td><td>0.39</td><td>1.82</td><td>4.32</td><td>1.04</td><td>2.93</td><td> 735</td><td>1</td></tr>\n",
              "\t<tr><th scope=row>6</th><td>14.20</td><td>1.76</td><td>2.45</td><td>15.2</td><td>112</td><td>3.27</td><td>3.39</td><td>0.34</td><td>1.97</td><td>6.75</td><td>1.05</td><td>2.85</td><td>1450</td><td>1</td></tr>\n",
              "</tbody>\n",
              "</table>\n"
            ],
            "text/markdown": "\nA data.frame: 6 × 14\n\n| <!--/--> | Alcohol &lt;dbl&gt; | Malic_Acid &lt;dbl&gt; | Ash &lt;dbl&gt; | Ash_Alcanity &lt;dbl&gt; | Magnesium &lt;int&gt; | Total_Phenols &lt;dbl&gt; | Flavanoids &lt;dbl&gt; | Nonflavanoid_Phenols &lt;dbl&gt; | Proanthocyanins &lt;dbl&gt; | Color_Intensity &lt;dbl&gt; | Hue &lt;dbl&gt; | OD280 &lt;dbl&gt; | Proline &lt;int&gt; | Customer_Segment &lt;int&gt; |\n|---|---|---|---|---|---|---|---|---|---|---|---|---|---|---|\n| 1 | 14.23 | 1.71 | 2.43 | 15.6 | 127 | 2.80 | 3.06 | 0.28 | 2.29 | 5.64 | 1.04 | 3.92 | 1065 | 1 |\n| 2 | 13.20 | 1.78 | 2.14 | 11.2 | 100 | 2.65 | 2.76 | 0.26 | 1.28 | 4.38 | 1.05 | 3.40 | 1050 | 1 |\n| 3 | 13.16 | 2.36 | 2.67 | 18.6 | 101 | 2.80 | 3.24 | 0.30 | 2.81 | 5.68 | 1.03 | 3.17 | 1185 | 1 |\n| 4 | 14.37 | 1.95 | 2.50 | 16.8 | 113 | 3.85 | 3.49 | 0.24 | 2.18 | 7.80 | 0.86 | 3.45 | 1480 | 1 |\n| 5 | 13.24 | 2.59 | 2.87 | 21.0 | 118 | 2.80 | 2.69 | 0.39 | 1.82 | 4.32 | 1.04 | 2.93 |  735 | 1 |\n| 6 | 14.20 | 1.76 | 2.45 | 15.2 | 112 | 3.27 | 3.39 | 0.34 | 1.97 | 6.75 | 1.05 | 2.85 | 1450 | 1 |\n\n",
            "text/latex": "A data.frame: 6 × 14\n\\begin{tabular}{r|llllllllllllll}\n  & Alcohol & Malic\\_Acid & Ash & Ash\\_Alcanity & Magnesium & Total\\_Phenols & Flavanoids & Nonflavanoid\\_Phenols & Proanthocyanins & Color\\_Intensity & Hue & OD280 & Proline & Customer\\_Segment\\\\\n  & <dbl> & <dbl> & <dbl> & <dbl> & <int> & <dbl> & <dbl> & <dbl> & <dbl> & <dbl> & <dbl> & <dbl> & <int> & <int>\\\\\n\\hline\n\t1 & 14.23 & 1.71 & 2.43 & 15.6 & 127 & 2.80 & 3.06 & 0.28 & 2.29 & 5.64 & 1.04 & 3.92 & 1065 & 1\\\\\n\t2 & 13.20 & 1.78 & 2.14 & 11.2 & 100 & 2.65 & 2.76 & 0.26 & 1.28 & 4.38 & 1.05 & 3.40 & 1050 & 1\\\\\n\t3 & 13.16 & 2.36 & 2.67 & 18.6 & 101 & 2.80 & 3.24 & 0.30 & 2.81 & 5.68 & 1.03 & 3.17 & 1185 & 1\\\\\n\t4 & 14.37 & 1.95 & 2.50 & 16.8 & 113 & 3.85 & 3.49 & 0.24 & 2.18 & 7.80 & 0.86 & 3.45 & 1480 & 1\\\\\n\t5 & 13.24 & 2.59 & 2.87 & 21.0 & 118 & 2.80 & 2.69 & 0.39 & 1.82 & 4.32 & 1.04 & 2.93 &  735 & 1\\\\\n\t6 & 14.20 & 1.76 & 2.45 & 15.2 & 112 & 3.27 & 3.39 & 0.34 & 1.97 & 6.75 & 1.05 & 2.85 & 1450 & 1\\\\\n\\end{tabular}\n",
            "text/plain": [
              "  Alcohol Malic_Acid Ash  Ash_Alcanity Magnesium Total_Phenols Flavanoids\n",
              "1 14.23   1.71       2.43 15.6         127       2.80          3.06      \n",
              "2 13.20   1.78       2.14 11.2         100       2.65          2.76      \n",
              "3 13.16   2.36       2.67 18.6         101       2.80          3.24      \n",
              "4 14.37   1.95       2.50 16.8         113       3.85          3.49      \n",
              "5 13.24   2.59       2.87 21.0         118       2.80          2.69      \n",
              "6 14.20   1.76       2.45 15.2         112       3.27          3.39      \n",
              "  Nonflavanoid_Phenols Proanthocyanins Color_Intensity Hue  OD280 Proline\n",
              "1 0.28                 2.29            5.64            1.04 3.92  1065   \n",
              "2 0.26                 1.28            4.38            1.05 3.40  1050   \n",
              "3 0.30                 2.81            5.68            1.03 3.17  1185   \n",
              "4 0.24                 2.18            7.80            0.86 3.45  1480   \n",
              "5 0.39                 1.82            4.32            1.04 2.93   735   \n",
              "6 0.34                 1.97            6.75            1.05 2.85  1450   \n",
              "  Customer_Segment\n",
              "1 1               \n",
              "2 1               \n",
              "3 1               \n",
              "4 1               \n",
              "5 1               \n",
              "6 1               "
            ]
          },
          "metadata": {}
        }
      ]
    },
    {
      "cell_type": "code",
      "source": [
        "#find number of rows with missing values\n",
        "sum(!complete.cases(ds))\n",
        "\n",
        "# Omit any null rows\n",
        "ds = na.omit(ds)"
      ],
      "metadata": {
        "execution": {
          "iopub.status.busy": "2022-03-22T20:16:41.918132Z",
          "iopub.execute_input": "2022-03-22T20:16:41.919699Z",
          "iopub.status.idle": "2022-03-22T20:16:41.938914Z"
        },
        "trusted": true,
        "colab": {
          "base_uri": "https://localhost:8080/",
          "height": 34
        },
        "id": "-p-eSGwLcQjA",
        "outputId": "0972cb0c-fde7-48a9-fddd-03166b8d8b0b"
      },
      "execution_count": 4,
      "outputs": [
        {
          "output_type": "display_data",
          "data": {
            "text/html": [
              "0"
            ],
            "text/markdown": "0",
            "text/latex": "0",
            "text/plain": [
              "[1] 0"
            ]
          },
          "metadata": {}
        }
      ]
    },
    {
      "cell_type": "code",
      "source": [
        "summary(ds)"
      ],
      "metadata": {
        "execution": {
          "iopub.status.busy": "2022-03-22T20:16:42.021970Z",
          "iopub.execute_input": "2022-03-22T20:16:42.023656Z",
          "iopub.status.idle": "2022-03-22T20:16:42.046130Z"
        },
        "trusted": true,
        "colab": {
          "base_uri": "https://localhost:8080/",
          "height": 503
        },
        "id": "4ZtDnx0KcQjB",
        "outputId": "3e0a6a88-8e4c-4df0-a614-2658632593ee"
      },
      "execution_count": 5,
      "outputs": [
        {
          "output_type": "display_data",
          "data": {
            "text/plain": [
              "    Alcohol        Malic_Acid         Ash         Ash_Alcanity  \n",
              " Min.   :11.03   Min.   :0.740   Min.   :1.360   Min.   :10.60  \n",
              " 1st Qu.:12.36   1st Qu.:1.603   1st Qu.:2.210   1st Qu.:17.20  \n",
              " Median :13.05   Median :1.865   Median :2.360   Median :19.50  \n",
              " Mean   :13.00   Mean   :2.336   Mean   :2.367   Mean   :19.49  \n",
              " 3rd Qu.:13.68   3rd Qu.:3.083   3rd Qu.:2.558   3rd Qu.:21.50  \n",
              " Max.   :14.83   Max.   :5.800   Max.   :3.230   Max.   :30.00  \n",
              "   Magnesium      Total_Phenols     Flavanoids    Nonflavanoid_Phenols\n",
              " Min.   : 70.00   Min.   :0.980   Min.   :0.340   Min.   :0.1300      \n",
              " 1st Qu.: 88.00   1st Qu.:1.742   1st Qu.:1.205   1st Qu.:0.2700      \n",
              " Median : 98.00   Median :2.355   Median :2.135   Median :0.3400      \n",
              " Mean   : 99.74   Mean   :2.295   Mean   :2.029   Mean   :0.3619      \n",
              " 3rd Qu.:107.00   3rd Qu.:2.800   3rd Qu.:2.875   3rd Qu.:0.4375      \n",
              " Max.   :162.00   Max.   :3.880   Max.   :5.080   Max.   :0.6600      \n",
              " Proanthocyanins Color_Intensity       Hue             OD280      \n",
              " Min.   :0.410   Min.   : 1.280   Min.   :0.4800   Min.   :1.270  \n",
              " 1st Qu.:1.250   1st Qu.: 3.220   1st Qu.:0.7825   1st Qu.:1.938  \n",
              " Median :1.555   Median : 4.690   Median :0.9650   Median :2.780  \n",
              " Mean   :1.591   Mean   : 5.058   Mean   :0.9574   Mean   :2.612  \n",
              " 3rd Qu.:1.950   3rd Qu.: 6.200   3rd Qu.:1.1200   3rd Qu.:3.170  \n",
              " Max.   :3.580   Max.   :13.000   Max.   :1.7100   Max.   :4.000  \n",
              "    Proline       Customer_Segment\n",
              " Min.   : 278.0   Min.   :1.000   \n",
              " 1st Qu.: 500.5   1st Qu.:1.000   \n",
              " Median : 673.5   Median :2.000   \n",
              " Mean   : 746.9   Mean   :1.938   \n",
              " 3rd Qu.: 985.0   3rd Qu.:3.000   \n",
              " Max.   :1680.0   Max.   :3.000   "
            ]
          },
          "metadata": {}
        }
      ]
    },
    {
      "cell_type": "markdown",
      "source": [
        "### **Splitting the dataset into the Train set and Test set**"
      ],
      "metadata": {
        "id": "gaWlDG_JcQjC"
      }
    },
    {
      "cell_type": "code",
      "source": [
        "install.packages('caTools')\n",
        "library(caTools)\n",
        "set.seed(123)\n",
        "split = sample.split(ds$Customer_Segment, SplitRatio = 0.8)\n",
        "train_set = subset(ds, split == TRUE)\n",
        "test_set = subset(ds, split == FALSE)"
      ],
      "metadata": {
        "execution": {
          "iopub.status.busy": "2022-03-22T20:16:42.132403Z",
          "iopub.execute_input": "2022-03-22T20:16:42.133971Z",
          "iopub.status.idle": "2022-03-22T20:16:42.194609Z"
        },
        "trusted": true,
        "colab": {
          "base_uri": "https://localhost:8080/"
        },
        "id": "X78OWviycQjE",
        "outputId": "7288fca7-cc6f-41d5-89be-13a39f204017"
      },
      "execution_count": 6,
      "outputs": [
        {
          "output_type": "stream",
          "name": "stderr",
          "text": [
            "Installing package into ‘/usr/local/lib/R/site-library’\n",
            "(as ‘lib’ is unspecified)\n",
            "\n",
            "also installing the dependency ‘bitops’\n",
            "\n",
            "\n"
          ]
        }
      ]
    },
    {
      "cell_type": "markdown",
      "source": [
        "### **Feature Scaling**"
      ],
      "metadata": {
        "id": "7jifYTPVcQjE"
      }
    },
    {
      "cell_type": "code",
      "source": [
        "train_set[-14] = scale(train_set[-14])\n",
        "test_set[-14] = scale(test_set[-14])"
      ],
      "metadata": {
        "execution": {
          "iopub.status.busy": "2022-03-22T20:16:42.275008Z",
          "iopub.execute_input": "2022-03-22T20:16:42.276563Z",
          "iopub.status.idle": "2022-03-22T20:16:42.293755Z"
        },
        "trusted": true,
        "id": "NV4q2TMkcQjF"
      },
      "execution_count": 7,
      "outputs": []
    },
    {
      "cell_type": "markdown",
      "source": [
        "## **Part 2: Building SVM Classification Model**"
      ],
      "metadata": {
        "id": "S1B8mmlwcQjG"
      }
    },
    {
      "cell_type": "markdown",
      "source": [
        "### **Fitting SVM to the Training set**"
      ],
      "metadata": {
        "id": "dRy4ppsOcQjG"
      }
    },
    {
      "cell_type": "code",
      "source": [
        "install.packages('e1071')\n",
        "library(e1071)\n",
        "classifier = svm(formula = Customer_Segment ~ .,\n",
        "                 data = train_set,\n",
        "                 type = 'C-classification',\n",
        "                 kernel = 'linear')"
      ],
      "metadata": {
        "execution": {
          "iopub.status.busy": "2022-03-22T20:16:42.420333Z",
          "iopub.execute_input": "2022-03-22T20:16:42.421862Z",
          "iopub.status.idle": "2022-03-22T20:16:42.501843Z"
        },
        "trusted": true,
        "colab": {
          "base_uri": "https://localhost:8080/"
        },
        "id": "ukPOTL_VcQjH",
        "outputId": "dc1e368f-a467-40a5-ca56-4f1e22dbef46"
      },
      "execution_count": 8,
      "outputs": [
        {
          "output_type": "stream",
          "name": "stderr",
          "text": [
            "Installing package into ‘/usr/local/lib/R/site-library’\n",
            "(as ‘lib’ is unspecified)\n",
            "\n",
            "also installing the dependency ‘proxy’\n",
            "\n",
            "\n"
          ]
        }
      ]
    },
    {
      "cell_type": "markdown",
      "source": [
        "### **Predicting the Test set results**"
      ],
      "metadata": {
        "id": "Z_2F_2PwcQjH"
      }
    },
    {
      "cell_type": "code",
      "source": [
        "y_pred = predict(classifier, newdata = test_set[-14])\n",
        "y_pred "
      ],
      "metadata": {
        "execution": {
          "iopub.status.busy": "2022-03-22T20:16:42.561049Z",
          "iopub.execute_input": "2022-03-22T20:16:42.562548Z",
          "iopub.status.idle": "2022-03-22T20:16:42.583295Z"
        },
        "trusted": true,
        "colab": {
          "base_uri": "https://localhost:8080/",
          "height": 86
        },
        "id": "-wQoi5XdcQjI",
        "outputId": "c73b6b10-b708-4c5d-ada1-5583a0737b83"
      },
      "execution_count": 9,
      "outputs": [
        {
          "output_type": "display_data",
          "data": {
            "text/html": [
              "<style>\n",
              ".dl-inline {width: auto; margin:0; padding: 0}\n",
              ".dl-inline>dt, .dl-inline>dd {float: none; width: auto; display: inline-block}\n",
              ".dl-inline>dt::after {content: \":\\0020\"; padding-right: .5ex}\n",
              ".dl-inline>dt:not(:first-of-type) {padding-left: .5ex}\n",
              "</style><dl class=dl-inline><dt>4</dt><dd>1</dd><dt>5</dt><dd>1</dd><dt>8</dt><dd>1</dd><dt>11</dt><dd>1</dd><dt>16</dt><dd>1</dd><dt>20</dt><dd>1</dd><dt>21</dt><dd>1</dd><dt>24</dt><dd>1</dd><dt>31</dt><dd>1</dd><dt>32</dt><dd>1</dd><dt>50</dt><dd>1</dd><dt>59</dt><dd>1</dd><dt>65</dt><dd>2</dd><dt>67</dt><dd>2</dd><dt>68</dt><dd>2</dd><dt>69</dt><dd>3</dd><dt>87</dt><dd>2</dd><dt>88</dt><dd>2</dd><dt>89</dt><dd>2</dd><dt>104</dt><dd>2</dd><dt>106</dt><dd>2</dd><dt>107</dt><dd>2</dd><dt>111</dt><dd>2</dd><dt>114</dt><dd>2</dd><dt>118</dt><dd>2</dd><dt>126</dt><dd>2</dd><dt>132</dt><dd>3</dd><dt>134</dt><dd>3</dd><dt>137</dt><dd>3</dd><dt>138</dt><dd>3</dd><dt>139</dt><dd>3</dd><dt>145</dt><dd>3</dd><dt>151</dt><dd>3</dd><dt>167</dt><dd>3</dd><dt>173</dt><dd>3</dd><dt>174</dt><dd>3</dd></dl>\n",
              "\n",
              "<details>\n",
              "\t<summary style=display:list-item;cursor:pointer>\n",
              "\t\t<strong>Levels</strong>:\n",
              "\t</summary>\n",
              "\t<style>\n",
              "\t.list-inline {list-style: none; margin:0; padding: 0}\n",
              "\t.list-inline>li {display: inline-block}\n",
              "\t.list-inline>li:not(:last-child)::after {content: \"\\00b7\"; padding: 0 .5ex}\n",
              "\t</style>\n",
              "\t<ol class=list-inline><li>'1'</li><li>'2'</li><li>'3'</li></ol>\n",
              "</details>"
            ],
            "text/markdown": "4\n:   15\n:   18\n:   111\n:   116\n:   120\n:   121\n:   124\n:   131\n:   132\n:   150\n:   159\n:   165\n:   267\n:   268\n:   269\n:   387\n:   288\n:   289\n:   2104\n:   2106\n:   2107\n:   2111\n:   2114\n:   2118\n:   2126\n:   2132\n:   3134\n:   3137\n:   3138\n:   3139\n:   3145\n:   3151\n:   3167\n:   3173\n:   3174\n:   3\n\n\n**Levels**: 1. '1'\n2. '2'\n3. '3'\n\n\n",
            "text/latex": "\\begin{description*}\n\\item[4] 1\n\\item[5] 1\n\\item[8] 1\n\\item[11] 1\n\\item[16] 1\n\\item[20] 1\n\\item[21] 1\n\\item[24] 1\n\\item[31] 1\n\\item[32] 1\n\\item[50] 1\n\\item[59] 1\n\\item[65] 2\n\\item[67] 2\n\\item[68] 2\n\\item[69] 3\n\\item[87] 2\n\\item[88] 2\n\\item[89] 2\n\\item[104] 2\n\\item[106] 2\n\\item[107] 2\n\\item[111] 2\n\\item[114] 2\n\\item[118] 2\n\\item[126] 2\n\\item[132] 3\n\\item[134] 3\n\\item[137] 3\n\\item[138] 3\n\\item[139] 3\n\\item[145] 3\n\\item[151] 3\n\\item[167] 3\n\\item[173] 3\n\\item[174] 3\n\\end{description*}\n\n\\emph{Levels}: \\begin{enumerate*}\n\\item '1'\n\\item '2'\n\\item '3'\n\\end{enumerate*}\n",
            "text/plain": [
              "  4   5   8  11  16  20  21  24  31  32  50  59  65  67  68  69  87  88  89 104 \n",
              "  1   1   1   1   1   1   1   1   1   1   1   1   2   2   2   3   2   2   2   2 \n",
              "106 107 111 114 118 126 132 134 137 138 139 145 151 167 173 174 \n",
              "  2   2   2   2   2   2   3   3   3   3   3   3   3   3   3   3 \n",
              "Levels: 1 2 3"
            ]
          },
          "metadata": {}
        }
      ]
    },
    {
      "cell_type": "code",
      "source": [
        "classifier"
      ],
      "metadata": {
        "execution": {
          "iopub.status.busy": "2022-03-22T20:16:42.701033Z",
          "iopub.execute_input": "2022-03-22T20:16:42.703670Z",
          "iopub.status.idle": "2022-03-22T20:16:42.717961Z"
        },
        "trusted": true,
        "colab": {
          "base_uri": "https://localhost:8080/",
          "height": 225
        },
        "id": "Jq0TLJbdcQjI",
        "outputId": "0083dd82-86d1-49a0-f06d-e2f09ef3cd69"
      },
      "execution_count": 10,
      "outputs": [
        {
          "output_type": "display_data",
          "data": {
            "text/plain": [
              "\n",
              "Call:\n",
              "svm(formula = Customer_Segment ~ ., data = train_set, type = \"C-classification\", \n",
              "    kernel = \"linear\")\n",
              "\n",
              "\n",
              "Parameters:\n",
              "   SVM-Type:  C-classification \n",
              " SVM-Kernel:  linear \n",
              "       cost:  1 \n",
              "\n",
              "Number of Support Vectors:  24\n"
            ]
          },
          "metadata": {}
        }
      ]
    },
    {
      "cell_type": "markdown",
      "source": [
        "### **KEY PERFORMANCE INDICATORS (KPI)**"
      ],
      "metadata": {
        "id": "AgfLsXEkcQjJ"
      }
    },
    {
      "cell_type": "code",
      "source": [
        "summary(classifier)"
      ],
      "metadata": {
        "execution": {
          "iopub.status.busy": "2022-03-22T20:16:42.819566Z",
          "iopub.execute_input": "2022-03-22T20:16:42.821135Z",
          "iopub.status.idle": "2022-03-22T20:16:42.839033Z"
        },
        "trusted": true,
        "colab": {
          "base_uri": "https://localhost:8080/",
          "height": 399
        },
        "id": "8hGkZAEycQjJ",
        "outputId": "4c288770-7e98-41c7-9325-c042b39d0989"
      },
      "execution_count": 11,
      "outputs": [
        {
          "output_type": "display_data",
          "data": {
            "text/plain": [
              "\n",
              "Call:\n",
              "svm(formula = Customer_Segment ~ ., data = train_set, type = \"C-classification\", \n",
              "    kernel = \"linear\")\n",
              "\n",
              "\n",
              "Parameters:\n",
              "   SVM-Type:  C-classification \n",
              " SVM-Kernel:  linear \n",
              "       cost:  1 \n",
              "\n",
              "Number of Support Vectors:  24\n",
              "\n",
              " ( 5 13 6 )\n",
              "\n",
              "\n",
              "Number of Classes:  3 \n",
              "\n",
              "Levels: \n",
              " 1 2 3\n",
              "\n",
              "\n"
            ]
          },
          "metadata": {}
        }
      ]
    },
    {
      "cell_type": "markdown",
      "source": [
        "#### **Generating the Confusion Matrix and Evaluation Metrics**"
      ],
      "metadata": {
        "id": "e9eOfXn-cQjK"
      }
    },
    {
      "cell_type": "code",
      "source": [
        "# Making the Confusion Matrix\n",
        "cm = table(test_set[, 14], y_pred)\n",
        "cm"
      ],
      "metadata": {
        "execution": {
          "iopub.status.busy": "2022-03-22T20:16:42.951961Z",
          "iopub.execute_input": "2022-03-22T20:16:42.953500Z",
          "iopub.status.idle": "2022-03-22T20:16:42.970421Z"
        },
        "trusted": true,
        "colab": {
          "base_uri": "https://localhost:8080/",
          "height": 104
        },
        "id": "IVxsVo5WcQjK",
        "outputId": "7a7fa8d8-9605-4504-97c8-f0247fa177c7"
      },
      "execution_count": 12,
      "outputs": [
        {
          "output_type": "display_data",
          "data": {
            "text/plain": [
              "   y_pred\n",
              "     1  2  3\n",
              "  1 12  0  0\n",
              "  2  0 13  1\n",
              "  3  0  0 10"
            ]
          },
          "metadata": {}
        }
      ]
    },
    {
      "cell_type": "code",
      "source": [
        "# Evaluation Metrics\n",
        "n = sum(cm) # number of instances\n",
        "nc = nrow(cm) # number of classes\n",
        "diag = diag(cm) # number of correctly classified instances per class \n",
        "rowsums = apply(cm, 1, sum) # number of instances per class\n",
        "colsums = apply(cm, 2, sum) # number of predictions per class\n",
        "p = rowsums / n # distribution of instances over the actual classes\n",
        "q = colsums / n # distribution of instances over the predicted classes\n",
        "accuracy = sum(diag) / n \n",
        "cat(\"Accuracy of Decision Tree Model is:\", accuracy)  \n",
        "precision = diag / colsums \n",
        "recall = diag / rowsums \n",
        "f1 = 2 * precision * recall / (precision + recall) \n",
        "data.frame(precision, recall, f1) "
      ],
      "metadata": {
        "execution": {
          "iopub.status.busy": "2022-03-22T20:16:43.085273Z",
          "iopub.execute_input": "2022-03-22T20:16:43.086734Z",
          "iopub.status.idle": "2022-03-22T20:16:43.159722Z"
        },
        "trusted": true,
        "colab": {
          "base_uri": "https://localhost:8080/",
          "height": 209
        },
        "id": "IYHkCwtycQjK",
        "outputId": "91eb5150-2633-47f2-eacd-5f3810fb2130"
      },
      "execution_count": 13,
      "outputs": [
        {
          "output_type": "stream",
          "name": "stdout",
          "text": [
            "Accuracy of Decision Tree Model is: 0.9722222"
          ]
        },
        {
          "output_type": "display_data",
          "data": {
            "text/html": [
              "<table class=\"dataframe\">\n",
              "<caption>A data.frame: 3 × 3</caption>\n",
              "<thead>\n",
              "\t<tr><th></th><th scope=col>precision</th><th scope=col>recall</th><th scope=col>f1</th></tr>\n",
              "\t<tr><th></th><th scope=col>&lt;dbl&gt;</th><th scope=col>&lt;dbl&gt;</th><th scope=col>&lt;dbl&gt;</th></tr>\n",
              "</thead>\n",
              "<tbody>\n",
              "\t<tr><th scope=row>1</th><td>1.0000000</td><td>1.0000000</td><td>1.000000</td></tr>\n",
              "\t<tr><th scope=row>2</th><td>1.0000000</td><td>0.9285714</td><td>0.962963</td></tr>\n",
              "\t<tr><th scope=row>3</th><td>0.9090909</td><td>1.0000000</td><td>0.952381</td></tr>\n",
              "</tbody>\n",
              "</table>\n"
            ],
            "text/markdown": "\nA data.frame: 3 × 3\n\n| <!--/--> | precision &lt;dbl&gt; | recall &lt;dbl&gt; | f1 &lt;dbl&gt; |\n|---|---|---|---|\n| 1 | 1.0000000 | 1.0000000 | 1.000000 |\n| 2 | 1.0000000 | 0.9285714 | 0.962963 |\n| 3 | 0.9090909 | 1.0000000 | 0.952381 |\n\n",
            "text/latex": "A data.frame: 3 × 3\n\\begin{tabular}{r|lll}\n  & precision & recall & f1\\\\\n  & <dbl> & <dbl> & <dbl>\\\\\n\\hline\n\t1 & 1.0000000 & 1.0000000 & 1.000000\\\\\n\t2 & 1.0000000 & 0.9285714 & 0.962963\\\\\n\t3 & 0.9090909 & 1.0000000 & 0.952381\\\\\n\\end{tabular}\n",
            "text/plain": [
              "  precision recall    f1      \n",
              "1 1.0000000 1.0000000 1.000000\n",
              "2 1.0000000 0.9285714 0.962963\n",
              "3 0.9090909 1.0000000 0.952381"
            ]
          },
          "metadata": {}
        }
      ]
    },
    {
      "cell_type": "markdown",
      "source": [
        "## **Part 3: Applying PCA**"
      ],
      "metadata": {
        "id": "i9Eokzn3cQjL"
      }
    },
    {
      "cell_type": "code",
      "source": [
        "install.packages('caret')\n",
        "library(caret)\n",
        "#install.packages('e1071')\n",
        "library(e1071)\n",
        "pca = preProcess(x = train_set[-14], method = 'pca', pcaComp = 2)\n",
        "train_set = predict(pca, train_set)\n",
        "test_set = predict(pca, test_set)\n",
        "print(head(train_set))\n",
        "print(head(test_set))"
      ],
      "metadata": {
        "execution": {
          "iopub.status.busy": "2022-03-22T20:16:43.234219Z",
          "iopub.execute_input": "2022-03-22T20:16:43.235733Z",
          "iopub.status.idle": "2022-03-22T20:16:45.653800Z"
        },
        "trusted": true,
        "colab": {
          "base_uri": "https://localhost:8080/"
        },
        "id": "7l_0ChW7cQjM",
        "outputId": "9de411aa-8d4f-4787-db03-39bad99a36f4"
      },
      "execution_count": 14,
      "outputs": [
        {
          "output_type": "stream",
          "name": "stderr",
          "text": [
            "Installing package into ‘/usr/local/lib/R/site-library’\n",
            "(as ‘lib’ is unspecified)\n",
            "\n",
            "also installing the dependencies ‘listenv’, ‘parallelly’, ‘future’, ‘globals’, ‘future.apply’, ‘progressr’, ‘numDeriv’, ‘SQUAREM’, ‘lava’, ‘prodlim’, ‘iterators’, ‘gower’, ‘hardhat’, ‘ipred’, ‘timeDate’, ‘foreach’, ‘ModelMetrics’, ‘plyr’, ‘pROC’, ‘recipes’, ‘reshape2’\n",
            "\n",
            "\n",
            "Loading required package: ggplot2\n",
            "\n",
            "Loading required package: lattice\n",
            "\n",
            "Warning message in system(\"timedatectl\", intern = TRUE):\n",
            "“running command 'timedatectl' had status 1”\n"
          ]
        },
        {
          "output_type": "stream",
          "name": "stdout",
          "text": [
            "  Customer_Segment       PC1        PC2\n",
            "1                1 -3.249569  1.5661160\n",
            "2                1 -2.165889 -0.3186768\n",
            "3                1 -2.501192  1.2353892\n",
            "6                1 -2.941040  2.2999654\n",
            "7                1 -2.393131  1.3228050\n",
            "9                1 -2.418465  1.0367916\n",
            "   Customer_Segment       PC1       PC2\n",
            "4                 1 -3.481905 2.7632899\n",
            "5                 1 -1.036443 0.9838128\n",
            "8                 1 -1.986189 1.5520613\n",
            "11                1 -3.329896 1.2446480\n",
            "16                1 -2.236477 1.6347229\n",
            "20                1 -2.112082 1.0008301\n"
          ]
        }
      ]
    },
    {
      "cell_type": "code",
      "source": [
        "train_set = train_set[c(2, 3, 1)]\n",
        "test_set = test_set[c(2, 3, 1)]\n",
        "print(head(train_set))\n",
        "print(head(test_set))"
      ],
      "metadata": {
        "execution": {
          "iopub.status.busy": "2022-03-22T20:16:45.655912Z",
          "iopub.execute_input": "2022-03-22T20:16:45.657760Z",
          "iopub.status.idle": "2022-03-22T20:16:45.677067Z"
        },
        "trusted": true,
        "colab": {
          "base_uri": "https://localhost:8080/"
        },
        "id": "sMI4iCV1cQjM",
        "outputId": "7441a849-6fc2-423c-93d1-41fd5eacc1f4"
      },
      "execution_count": 15,
      "outputs": [
        {
          "output_type": "stream",
          "name": "stdout",
          "text": [
            "        PC1        PC2 Customer_Segment\n",
            "1 -3.249569  1.5661160                1\n",
            "2 -2.165889 -0.3186768                1\n",
            "3 -2.501192  1.2353892                1\n",
            "6 -2.941040  2.2999654                1\n",
            "7 -2.393131  1.3228050                1\n",
            "9 -2.418465  1.0367916                1\n",
            "         PC1       PC2 Customer_Segment\n",
            "4  -3.481905 2.7632899                1\n",
            "5  -1.036443 0.9838128                1\n",
            "8  -1.986189 1.5520613                1\n",
            "11 -3.329896 1.2446480                1\n",
            "16 -2.236477 1.6347229                1\n",
            "20 -2.112082 1.0008301                1\n"
          ]
        }
      ]
    },
    {
      "cell_type": "markdown",
      "source": [
        "## **Part 4: Training the Classification model on the Principal Component Train set**"
      ],
      "metadata": {
        "id": "d7KzmFsUcQjM"
      }
    },
    {
      "cell_type": "code",
      "source": [
        "# Fitting SVM to the Training set\n",
        "# install.packages('e1071')\n",
        "library(e1071)\n",
        "classifier = svm(formula = Customer_Segment ~ .,\n",
        "                 data = train_set,\n",
        "                 type = 'C-classification',\n",
        "                 kernel = 'linear')\n",
        "\n",
        "# Predicting the Test set results\n",
        "y_pred = predict(classifier, newdata = test_set[-3])"
      ],
      "metadata": {
        "execution": {
          "iopub.status.busy": "2022-03-22T20:16:45.679182Z",
          "iopub.execute_input": "2022-03-22T20:16:45.680432Z",
          "iopub.status.idle": "2022-03-22T20:16:45.698244Z"
        },
        "trusted": true,
        "id": "V79NDMIycQjN"
      },
      "execution_count": 16,
      "outputs": []
    },
    {
      "cell_type": "code",
      "source": [
        "summary(classifier)"
      ],
      "metadata": {
        "execution": {
          "iopub.status.busy": "2022-03-22T20:16:45.700389Z",
          "iopub.execute_input": "2022-03-22T20:16:45.701668Z",
          "iopub.status.idle": "2022-03-22T20:16:45.714155Z"
        },
        "trusted": true,
        "colab": {
          "base_uri": "https://localhost:8080/",
          "height": 399
        },
        "id": "ZnfNGvXhcQjN",
        "outputId": "69bc69e8-b4de-45b3-9823-239c4dc19f0c"
      },
      "execution_count": 17,
      "outputs": [
        {
          "output_type": "display_data",
          "data": {
            "text/plain": [
              "\n",
              "Call:\n",
              "svm(formula = Customer_Segment ~ ., data = train_set, type = \"C-classification\", \n",
              "    kernel = \"linear\")\n",
              "\n",
              "\n",
              "Parameters:\n",
              "   SVM-Type:  C-classification \n",
              " SVM-Kernel:  linear \n",
              "       cost:  1 \n",
              "\n",
              "Number of Support Vectors:  33\n",
              "\n",
              " ( 11 15 7 )\n",
              "\n",
              "\n",
              "Number of Classes:  3 \n",
              "\n",
              "Levels: \n",
              " 1 2 3\n",
              "\n",
              "\n"
            ]
          },
          "metadata": {}
        }
      ]
    },
    {
      "cell_type": "markdown",
      "source": [
        "### **KEY PERFORMANCE INDICATORS (KPI)**\n",
        "### **Generating the Confusion Matrix and Evaluation Metrics**"
      ],
      "metadata": {
        "id": "aDnV6usXcQjO"
      }
    },
    {
      "cell_type": "code",
      "source": [
        "# Making the Confusion Matrix\n",
        "cm = table(test_set[, 3], y_pred)\n",
        "cm"
      ],
      "metadata": {
        "execution": {
          "iopub.status.busy": "2022-03-22T20:16:45.716240Z",
          "iopub.execute_input": "2022-03-22T20:16:45.717545Z",
          "iopub.status.idle": "2022-03-22T20:16:45.732137Z"
        },
        "trusted": true,
        "colab": {
          "base_uri": "https://localhost:8080/",
          "height": 104
        },
        "id": "Hf_IujF0cQjO",
        "outputId": "26188e06-3846-481a-bb2e-9e51c9a00f2e"
      },
      "execution_count": 18,
      "outputs": [
        {
          "output_type": "display_data",
          "data": {
            "text/plain": [
              "   y_pred\n",
              "     1  2  3\n",
              "  1 12  0  0\n",
              "  2  0 14  0\n",
              "  3  0  0 10"
            ]
          },
          "metadata": {}
        }
      ]
    },
    {
      "cell_type": "code",
      "source": [
        "# Evaluation Metrics\n",
        "n = sum(cm) # number of instances\n",
        "nc = nrow(cm) # number of classes\n",
        "diag = diag(cm) # number of correctly classified instances per class \n",
        "rowsums = apply(cm, 1, sum) # number of instances per class\n",
        "colsums = apply(cm, 2, sum) # number of predictions per class\n",
        "p = rowsums / n # distribution of instances over the actual classes\n",
        "q = colsums / n # distribution of instances over the predicted classes\n",
        "accuracy = sum(diag) / n \n",
        "cat(\"Accuracy of Decision Tree Model is:\", accuracy)  \n",
        "precision = diag / colsums \n",
        "recall = diag / rowsums \n",
        "f1 = 2 * precision * recall / (precision + recall) \n",
        "data.frame(precision, recall, f1) "
      ],
      "metadata": {
        "execution": {
          "iopub.status.busy": "2022-03-22T20:16:45.734296Z",
          "iopub.execute_input": "2022-03-22T20:16:45.735624Z",
          "iopub.status.idle": "2022-03-22T20:16:45.774863Z"
        },
        "trusted": true,
        "colab": {
          "base_uri": "https://localhost:8080/",
          "height": 209
        },
        "id": "awVaDSDpcQjO",
        "outputId": "ee7ab74b-c958-41ad-d318-352c9a97732e"
      },
      "execution_count": 19,
      "outputs": [
        {
          "output_type": "stream",
          "name": "stdout",
          "text": [
            "Accuracy of Decision Tree Model is: 1"
          ]
        },
        {
          "output_type": "display_data",
          "data": {
            "text/html": [
              "<table class=\"dataframe\">\n",
              "<caption>A data.frame: 3 × 3</caption>\n",
              "<thead>\n",
              "\t<tr><th></th><th scope=col>precision</th><th scope=col>recall</th><th scope=col>f1</th></tr>\n",
              "\t<tr><th></th><th scope=col>&lt;dbl&gt;</th><th scope=col>&lt;dbl&gt;</th><th scope=col>&lt;dbl&gt;</th></tr>\n",
              "</thead>\n",
              "<tbody>\n",
              "\t<tr><th scope=row>1</th><td>1</td><td>1</td><td>1</td></tr>\n",
              "\t<tr><th scope=row>2</th><td>1</td><td>1</td><td>1</td></tr>\n",
              "\t<tr><th scope=row>3</th><td>1</td><td>1</td><td>1</td></tr>\n",
              "</tbody>\n",
              "</table>\n"
            ],
            "text/markdown": "\nA data.frame: 3 × 3\n\n| <!--/--> | precision &lt;dbl&gt; | recall &lt;dbl&gt; | f1 &lt;dbl&gt; |\n|---|---|---|---|\n| 1 | 1 | 1 | 1 |\n| 2 | 1 | 1 | 1 |\n| 3 | 1 | 1 | 1 |\n\n",
            "text/latex": "A data.frame: 3 × 3\n\\begin{tabular}{r|lll}\n  & precision & recall & f1\\\\\n  & <dbl> & <dbl> & <dbl>\\\\\n\\hline\n\t1 & 1 & 1 & 1\\\\\n\t2 & 1 & 1 & 1\\\\\n\t3 & 1 & 1 & 1\\\\\n\\end{tabular}\n",
            "text/plain": [
              "  precision recall f1\n",
              "1 1         1      1 \n",
              "2 1         1      1 \n",
              "3 1         1      1 "
            ]
          },
          "metadata": {}
        }
      ]
    },
    {
      "cell_type": "markdown",
      "source": [
        "## **Part 5: Visualization**"
      ],
      "metadata": {
        "id": "q4XoNowZcQjP"
      }
    },
    {
      "cell_type": "markdown",
      "source": [
        "### **Visualizing the Principal Component Train sets**"
      ],
      "metadata": {
        "id": "z97m5_DmcQjP"
      }
    },
    {
      "cell_type": "code",
      "source": [
        "library(lattice)\n",
        "xyplot(train_set$PC1 ~ train_set$PC2, group=train_set$Customer_Segment, grid=TRUE, asp=1)"
      ],
      "metadata": {
        "execution": {
          "iopub.status.busy": "2022-03-22T20:16:45.776917Z",
          "iopub.execute_input": "2022-03-22T20:16:45.778142Z",
          "iopub.status.idle": "2022-03-22T20:16:46.071627Z"
        },
        "trusted": true,
        "colab": {
          "base_uri": "https://localhost:8080/",
          "height": 437
        },
        "id": "RchFeeHVcQjP",
        "outputId": "ce954990-2798-4af8-896b-258caaba8270"
      },
      "execution_count": 20,
      "outputs": [
        {
          "output_type": "display_data",
          "data": {
            "text/plain": [
              "plot without title"
            ],
            "image/png": "[encoded data removed]"
          },
          "metadata": {
            "image/png": {
              "width": 420,
              "height": 420
            }
          }
        }
      ]
    },
    {
      "cell_type": "markdown",
      "source": [
        "### **Visualising the Principal Component Train set results**"
      ],
      "metadata": {
        "id": "jnMlWBy-cQjQ"
      }
    },
    {
      "cell_type": "code",
      "source": [
        "#library(Rfast)\n",
        "set = train_set\n",
        "X1 = seq(min(set[, 1]) - 1, max(set[, 1]) + 1, by = 0.01)\n",
        "X2 = seq(min(set[, 2]) - 1, max(set[, 2]) + 1, by = 0.01)\n",
        "grid_set = expand.grid(X1, X2)\n",
        "colnames(grid_set) = c('PC1', 'PC2')\n",
        "y_grid = predict(classifier, newdata = grid_set)\n",
        "plot(set[, -3],\n",
        "     main = 'SVM (Principal Component Train set)',\n",
        "     xlab = 'PC1', ylab = 'PC2',\n",
        "     xlim = range(X1), ylim = range(X2))\n",
        "#contour(X1, X2, matrix(as.numeric(y_grid), length(X1), length(X2)), add = TRUE)\n",
        "points(grid_set, pch = '.', col = ifelse(y_grid == 2, 'deepskyblue', ifelse(y_grid == 1, 'springgreen3', 'tomato')))\n",
        "points(set, pch = 21, bg = ifelse(set[, 3] == 2, 'blue3', ifelse(set[, 3] == 1, 'green4', 'red3')))"
      ],
      "metadata": {
        "execution": {
          "iopub.status.busy": "2022-03-22T20:16:46.073762Z",
          "iopub.execute_input": "2022-03-22T20:16:46.075059Z",
          "iopub.status.idle": "2022-03-22T20:16:56.482931Z"
        },
        "trusted": true,
        "colab": {
          "base_uri": "https://localhost:8080/",
          "height": 437
        },
        "id": "1o99otz2cQjQ",
        "outputId": "a50db3da-1e16-441c-e875-8006f99095b6"
      },
      "execution_count": 21,
      "outputs": [
        {
          "output_type": "display_data",
          "data": {
            "text/plain": [
              "Plot with title “SVM (Principal Component Train set)”"
            ],
            "image/png": "[encoded data removed]"
          },
          "metadata": {
            "image/png": {
              "width": 420,
              "height": 420
            }
          }
        }
      ]
    },
    {
      "cell_type": "markdown",
      "source": [
        "### **Visualizing the Principal Component Test sets**"
      ],
      "metadata": {
        "id": "4JycSpHxcQjR"
      }
    },
    {
      "cell_type": "code",
      "source": [
        "library(lattice)\n",
        "xyplot(test_set$PC1 ~ test_set$PC2, group=test_set$Customer_Segment, grid=TRUE, asp=1)"
      ],
      "metadata": {
        "execution": {
          "iopub.status.busy": "2022-03-22T20:16:56.485012Z",
          "iopub.execute_input": "2022-03-22T20:16:56.486273Z",
          "iopub.status.idle": "2022-03-22T20:16:56.589885Z"
        },
        "trusted": true,
        "colab": {
          "base_uri": "https://localhost:8080/",
          "height": 437
        },
        "id": "x2MnwEnqcQjR",
        "outputId": "a1a4b006-328a-43fd-b876-a99f2e26a499"
      },
      "execution_count": 22,
      "outputs": [
        {
          "output_type": "display_data",
          "data": {
            "text/plain": [
              "plot without title"
            ],
            "image/png": "[encoded data removed]"
          },
          "metadata": {
            "image/png": {
              "width": 420,
              "height": 420
            }
          }
        }
      ]
    },
    {
      "cell_type": "markdown",
      "source": [
        "### **Visualising the Principal Component Test set results**"
      ],
      "metadata": {
        "id": "dWqirg3FcQjR"
      }
    },
    {
      "cell_type": "code",
      "source": [
        "#library(Rfast)\n",
        "set = test_set\n",
        "X1 = seq(min(set[, 1]) - 1, max(set[, 1]) + 1, by = 0.01)\n",
        "X2 = seq(min(set[, 2]) - 1, max(set[, 2]) + 1, by = 0.01)\n",
        "grid_set = expand.grid(X1, X2)\n",
        "colnames(grid_set) = c('PC1', 'PC2')\n",
        "y_grid = predict(classifier, newdata = grid_set)\n",
        "plot(set[, -3], main = 'SVM (Test set)',\n",
        "     xlab = 'PC1', ylab = 'PC2',\n",
        "     xlim = range(X1), ylim = range(X2))\n",
        "#contour(X1, X2, matrix(as.numeric(y_grid), length(X1), length(X2)), add = TRUE)\n",
        "points(grid_set, pch = '.', col = ifelse(y_grid == 2, 'deepskyblue', ifelse(y_grid == 1, 'springgreen3', 'tomato')))\n",
        "points(set, pch = 21, bg = ifelse(set[, 3] == 2, 'blue3', ifelse(set[, 3] == 1, 'green4', 'red3')))"
      ],
      "metadata": {
        "execution": {
          "iopub.status.busy": "2022-03-22T20:16:56.591918Z",
          "iopub.execute_input": "2022-03-22T20:16:56.593160Z",
          "iopub.status.idle": "2022-03-22T20:17:02.939917Z"
        },
        "trusted": true,
        "colab": {
          "base_uri": "https://localhost:8080/",
          "height": 437
        },
        "id": "1u0MAtwqcQjS",
        "outputId": "b253c020-05c5-4ff1-a76e-60e68db63adc"
      },
      "execution_count": 23,
      "outputs": [
        {
          "output_type": "display_data",
          "data": {
            "text/plain": [
              "Plot with title “SVM (Test set)”"
            ],
            "image/png": "[encoded data removed]"
          },
          "metadata": {
            "image/png": {
              "width": 420,
              "height": 420
            }
          }
        }
      ]
    },
    {
      "cell_type": "code",
      "source": [
        ""
      ],
      "metadata": {
        "id": "bai5u3OycQjS"
      },
      "execution_count": 24,
      "outputs": []
    }
  ]
}