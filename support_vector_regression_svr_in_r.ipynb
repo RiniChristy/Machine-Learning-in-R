{
  "metadata": {
    "kernelspec": {
      "name": "ir",
      "display_name": "R",
      "language": "R"
    },
    "language_info": {
      "name": "R",
      "codemirror_mode": "r",
      "pygments_lexer": "r",
      "mimetype": "text/x-r-source",
      "file_extension": ".r",
      "version": "4.0.5"
    },
    "colab": {
      "name": "support-vector-regression-svr-in-r.ipynb",
      "provenance": [],
      "collapsed_sections": []
    }
  },
  "nbformat_minor": 0,
  "nbformat": 4,
  "cells": [
    {
      "cell_type": "markdown",
      "source": [
        "# **Support Vector Regression (SVR) in R**"
      ],
      "metadata": {
        "id": "nBi_iVer27V5"
      }
    },
    {
      "cell_type": "markdown",
      "source": [
        "## **Importing the dataset**"
      ],
      "metadata": {
        "id": "DNrxUGSu27WD"
      }
    },
    {
      "cell_type": "code",
      "source": [
        "ds = read.csv('/content/Position_Salaries.csv')\n",
        "cat(\"First three rows of dataset\", \"\\n\")\n",
        "head(ds, 3)"
      ],
      "metadata": {
        "execution": {
          "iopub.status.busy": "2022-03-10T22:01:59.870243Z",
          "iopub.execute_input": "2022-03-10T22:01:59.872645Z",
          "iopub.status.idle": "2022-03-10T22:01:59.938365Z"
        },
        "trusted": true,
        "colab": {
          "base_uri": "https://localhost:8080/",
          "height": 209
        },
        "id": "gJ0oSCmy27WF",
        "outputId": "d352bc68-d76b-45df-fb17-24f6a778f685"
      },
      "execution_count": 1,
      "outputs": [
        {
          "output_type": "stream",
          "name": "stdout",
          "text": [
            "First three rows of dataset \n"
          ]
        },
        {
          "output_type": "display_data",
          "data": {
            "text/plain": [
              "  Position          Level Salary\n",
              "1 Business Analyst  1     45000 \n",
              "2 Junior Consultant 2     50000 \n",
              "3 Senior Consultant 3     60000 "
            ],
            "text/latex": "A data.frame: 3 × 3\n\\begin{tabular}{r|lll}\n  & Position & Level & Salary\\\\\n  & <chr> & <int> & <int>\\\\\n\\hline\n\t1 & Business Analyst  & 1 & 45000\\\\\n\t2 & Junior Consultant & 2 & 50000\\\\\n\t3 & Senior Consultant & 3 & 60000\\\\\n\\end{tabular}\n",
            "text/markdown": "\nA data.frame: 3 × 3\n\n| <!--/--> | Position &lt;chr&gt; | Level &lt;int&gt; | Salary &lt;int&gt; |\n|---|---|---|---|\n| 1 | Business Analyst  | 1 | 45000 |\n| 2 | Junior Consultant | 2 | 50000 |\n| 3 | Senior Consultant | 3 | 60000 |\n\n",
            "text/html": [
              "<table class=\"dataframe\">\n",
              "<caption>A data.frame: 3 × 3</caption>\n",
              "<thead>\n",
              "\t<tr><th></th><th scope=col>Position</th><th scope=col>Level</th><th scope=col>Salary</th></tr>\n",
              "\t<tr><th></th><th scope=col>&lt;chr&gt;</th><th scope=col>&lt;int&gt;</th><th scope=col>&lt;int&gt;</th></tr>\n",
              "</thead>\n",
              "<tbody>\n",
              "\t<tr><th scope=row>1</th><td>Business Analyst </td><td>1</td><td>45000</td></tr>\n",
              "\t<tr><th scope=row>2</th><td>Junior Consultant</td><td>2</td><td>50000</td></tr>\n",
              "\t<tr><th scope=row>3</th><td>Senior Consultant</td><td>3</td><td>60000</td></tr>\n",
              "</tbody>\n",
              "</table>\n"
            ]
          },
          "metadata": {}
        }
      ]
    },
    {
      "cell_type": "markdown",
      "source": [
        "## **Splitting the dataset into the Train set and Test set**"
      ],
      "metadata": {
        "id": "rpmJlAxm27WJ"
      }
    },
    {
      "cell_type": "code",
      "source": [
        "ds = ds[2:3]"
      ],
      "metadata": {
        "execution": {
          "iopub.status.busy": "2022-03-10T22:01:59.941043Z",
          "iopub.execute_input": "2022-03-10T22:01:59.979881Z",
          "iopub.status.idle": "2022-03-10T22:01:59.993269Z"
        },
        "trusted": true,
        "id": "V4YuMGOm27WK"
      },
      "execution_count": 2,
      "outputs": []
    },
    {
      "cell_type": "code",
      "source": [
        "install.packages('caTools')\n",
        "library(caTools)\n",
        "set.seed(123)\n",
        "split = sample.split(ds$Salary, SplitRatio = 9/10)\n",
        "split"
      ],
      "metadata": {
        "execution": {
          "iopub.status.busy": "2022-03-10T22:01:59.995870Z",
          "iopub.execute_input": "2022-03-10T22:01:59.997410Z",
          "iopub.status.idle": "2022-03-10T22:02:00.038863Z"
        },
        "trusted": true,
        "colab": {
          "base_uri": "https://localhost:8080/",
          "height": 86
        },
        "id": "qI1f-my327WL",
        "outputId": "31e1fba6-a133-49fa-903f-05452485d872"
      },
      "execution_count": 3,
      "outputs": [
        {
          "output_type": "stream",
          "name": "stderr",
          "text": [
            "Installing package into ‘/usr/local/lib/R/site-library’\n",
            "(as ‘lib’ is unspecified)\n",
            "\n"
          ]
        },
        {
          "output_type": "display_data",
          "data": {
            "text/plain": [
              " [1]  TRUE  TRUE  TRUE  TRUE FALSE  TRUE  TRUE  TRUE  TRUE  TRUE"
            ],
            "text/latex": "\\begin{enumerate*}\n\\item TRUE\n\\item TRUE\n\\item TRUE\n\\item TRUE\n\\item FALSE\n\\item TRUE\n\\item TRUE\n\\item TRUE\n\\item TRUE\n\\item TRUE\n\\end{enumerate*}\n",
            "text/markdown": "1. TRUE\n2. TRUE\n3. TRUE\n4. TRUE\n5. FALSE\n6. TRUE\n7. TRUE\n8. TRUE\n9. TRUE\n10. TRUE\n\n\n",
            "text/html": [
              "<style>\n",
              ".list-inline {list-style: none; margin:0; padding: 0}\n",
              ".list-inline>li {display: inline-block}\n",
              ".list-inline>li:not(:last-child)::after {content: \"\\00b7\"; padding: 0 .5ex}\n",
              "</style>\n",
              "<ol class=list-inline><li>TRUE</li><li>TRUE</li><li>TRUE</li><li>TRUE</li><li>FALSE</li><li>TRUE</li><li>TRUE</li><li>TRUE</li><li>TRUE</li><li>TRUE</li></ol>\n"
            ]
          },
          "metadata": {}
        }
      ]
    },
    {
      "cell_type": "code",
      "source": [
        "train_set = subset(ds, split == TRUE)\n",
        "test_set = subset(ds, split == FALSE)\n",
        "print(head(train_set,3))"
      ],
      "metadata": {
        "execution": {
          "iopub.status.busy": "2022-03-10T22:02:00.041716Z",
          "iopub.execute_input": "2022-03-10T22:02:00.043496Z",
          "iopub.status.idle": "2022-03-10T22:02:00.070245Z"
        },
        "trusted": true,
        "colab": {
          "base_uri": "https://localhost:8080/"
        },
        "id": "_UgEOZVs27WM",
        "outputId": "78a6ad38-7c3f-43cb-9fec-b39ec78cca33"
      },
      "execution_count": 4,
      "outputs": [
        {
          "output_type": "stream",
          "name": "stdout",
          "text": [
            "  Level Salary\n",
            "1     1  45000\n",
            "2     2  50000\n",
            "3     3  60000\n"
          ]
        }
      ]
    },
    {
      "cell_type": "code",
      "source": [
        "print(head(test_set,3))"
      ],
      "metadata": {
        "execution": {
          "iopub.status.busy": "2022-03-10T22:02:00.073231Z",
          "iopub.execute_input": "2022-03-10T22:02:00.076017Z",
          "iopub.status.idle": "2022-03-10T22:02:00.092684Z"
        },
        "trusted": true,
        "colab": {
          "base_uri": "https://localhost:8080/"
        },
        "id": "wx_Z4Xdr27WO",
        "outputId": "6c19e962-2846-49ad-ea40-404e6e63e02c"
      },
      "execution_count": 5,
      "outputs": [
        {
          "output_type": "stream",
          "name": "stdout",
          "text": [
            "  Level Salary\n",
            "5     5 110000\n"
          ]
        }
      ]
    },
    {
      "cell_type": "markdown",
      "source": [
        "## **Fitting Support Vector Regression to the dataset**"
      ],
      "metadata": {
        "id": "YCOsIZuI27WP"
      }
    },
    {
      "cell_type": "code",
      "source": [
        "install.packages('e1071')\n",
        "library (e1071)\n",
        "regressor = svm(formula = Salary ~., data = train_set, type = \"eps-regression\")"
      ],
      "metadata": {
        "execution": {
          "iopub.status.busy": "2022-03-10T22:02:00.095598Z",
          "iopub.execute_input": "2022-03-10T22:02:00.097332Z",
          "iopub.status.idle": "2022-03-10T22:02:00.147382Z"
        },
        "trusted": true,
        "colab": {
          "base_uri": "https://localhost:8080/"
        },
        "id": "cwRbWNX827WQ",
        "outputId": "1fcc2a80-467a-4eca-9b29-4315424ca5db"
      },
      "execution_count": 6,
      "outputs": [
        {
          "output_type": "stream",
          "name": "stderr",
          "text": [
            "Installing package into ‘/usr/local/lib/R/site-library’\n",
            "(as ‘lib’ is unspecified)\n",
            "\n"
          ]
        }
      ]
    },
    {
      "cell_type": "markdown",
      "source": [
        "## **Predicting a new result**"
      ],
      "metadata": {
        "id": "Q0w-6vax27WR"
      }
    },
    {
      "cell_type": "code",
      "source": [
        "y_pred = predict(regressor, data.frame(Level = 6.5))\n",
        "y_pred"
      ],
      "metadata": {
        "execution": {
          "iopub.status.busy": "2022-03-10T22:02:00.150101Z",
          "iopub.execute_input": "2022-03-10T22:02:00.151812Z",
          "iopub.status.idle": "2022-03-10T22:02:00.178729Z"
        },
        "trusted": true,
        "colab": {
          "base_uri": "https://localhost:8080/",
          "height": 34
        },
        "id": "XQ_RRSFi27WS",
        "outputId": "b2267369-4dd9-48c1-9c86-38004038ef0e"
      },
      "execution_count": 7,
      "outputs": [
        {
          "output_type": "display_data",
          "data": {
            "text/plain": [
              "       1 \n",
              "188751.8 "
            ],
            "text/latex": "\\textbf{1:} 188751.832732547",
            "text/markdown": "**1:** 188751.832732547",
            "text/html": [
              "<strong>1:</strong> 188751.832732547"
            ]
          },
          "metadata": {}
        }
      ]
    },
    {
      "cell_type": "markdown",
      "source": [
        "## **Predicting the Test set result**"
      ],
      "metadata": {
        "id": "sbGJ4C7M27WS"
      }
    },
    {
      "cell_type": "code",
      "source": [
        "y_pred = predict(regressor, newdata = test_set)\n",
        "y_pred"
      ],
      "metadata": {
        "execution": {
          "iopub.status.busy": "2022-03-10T22:02:00.181320Z",
          "iopub.execute_input": "2022-03-10T22:02:00.182888Z",
          "iopub.status.idle": "2022-03-10T22:02:00.204233Z"
        },
        "trusted": true,
        "colab": {
          "base_uri": "https://localhost:8080/",
          "height": 34
        },
        "id": "DPucKSfP27WT",
        "outputId": "de8feb86-5b3a-4fb0-c0b2-ff2278214b9a"
      },
      "execution_count": 8,
      "outputs": [
        {
          "output_type": "display_data",
          "data": {
            "text/plain": [
              "       5 \n",
              "129730.2 "
            ],
            "text/latex": "\\textbf{5:} 129730.231027065",
            "text/markdown": "**5:** 129730.231027065",
            "text/html": [
              "<strong>5:</strong> 129730.231027065"
            ]
          },
          "metadata": {}
        }
      ]
    },
    {
      "cell_type": "markdown",
      "source": [
        "## **Visualizing the Support Vector Regression results**"
      ],
      "metadata": {
        "id": "sRED6SMN27WU"
      }
    },
    {
      "cell_type": "code",
      "source": [
        "# install.packages('ggplot2')\n",
        "library(ggplot2)\n",
        "ggplot() +\n",
        "  geom_point(aes(x = train_set$Level, y = train_set$Salary),\n",
        "             colour = 'blue') +\n",
        "  geom_line(aes(x = train_set$Level, y = predict(regressor, newdata =  train_set)),\n",
        "            colour = 'red') +\n",
        "  ggtitle('Truth or Bluff (Support Vector Regression)') +\n",
        "  xlab('Level') +\n",
        "  ylab('Salary')"
      ],
      "metadata": {
        "execution": {
          "iopub.status.busy": "2022-03-10T22:02:00.207253Z",
          "iopub.execute_input": "2022-03-10T22:02:00.209000Z",
          "iopub.status.idle": "2022-03-10T22:02:00.810628Z"
        },
        "trusted": true,
        "colab": {
          "base_uri": "https://localhost:8080/",
          "height": 437
        },
        "id": "1aUeb0HS27WU",
        "outputId": "e52a6745-3f51-4b5f-9b7f-78ce92c26dc4"
      },
      "execution_count": 9,
      "outputs": [
        {
          "output_type": "display_data",
          "data": {
            "image/png": "[encoded data removed]",
            "text/plain": [
              "plot without title"
            ]
          },
          "metadata": {
            "image/png": {
              "width": 420,
              "height": 420
            }
          }
        }
      ]
    },
    {
      "cell_type": "markdown",
      "source": [
        "## **Visualizing the Support Vector Regression Model results (for higher resolution and smoother curve)**"
      ],
      "metadata": {
        "id": "eHqkXbIG27WV"
      }
    },
    {
      "cell_type": "code",
      "source": [
        "x_grid = seq(min(train_set$Level), max(train_set$Level), 0.1)\n",
        "x_grid"
      ],
      "metadata": {
        "execution": {
          "iopub.status.busy": "2022-03-10T22:02:00.813715Z",
          "iopub.execute_input": "2022-03-10T22:02:00.815927Z",
          "iopub.status.idle": "2022-03-10T22:02:00.838294Z"
        },
        "trusted": true,
        "colab": {
          "base_uri": "https://localhost:8080/",
          "height": 69
        },
        "id": "m-J4OF-927WV",
        "outputId": "5de68eda-eff9-4d98-9f2d-e58501e9db33"
      },
      "execution_count": 10,
      "outputs": [
        {
          "output_type": "display_data",
          "data": {
            "text/plain": [
              " [1]  1.0  1.1  1.2  1.3  1.4  1.5  1.6  1.7  1.8  1.9  2.0  2.1  2.2  2.3  2.4\n",
              "[16]  2.5  2.6  2.7  2.8  2.9  3.0  3.1  3.2  3.3  3.4  3.5  3.6  3.7  3.8  3.9\n",
              "[31]  4.0  4.1  4.2  4.3  4.4  4.5  4.6  4.7  4.8  4.9  5.0  5.1  5.2  5.3  5.4\n",
              "[46]  5.5  5.6  5.7  5.8  5.9  6.0  6.1  6.2  6.3  6.4  6.5  6.6  6.7  6.8  6.9\n",
              "[61]  7.0  7.1  7.2  7.3  7.4  7.5  7.6  7.7  7.8  7.9  8.0  8.1  8.2  8.3  8.4\n",
              "[76]  8.5  8.6  8.7  8.8  8.9  9.0  9.1  9.2  9.3  9.4  9.5  9.6  9.7  9.8  9.9\n",
              "[91] 10.0"
            ],
            "text/latex": "\\begin{enumerate*}\n\\item 1\n\\item 1.1\n\\item 1.2\n\\item 1.3\n\\item 1.4\n\\item 1.5\n\\item 1.6\n\\item 1.7\n\\item 1.8\n\\item 1.9\n\\item 2\n\\item 2.1\n\\item 2.2\n\\item 2.3\n\\item 2.4\n\\item 2.5\n\\item 2.6\n\\item 2.7\n\\item 2.8\n\\item 2.9\n\\item 3\n\\item 3.1\n\\item 3.2\n\\item 3.3\n\\item 3.4\n\\item 3.5\n\\item 3.6\n\\item 3.7\n\\item 3.8\n\\item 3.9\n\\item 4\n\\item 4.1\n\\item 4.2\n\\item 4.3\n\\item 4.4\n\\item 4.5\n\\item 4.6\n\\item 4.7\n\\item 4.8\n\\item 4.9\n\\item 5\n\\item 5.1\n\\item 5.2\n\\item 5.3\n\\item 5.4\n\\item 5.5\n\\item 5.6\n\\item 5.7\n\\item 5.8\n\\item 5.9\n\\item 6\n\\item 6.1\n\\item 6.2\n\\item 6.3\n\\item 6.4\n\\item 6.5\n\\item 6.6\n\\item 6.7\n\\item 6.8\n\\item 6.9\n\\item 7\n\\item 7.1\n\\item 7.2\n\\item 7.3\n\\item 7.4\n\\item 7.5\n\\item 7.6\n\\item 7.7\n\\item 7.8\n\\item 7.9\n\\item 8\n\\item 8.1\n\\item 8.2\n\\item 8.3\n\\item 8.4\n\\item 8.5\n\\item 8.6\n\\item 8.7\n\\item 8.8\n\\item 8.9\n\\item 9\n\\item 9.1\n\\item 9.2\n\\item 9.3\n\\item 9.4\n\\item 9.5\n\\item 9.6\n\\item 9.7\n\\item 9.8\n\\item 9.9\n\\item 10\n\\end{enumerate*}\n",
            "text/markdown": "1. 1\n2. 1.1\n3. 1.2\n4. 1.3\n5. 1.4\n6. 1.5\n7. 1.6\n8. 1.7\n9. 1.8\n10. 1.9\n11. 2\n12. 2.1\n13. 2.2\n14. 2.3\n15. 2.4\n16. 2.5\n17. 2.6\n18. 2.7\n19. 2.8\n20. 2.9\n21. 3\n22. 3.1\n23. 3.2\n24. 3.3\n25. 3.4\n26. 3.5\n27. 3.6\n28. 3.7\n29. 3.8\n30. 3.9\n31. 4\n32. 4.1\n33. 4.2\n34. 4.3\n35. 4.4\n36. 4.5\n37. 4.6\n38. 4.7\n39. 4.8\n40. 4.9\n41. 5\n42. 5.1\n43. 5.2\n44. 5.3\n45. 5.4\n46. 5.5\n47. 5.6\n48. 5.7\n49. 5.8\n50. 5.9\n51. 6\n52. 6.1\n53. 6.2\n54. 6.3\n55. 6.4\n56. 6.5\n57. 6.6\n58. 6.7\n59. 6.8\n60. 6.9\n61. 7\n62. 7.1\n63. 7.2\n64. 7.3\n65. 7.4\n66. 7.5\n67. 7.6\n68. 7.7\n69. 7.8\n70. 7.9\n71. 8\n72. 8.1\n73. 8.2\n74. 8.3\n75. 8.4\n76. 8.5\n77. 8.6\n78. 8.7\n79. 8.8\n80. 8.9\n81. 9\n82. 9.1\n83. 9.2\n84. 9.3\n85. 9.4\n86. 9.5\n87. 9.6\n88. 9.7\n89. 9.8\n90. 9.9\n91. 10\n\n\n",
            "text/html": [
              "<style>\n",
              ".list-inline {list-style: none; margin:0; padding: 0}\n",
              ".list-inline>li {display: inline-block}\n",
              ".list-inline>li:not(:last-child)::after {content: \"\\00b7\"; padding: 0 .5ex}\n",
              "</style>\n",
              "<ol class=list-inline><li>1</li><li>1.1</li><li>1.2</li><li>1.3</li><li>1.4</li><li>1.5</li><li>1.6</li><li>1.7</li><li>1.8</li><li>1.9</li><li>2</li><li>2.1</li><li>2.2</li><li>2.3</li><li>2.4</li><li>2.5</li><li>2.6</li><li>2.7</li><li>2.8</li><li>2.9</li><li>3</li><li>3.1</li><li>3.2</li><li>3.3</li><li>3.4</li><li>3.5</li><li>3.6</li><li>3.7</li><li>3.8</li><li>3.9</li><li>4</li><li>4.1</li><li>4.2</li><li>4.3</li><li>4.4</li><li>4.5</li><li>4.6</li><li>4.7</li><li>4.8</li><li>4.9</li><li>5</li><li>5.1</li><li>5.2</li><li>5.3</li><li>5.4</li><li>5.5</li><li>5.6</li><li>5.7</li><li>5.8</li><li>5.9</li><li>6</li><li>6.1</li><li>6.2</li><li>6.3</li><li>6.4</li><li>6.5</li><li>6.6</li><li>6.7</li><li>6.8</li><li>6.9</li><li>7</li><li>7.1</li><li>7.2</li><li>7.3</li><li>7.4</li><li>7.5</li><li>7.6</li><li>7.7</li><li>7.8</li><li>7.9</li><li>8</li><li>8.1</li><li>8.2</li><li>8.3</li><li>8.4</li><li>8.5</li><li>8.6</li><li>8.7</li><li>8.8</li><li>8.9</li><li>9</li><li>9.1</li><li>9.2</li><li>9.3</li><li>9.4</li><li>9.5</li><li>9.6</li><li>9.7</li><li>9.8</li><li>9.9</li><li>10</li></ol>\n"
            ]
          },
          "metadata": {}
        }
      ]
    },
    {
      "cell_type": "code",
      "source": [
        "head(data.frame(x_grid))"
      ],
      "metadata": {
        "execution": {
          "iopub.status.busy": "2022-03-10T22:02:00.841624Z",
          "iopub.execute_input": "2022-03-10T22:02:00.843447Z",
          "iopub.status.idle": "2022-03-10T22:02:00.869072Z"
        },
        "trusted": true,
        "colab": {
          "base_uri": "https://localhost:8080/",
          "height": 321
        },
        "id": "wP_4M9Up27WW",
        "outputId": "a23e64f5-2269-4202-dde9-fe1520d28b1e"
      },
      "execution_count": 11,
      "outputs": [
        {
          "output_type": "display_data",
          "data": {
            "text/plain": [
              "  x_grid\n",
              "1 1.0   \n",
              "2 1.1   \n",
              "3 1.2   \n",
              "4 1.3   \n",
              "5 1.4   \n",
              "6 1.5   "
            ],
            "text/latex": "A data.frame: 6 × 1\n\\begin{tabular}{r|l}\n  & x\\_grid\\\\\n  & <dbl>\\\\\n\\hline\n\t1 & 1.0\\\\\n\t2 & 1.1\\\\\n\t3 & 1.2\\\\\n\t4 & 1.3\\\\\n\t5 & 1.4\\\\\n\t6 & 1.5\\\\\n\\end{tabular}\n",
            "text/markdown": "\nA data.frame: 6 × 1\n\n| <!--/--> | x_grid &lt;dbl&gt; |\n|---|---|\n| 1 | 1.0 |\n| 2 | 1.1 |\n| 3 | 1.2 |\n| 4 | 1.3 |\n| 5 | 1.4 |\n| 6 | 1.5 |\n\n",
            "text/html": [
              "<table class=\"dataframe\">\n",
              "<caption>A data.frame: 6 × 1</caption>\n",
              "<thead>\n",
              "\t<tr><th></th><th scope=col>x_grid</th></tr>\n",
              "\t<tr><th></th><th scope=col>&lt;dbl&gt;</th></tr>\n",
              "</thead>\n",
              "<tbody>\n",
              "\t<tr><th scope=row>1</th><td>1.0</td></tr>\n",
              "\t<tr><th scope=row>2</th><td>1.1</td></tr>\n",
              "\t<tr><th scope=row>3</th><td>1.2</td></tr>\n",
              "\t<tr><th scope=row>4</th><td>1.3</td></tr>\n",
              "\t<tr><th scope=row>5</th><td>1.4</td></tr>\n",
              "\t<tr><th scope=row>6</th><td>1.5</td></tr>\n",
              "</tbody>\n",
              "</table>\n"
            ]
          },
          "metadata": {}
        }
      ]
    },
    {
      "cell_type": "code",
      "source": [
        "y = predict(regressor, newdata =  data.frame(Level = x_grid))"
      ],
      "metadata": {
        "execution": {
          "iopub.status.busy": "2022-03-10T22:02:00.871994Z",
          "iopub.execute_input": "2022-03-10T22:02:00.873798Z",
          "iopub.status.idle": "2022-03-10T22:02:00.889282Z"
        },
        "trusted": true,
        "id": "Tw04ELaR27WW"
      },
      "execution_count": 12,
      "outputs": []
    },
    {
      "cell_type": "code",
      "source": [
        "# install.packages('ggplot2')\n",
        "library(ggplot2)\n",
        "x_grid = seq(min(train_set$Level), max(train_set$Level), 0.1)\n",
        "ggplot() +\n",
        "  geom_point(aes(x = train_set$Level, y = train_set$Salary),\n",
        "             colour = 'red') +\n",
        "  geom_line(aes(x = x_grid, y = predict(regressor, newdata =  data.frame(Level = x_grid))),\n",
        "            colour = 'blue') +\n",
        "  ggtitle('Truth or Bluff (Polynomial Regression)') +\n",
        "  xlab('Level') +\n",
        "  ylab('Salary')"
      ],
      "metadata": {
        "execution": {
          "iopub.status.busy": "2022-03-10T22:02:00.892255Z",
          "iopub.execute_input": "2022-03-10T22:02:00.894067Z",
          "iopub.status.idle": "2022-03-10T22:02:01.220554Z"
        },
        "trusted": true,
        "colab": {
          "base_uri": "https://localhost:8080/",
          "height": 437
        },
        "id": "2rnEbiA_27WX",
        "outputId": "70ec0808-ff45-4d93-ddb9-f12054a0ddd4"
      },
      "execution_count": 13,
      "outputs": [
        {
          "output_type": "display_data",
          "data": {
            "image/png": "[encoded data removed]",
            "text/plain": [
              "plot without title"
            ]
          },
          "metadata": {
            "image/png": {
              "width": 420,
              "height": 420
            }
          }
        }
      ]
    }
  ]
}